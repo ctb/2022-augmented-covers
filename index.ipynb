{
 "cells": [
  {
   "cell_type": "markdown",
   "metadata": {},
   "source": [
    "## examples\n",
    "\n",
    "[`gut real` data set - p8808mo11](gut-real.html) - k=31\n",
    "\n",
    "[`zymomock` data set - SRR606249](zymomock.html) - k=31\n",
    "\n",
    "## experiments\n",
    "\n",
    "[`gut real` data set, k=51 - p8808mo11](gut-real-k51.html) - k=31"
   ]
  }
 ],
 "metadata": {
  "kernelspec": {
   "display_name": "Python (myenv)",
   "language": "python",
   "name": "myenv"
  },
  "language_info": {
   "codemirror_mode": {
    "name": "ipython",
    "version": 3
   },
   "file_extension": ".py",
   "mimetype": "text/x-python",
   "name": "python",
   "nbconvert_exporter": "python",
   "pygments_lexer": "ipython3",
   "version": "3.7.6"
  }
 },
 "nbformat": 4,
 "nbformat_minor": 4
}
