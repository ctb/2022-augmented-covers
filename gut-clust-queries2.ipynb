{
 "cells": [
  {
   "cell_type": "markdown",
   "metadata": {},
   "source": [
    "## cluster the gut queries\n",
    "\n",
    "here, we cluster the gut queries by max containment, for display.\n",
    "\n",
    "```\n",
    "rm -fr gut-clust-queries2\n",
    "mkdir gut-clust-queries2\n",
    "../2022-sourmash-uniqify/sourmash-uniqify.py gut/gut-queries.zip --max-containment --merge --prefix gut-clust-queries2/\n",
    "\n",
    "# put the clusters in as the right side\n",
    "sourmash sig cat gut-clust-queries2/*.sig -o gut-clust-queries2/gut-clust-queries2-nbhds.zip\n",
    "\n",
    "# put the original queries in as left side\n",
    "ln gut/gut-queries.zip gut-clust-queries2/gut-clust-queries2-queries.zip\n",
    "\n",
    "# link in metagenome\n",
    "ln gut/p8808mo11.abundtrim.sig gut-clust-queries2/\n",
    "```"
   ]
  },
  {
   "cell_type": "code",
   "execution_count": 3,
   "metadata": {},
   "outputs": [],
   "source": [
    "name = 'gut-clust-queries2'\n",
    "acc = 'p8808mo11'\n",
    "ksize=31"
   ]
  },
  {
   "cell_type": "code",
   "execution_count": 4,
   "metadata": {},
   "outputs": [],
   "source": [
    "metag_filename = f'{name}/{acc}.abundtrim.sig'\n",
    "queries_filename = f'{name}/{name}-queries.zip'\n",
    "nbhds_filename = f'{name}/{name}-nbhds.zip'"
   ]
  },
  {
   "cell_type": "code",
   "execution_count": 5,
   "metadata": {},
   "outputs": [],
   "source": [
    "import sourmash\n",
    "import csv\n",
    "import subprocess\n",
    "import os\n",
    "import collections"
   ]
  },
  {
   "cell_type": "code",
   "execution_count": 6,
   "metadata": {},
   "outputs": [],
   "source": [
    "def get_ident(name):\n",
    "    \"pick off identifier, stripping off nbhd: prefix if present.\"\n",
    "    name = name.split(' ')[0]\n",
    "    if name.startswith('nbhd:'):\n",
    "        name = name[5:]\n",
    "    return name\n",
    "\n",
    "def load_gather(filename):\n",
    "    gather_rows = []\n",
    "    with open(filename, newline=\"\") as fp:\n",
    "        r = csv.DictReader(fp)\n",
    "        gather_rows.extend(r)\n",
    "\n",
    "    full_idents = {}\n",
    "\n",
    "    gather_d = {}\n",
    "    gather_keys = []\n",
    "    for row in gather_rows:\n",
    "        ident = get_ident(row['name'])\n",
    "        full_idents[ident] = \" \".join(row['name'].split(' ')[:3])\n",
    "        gather_d[ident] = row\n",
    "        gather_keys.append(ident)\n",
    "        \n",
    "    return gather_keys, gather_d, full_idents\n",
    "\n",
    "def gather_and_load(name, metag_filename, query_sigs, nbhd_sigs, ksize=31):\n",
    "    assert os.path.exists(metag_filename)\n",
    "    assert os.path.exists(query_sigs)\n",
    "    assert os.path.exists(nbhd_sigs)\n",
    "    \n",
    "    query_out = f\"{name}/queries.gather.csv\"\n",
    "    nbhd_out = f\"{name}/nbhd.gather.csv\"\n",
    "    stdout1_out = f\"{name}/queries.gather.out\"\n",
    "    stdout2_out = f\"{name}/nbhd.gather.out\"\n",
    "    \n",
    "    cmd = f\"sourmash gather -k {ksize} {metag_filename} {query_sigs} -o {query_out} --ignore-abundance >& {stdout1_out}\"\n",
    "    print(cmd)\n",
    "    if not os.path.exists(query_out):\n",
    "        result = subprocess.run(cmd, shell=True)\n",
    "    else:\n",
    "        print(f\"** {query_out} already exists; not rerunning sourmash gather on queries\")\n",
    "        \n",
    "    stdout1 = open(stdout1_out, 'rt').read()\n",
    "\n",
    "\n",
    "    cmd = f\"sourmash gather -k {ksize} {metag_filename} {nbhd_sigs} -o {nbhd_out} --ignore-abundance >& {stdout2_out}\"\n",
    "    print(cmd)\n",
    "    if not os.path.exists(nbhd_out):\n",
    "        result = subprocess.run(cmd, shell=True)\n",
    "    else:\n",
    "        print(f\"** {nbhd_out} already exists; not rerunning sourmash gather on nbhds\")\n",
    "        \n",
    "    stdout2 = open(stdout2_out, 'rt').read()\n",
    "\n",
    "       \n",
    "    gather1_keys, gather1_d, full_idents = load_gather(query_out)\n",
    "    gather2_keys, gather2_d, full_idents2 = load_gather(nbhd_out)\n",
    "    for k, v in full_idents2.items():\n",
    "        if k not in full_idents:\n",
    "            if v.startswith('nbhd:'):\n",
    "                v = v[5:]\n",
    "            full_idents[k] = v\n",
    "    \n",
    "    metag = sourmash.load_one_signature(metag_filename, ksize=ksize)\n",
    "    \n",
    "    queries = list(sourmash.load_file_as_signatures(query_sigs))\n",
    "    queries_d = {}\n",
    "    for ss in queries:\n",
    "        ident = get_ident(ss.name)\n",
    "        queries_d[ident] = ss\n",
    "        \n",
    "    nbhds = list(sourmash.load_file_as_signatures(nbhd_sigs))\n",
    "    nbhds_d = {}\n",
    "    for ss in nbhds:\n",
    "        ident = get_ident(ss.name)\n",
    "        nbhds_d[ident] = ss\n",
    "        \n",
    "    tup = collections.namedtuple('augmented', 'metag, queries_d, nbhds_d, gather1_keys, gather1_d, gather2_keys, gather2_d, full_idents, stdout1, stdout2')\n",
    "    t = tup(metag, queries_d, nbhds_d, gather1_keys, gather1_d, gather2_keys, gather2_d, full_idents, stdout1, stdout2)\n",
    "    \n",
    "    return t\n",
    "    \n"
   ]
  },
  {
   "cell_type": "markdown",
   "metadata": {},
   "source": [
    "## Running the things"
   ]
  },
  {
   "cell_type": "code",
   "execution_count": 9,
   "metadata": {},
   "outputs": [
    {
     "name": "stdout",
     "output_type": "stream",
     "text": [
      "sourmash gather -k 31 gut-clust-queries2/p8808mo11.abundtrim.sig gut-clust-queries2/gut-clust-queries2-queries.zip -o gut-clust-queries2/queries.gather.csv --ignore-abundance >& gut-clust-queries2/queries.gather.out\n",
      "** gut-clust-queries2/queries.gather.csv already exists; not rerunning sourmash gather on queries\n",
      "sourmash gather -k 31 gut-clust-queries2/p8808mo11.abundtrim.sig gut-clust-queries2/gut-clust-queries2-nbhds.zip -o gut-clust-queries2/nbhd.gather.csv --ignore-abundance >& gut-clust-queries2/nbhd.gather.out\n",
      "** gut-clust-queries2/nbhd.gather.csv already exists; not rerunning sourmash gather on nbhds\n"
     ]
    }
   ],
   "source": [
    "t = gather_and_load(name, metag_filename, queries_filename, nbhds_filename, ksize=ksize)\n",
    "metag, queries_d, nbhds_d, gather1_keys, gather1_d, gather2_keys, gather2_d, full_idents, stdout1, stdout2 = t"
   ]
  },
  {
   "cell_type": "markdown",
   "metadata": {},
   "source": [
    "## gather output"
   ]
  },
  {
   "cell_type": "code",
   "execution_count": 10,
   "metadata": {},
   "outputs": [
    {
     "name": "stdout",
     "output_type": "stream",
     "text": [
      "\n",
      "\n",
      "overlap     p_query p_match\n",
      "---------   ------- -------\n",
      "5.6 Mbp        2.0%   91.7%    CP048626.1 Blautia producta ATCC 2734...\n",
      "5.5 Mbp        1.9%   99.6%    HF996869.1 Clostridium hathewayi CAG:...\n",
      "5.0 Mbp        1.8%   99.6%    DABGPL010000001.1 TPA_asm: Escherichi...\n",
      "4.6 Mbp        1.6%   83.6%    CZAB01000001.1 [Clostridium] clostrid...\n",
      "4.2 Mbp        1.5%   66.2%    WTVF01000090.1 Enterocloster aldenens...\n",
      "4.1 Mbp        1.4%   88.0%    GL834357.1 Clostridium symbiosum WAL-...\n",
      "3.5 Mbp        1.2%   87.3%    AENW01000060.1 Clostridium sp. HGF2 c...\n",
      "3.2 Mbp        1.1%   99.3%    JULC01000001.1 Bifidobacterium scardo...\n",
      "3.0 Mbp        1.1%   98.2%    HF995415.1 Coprobacillus sp. CAG:183 ...\n",
      "2.9 Mbp        1.0%   89.5%    SMCQ01000001.1 Longibaculum muris str...\n",
      "2.6 Mbp        0.9%   73.3%    MARQ01000035.1 Clostridium perfringen...\n",
      "2.5 Mbp        0.9%   74.6%    CVRR01000001.1 Roseburia faecis genom...\n",
      "2.5 Mbp        0.9%   80.2%    NIHW01000001.1 [Ruminococcus] gnavus ...\n",
      "2.4 Mbp        0.8%   43.2%    JH590866.1 Lachnospiraceae bacterium ...\n",
      "2.4 Mbp        0.8%   71.3%    CABIYM010000001.1 Anaerostipes caccae...\n",
      "2.4 Mbp        0.8%   78.1%    FMEP01000075.1 uncultured Ruminococcu...\n",
      "2.3 Mbp        0.8%   74.0%    FMFU01000020.1 uncultured Clostridium...\n",
      "2.3 Mbp        0.8%   60.8%    SPHM01000100.1 Pseudoflavonifractor s...\n",
      "1.9 Mbp        0.7%   70.2%    NFLB01000001.1 [Clostridium] spirofor...\n",
      "1.9 Mbp        0.7%   73.0%    SQQK01000001.1 Bifidobacterium dentiu...\n",
      "1.8 Mbp        0.6%   62.9%    CABJAX010000001.1 Lachnospiraceae bac...\n",
      "1.6 Mbp        0.6%   64.2%    UQGB01000001.1 uncultured Clostridium...\n",
      "1.6 Mbp        0.5%   51.4%    HF995324.1 Firmicutes bacterium CAG:6...\n",
      "1.3 Mbp        0.5%   56.5%    CP019721.1 Veillonella parvula strain...\n",
      "1.2 Mbp        0.4%   56.5%    USJS01000001.1 uncultured Blautia sp....\n",
      "0.9 Mbp        0.3%   26.5%    QGMT01000001.1 Clostridium paraputrif...\n",
      "0.9 Mbp        0.3%   27.9%    WMQE01000038.1 Turicibacter sanguinis...\n",
      "0.8 Mbp        0.3%   38.7%    LR793273.1 Streptococcus salivarius i...\n",
      "0.8 Mbp        0.3%   34.9%    AEDS01000070.1 Veillonella atypica AC...\n",
      "0.6 Mbp        0.2%   32.4%    UQNI01000001.1 uncultured Ruminococca...\n",
      "0.6 Mbp        0.2%   12.7%    FACG01000001.1 Peptoclostridium diffi...\n",
      "0.7 Mbp        0.2%   27.3%    JAABLG010000001.1 Streptococcus vesti...\n",
      "0.5 Mbp        0.2%   15.5%    URPP01000001.1 uncultured Clostridial...\n",
      "0.6 Mbp        0.2%   26.2%    KV794391.1 Streptococcus sp. HMSC074F...\n",
      "0.6 Mbp        0.2%   22.4%    CABHOC010000001.1 Bifidobacterium lon...\n",
      "496.0 kbp      0.2%   12.0%    CZYD01000001.1 Terrisporobacter othin...\n",
      "0.8 Mbp        0.2%   24.1%    AEKO01000011.1 Streptococcus vestibul...\n",
      "2.3 Mbp        0.1%   11.5%    NFLO01000001.1 Drancourtella sp. An12...\n",
      "1.3 Mbp        0.1%   18.6%    AEXI01000023.1 Veillonella parvula AC...\n",
      "1.1 Mbp        0.1%   23.6%    CAAFOE010000001.1 TPA_asm: uncultured...\n",
      "2.3 Mbp        0.1%   13.8%    SPHR01000011.1 Intestinibacter bartle...\n",
      "411.0 kbp      0.1%   10.0%    OBJV01000049.1 Clostridium tertium is...\n",
      "2.3 Mbp        0.1%   10.4%    CP015406.2 Flavonifractor plautii str...\n",
      "2.3 Mbp        0.1%   10.2%    RQNR01000100.1 Clostridium perfringen...\n",
      "350.0 kbp      0.1%   19.2%    CAAEVI010000001.1 TPA_asm: Erysipelot...\n",
      "2.3 Mbp        0.1%    9.5%    CYXV01000001.1 Roseburia faecis strai...\n",
      "4.5 Mbp        0.1%    6.3%    UAVW01000021.1 [Clostridium] clostrid...\n",
      "354.0 kbp      0.1%   12.1%    CYYS01000001.1 Turicibacter sanguinis...\n",
      "4.2 Mbp        0.1%    5.7%    QVIB01000001.1 Dorea longicatena stra...\n",
      "316.0 kbp      0.1%    8.6%    CYZX01000001.1 Clostridium disporicum...\n",
      "1.5 Mbp        0.1%    5.6%    KE384163.1 Clostridium clostridioform...\n",
      "403.0 kbp      0.1%   10.9%    CM003575.1 Veillonella sp. DORA_A_3_1...\n",
      "1.5 Mbp        0.1%    9.1%    LT629846.1 Romboutsia sp. DR1 strain ...\n",
      "1.8 Mbp        0.1%    9.3%    AZYA01000001.1 Bifidobacterium sp. MS...\n",
      "3.7 Mbp        0.1%    4.6%    JAAISL010000100.1 [Clostridium] symbi...\n",
      "0.7 Mbp        0.1%    6.7%    UAWH01000019.1 Clostridium paraputrif...\n",
      "475.0 kbp      0.1%    7.1%    CAAEUS010000001.1 TPA_asm: uncultured...\n",
      "1.9 Mbp        0.1%    8.8%    NFJI01000001.1 [Clostridium] spirofor...\n",
      "1.8 Mbp        0.1%    8.0%    JAAIUC010000010.1 Tyzzerella nexilis ...\n",
      "3.3 Mbp        0.1%    3.8%    KB851023.1 Clostridium clostridioform...\n",
      "3.0 Mbp        0.1%    5.3%    JH599901.1 Coprobacillus sp. 8_2_54BF...\n",
      "222.0 kbp      0.1%    5.0%    CAAFUY010000001.1 TPA_asm: uncultured...\n",
      "0.6 Mbp        0.1%    8.7%    JVCZ01000002.1 Streptococcus parasang...\n",
      "1.9 Mbp        0.1%    6.2%    NIHV01000001.1 [Ruminococcus] gnavus ...\n",
      "2.2 Mbp        0.1%    6.4%    HF999299.1 Clostridium bartlettii CAG...\n",
      "1.2 Mbp        0.1%    8.4%    LR778174.1 Veillonella parvula strain...\n",
      "2.4 Mbp        0.1%    4.8%    CAAKOI010000001.1 Flavonifractor plau...\n",
      "181.0 kbp      0.1%    7.8%    UQGF01000001.1 uncultured Actinomyces...\n",
      "0.8 Mbp        0.1%    7.8%    QXZZ01000034.1 Veillonella atypica st...\n",
      "2.2 Mbp        0.1%    5.2%    NFHY01000001.1 Drancourtella sp. An57...\n",
      "0.6 Mbp        0.1%    4.7%    BAHW02000078.1 Clostridiales bacteriu...\n",
      "3.4 Mbp        0.1%    3.3%    CABKQS010000001.1 [Clostridium] innoc...\n",
      "4.1 Mbp        0.1%    2.1%    CABJBJ010000001.1 Hungatella hatheway...\n",
      "153.0 kbp      0.1%    7.1%    LZMY01000001.1 Haemophilus parainflue...\n",
      "362.0 kbp      0.1%    7.9%    CP047191.1 Streptococcus thermophilus...\n",
      "2.2 Mbp        0.1%    4.1%    WNAL01000100.1 Roseburia faecis strai...\n",
      "2.4 Mbp        0.1%    4.2%    JAALMI010000001.1 Clostridium perfrin...\n",
      "0.6 Mbp        0.1%    4.5%    QVGF01000001.1 Lachnospiraceae bacter...\n",
      "0.6 Mbp        0.0%    2.1%    AVLJ01000001.1 UNVERIFIED_ORG: Clostr...\n",
      "145.0 kbp      0.0%    6.7%    PNHV01000001.1 Actinomyces graevenitz...\n",
      "155.0 kbp      0.0%    6.6%    NCVD01000051.1 Streptococcus mitis st...\n",
      "141.0 kbp      0.0%    4.1%    FR883346.1 Clostridium sp. CAG:221 ge...\n",
      "0.8 Mbp        0.0%    4.8%    CAAEOZ010000001.1 TPA_asm: uncultured...\n",
      "2.7 Mbp        0.0%    1.8%    QSGP01000001.1 Enterocloster aldenens...\n",
      "370.0 kbp      0.0%    0.3%    PDMO01000909.1 Cyclospora cayetanensi...\n",
      "165.0 kbp      0.0%    3.8%    UQQU01000001.1 uncultured Clostridium...\n",
      "0.7 Mbp        0.0%    5.7%    CP013216.1 Streptococcus salivarius s...\n",
      "1.5 Mbp        0.0%    3.4%    JAGQ01000001.1 [Ruminococcus] gnavus ...\n",
      "2.3 Mbp        0.0%    3.9%    KQ235823.1 Clostridium sp. 1_1_41A1FA...\n",
      "122.0 kbp      0.0%    6.1%    JWDF01000004.1 Streptomyces cattleya ...\n",
      "2.4 Mbp        0.0%    2.9%    CABIZI010000001.1 Clostridiales bacte...\n",
      "210.0 kbp      0.0%    2.4%    QUIC01000001.1 Ruminococcus sp. AM46-...\n",
      "119.0 kbp      0.0%    2.1%    JNHJ01000001.1 Phocaeicola vulgatus s...\n",
      "2.1 Mbp        0.0%    3.0%    DS499744.1 Anaerostipes caccae DSM 14...\n",
      "120.0 kbp      0.0%    4.0%    WKYR01000010.1 Megasphaera sp. BIOML-...\n",
      "1.0 Mbp        0.0%    3.4%    CAAEKB010000001.1 TPA_asm: uncultured...\n",
      "2.3 Mbp        0.0%    2.8%    LBCG01000001.1 MAG: Roseburia sp. UNK...\n",
      "105.0 kbp      0.0%    6.5%    JRND01000001.1 Lancefieldella parvulu...\n",
      "\n",
      "found 98 matches total;\n",
      "the recovered matches hit 32.5% of the query\n",
      "\n",
      "\n",
      "\u001b[K\n",
      "== This is sourmash version 4.2.4.dev0+g73aeb155.d20220116. ==\n",
      "\n",
      "\u001b[K== Please cite Brown and Irber (2016), doi:10.21105/joss.00027. ==\n",
      "\n",
      "\n",
      "\u001b[Kselecting specified query k=31\n",
      "\n",
      "\u001b[Kloaded query: p8808mo11... (k=31, DNA)\n",
      "\n",
      "\u001b[Kloading from gut-clust-queries2/gut-clust-queries2-queries.zip...\n",
      "\n",
      "\u001b[K                                                                               \n",
      "\n",
      "\u001b[Kloaded 1 databases.\n",
      "\n",
      "\u001b[KStarting prefetch sweep across databases.\n",
      "\n",
      "\u001b[KFound 98 signatures via prefetch; now doing gather.\n",
      "\n",
      "\u001b[Kfound less than 50.0 kbp in common. => exiting\n",
      "\n"
     ]
    }
   ],
   "source": [
    "print(stdout1)"
   ]
  },
  {
   "cell_type": "code",
   "execution_count": 11,
   "metadata": {},
   "outputs": [
    {
     "name": "stdout",
     "output_type": "stream",
     "text": [
      "\n",
      "\n",
      "overlap     p_query p_match\n",
      "---------   ------- -------\n",
      "5.6 Mbp        2.0%   91.7%    CP048626.1 Blautia producta ATCC 2734...\n",
      "5.0 Mbp        1.8%   99.6%    DABGPL010000001.1 TPA_asm: Escherichi...\n",
      "3.2 Mbp        1.1%   99.3%    JULC01000001.1 Bifidobacterium scardo...\n",
      "2.9 Mbp        1.0%   89.6%    SMCQ01000001.1 Longibaculum muris str...\n",
      "1.6 Mbp        0.5%   51.8%    HF995324.1 Firmicutes bacterium CAG:6...\n",
      "0.9 Mbp        0.3%   27.9%    WMQE01000038.1 Turicibacter sanguinis...\n",
      "0.8 Mbp        0.3%   37.7%    AEKO01000011.1 Streptococcus vestibul...\n",
      "0.7 Mbp        0.2%   29.6%    JAABLG010000001.1 Streptococcus vesti...\n",
      "0.6 Mbp        0.2%   32.5%    UQNI01000001.1 uncultured Ruminococca...\n",
      "0.6 Mbp        0.2%   17.9%    QVGF01000001.1 Lachnospiraceae bacter...\n",
      "0.6 Mbp        0.2%   16.2%    BAHW02000078.1 Clostridiales bacteriu...\n",
      "0.5 Mbp        0.2%   15.6%    URPP01000001.1 uncultured Clostridial...\n",
      "0.6 Mbp        0.2%   22.7%    CABHOC010000001.1 Bifidobacterium lon...\n",
      "496.0 kbp      0.2%   12.4%    CZYD01000001.1 Terrisporobacter othin...\n",
      "475.0 kbp      0.2%   14.6%    CAAEUS010000001.1 TPA_asm: uncultured...\n",
      "411.0 kbp      0.1%   10.3%    OBJV01000049.1 Clostridium tertium is...\n",
      "403.0 kbp      0.1%   16.0%    CM003575.1 Veillonella sp. DORA_A_3_1...\n",
      "370.0 kbp      0.1%    1.0%    PDMO01000909.1 Cyclospora cayetanensi...\n",
      "350.0 kbp      0.1%   19.2%    CAAEVI010000001.1 TPA_asm: Erysipelot...\n",
      "354.0 kbp      0.1%   12.1%    CYYS01000001.1 Turicibacter sanguinis...\n",
      "316.0 kbp      0.1%    8.9%    CYZX01000001.1 Clostridium disporicum...\n",
      "222.0 kbp      0.1%    5.2%    CAAFUY010000001.1 TPA_asm: uncultured...\n",
      "181.0 kbp      0.1%    7.8%    UQGF01000001.1 uncultured Actinomyces...\n",
      "362.0 kbp      0.1%    9.5%    CP047191.1 Streptococcus thermophilus...\n",
      "210.0 kbp      0.1%    3.6%    QUIC01000001.1 Ruminococcus sp. AM46-...\n",
      "153.0 kbp      0.1%    7.1%    LZMY01000001.1 Haemophilus parainflue...\n",
      "155.0 kbp      0.1%    7.1%    NCVD01000051.1 Streptococcus mitis st...\n",
      "145.0 kbp      0.0%    6.7%    PNHV01000001.1 Actinomyces graevenitz...\n",
      "165.0 kbp      0.0%    4.4%    UQQU01000001.1 uncultured Clostridium...\n",
      "141.0 kbp      0.0%    4.3%    FR883346.1 Clostridium sp. CAG:221 ge...\n",
      "120.0 kbp      0.0%    4.5%    WKYR01000010.1 Megasphaera sp. BIOML-...\n",
      "122.0 kbp      0.0%    6.1%    JWDF01000004.1 Streptomyces cattleya ...\n",
      "119.0 kbp      0.0%    2.2%    JNHJ01000001.1 Phocaeicola vulgatus s...\n",
      "105.0 kbp      0.0%    6.5%    JRND01000001.1 Lancefieldella parvulu...\n",
      "\n",
      "found 34 matches total;\n",
      "the recovered matches hit 10.0% of the query\n",
      "\n",
      "\n",
      "\u001b[K\n",
      "== This is sourmash version 4.2.4.dev0+g73aeb155.d20220116. ==\n",
      "\n",
      "\u001b[K== Please cite Brown and Irber (2016), doi:10.21105/joss.00027. ==\n",
      "\n",
      "\n",
      "\u001b[Kselecting specified query k=31\n",
      "\n",
      "\u001b[Kloaded query: p8808mo11... (k=31, DNA)\n",
      "\n",
      "\u001b[Kloading from gut-clust-queries2/gut-clust-queries2-nbhds.zip...\n",
      "\n",
      "\u001b[K                                                                               \n",
      "\n",
      "\u001b[Kloaded 1 databases.\n",
      "\n",
      "\u001b[KStarting prefetch sweep across databases.\n",
      "\n",
      "\u001b[KFound 34 signatures via prefetch; now doing gather.\n",
      "\n",
      "\u001b[Kfound less than 50.0 kbp in common. => exiting\n",
      "\n"
     ]
    }
   ],
   "source": [
    "print(stdout2)"
   ]
  },
  {
   "cell_type": "markdown",
   "metadata": {},
   "source": [
    "## building mapping from query to neighborhood"
   ]
  },
  {
   "cell_type": "code",
   "execution_count": 12,
   "metadata": {},
   "outputs": [],
   "source": [
    "remaining_hashes = set(metag.minhash.hashes)\n",
    "unique_hashes_1x = []\n",
    "for ident in gather1_keys:\n",
    "    row = gather1_d[ident]\n",
    "    match = queries_d[ident]\n",
    "    match_hashes = set(match.minhash.hashes)\n",
    "    unique_overlap = remaining_hashes & match_hashes\n",
    "    #print(ident, len(remaining_hashes), len(unique_overlap), row['unique_intersect_bp'], row['remaining_bp'])\n",
    "    remaining_hashes -= unique_overlap\n",
    "    unique_hashes_1x.append((ident, unique_overlap))\n"
   ]
  },
  {
   "cell_type": "code",
   "execution_count": 13,
   "metadata": {},
   "outputs": [],
   "source": [
    "remaining_hashes = set(metag.minhash.hashes)\n",
    "unique_hashes_2x = []\n",
    "for ident in gather2_keys:\n",
    "    row = gather2_d[ident]\n",
    "    match = nbhds_d[ident]\n",
    "    match_hashes = set(match.minhash.hashes)\n",
    "    unique_overlap = remaining_hashes & match_hashes\n",
    "    #print(ident, len(remaining_hashes), len(unique_overlap), row['unique_intersect_bp'], row['remaining_bp'])\n",
    "    remaining_hashes -= unique_overlap\n",
    "    unique_hashes_2x.append((ident, unique_overlap))\n"
   ]
  },
  {
   "cell_type": "code",
   "execution_count": 14,
   "metadata": {},
   "outputs": [
    {
     "name": "stdout",
     "output_type": "stream",
     "text": [
      "CP048626.1 <= CP048626.1 - 5634\n",
      "DABGPL010000001.1 <= DABGPL010000001.1 - 5017\n",
      "JULC01000001.1 <= WTVF01000090.1 - 1\n",
      "JULC01000001.1 <= JULC01000001.1 - 3197\n",
      "SMCQ01000001.1 <= HF995415.1 - 4\n",
      "SMCQ01000001.1 <= SMCQ01000001.1 - 2861\n",
      "HF995324.1 <= CZAB01000001.1 - 6\n",
      "HF995324.1 <= WTVF01000090.1 - 1\n",
      "HF995324.1 <= CABIYM010000001.1 - 1\n",
      "HF995324.1 <= FMEP01000075.1 - 3\n",
      "HF995324.1 <= CABJAX010000001.1 - 1\n",
      "HF995324.1 <= HF995324.1 - 1546\n",
      "WMQE01000038.1 <= WMQE01000038.1 - 903\n",
      "AEKO01000011.1 <= USJS01000001.1 - 1\n",
      "AEKO01000011.1 <= LR793273.1 - 219\n",
      "AEKO01000011.1 <= JAABLG010000001.1 - 48\n",
      "AEKO01000011.1 <= KV794391.1 - 2\n",
      "AEKO01000011.1 <= AEKO01000011.1 - 480\n",
      "JAABLG010000001.1 <= LR793273.1 - 97\n",
      "JAABLG010000001.1 <= JAABLG010000001.1 - 525\n",
      "UQNI01000001.1 <= CVRR01000001.1 - 1\n",
      "UQNI01000001.1 <= FMEP01000075.1 - 1\n",
      "UQNI01000001.1 <= UQNI01000001.1 - 604\n",
      "QVGF01000001.1 <= HF996869.1 - 2\n",
      "QVGF01000001.1 <= CZAB01000001.1 - 5\n",
      "QVGF01000001.1 <= WTVF01000090.1 - 3\n",
      "QVGF01000001.1 <= GL834357.1 - 4\n",
      "QVGF01000001.1 <= AENW01000060.1 - 10\n",
      "QVGF01000001.1 <= CVRR01000001.1 - 2\n",
      "QVGF01000001.1 <= NIHW01000001.1 - 4\n",
      "QVGF01000001.1 <= JH590866.1 - 1\n",
      "QVGF01000001.1 <= FMEP01000075.1 - 22\n",
      "QVGF01000001.1 <= SPHM01000100.1 - 8\n",
      "QVGF01000001.1 <= NFLB01000001.1 - 1\n",
      "QVGF01000001.1 <= CABJAX010000001.1 - 5\n",
      "QVGF01000001.1 <= USJS01000001.1 - 273\n",
      "QVGF01000001.1 <= FACG01000001.1 - 2\n",
      "QVGF01000001.1 <= CAAFOE010000001.1 - 77\n",
      "QVGF01000001.1 <= QVIB01000001.1 - 1\n",
      "QVGF01000001.1 <= JAAIUC010000010.1 - 3\n",
      "QVGF01000001.1 <= CABJBJ010000001.1 - 2\n",
      "QVGF01000001.1 <= WNAL01000100.1 - 2\n",
      "QVGF01000001.1 <= QVGF01000001.1 - 143\n",
      "BAHW02000078.1 <= GL834357.1 - 1\n",
      "BAHW02000078.1 <= AENW01000060.1 - 1\n",
      "BAHW02000078.1 <= NIHW01000001.1 - 5\n",
      "BAHW02000078.1 <= JH590866.1 - 1\n",
      "BAHW02000078.1 <= CABIYM010000001.1 - 382\n",
      "BAHW02000078.1 <= NFLB01000001.1 - 1\n",
      "BAHW02000078.1 <= CABJAX010000001.1 - 1\n",
      "BAHW02000078.1 <= CAAFOE010000001.1 - 2\n",
      "BAHW02000078.1 <= CP015406.2 - 1\n",
      "BAHW02000078.1 <= BAHW02000078.1 - 163\n",
      "URPP01000001.1 <= MARQ01000035.1 - 1\n",
      "URPP01000001.1 <= URPP01000001.1 - 543\n",
      "CABHOC010000001.1 <= JH590866.1 - 1\n",
      "CABHOC010000001.1 <= SQQK01000001.1 - 6\n",
      "CABHOC010000001.1 <= CABHOC010000001.1 - 516\n",
      "CZYD01000001.1 <= MARQ01000035.1 - 1\n",
      "CZYD01000001.1 <= FMFU01000020.1 - 7\n",
      "CZYD01000001.1 <= UQGB01000001.1 - 2\n",
      "CZYD01000001.1 <= FACG01000001.1 - 3\n",
      "CZYD01000001.1 <= CZYD01000001.1 - 482\n",
      "CAAEUS010000001.1 <= MARQ01000035.1 - 1\n",
      "CAAEUS010000001.1 <= FMFU01000020.1 - 217\n",
      "CAAEUS010000001.1 <= NFLB01000001.1 - 1\n",
      "CAAEUS010000001.1 <= UQGB01000001.1 - 2\n",
      "CAAEUS010000001.1 <= SPHR01000011.1 - 20\n",
      "CAAEUS010000001.1 <= CAAEUS010000001.1 - 229\n",
      "OBJV01000049.1 <= MARQ01000035.1 - 4\n",
      "OBJV01000049.1 <= UQGB01000001.1 - 3\n",
      "OBJV01000049.1 <= QGMT01000001.1 - 4\n",
      "OBJV01000049.1 <= OBJV01000049.1 - 400\n",
      "CM003575.1 <= FMFU01000020.1 - 1\n",
      "CM003575.1 <= CP019721.1 - 73\n",
      "CM003575.1 <= AEDS01000070.1 - 34\n",
      "CM003575.1 <= AEXI01000023.1 - 19\n",
      "CM003575.1 <= SPHR01000011.1 - 1\n",
      "CM003575.1 <= CM003575.1 - 271\n",
      "PDMO01000909.1 <= HF996869.1 - 1\n",
      "PDMO01000909.1 <= CZAB01000001.1 - 7\n",
      "PDMO01000909.1 <= WTVF01000090.1 - 22\n",
      "PDMO01000909.1 <= GL834357.1 - 6\n",
      "PDMO01000909.1 <= AENW01000060.1 - 2\n",
      "PDMO01000909.1 <= CVRR01000001.1 - 100\n",
      "PDMO01000909.1 <= NIHW01000001.1 - 1\n",
      "PDMO01000909.1 <= JH590866.1 - 36\n",
      "PDMO01000909.1 <= FMEP01000075.1 - 9\n",
      "PDMO01000909.1 <= SPHM01000100.1 - 8\n",
      "PDMO01000909.1 <= NFLB01000001.1 - 3\n",
      "PDMO01000909.1 <= CABJAX010000001.1 - 3\n",
      "PDMO01000909.1 <= CP015406.2 - 2\n",
      "PDMO01000909.1 <= RQNR01000100.1 - 1\n",
      "PDMO01000909.1 <= CYXV01000001.1 - 15\n",
      "PDMO01000909.1 <= UAVW01000021.1 - 1\n",
      "PDMO01000909.1 <= KE384163.1 - 5\n",
      "PDMO01000909.1 <= JAAISL010000100.1 - 6\n",
      "PDMO01000909.1 <= JH599901.1 - 2\n",
      "PDMO01000909.1 <= CAAKOI010000001.1 - 1\n",
      "PDMO01000909.1 <= CABKQS010000001.1 - 1\n",
      "PDMO01000909.1 <= CABJBJ010000001.1 - 3\n",
      "PDMO01000909.1 <= WNAL01000100.1 - 2\n",
      "PDMO01000909.1 <= PDMO01000909.1 - 122\n",
      "CAAEVI010000001.1 <= CAAEVI010000001.1 - 349\n",
      "CYYS01000001.1 <= CYYS01000001.1 - 336\n",
      "CYZX01000001.1 <= WTVF01000090.1 - 2\n",
      "CYZX01000001.1 <= MARQ01000035.1 - 5\n",
      "CYZX01000001.1 <= NFLB01000001.1 - 1\n",
      "CYZX01000001.1 <= QGMT01000001.1 - 4\n",
      "CYZX01000001.1 <= CYZX01000001.1 - 296\n",
      "CAAFUY010000001.1 <= MARQ01000035.1 - 3\n",
      "CAAFUY010000001.1 <= QGMT01000001.1 - 3\n",
      "CAAFUY010000001.1 <= UAWH01000019.1 - 1\n",
      "CAAFUY010000001.1 <= CAAFUY010000001.1 - 199\n",
      "UQGF01000001.1 <= UQGF01000001.1 - 181\n",
      "CP047191.1 <= LR793273.1 - 30\n",
      "CP047191.1 <= KV794391.1 - 1\n",
      "CP047191.1 <= CP047191.1 - 149\n",
      "QUIC01000001.1 <= HF996869.1 - 2\n",
      "QUIC01000001.1 <= CZAB01000001.1 - 1\n",
      "QUIC01000001.1 <= WTVF01000090.1 - 1\n",
      "QUIC01000001.1 <= GL834357.1 - 1\n",
      "QUIC01000001.1 <= AENW01000060.1 - 2\n",
      "QUIC01000001.1 <= CVRR01000001.1 - 13\n",
      "QUIC01000001.1 <= NIHW01000001.1 - 3\n",
      "QUIC01000001.1 <= JH590866.1 - 1\n",
      "QUIC01000001.1 <= CABIYM010000001.1 - 1\n",
      "QUIC01000001.1 <= FMEP01000075.1 - 3\n",
      "QUIC01000001.1 <= SPHM01000100.1 - 5\n",
      "QUIC01000001.1 <= NFLB01000001.1 - 1\n",
      "QUIC01000001.1 <= CABJAX010000001.1 - 5\n",
      "QUIC01000001.1 <= USJS01000001.1 - 1\n",
      "QUIC01000001.1 <= FACG01000001.1 - 3\n",
      "QUIC01000001.1 <= QVIB01000001.1 - 3\n",
      "QUIC01000001.1 <= JAAIUC010000010.1 - 1\n",
      "QUIC01000001.1 <= JH599901.1 - 1\n",
      "QUIC01000001.1 <= NIHV01000001.1 - 1\n",
      "QUIC01000001.1 <= JAGQ01000001.1 - 3\n",
      "QUIC01000001.1 <= CABIZI010000001.1 - 1\n",
      "QUIC01000001.1 <= QUIC01000001.1 - 111\n",
      "LZMY01000001.1 <= LZMY01000001.1 - 152\n",
      "NCVD01000051.1 <= NFLB01000001.1 - 2\n",
      "NCVD01000051.1 <= LR793273.1 - 1\n",
      "NCVD01000051.1 <= KV794391.1 - 4\n",
      "NCVD01000051.1 <= JVCZ01000002.1 - 3\n",
      "NCVD01000051.1 <= NCVD01000051.1 - 135\n",
      "PNHV01000001.1 <= JH590866.1 - 1\n",
      "PNHV01000001.1 <= PNHV01000001.1 - 141\n",
      "UQQU01000001.1 <= MARQ01000035.1 - 2\n",
      "UQQU01000001.1 <= FMFU01000020.1 - 5\n",
      "UQQU01000001.1 <= UQGB01000001.1 - 7\n",
      "UQQU01000001.1 <= LT629846.1 - 3\n",
      "UQQU01000001.1 <= FR883346.1 - 1\n",
      "UQQU01000001.1 <= UQQU01000001.1 - 121\n",
      "FR883346.1 <= MARQ01000035.1 - 7\n",
      "FR883346.1 <= QGMT01000001.1 - 1\n",
      "FR883346.1 <= FR883346.1 - 126\n",
      "WKYR01000010.1 <= JH590866.1 - 5\n",
      "WKYR01000010.1 <= CP019721.1 - 1\n",
      "WKYR01000010.1 <= NFLO01000001.1 - 7\n",
      "WKYR01000010.1 <= WKYR01000010.1 - 105\n",
      "JWDF01000004.1 <= JWDF01000004.1 - 116\n",
      "JNHJ01000001.1 <= QVIB01000001.1 - 1\n",
      "JNHJ01000001.1 <= WNAL01000100.1 - 1\n",
      "JNHJ01000001.1 <= CAAEOZ010000001.1 - 3\n",
      "JNHJ01000001.1 <= JNHJ01000001.1 - 109\n",
      "JRND01000001.1 <= JRND01000001.1 - 101\n"
     ]
    }
   ],
   "source": [
    "for (nbhd_ident, nbhd_match) in unique_hashes_2x:\n",
    "    total = 0\n",
    "    for (query_ident, query_match) in unique_hashes_1x:\n",
    "        overlap = query_match & nbhd_match\n",
    "        \n",
    "        if overlap:\n",
    "            print(f\"{nbhd_ident} <= {query_ident} - {len(overlap)}\")\n",
    "            total += len(overlap)\n",
    "    #print('xxx', nbhd_ident, len(nbhd_match), total)\n",
    "    #print('---')"
   ]
  },
  {
   "cell_type": "code",
   "execution_count": 15,
   "metadata": {},
   "outputs": [],
   "source": [
    "import plotly.graph_objects as go\n",
    "\n",
    "def make_fig(max_num=None):\n",
    "    #labels = obj.make_labels()\n",
    "    #src_l, dest_l, cnt_l, color_l, label_l = obj.make_lists()\n",
    "    labels = []\n",
    "    src_l = []\n",
    "    dest_l = []\n",
    "    cnt_l = []\n",
    "    color_l = []\n",
    "    label_l = []\n",
    "    \n",
    "    source_idx = {}\n",
    "    for n, (query_ident, _) in enumerate(unique_hashes_1x):\n",
    "        source_idx[query_ident] = n\n",
    "        labels.append(full_idents.get(query_ident, 'LOST: ' + query_ident))\n",
    "    dest_idx = {}\n",
    "    source_idx[\"unassigned\"] = len(unique_hashes_1x)\n",
    "    labels.append(\"unassigned\")\n",
    "    base = len(unique_hashes_1x) + 1\n",
    "    for n, (nbhd_ident, _) in enumerate(unique_hashes_2x):\n",
    "        dest_idx[nbhd_ident] = base + n\n",
    "        labels.append(full_idents.get(nbhd_ident, 'LOST: ' + query_ident))\n",
    "        \n",
    "    #source_idx[\"unassigned\"] = base + n + 1\n",
    "    \n",
    "    # iterate over all sinks, account for all sources\n",
    "    num = 0\n",
    "    leftovers = []\n",
    "    for (nbhd_ident, nbhd_match) in unique_hashes_2x:\n",
    "        total = 0\n",
    "        for (query_ident, query_match) in unique_hashes_1x:\n",
    "            overlap = query_match & nbhd_match\n",
    "        \n",
    "            if overlap:\n",
    "                #print(f\"{nbhd_ident} <= {query_ident} - {len(overlap)}\")\n",
    "                total += len(overlap)\n",
    "                from_idx = source_idx[query_ident]\n",
    "                to_idx = dest_idx[nbhd_ident]\n",
    "                \n",
    "                src_l.append(from_idx)\n",
    "                dest_l.append(to_idx)\n",
    "                cnt_l.append(len(overlap))\n",
    "                if query_ident == nbhd_ident:\n",
    "                    color_l.append(\"lightseagreen\")\n",
    "                else:\n",
    "                    color_l.append(\"palevioletred\")\n",
    "                label_l.append(\"\")\n",
    "    \n",
    "        #print('xxx', nbhd_ident, len(nbhd_match), total)\n",
    "        leftover = len(nbhd_match) - total\n",
    "        \n",
    "        if leftover:\n",
    "            leftovers.append((nbhd_ident, leftover))\n",
    "\n",
    "        #print('---')\n",
    "        num += 1\n",
    "        if max_num and num >= max_num:\n",
    "            break\n",
    "            \n",
    "    if leftovers:\n",
    "        for nbhd_ident, leftover in leftovers:\n",
    "            from_idx = source_idx[\"unassigned\"]\n",
    "            to_idx = dest_idx[nbhd_ident]\n",
    "\n",
    "            src_l.append(from_idx)\n",
    "            dest_l.append(to_idx)\n",
    "            cnt_l.append(leftover)\n",
    "            color_l.append(\"grey\")\n",
    "            label_l.append(\"\")\n",
    "            #print('XYZ', from_idx, to_idx)\n",
    "        \n",
    "\n",
    "    fig = go.Figure(data=[go.Sankey(\n",
    "        node = dict(\n",
    "          pad = 15,\n",
    "          thickness = 20,\n",
    "          line = dict(color = \"black\", width = 0.5),\n",
    "          label = labels,\n",
    "          color = \"blue\"\n",
    "        ),\n",
    "        link = dict(\n",
    "          source = src_l,\n",
    "          target = dest_l,\n",
    "          value = cnt_l,\n",
    "          color = color_l,\n",
    "          label = label_l,\n",
    "      ))])\n",
    "    \n",
    "    return fig"
   ]
  },
  {
   "cell_type": "code",
   "execution_count": 17,
   "metadata": {},
   "outputs": [
    {
     "data": {
      "application/vnd.plotly.v1+json": {
       "config": {
        "plotlyServerURL": "https://plot.ly"
       },
       "data": [
        {
         "link": {
          "color": [
           "lightseagreen",
           "lightseagreen",
           "palevioletred",
           "lightseagreen",
           "palevioletred",
           "lightseagreen",
           "palevioletred",
           "palevioletred",
           "palevioletred",
           "palevioletred",
           "palevioletred",
           "lightseagreen",
           "lightseagreen",
           "palevioletred",
           "palevioletred",
           "palevioletred",
           "palevioletred",
           "lightseagreen",
           "palevioletred",
           "lightseagreen",
           "palevioletred",
           "palevioletred",
           "lightseagreen",
           "palevioletred",
           "palevioletred",
           "palevioletred",
           "palevioletred",
           "palevioletred",
           "palevioletred",
           "palevioletred",
           "palevioletred",
           "palevioletred",
           "palevioletred",
           "palevioletred",
           "palevioletred",
           "palevioletred",
           "palevioletred",
           "palevioletred",
           "palevioletred",
           "palevioletred",
           "palevioletred",
           "palevioletred",
           "lightseagreen",
           "palevioletred",
           "palevioletred",
           "palevioletred",
           "palevioletred",
           "palevioletred",
           "palevioletred",
           "palevioletred",
           "palevioletred",
           "palevioletred",
           "lightseagreen",
           "palevioletred",
           "lightseagreen",
           "palevioletred",
           "palevioletred",
           "lightseagreen",
           "palevioletred",
           "palevioletred",
           "palevioletred",
           "palevioletred",
           "lightseagreen",
           "palevioletred",
           "palevioletred",
           "palevioletred",
           "palevioletred",
           "palevioletred",
           "lightseagreen",
           "palevioletred",
           "palevioletred",
           "palevioletred",
           "lightseagreen",
           "palevioletred",
           "palevioletred",
           "palevioletred",
           "palevioletred",
           "palevioletred",
           "lightseagreen",
           "palevioletred",
           "palevioletred",
           "palevioletred",
           "palevioletred",
           "palevioletred",
           "palevioletred",
           "palevioletred",
           "palevioletred",
           "palevioletred",
           "palevioletred",
           "palevioletred",
           "palevioletred",
           "palevioletred",
           "palevioletred",
           "palevioletred",
           "palevioletred",
           "palevioletred",
           "palevioletred",
           "palevioletred",
           "palevioletred",
           "palevioletred",
           "palevioletred",
           "palevioletred",
           "lightseagreen",
           "lightseagreen",
           "lightseagreen"
          ],
          "label": [
           "",
           "",
           "",
           "",
           "",
           "",
           "",
           "",
           "",
           "",
           "",
           "",
           "",
           "",
           "",
           "",
           "",
           "",
           "",
           "",
           "",
           "",
           "",
           "",
           "",
           "",
           "",
           "",
           "",
           "",
           "",
           "",
           "",
           "",
           "",
           "",
           "",
           "",
           "",
           "",
           "",
           "",
           "",
           "",
           "",
           "",
           "",
           "",
           "",
           "",
           "",
           "",
           "",
           "",
           "",
           "",
           "",
           "",
           "",
           "",
           "",
           "",
           "",
           "",
           "",
           "",
           "",
           "",
           "",
           "",
           "",
           "",
           "",
           "",
           "",
           "",
           "",
           "",
           "",
           "",
           "",
           "",
           "",
           "",
           "",
           "",
           "",
           "",
           "",
           "",
           "",
           "",
           "",
           "",
           "",
           "",
           "",
           "",
           "",
           "",
           "",
           "",
           "",
           "",
           ""
          ],
          "source": [
           0,
           2,
           4,
           7,
           8,
           9,
           3,
           4,
           14,
           15,
           20,
           22,
           26,
           24,
           27,
           31,
           33,
           36,
           27,
           31,
           11,
           15,
           29,
           1,
           3,
           4,
           5,
           6,
           11,
           12,
           13,
           15,
           17,
           18,
           20,
           24,
           30,
           39,
           48,
           58,
           72,
           75,
           77,
           5,
           6,
           12,
           13,
           14,
           18,
           20,
           39,
           42,
           70,
           10,
           32,
           13,
           19,
           34,
           10,
           16,
           21,
           30,
           35,
           10,
           16,
           18,
           21,
           40,
           56,
           10,
           21,
           25,
           41,
           16,
           23,
           28,
           38,
           40,
           51,
           1,
           3,
           4,
           5,
           6,
           11,
           12,
           13,
           15,
           17,
           18,
           20,
           42,
           43,
           45,
           46,
           50,
           54,
           60,
           66,
           71,
           72,
           75,
           84,
           44,
           47
          ],
          "target": [
           99,
           100,
           101,
           101,
           102,
           102,
           103,
           103,
           103,
           103,
           103,
           103,
           104,
           105,
           105,
           105,
           105,
           105,
           106,
           106,
           107,
           107,
           107,
           108,
           108,
           108,
           108,
           108,
           108,
           108,
           108,
           108,
           108,
           108,
           108,
           108,
           108,
           108,
           108,
           108,
           108,
           108,
           108,
           109,
           109,
           109,
           109,
           109,
           109,
           109,
           109,
           109,
           109,
           110,
           110,
           111,
           111,
           111,
           112,
           112,
           112,
           112,
           112,
           113,
           113,
           113,
           113,
           113,
           113,
           114,
           114,
           114,
           114,
           115,
           115,
           115,
           115,
           115,
           115,
           116,
           116,
           116,
           116,
           116,
           116,
           116,
           116,
           116,
           116,
           116,
           116,
           116,
           116,
           116,
           116,
           116,
           116,
           116,
           116,
           116,
           116,
           116,
           116,
           117,
           118
          ],
          "value": [
           5634,
           5017,
           1,
           3197,
           4,
           2861,
           6,
           1,
           1,
           3,
           1,
           1546,
           903,
           1,
           219,
           48,
           2,
           480,
           97,
           525,
           1,
           1,
           604,
           2,
           5,
           3,
           4,
           10,
           2,
           4,
           1,
           22,
           8,
           1,
           5,
           273,
           2,
           77,
           1,
           3,
           2,
           2,
           143,
           1,
           1,
           5,
           1,
           382,
           1,
           1,
           2,
           1,
           163,
           1,
           543,
           1,
           6,
           516,
           1,
           7,
           2,
           3,
           482,
           1,
           217,
           1,
           2,
           20,
           229,
           4,
           3,
           4,
           400,
           1,
           73,
           34,
           19,
           1,
           271,
           1,
           7,
           22,
           6,
           2,
           100,
           1,
           36,
           9,
           8,
           3,
           3,
           2,
           1,
           15,
           1,
           5,
           6,
           2,
           1,
           1,
           3,
           2,
           122,
           349,
           336
          ]
         },
         "node": {
          "color": "blue",
          "label": [
           "CP048626.1 Blautia producta",
           "HF996869.1 Clostridium hathewayi",
           "DABGPL010000001.1 TPA_asm: Escherichia",
           "CZAB01000001.1 [Clostridium] clostridioforme",
           "WTVF01000090.1 Enterocloster aldenensis",
           "GL834357.1 Clostridium symbiosum",
           "AENW01000060.1 Clostridium sp.",
           "JULC01000001.1 Bifidobacterium scardovii",
           "HF995415.1 Coprobacillus sp.",
           "SMCQ01000001.1 Longibaculum muris",
           "MARQ01000035.1 Clostridium perfringens",
           "CVRR01000001.1 Roseburia faecis",
           "NIHW01000001.1 [Ruminococcus] gnavus",
           "JH590866.1 Lachnospiraceae bacterium",
           "CABIYM010000001.1 Anaerostipes caccae",
           "FMEP01000075.1 uncultured Ruminococcus",
           "FMFU01000020.1 uncultured Clostridium",
           "SPHM01000100.1 Pseudoflavonifractor sp.",
           "NFLB01000001.1 [Clostridium] spiroforme",
           "SQQK01000001.1 Bifidobacterium dentium",
           "CABJAX010000001.1 Lachnospiraceae bacterium",
           "UQGB01000001.1 uncultured Clostridium",
           "HF995324.1 Firmicutes bacterium",
           "CP019721.1 Veillonella parvula",
           "USJS01000001.1 uncultured Blautia",
           "QGMT01000001.1 Clostridium paraputrificum",
           "WMQE01000038.1 Turicibacter sanguinis",
           "LR793273.1 Streptococcus salivarius",
           "AEDS01000070.1 Veillonella atypica",
           "UQNI01000001.1 uncultured Ruminococcaceae",
           "FACG01000001.1 Peptoclostridium difficile",
           "JAABLG010000001.1 Streptococcus vestibularis",
           "URPP01000001.1 uncultured Clostridiales",
           "KV794391.1 Streptococcus sp.",
           "CABHOC010000001.1 Bifidobacterium longum",
           "CZYD01000001.1 Terrisporobacter othiniensis",
           "AEKO01000011.1 Streptococcus vestibularis",
           "NFLO01000001.1 Drancourtella sp.",
           "AEXI01000023.1 Veillonella parvula",
           "CAAFOE010000001.1 TPA_asm: uncultured",
           "SPHR01000011.1 Intestinibacter bartlettii",
           "OBJV01000049.1 Clostridium tertium",
           "CP015406.2 Flavonifractor plautii",
           "RQNR01000100.1 Clostridium perfringens",
           "CAAEVI010000001.1 TPA_asm: Erysipelotrichaceae",
           "CYXV01000001.1 Roseburia faecis",
           "UAVW01000021.1 [Clostridium] clostridioforme",
           "CYYS01000001.1 Turicibacter sanguinis",
           "QVIB01000001.1 Dorea longicatena",
           "CYZX01000001.1 Clostridium disporicum",
           "KE384163.1 Clostridium clostridioforme",
           "CM003575.1 Veillonella sp.",
           "LT629846.1 Romboutsia sp.",
           "AZYA01000001.1 Bifidobacterium sp.",
           "JAAISL010000100.1 [Clostridium] symbiosum",
           "UAWH01000019.1 Clostridium paraputrificum",
           "CAAEUS010000001.1 TPA_asm: uncultured",
           "NFJI01000001.1 [Clostridium] spiroforme",
           "JAAIUC010000010.1 Tyzzerella nexilis",
           "KB851023.1 Clostridium clostridioforme",
           "JH599901.1 Coprobacillus sp.",
           "CAAFUY010000001.1 TPA_asm: uncultured",
           "JVCZ01000002.1 Streptococcus parasanguinis",
           "NIHV01000001.1 [Ruminococcus] gnavus",
           "HF999299.1 Clostridium bartlettii",
           "LR778174.1 Veillonella parvula",
           "CAAKOI010000001.1 Flavonifractor plautii",
           "UQGF01000001.1 uncultured Actinomyces",
           "QXZZ01000034.1 Veillonella atypica",
           "NFHY01000001.1 Drancourtella sp.",
           "BAHW02000078.1 Clostridiales bacterium",
           "CABKQS010000001.1 [Clostridium] innocuum",
           "CABJBJ010000001.1 Hungatella hathewayi",
           "LZMY01000001.1 Haemophilus parainfluenzae",
           "CP047191.1 Streptococcus thermophilus",
           "WNAL01000100.1 Roseburia faecis",
           "JAALMI010000001.1 Clostridium perfringens",
           "QVGF01000001.1 Lachnospiraceae bacterium",
           "AVLJ01000001.1 UNVERIFIED_ORG: Clostridioides",
           "PNHV01000001.1 Actinomyces graevenitzii",
           "NCVD01000051.1 Streptococcus mitis",
           "FR883346.1 Clostridium sp.",
           "CAAEOZ010000001.1 TPA_asm: uncultured",
           "QSGP01000001.1 Enterocloster aldenensis",
           "PDMO01000909.1 Cyclospora cayetanensis",
           "UQQU01000001.1 uncultured Clostridium",
           "CP013216.1 Streptococcus salivarius",
           "JAGQ01000001.1 [Ruminococcus] gnavus",
           "KQ235823.1 Clostridium sp.",
           "JWDF01000004.1 Streptomyces cattleya",
           "CABIZI010000001.1 Clostridiales bacterium",
           "QUIC01000001.1 Ruminococcus sp.",
           "JNHJ01000001.1 Phocaeicola vulgatus",
           "DS499744.1 Anaerostipes caccae",
           "WKYR01000010.1 Megasphaera sp.",
           "CAAEKB010000001.1 TPA_asm: uncultured",
           "LBCG01000001.1 MAG: Roseburia",
           "JRND01000001.1 Lancefieldella parvulum",
           "unassigned",
           "CP048626.1 Blautia producta",
           "DABGPL010000001.1 TPA_asm: Escherichia",
           "JULC01000001.1 Bifidobacterium scardovii",
           "SMCQ01000001.1 Longibaculum muris",
           "HF995324.1 Firmicutes bacterium",
           "WMQE01000038.1 Turicibacter sanguinis",
           "AEKO01000011.1 Streptococcus vestibularis",
           "JAABLG010000001.1 Streptococcus vestibularis",
           "UQNI01000001.1 uncultured Ruminococcaceae",
           "QVGF01000001.1 Lachnospiraceae bacterium",
           "BAHW02000078.1 Clostridiales bacterium",
           "URPP01000001.1 uncultured Clostridiales",
           "CABHOC010000001.1 Bifidobacterium longum",
           "CZYD01000001.1 Terrisporobacter othiniensis",
           "CAAEUS010000001.1 TPA_asm: uncultured",
           "OBJV01000049.1 Clostridium tertium",
           "CM003575.1 Veillonella sp.",
           "PDMO01000909.1 Cyclospora cayetanensis",
           "CAAEVI010000001.1 TPA_asm: Erysipelotrichaceae",
           "CYYS01000001.1 Turicibacter sanguinis",
           "CYZX01000001.1 Clostridium disporicum",
           "CAAFUY010000001.1 TPA_asm: uncultured",
           "UQGF01000001.1 uncultured Actinomyces",
           "CP047191.1 Streptococcus thermophilus",
           "QUIC01000001.1 Ruminococcus sp.",
           "LZMY01000001.1 Haemophilus parainfluenzae",
           "NCVD01000051.1 Streptococcus mitis",
           "PNHV01000001.1 Actinomyces graevenitzii",
           "UQQU01000001.1 uncultured Clostridium",
           "FR883346.1 Clostridium sp.",
           "WKYR01000010.1 Megasphaera sp.",
           "JWDF01000004.1 Streptomyces cattleya",
           "JNHJ01000001.1 Phocaeicola vulgatus",
           "JRND01000001.1 Lancefieldella parvulum"
          ],
          "line": {
           "color": "black",
           "width": 0.5
          },
          "pad": 15,
          "thickness": 20
         },
         "type": "sankey"
        }
       ],
       "layout": {
        "font": {
         "size": 10
        },
        "height": 1000,
        "template": {
         "data": {
          "bar": [
           {
            "error_x": {
             "color": "#2a3f5f"
            },
            "error_y": {
             "color": "#2a3f5f"
            },
            "marker": {
             "line": {
              "color": "#E5ECF6",
              "width": 0.5
             }
            },
            "type": "bar"
           }
          ],
          "barpolar": [
           {
            "marker": {
             "line": {
              "color": "#E5ECF6",
              "width": 0.5
             }
            },
            "type": "barpolar"
           }
          ],
          "carpet": [
           {
            "aaxis": {
             "endlinecolor": "#2a3f5f",
             "gridcolor": "white",
             "linecolor": "white",
             "minorgridcolor": "white",
             "startlinecolor": "#2a3f5f"
            },
            "baxis": {
             "endlinecolor": "#2a3f5f",
             "gridcolor": "white",
             "linecolor": "white",
             "minorgridcolor": "white",
             "startlinecolor": "#2a3f5f"
            },
            "type": "carpet"
           }
          ],
          "choropleth": [
           {
            "colorbar": {
             "outlinewidth": 0,
             "ticks": ""
            },
            "type": "choropleth"
           }
          ],
          "contour": [
           {
            "colorbar": {
             "outlinewidth": 0,
             "ticks": ""
            },
            "colorscale": [
             [
              0,
              "#0d0887"
             ],
             [
              0.1111111111111111,
              "#46039f"
             ],
             [
              0.2222222222222222,
              "#7201a8"
             ],
             [
              0.3333333333333333,
              "#9c179e"
             ],
             [
              0.4444444444444444,
              "#bd3786"
             ],
             [
              0.5555555555555556,
              "#d8576b"
             ],
             [
              0.6666666666666666,
              "#ed7953"
             ],
             [
              0.7777777777777778,
              "#fb9f3a"
             ],
             [
              0.8888888888888888,
              "#fdca26"
             ],
             [
              1,
              "#f0f921"
             ]
            ],
            "type": "contour"
           }
          ],
          "contourcarpet": [
           {
            "colorbar": {
             "outlinewidth": 0,
             "ticks": ""
            },
            "type": "contourcarpet"
           }
          ],
          "heatmap": [
           {
            "colorbar": {
             "outlinewidth": 0,
             "ticks": ""
            },
            "colorscale": [
             [
              0,
              "#0d0887"
             ],
             [
              0.1111111111111111,
              "#46039f"
             ],
             [
              0.2222222222222222,
              "#7201a8"
             ],
             [
              0.3333333333333333,
              "#9c179e"
             ],
             [
              0.4444444444444444,
              "#bd3786"
             ],
             [
              0.5555555555555556,
              "#d8576b"
             ],
             [
              0.6666666666666666,
              "#ed7953"
             ],
             [
              0.7777777777777778,
              "#fb9f3a"
             ],
             [
              0.8888888888888888,
              "#fdca26"
             ],
             [
              1,
              "#f0f921"
             ]
            ],
            "type": "heatmap"
           }
          ],
          "heatmapgl": [
           {
            "colorbar": {
             "outlinewidth": 0,
             "ticks": ""
            },
            "colorscale": [
             [
              0,
              "#0d0887"
             ],
             [
              0.1111111111111111,
              "#46039f"
             ],
             [
              0.2222222222222222,
              "#7201a8"
             ],
             [
              0.3333333333333333,
              "#9c179e"
             ],
             [
              0.4444444444444444,
              "#bd3786"
             ],
             [
              0.5555555555555556,
              "#d8576b"
             ],
             [
              0.6666666666666666,
              "#ed7953"
             ],
             [
              0.7777777777777778,
              "#fb9f3a"
             ],
             [
              0.8888888888888888,
              "#fdca26"
             ],
             [
              1,
              "#f0f921"
             ]
            ],
            "type": "heatmapgl"
           }
          ],
          "histogram": [
           {
            "marker": {
             "colorbar": {
              "outlinewidth": 0,
              "ticks": ""
             }
            },
            "type": "histogram"
           }
          ],
          "histogram2d": [
           {
            "colorbar": {
             "outlinewidth": 0,
             "ticks": ""
            },
            "colorscale": [
             [
              0,
              "#0d0887"
             ],
             [
              0.1111111111111111,
              "#46039f"
             ],
             [
              0.2222222222222222,
              "#7201a8"
             ],
             [
              0.3333333333333333,
              "#9c179e"
             ],
             [
              0.4444444444444444,
              "#bd3786"
             ],
             [
              0.5555555555555556,
              "#d8576b"
             ],
             [
              0.6666666666666666,
              "#ed7953"
             ],
             [
              0.7777777777777778,
              "#fb9f3a"
             ],
             [
              0.8888888888888888,
              "#fdca26"
             ],
             [
              1,
              "#f0f921"
             ]
            ],
            "type": "histogram2d"
           }
          ],
          "histogram2dcontour": [
           {
            "colorbar": {
             "outlinewidth": 0,
             "ticks": ""
            },
            "colorscale": [
             [
              0,
              "#0d0887"
             ],
             [
              0.1111111111111111,
              "#46039f"
             ],
             [
              0.2222222222222222,
              "#7201a8"
             ],
             [
              0.3333333333333333,
              "#9c179e"
             ],
             [
              0.4444444444444444,
              "#bd3786"
             ],
             [
              0.5555555555555556,
              "#d8576b"
             ],
             [
              0.6666666666666666,
              "#ed7953"
             ],
             [
              0.7777777777777778,
              "#fb9f3a"
             ],
             [
              0.8888888888888888,
              "#fdca26"
             ],
             [
              1,
              "#f0f921"
             ]
            ],
            "type": "histogram2dcontour"
           }
          ],
          "mesh3d": [
           {
            "colorbar": {
             "outlinewidth": 0,
             "ticks": ""
            },
            "type": "mesh3d"
           }
          ],
          "parcoords": [
           {
            "line": {
             "colorbar": {
              "outlinewidth": 0,
              "ticks": ""
             }
            },
            "type": "parcoords"
           }
          ],
          "pie": [
           {
            "automargin": true,
            "type": "pie"
           }
          ],
          "scatter": [
           {
            "marker": {
             "colorbar": {
              "outlinewidth": 0,
              "ticks": ""
             }
            },
            "type": "scatter"
           }
          ],
          "scatter3d": [
           {
            "line": {
             "colorbar": {
              "outlinewidth": 0,
              "ticks": ""
             }
            },
            "marker": {
             "colorbar": {
              "outlinewidth": 0,
              "ticks": ""
             }
            },
            "type": "scatter3d"
           }
          ],
          "scattercarpet": [
           {
            "marker": {
             "colorbar": {
              "outlinewidth": 0,
              "ticks": ""
             }
            },
            "type": "scattercarpet"
           }
          ],
          "scattergeo": [
           {
            "marker": {
             "colorbar": {
              "outlinewidth": 0,
              "ticks": ""
             }
            },
            "type": "scattergeo"
           }
          ],
          "scattergl": [
           {
            "marker": {
             "colorbar": {
              "outlinewidth": 0,
              "ticks": ""
             }
            },
            "type": "scattergl"
           }
          ],
          "scattermapbox": [
           {
            "marker": {
             "colorbar": {
              "outlinewidth": 0,
              "ticks": ""
             }
            },
            "type": "scattermapbox"
           }
          ],
          "scatterpolar": [
           {
            "marker": {
             "colorbar": {
              "outlinewidth": 0,
              "ticks": ""
             }
            },
            "type": "scatterpolar"
           }
          ],
          "scatterpolargl": [
           {
            "marker": {
             "colorbar": {
              "outlinewidth": 0,
              "ticks": ""
             }
            },
            "type": "scatterpolargl"
           }
          ],
          "scatterternary": [
           {
            "marker": {
             "colorbar": {
              "outlinewidth": 0,
              "ticks": ""
             }
            },
            "type": "scatterternary"
           }
          ],
          "surface": [
           {
            "colorbar": {
             "outlinewidth": 0,
             "ticks": ""
            },
            "colorscale": [
             [
              0,
              "#0d0887"
             ],
             [
              0.1111111111111111,
              "#46039f"
             ],
             [
              0.2222222222222222,
              "#7201a8"
             ],
             [
              0.3333333333333333,
              "#9c179e"
             ],
             [
              0.4444444444444444,
              "#bd3786"
             ],
             [
              0.5555555555555556,
              "#d8576b"
             ],
             [
              0.6666666666666666,
              "#ed7953"
             ],
             [
              0.7777777777777778,
              "#fb9f3a"
             ],
             [
              0.8888888888888888,
              "#fdca26"
             ],
             [
              1,
              "#f0f921"
             ]
            ],
            "type": "surface"
           }
          ],
          "table": [
           {
            "cells": {
             "fill": {
              "color": "#EBF0F8"
             },
             "line": {
              "color": "white"
             }
            },
            "header": {
             "fill": {
              "color": "#C8D4E3"
             },
             "line": {
              "color": "white"
             }
            },
            "type": "table"
           }
          ]
         },
         "layout": {
          "annotationdefaults": {
           "arrowcolor": "#2a3f5f",
           "arrowhead": 0,
           "arrowwidth": 1
          },
          "coloraxis": {
           "colorbar": {
            "outlinewidth": 0,
            "ticks": ""
           }
          },
          "colorscale": {
           "diverging": [
            [
             0,
             "#8e0152"
            ],
            [
             0.1,
             "#c51b7d"
            ],
            [
             0.2,
             "#de77ae"
            ],
            [
             0.3,
             "#f1b6da"
            ],
            [
             0.4,
             "#fde0ef"
            ],
            [
             0.5,
             "#f7f7f7"
            ],
            [
             0.6,
             "#e6f5d0"
            ],
            [
             0.7,
             "#b8e186"
            ],
            [
             0.8,
             "#7fbc41"
            ],
            [
             0.9,
             "#4d9221"
            ],
            [
             1,
             "#276419"
            ]
           ],
           "sequential": [
            [
             0,
             "#0d0887"
            ],
            [
             0.1111111111111111,
             "#46039f"
            ],
            [
             0.2222222222222222,
             "#7201a8"
            ],
            [
             0.3333333333333333,
             "#9c179e"
            ],
            [
             0.4444444444444444,
             "#bd3786"
            ],
            [
             0.5555555555555556,
             "#d8576b"
            ],
            [
             0.6666666666666666,
             "#ed7953"
            ],
            [
             0.7777777777777778,
             "#fb9f3a"
            ],
            [
             0.8888888888888888,
             "#fdca26"
            ],
            [
             1,
             "#f0f921"
            ]
           ],
           "sequentialminus": [
            [
             0,
             "#0d0887"
            ],
            [
             0.1111111111111111,
             "#46039f"
            ],
            [
             0.2222222222222222,
             "#7201a8"
            ],
            [
             0.3333333333333333,
             "#9c179e"
            ],
            [
             0.4444444444444444,
             "#bd3786"
            ],
            [
             0.5555555555555556,
             "#d8576b"
            ],
            [
             0.6666666666666666,
             "#ed7953"
            ],
            [
             0.7777777777777778,
             "#fb9f3a"
            ],
            [
             0.8888888888888888,
             "#fdca26"
            ],
            [
             1,
             "#f0f921"
            ]
           ]
          },
          "colorway": [
           "#636efa",
           "#EF553B",
           "#00cc96",
           "#ab63fa",
           "#FFA15A",
           "#19d3f3",
           "#FF6692",
           "#B6E880",
           "#FF97FF",
           "#FECB52"
          ],
          "font": {
           "color": "#2a3f5f"
          },
          "geo": {
           "bgcolor": "white",
           "lakecolor": "white",
           "landcolor": "#E5ECF6",
           "showlakes": true,
           "showland": true,
           "subunitcolor": "white"
          },
          "hoverlabel": {
           "align": "left"
          },
          "hovermode": "closest",
          "mapbox": {
           "style": "light"
          },
          "paper_bgcolor": "white",
          "plot_bgcolor": "#E5ECF6",
          "polar": {
           "angularaxis": {
            "gridcolor": "white",
            "linecolor": "white",
            "ticks": ""
           },
           "bgcolor": "#E5ECF6",
           "radialaxis": {
            "gridcolor": "white",
            "linecolor": "white",
            "ticks": ""
           }
          },
          "scene": {
           "xaxis": {
            "backgroundcolor": "#E5ECF6",
            "gridcolor": "white",
            "gridwidth": 2,
            "linecolor": "white",
            "showbackground": true,
            "ticks": "",
            "zerolinecolor": "white"
           },
           "yaxis": {
            "backgroundcolor": "#E5ECF6",
            "gridcolor": "white",
            "gridwidth": 2,
            "linecolor": "white",
            "showbackground": true,
            "ticks": "",
            "zerolinecolor": "white"
           },
           "zaxis": {
            "backgroundcolor": "#E5ECF6",
            "gridcolor": "white",
            "gridwidth": 2,
            "linecolor": "white",
            "showbackground": true,
            "ticks": "",
            "zerolinecolor": "white"
           }
          },
          "shapedefaults": {
           "line": {
            "color": "#2a3f5f"
           }
          },
          "ternary": {
           "aaxis": {
            "gridcolor": "white",
            "linecolor": "white",
            "ticks": ""
           },
           "baxis": {
            "gridcolor": "white",
            "linecolor": "white",
            "ticks": ""
           },
           "bgcolor": "#E5ECF6",
           "caxis": {
            "gridcolor": "white",
            "linecolor": "white",
            "ticks": ""
           }
          },
          "title": {
           "x": 0.05
          },
          "xaxis": {
           "automargin": true,
           "gridcolor": "white",
           "linecolor": "white",
           "ticks": "",
           "title": {
            "standoff": 15
           },
           "zerolinecolor": "white",
           "zerolinewidth": 2
          },
          "yaxis": {
           "automargin": true,
           "gridcolor": "white",
           "linecolor": "white",
           "ticks": "",
           "title": {
            "standoff": 15
           },
           "zerolinecolor": "white",
           "zerolinewidth": 2
          }
         }
        },
        "title": {
         "text": "original genome contributions to top 20 neighborhood covers for gut-clust-queries2 (p8808mo11)"
        },
        "width": 800
       }
      },
      "text/html": [
       "<div>\n",
       "        \n",
       "        \n",
       "            <div id=\"eb23b4ac-4301-4d72-8484-a132dcb63efe\" class=\"plotly-graph-div\" style=\"height:1000px; width:800px;\"></div>\n",
       "            <script type=\"text/javascript\">\n",
       "                require([\"plotly\"], function(Plotly) {\n",
       "                    window.PLOTLYENV=window.PLOTLYENV || {};\n",
       "                    \n",
       "                if (document.getElementById(\"eb23b4ac-4301-4d72-8484-a132dcb63efe\")) {\n",
       "                    Plotly.newPlot(\n",
       "                        'eb23b4ac-4301-4d72-8484-a132dcb63efe',\n",
       "                        [{\"link\": {\"color\": [\"lightseagreen\", \"lightseagreen\", \"palevioletred\", \"lightseagreen\", \"palevioletred\", \"lightseagreen\", \"palevioletred\", \"palevioletred\", \"palevioletred\", \"palevioletred\", \"palevioletred\", \"lightseagreen\", \"lightseagreen\", \"palevioletred\", \"palevioletred\", \"palevioletred\", \"palevioletred\", \"lightseagreen\", \"palevioletred\", \"lightseagreen\", \"palevioletred\", \"palevioletred\", \"lightseagreen\", \"palevioletred\", \"palevioletred\", \"palevioletred\", \"palevioletred\", \"palevioletred\", \"palevioletred\", \"palevioletred\", \"palevioletred\", \"palevioletred\", \"palevioletred\", \"palevioletred\", \"palevioletred\", \"palevioletred\", \"palevioletred\", \"palevioletred\", \"palevioletred\", \"palevioletred\", \"palevioletred\", \"palevioletred\", \"lightseagreen\", \"palevioletred\", \"palevioletred\", \"palevioletred\", \"palevioletred\", \"palevioletred\", \"palevioletred\", \"palevioletred\", \"palevioletred\", \"palevioletred\", \"lightseagreen\", \"palevioletred\", \"lightseagreen\", \"palevioletred\", \"palevioletred\", \"lightseagreen\", \"palevioletred\", \"palevioletred\", \"palevioletred\", \"palevioletred\", \"lightseagreen\", \"palevioletred\", \"palevioletred\", \"palevioletred\", \"palevioletred\", \"palevioletred\", \"lightseagreen\", \"palevioletred\", \"palevioletred\", \"palevioletred\", \"lightseagreen\", \"palevioletred\", \"palevioletred\", \"palevioletred\", \"palevioletred\", \"palevioletred\", \"lightseagreen\", \"palevioletred\", \"palevioletred\", \"palevioletred\", \"palevioletred\", \"palevioletred\", \"palevioletred\", \"palevioletred\", \"palevioletred\", \"palevioletred\", \"palevioletred\", \"palevioletred\", \"palevioletred\", \"palevioletred\", \"palevioletred\", \"palevioletred\", \"palevioletred\", \"palevioletred\", \"palevioletred\", \"palevioletred\", \"palevioletred\", \"palevioletred\", \"palevioletred\", \"palevioletred\", \"lightseagreen\", \"lightseagreen\", \"lightseagreen\"], \"label\": [\"\", \"\", \"\", \"\", \"\", \"\", \"\", \"\", \"\", \"\", \"\", \"\", \"\", \"\", \"\", \"\", \"\", \"\", \"\", \"\", \"\", \"\", \"\", \"\", \"\", \"\", \"\", \"\", \"\", \"\", \"\", \"\", \"\", \"\", \"\", \"\", \"\", \"\", \"\", \"\", \"\", \"\", \"\", \"\", \"\", \"\", \"\", \"\", \"\", \"\", \"\", \"\", \"\", \"\", \"\", \"\", \"\", \"\", \"\", \"\", \"\", \"\", \"\", \"\", \"\", \"\", \"\", \"\", \"\", \"\", \"\", \"\", \"\", \"\", \"\", \"\", \"\", \"\", \"\", \"\", \"\", \"\", \"\", \"\", \"\", \"\", \"\", \"\", \"\", \"\", \"\", \"\", \"\", \"\", \"\", \"\", \"\", \"\", \"\", \"\", \"\", \"\", \"\", \"\", \"\"], \"source\": [0, 2, 4, 7, 8, 9, 3, 4, 14, 15, 20, 22, 26, 24, 27, 31, 33, 36, 27, 31, 11, 15, 29, 1, 3, 4, 5, 6, 11, 12, 13, 15, 17, 18, 20, 24, 30, 39, 48, 58, 72, 75, 77, 5, 6, 12, 13, 14, 18, 20, 39, 42, 70, 10, 32, 13, 19, 34, 10, 16, 21, 30, 35, 10, 16, 18, 21, 40, 56, 10, 21, 25, 41, 16, 23, 28, 38, 40, 51, 1, 3, 4, 5, 6, 11, 12, 13, 15, 17, 18, 20, 42, 43, 45, 46, 50, 54, 60, 66, 71, 72, 75, 84, 44, 47], \"target\": [99, 100, 101, 101, 102, 102, 103, 103, 103, 103, 103, 103, 104, 105, 105, 105, 105, 105, 106, 106, 107, 107, 107, 108, 108, 108, 108, 108, 108, 108, 108, 108, 108, 108, 108, 108, 108, 108, 108, 108, 108, 108, 108, 109, 109, 109, 109, 109, 109, 109, 109, 109, 109, 110, 110, 111, 111, 111, 112, 112, 112, 112, 112, 113, 113, 113, 113, 113, 113, 114, 114, 114, 114, 115, 115, 115, 115, 115, 115, 116, 116, 116, 116, 116, 116, 116, 116, 116, 116, 116, 116, 116, 116, 116, 116, 116, 116, 116, 116, 116, 116, 116, 116, 117, 118], \"value\": [5634, 5017, 1, 3197, 4, 2861, 6, 1, 1, 3, 1, 1546, 903, 1, 219, 48, 2, 480, 97, 525, 1, 1, 604, 2, 5, 3, 4, 10, 2, 4, 1, 22, 8, 1, 5, 273, 2, 77, 1, 3, 2, 2, 143, 1, 1, 5, 1, 382, 1, 1, 2, 1, 163, 1, 543, 1, 6, 516, 1, 7, 2, 3, 482, 1, 217, 1, 2, 20, 229, 4, 3, 4, 400, 1, 73, 34, 19, 1, 271, 1, 7, 22, 6, 2, 100, 1, 36, 9, 8, 3, 3, 2, 1, 15, 1, 5, 6, 2, 1, 1, 3, 2, 122, 349, 336]}, \"node\": {\"color\": \"blue\", \"label\": [\"CP048626.1 Blautia producta\", \"HF996869.1 Clostridium hathewayi\", \"DABGPL010000001.1 TPA_asm: Escherichia\", \"CZAB01000001.1 [Clostridium] clostridioforme\", \"WTVF01000090.1 Enterocloster aldenensis\", \"GL834357.1 Clostridium symbiosum\", \"AENW01000060.1 Clostridium sp.\", \"JULC01000001.1 Bifidobacterium scardovii\", \"HF995415.1 Coprobacillus sp.\", \"SMCQ01000001.1 Longibaculum muris\", \"MARQ01000035.1 Clostridium perfringens\", \"CVRR01000001.1 Roseburia faecis\", \"NIHW01000001.1 [Ruminococcus] gnavus\", \"JH590866.1 Lachnospiraceae bacterium\", \"CABIYM010000001.1 Anaerostipes caccae\", \"FMEP01000075.1 uncultured Ruminococcus\", \"FMFU01000020.1 uncultured Clostridium\", \"SPHM01000100.1 Pseudoflavonifractor sp.\", \"NFLB01000001.1 [Clostridium] spiroforme\", \"SQQK01000001.1 Bifidobacterium dentium\", \"CABJAX010000001.1 Lachnospiraceae bacterium\", \"UQGB01000001.1 uncultured Clostridium\", \"HF995324.1 Firmicutes bacterium\", \"CP019721.1 Veillonella parvula\", \"USJS01000001.1 uncultured Blautia\", \"QGMT01000001.1 Clostridium paraputrificum\", \"WMQE01000038.1 Turicibacter sanguinis\", \"LR793273.1 Streptococcus salivarius\", \"AEDS01000070.1 Veillonella atypica\", \"UQNI01000001.1 uncultured Ruminococcaceae\", \"FACG01000001.1 Peptoclostridium difficile\", \"JAABLG010000001.1 Streptococcus vestibularis\", \"URPP01000001.1 uncultured Clostridiales\", \"KV794391.1 Streptococcus sp.\", \"CABHOC010000001.1 Bifidobacterium longum\", \"CZYD01000001.1 Terrisporobacter othiniensis\", \"AEKO01000011.1 Streptococcus vestibularis\", \"NFLO01000001.1 Drancourtella sp.\", \"AEXI01000023.1 Veillonella parvula\", \"CAAFOE010000001.1 TPA_asm: uncultured\", \"SPHR01000011.1 Intestinibacter bartlettii\", \"OBJV01000049.1 Clostridium tertium\", \"CP015406.2 Flavonifractor plautii\", \"RQNR01000100.1 Clostridium perfringens\", \"CAAEVI010000001.1 TPA_asm: Erysipelotrichaceae\", \"CYXV01000001.1 Roseburia faecis\", \"UAVW01000021.1 [Clostridium] clostridioforme\", \"CYYS01000001.1 Turicibacter sanguinis\", \"QVIB01000001.1 Dorea longicatena\", \"CYZX01000001.1 Clostridium disporicum\", \"KE384163.1 Clostridium clostridioforme\", \"CM003575.1 Veillonella sp.\", \"LT629846.1 Romboutsia sp.\", \"AZYA01000001.1 Bifidobacterium sp.\", \"JAAISL010000100.1 [Clostridium] symbiosum\", \"UAWH01000019.1 Clostridium paraputrificum\", \"CAAEUS010000001.1 TPA_asm: uncultured\", \"NFJI01000001.1 [Clostridium] spiroforme\", \"JAAIUC010000010.1 Tyzzerella nexilis\", \"KB851023.1 Clostridium clostridioforme\", \"JH599901.1 Coprobacillus sp.\", \"CAAFUY010000001.1 TPA_asm: uncultured\", \"JVCZ01000002.1 Streptococcus parasanguinis\", \"NIHV01000001.1 [Ruminococcus] gnavus\", \"HF999299.1 Clostridium bartlettii\", \"LR778174.1 Veillonella parvula\", \"CAAKOI010000001.1 Flavonifractor plautii\", \"UQGF01000001.1 uncultured Actinomyces\", \"QXZZ01000034.1 Veillonella atypica\", \"NFHY01000001.1 Drancourtella sp.\", \"BAHW02000078.1 Clostridiales bacterium\", \"CABKQS010000001.1 [Clostridium] innocuum\", \"CABJBJ010000001.1 Hungatella hathewayi\", \"LZMY01000001.1 Haemophilus parainfluenzae\", \"CP047191.1 Streptococcus thermophilus\", \"WNAL01000100.1 Roseburia faecis\", \"JAALMI010000001.1 Clostridium perfringens\", \"QVGF01000001.1 Lachnospiraceae bacterium\", \"AVLJ01000001.1 UNVERIFIED_ORG: Clostridioides\", \"PNHV01000001.1 Actinomyces graevenitzii\", \"NCVD01000051.1 Streptococcus mitis\", \"FR883346.1 Clostridium sp.\", \"CAAEOZ010000001.1 TPA_asm: uncultured\", \"QSGP01000001.1 Enterocloster aldenensis\", \"PDMO01000909.1 Cyclospora cayetanensis\", \"UQQU01000001.1 uncultured Clostridium\", \"CP013216.1 Streptococcus salivarius\", \"JAGQ01000001.1 [Ruminococcus] gnavus\", \"KQ235823.1 Clostridium sp.\", \"JWDF01000004.1 Streptomyces cattleya\", \"CABIZI010000001.1 Clostridiales bacterium\", \"QUIC01000001.1 Ruminococcus sp.\", \"JNHJ01000001.1 Phocaeicola vulgatus\", \"DS499744.1 Anaerostipes caccae\", \"WKYR01000010.1 Megasphaera sp.\", \"CAAEKB010000001.1 TPA_asm: uncultured\", \"LBCG01000001.1 MAG: Roseburia\", \"JRND01000001.1 Lancefieldella parvulum\", \"unassigned\", \"CP048626.1 Blautia producta\", \"DABGPL010000001.1 TPA_asm: Escherichia\", \"JULC01000001.1 Bifidobacterium scardovii\", \"SMCQ01000001.1 Longibaculum muris\", \"HF995324.1 Firmicutes bacterium\", \"WMQE01000038.1 Turicibacter sanguinis\", \"AEKO01000011.1 Streptococcus vestibularis\", \"JAABLG010000001.1 Streptococcus vestibularis\", \"UQNI01000001.1 uncultured Ruminococcaceae\", \"QVGF01000001.1 Lachnospiraceae bacterium\", \"BAHW02000078.1 Clostridiales bacterium\", \"URPP01000001.1 uncultured Clostridiales\", \"CABHOC010000001.1 Bifidobacterium longum\", \"CZYD01000001.1 Terrisporobacter othiniensis\", \"CAAEUS010000001.1 TPA_asm: uncultured\", \"OBJV01000049.1 Clostridium tertium\", \"CM003575.1 Veillonella sp.\", \"PDMO01000909.1 Cyclospora cayetanensis\", \"CAAEVI010000001.1 TPA_asm: Erysipelotrichaceae\", \"CYYS01000001.1 Turicibacter sanguinis\", \"CYZX01000001.1 Clostridium disporicum\", \"CAAFUY010000001.1 TPA_asm: uncultured\", \"UQGF01000001.1 uncultured Actinomyces\", \"CP047191.1 Streptococcus thermophilus\", \"QUIC01000001.1 Ruminococcus sp.\", \"LZMY01000001.1 Haemophilus parainfluenzae\", \"NCVD01000051.1 Streptococcus mitis\", \"PNHV01000001.1 Actinomyces graevenitzii\", \"UQQU01000001.1 uncultured Clostridium\", \"FR883346.1 Clostridium sp.\", \"WKYR01000010.1 Megasphaera sp.\", \"JWDF01000004.1 Streptomyces cattleya\", \"JNHJ01000001.1 Phocaeicola vulgatus\", \"JRND01000001.1 Lancefieldella parvulum\"], \"line\": {\"color\": \"black\", \"width\": 0.5}, \"pad\": 15, \"thickness\": 20}, \"type\": \"sankey\"}],\n",
       "                        {\"font\": {\"size\": 10}, \"height\": 1000, \"template\": {\"data\": {\"bar\": [{\"error_x\": {\"color\": \"#2a3f5f\"}, \"error_y\": {\"color\": \"#2a3f5f\"}, \"marker\": {\"line\": {\"color\": \"#E5ECF6\", \"width\": 0.5}}, \"type\": \"bar\"}], \"barpolar\": [{\"marker\": {\"line\": {\"color\": \"#E5ECF6\", \"width\": 0.5}}, \"type\": \"barpolar\"}], \"carpet\": [{\"aaxis\": {\"endlinecolor\": \"#2a3f5f\", \"gridcolor\": \"white\", \"linecolor\": \"white\", \"minorgridcolor\": \"white\", \"startlinecolor\": \"#2a3f5f\"}, \"baxis\": {\"endlinecolor\": \"#2a3f5f\", \"gridcolor\": \"white\", \"linecolor\": \"white\", \"minorgridcolor\": \"white\", \"startlinecolor\": \"#2a3f5f\"}, \"type\": \"carpet\"}], \"choropleth\": [{\"colorbar\": {\"outlinewidth\": 0, \"ticks\": \"\"}, \"type\": \"choropleth\"}], \"contour\": [{\"colorbar\": {\"outlinewidth\": 0, \"ticks\": \"\"}, \"colorscale\": [[0.0, \"#0d0887\"], [0.1111111111111111, \"#46039f\"], [0.2222222222222222, \"#7201a8\"], [0.3333333333333333, \"#9c179e\"], [0.4444444444444444, \"#bd3786\"], [0.5555555555555556, \"#d8576b\"], [0.6666666666666666, \"#ed7953\"], [0.7777777777777778, \"#fb9f3a\"], [0.8888888888888888, \"#fdca26\"], [1.0, \"#f0f921\"]], \"type\": \"contour\"}], \"contourcarpet\": [{\"colorbar\": {\"outlinewidth\": 0, \"ticks\": \"\"}, \"type\": \"contourcarpet\"}], \"heatmap\": [{\"colorbar\": {\"outlinewidth\": 0, \"ticks\": \"\"}, \"colorscale\": [[0.0, \"#0d0887\"], [0.1111111111111111, \"#46039f\"], [0.2222222222222222, \"#7201a8\"], [0.3333333333333333, \"#9c179e\"], [0.4444444444444444, \"#bd3786\"], [0.5555555555555556, \"#d8576b\"], [0.6666666666666666, \"#ed7953\"], [0.7777777777777778, \"#fb9f3a\"], [0.8888888888888888, \"#fdca26\"], [1.0, \"#f0f921\"]], \"type\": \"heatmap\"}], \"heatmapgl\": [{\"colorbar\": {\"outlinewidth\": 0, \"ticks\": \"\"}, \"colorscale\": [[0.0, \"#0d0887\"], [0.1111111111111111, \"#46039f\"], [0.2222222222222222, \"#7201a8\"], [0.3333333333333333, \"#9c179e\"], [0.4444444444444444, \"#bd3786\"], [0.5555555555555556, \"#d8576b\"], [0.6666666666666666, \"#ed7953\"], [0.7777777777777778, \"#fb9f3a\"], [0.8888888888888888, \"#fdca26\"], [1.0, \"#f0f921\"]], \"type\": \"heatmapgl\"}], \"histogram\": [{\"marker\": {\"colorbar\": {\"outlinewidth\": 0, \"ticks\": \"\"}}, \"type\": \"histogram\"}], \"histogram2d\": [{\"colorbar\": {\"outlinewidth\": 0, \"ticks\": \"\"}, \"colorscale\": [[0.0, \"#0d0887\"], [0.1111111111111111, \"#46039f\"], [0.2222222222222222, \"#7201a8\"], [0.3333333333333333, \"#9c179e\"], [0.4444444444444444, \"#bd3786\"], [0.5555555555555556, \"#d8576b\"], [0.6666666666666666, \"#ed7953\"], [0.7777777777777778, \"#fb9f3a\"], [0.8888888888888888, \"#fdca26\"], [1.0, \"#f0f921\"]], \"type\": \"histogram2d\"}], \"histogram2dcontour\": [{\"colorbar\": {\"outlinewidth\": 0, \"ticks\": \"\"}, \"colorscale\": [[0.0, \"#0d0887\"], [0.1111111111111111, \"#46039f\"], [0.2222222222222222, \"#7201a8\"], [0.3333333333333333, \"#9c179e\"], [0.4444444444444444, \"#bd3786\"], [0.5555555555555556, \"#d8576b\"], [0.6666666666666666, \"#ed7953\"], [0.7777777777777778, \"#fb9f3a\"], [0.8888888888888888, \"#fdca26\"], [1.0, \"#f0f921\"]], \"type\": \"histogram2dcontour\"}], \"mesh3d\": [{\"colorbar\": {\"outlinewidth\": 0, \"ticks\": \"\"}, \"type\": \"mesh3d\"}], \"parcoords\": [{\"line\": {\"colorbar\": {\"outlinewidth\": 0, \"ticks\": \"\"}}, \"type\": \"parcoords\"}], \"pie\": [{\"automargin\": true, \"type\": \"pie\"}], \"scatter\": [{\"marker\": {\"colorbar\": {\"outlinewidth\": 0, \"ticks\": \"\"}}, \"type\": \"scatter\"}], \"scatter3d\": [{\"line\": {\"colorbar\": {\"outlinewidth\": 0, \"ticks\": \"\"}}, \"marker\": {\"colorbar\": {\"outlinewidth\": 0, \"ticks\": \"\"}}, \"type\": \"scatter3d\"}], \"scattercarpet\": [{\"marker\": {\"colorbar\": {\"outlinewidth\": 0, \"ticks\": \"\"}}, \"type\": \"scattercarpet\"}], \"scattergeo\": [{\"marker\": {\"colorbar\": {\"outlinewidth\": 0, \"ticks\": \"\"}}, \"type\": \"scattergeo\"}], \"scattergl\": [{\"marker\": {\"colorbar\": {\"outlinewidth\": 0, \"ticks\": \"\"}}, \"type\": \"scattergl\"}], \"scattermapbox\": [{\"marker\": {\"colorbar\": {\"outlinewidth\": 0, \"ticks\": \"\"}}, \"type\": \"scattermapbox\"}], \"scatterpolar\": [{\"marker\": {\"colorbar\": {\"outlinewidth\": 0, \"ticks\": \"\"}}, \"type\": \"scatterpolar\"}], \"scatterpolargl\": [{\"marker\": {\"colorbar\": {\"outlinewidth\": 0, \"ticks\": \"\"}}, \"type\": \"scatterpolargl\"}], \"scatterternary\": [{\"marker\": {\"colorbar\": {\"outlinewidth\": 0, \"ticks\": \"\"}}, \"type\": \"scatterternary\"}], \"surface\": [{\"colorbar\": {\"outlinewidth\": 0, \"ticks\": \"\"}, \"colorscale\": [[0.0, \"#0d0887\"], [0.1111111111111111, \"#46039f\"], [0.2222222222222222, \"#7201a8\"], [0.3333333333333333, \"#9c179e\"], [0.4444444444444444, \"#bd3786\"], [0.5555555555555556, \"#d8576b\"], [0.6666666666666666, \"#ed7953\"], [0.7777777777777778, \"#fb9f3a\"], [0.8888888888888888, \"#fdca26\"], [1.0, \"#f0f921\"]], \"type\": \"surface\"}], \"table\": [{\"cells\": {\"fill\": {\"color\": \"#EBF0F8\"}, \"line\": {\"color\": \"white\"}}, \"header\": {\"fill\": {\"color\": \"#C8D4E3\"}, \"line\": {\"color\": \"white\"}}, \"type\": \"table\"}]}, \"layout\": {\"annotationdefaults\": {\"arrowcolor\": \"#2a3f5f\", \"arrowhead\": 0, \"arrowwidth\": 1}, \"coloraxis\": {\"colorbar\": {\"outlinewidth\": 0, \"ticks\": \"\"}}, \"colorscale\": {\"diverging\": [[0, \"#8e0152\"], [0.1, \"#c51b7d\"], [0.2, \"#de77ae\"], [0.3, \"#f1b6da\"], [0.4, \"#fde0ef\"], [0.5, \"#f7f7f7\"], [0.6, \"#e6f5d0\"], [0.7, \"#b8e186\"], [0.8, \"#7fbc41\"], [0.9, \"#4d9221\"], [1, \"#276419\"]], \"sequential\": [[0.0, \"#0d0887\"], [0.1111111111111111, \"#46039f\"], [0.2222222222222222, \"#7201a8\"], [0.3333333333333333, \"#9c179e\"], [0.4444444444444444, \"#bd3786\"], [0.5555555555555556, \"#d8576b\"], [0.6666666666666666, \"#ed7953\"], [0.7777777777777778, \"#fb9f3a\"], [0.8888888888888888, \"#fdca26\"], [1.0, \"#f0f921\"]], \"sequentialminus\": [[0.0, \"#0d0887\"], [0.1111111111111111, \"#46039f\"], [0.2222222222222222, \"#7201a8\"], [0.3333333333333333, \"#9c179e\"], [0.4444444444444444, \"#bd3786\"], [0.5555555555555556, \"#d8576b\"], [0.6666666666666666, \"#ed7953\"], [0.7777777777777778, \"#fb9f3a\"], [0.8888888888888888, \"#fdca26\"], [1.0, \"#f0f921\"]]}, \"colorway\": [\"#636efa\", \"#EF553B\", \"#00cc96\", \"#ab63fa\", \"#FFA15A\", \"#19d3f3\", \"#FF6692\", \"#B6E880\", \"#FF97FF\", \"#FECB52\"], \"font\": {\"color\": \"#2a3f5f\"}, \"geo\": {\"bgcolor\": \"white\", \"lakecolor\": \"white\", \"landcolor\": \"#E5ECF6\", \"showlakes\": true, \"showland\": true, \"subunitcolor\": \"white\"}, \"hoverlabel\": {\"align\": \"left\"}, \"hovermode\": \"closest\", \"mapbox\": {\"style\": \"light\"}, \"paper_bgcolor\": \"white\", \"plot_bgcolor\": \"#E5ECF6\", \"polar\": {\"angularaxis\": {\"gridcolor\": \"white\", \"linecolor\": \"white\", \"ticks\": \"\"}, \"bgcolor\": \"#E5ECF6\", \"radialaxis\": {\"gridcolor\": \"white\", \"linecolor\": \"white\", \"ticks\": \"\"}}, \"scene\": {\"xaxis\": {\"backgroundcolor\": \"#E5ECF6\", \"gridcolor\": \"white\", \"gridwidth\": 2, \"linecolor\": \"white\", \"showbackground\": true, \"ticks\": \"\", \"zerolinecolor\": \"white\"}, \"yaxis\": {\"backgroundcolor\": \"#E5ECF6\", \"gridcolor\": \"white\", \"gridwidth\": 2, \"linecolor\": \"white\", \"showbackground\": true, \"ticks\": \"\", \"zerolinecolor\": \"white\"}, \"zaxis\": {\"backgroundcolor\": \"#E5ECF6\", \"gridcolor\": \"white\", \"gridwidth\": 2, \"linecolor\": \"white\", \"showbackground\": true, \"ticks\": \"\", \"zerolinecolor\": \"white\"}}, \"shapedefaults\": {\"line\": {\"color\": \"#2a3f5f\"}}, \"ternary\": {\"aaxis\": {\"gridcolor\": \"white\", \"linecolor\": \"white\", \"ticks\": \"\"}, \"baxis\": {\"gridcolor\": \"white\", \"linecolor\": \"white\", \"ticks\": \"\"}, \"bgcolor\": \"#E5ECF6\", \"caxis\": {\"gridcolor\": \"white\", \"linecolor\": \"white\", \"ticks\": \"\"}}, \"title\": {\"x\": 0.05}, \"xaxis\": {\"automargin\": true, \"gridcolor\": \"white\", \"linecolor\": \"white\", \"ticks\": \"\", \"title\": {\"standoff\": 15}, \"zerolinecolor\": \"white\", \"zerolinewidth\": 2}, \"yaxis\": {\"automargin\": true, \"gridcolor\": \"white\", \"linecolor\": \"white\", \"ticks\": \"\", \"title\": {\"standoff\": 15}, \"zerolinecolor\": \"white\", \"zerolinewidth\": 2}}}, \"title\": {\"text\": \"original genome contributions to top 20 neighborhood covers for gut-clust-queries2 (p8808mo11)\"}, \"width\": 800},\n",
       "                        {\"responsive\": true}\n",
       "                    ).then(function(){\n",
       "                            \n",
       "var gd = document.getElementById('eb23b4ac-4301-4d72-8484-a132dcb63efe');\n",
       "var x = new MutationObserver(function (mutations, observer) {{\n",
       "        var display = window.getComputedStyle(gd).display;\n",
       "        if (!display || display === 'none') {{\n",
       "            console.log([gd, 'removed!']);\n",
       "            Plotly.purge(gd);\n",
       "            observer.disconnect();\n",
       "        }}\n",
       "}});\n",
       "\n",
       "// Listen for the removal of the full notebook cells\n",
       "var notebookContainer = gd.closest('#notebook-container');\n",
       "if (notebookContainer) {{\n",
       "    x.observe(notebookContainer, {childList: true});\n",
       "}}\n",
       "\n",
       "// Listen for the clearing of the current output cell\n",
       "var outputEl = gd.closest('.output');\n",
       "if (outputEl) {{\n",
       "    x.observe(outputEl, {childList: true});\n",
       "}}\n",
       "\n",
       "                        })\n",
       "                };\n",
       "                });\n",
       "            </script>\n",
       "        </div>"
      ]
     },
     "metadata": {},
     "output_type": "display_data"
    }
   ],
   "source": [
    "NUM=20\n",
    "fig = make_fig(NUM)\n",
    "\n",
    "fig.update_layout(title_text=f\"original genome contributions to top {NUM} neighborhood covers for {name} ({acc})\", font_size=10)\n",
    "fig.update_layout(width=800, height=1000)\n",
    "fig.show()"
   ]
  },
  {
   "cell_type": "code",
   "execution_count": null,
   "metadata": {},
   "outputs": [],
   "source": []
  }
 ],
 "metadata": {
  "kernelspec": {
   "display_name": "Python (myenv)",
   "language": "python",
   "name": "myenv"
  },
  "language_info": {
   "codemirror_mode": {
    "name": "ipython",
    "version": 3
   },
   "file_extension": ".py",
   "mimetype": "text/x-python",
   "name": "python",
   "nbconvert_exporter": "python",
   "pygments_lexer": "ipython3",
   "version": "3.7.6"
  }
 },
 "nbformat": 4,
 "nbformat_minor": 4
}
