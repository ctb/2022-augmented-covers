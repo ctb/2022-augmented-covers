{
 "cells": [
  {
   "cell_type": "markdown",
   "metadata": {},
   "source": [
    "## gut preclust\n",
    "\n",
    "cluster the queries (max-containment > 20%) before doing sgc.\n",
    "\n",
    "```\n",
    "~/2022-sourmash-uniqify/uniqify-genomes.py --max-containment --merge --prefix ~/genome-grist/sgc.paper/gut-matches.cluster *.fna.gz\n",
    "```"
   ]
  },
  {
   "cell_type": "code",
   "execution_count": 6,
   "metadata": {},
   "outputs": [],
   "source": [
    "name = 'gut-preclust'\n",
    "acc = 'p8808mo11'\n",
    "ksize=31"
   ]
  },
  {
   "cell_type": "code",
   "execution_count": 7,
   "metadata": {},
   "outputs": [],
   "source": [
    "metag_filename = f'{name}/{acc}.abundtrim.sig'\n",
    "queries_filename = f'{name}/{name}-queries.zip'\n",
    "nbhds_filename = f'{name}/{name}-nbhds.zip'"
   ]
  },
  {
   "cell_type": "code",
   "execution_count": 8,
   "metadata": {},
   "outputs": [],
   "source": [
    "import sourmash\n",
    "import csv\n",
    "import subprocess\n",
    "import os\n",
    "import collections"
   ]
  },
  {
   "cell_type": "code",
   "execution_count": 9,
   "metadata": {},
   "outputs": [],
   "source": [
    "def get_ident(name):\n",
    "    \"pick off identifier, stripping off nbhd: prefix if present.\"\n",
    "    name = name.split(' ')[0]\n",
    "    if name.startswith('nbhd:'):\n",
    "        name = name[5:]\n",
    "    return name\n",
    "\n",
    "def load_gather(filename):\n",
    "    gather_rows = []\n",
    "    with open(filename, newline=\"\") as fp:\n",
    "        r = csv.DictReader(fp)\n",
    "        gather_rows.extend(r)\n",
    "\n",
    "    full_idents = {}\n",
    "\n",
    "    gather_d = {}\n",
    "    gather_keys = []\n",
    "    for row in gather_rows:\n",
    "        ident = get_ident(row['name'])\n",
    "        full_idents[ident] = \" \".join(row['name'].split(' ')[:3])\n",
    "        gather_d[ident] = row\n",
    "        gather_keys.append(ident)\n",
    "        \n",
    "    return gather_keys, gather_d, full_idents\n",
    "\n",
    "def gather_and_load(name, metag_filename, query_sigs, nbhd_sigs, ksize=31):\n",
    "    assert os.path.exists(metag_filename)\n",
    "    assert os.path.exists(query_sigs)\n",
    "    assert os.path.exists(nbhd_sigs)\n",
    "    \n",
    "    query_out = f\"{name}/queries.gather.csv\"\n",
    "    nbhd_out = f\"{name}/nbhd.gather.csv\"\n",
    "    stdout1_out = f\"{name}/queries.gather.out\"\n",
    "    stdout2_out = f\"{name}/nbhd.gather.out\"\n",
    "    \n",
    "    cmd = f\"sourmash gather -k {ksize} {metag_filename} {query_sigs} -o {query_out} --ignore-abundance >& {stdout1_out}\"\n",
    "    print(cmd)\n",
    "    if not os.path.exists(query_out):\n",
    "        result = subprocess.run(cmd, shell=True)\n",
    "    else:\n",
    "        print(f\"** {query_out} already exists; not rerunning sourmash gather on queries\")\n",
    "        \n",
    "    stdout1 = open(stdout1_out, 'rt').read()\n",
    "\n",
    "\n",
    "    cmd = f\"sourmash gather -k {ksize} {metag_filename} {nbhd_sigs} -o {nbhd_out} --ignore-abundance >& {stdout2_out}\"\n",
    "    print(cmd)\n",
    "    if not os.path.exists(nbhd_out):\n",
    "        result = subprocess.run(cmd, shell=True)\n",
    "    else:\n",
    "        print(f\"** {nbhd_out} already exists; not rerunning sourmash gather on nbhds\")\n",
    "        \n",
    "    stdout2 = open(stdout2_out, 'rt').read()\n",
    "\n",
    "       \n",
    "    gather1_keys, gather1_d, full_idents = load_gather(query_out)\n",
    "    gather2_keys, gather2_d, _ = load_gather(nbhd_out)\n",
    "    \n",
    "    metag = sourmash.load_one_signature(metag_filename, ksize=ksize)\n",
    "    \n",
    "    queries = list(sourmash.load_file_as_signatures(query_sigs))\n",
    "    queries_d = {}\n",
    "    for ss in queries:\n",
    "        ident = get_ident(ss.name)\n",
    "        queries_d[ident] = ss\n",
    "        \n",
    "    nbhds = list(sourmash.load_file_as_signatures(nbhd_sigs))\n",
    "    nbhds_d = {}\n",
    "    for ss in nbhds:\n",
    "        ident = get_ident(ss.name)\n",
    "        nbhds_d[ident] = ss\n",
    "        \n",
    "    tup = collections.namedtuple('augmented', 'metag, queries_d, nbhds_d, gather1_keys, gather1_d, gather2_keys, gather2_d, full_idents, stdout1, stdout2')\n",
    "    t = tup(metag, queries_d, nbhds_d, gather1_keys, gather1_d, gather2_keys, gather2_d, full_idents, stdout1, stdout2)\n",
    "    \n",
    "    return t\n",
    "    \n"
   ]
  },
  {
   "cell_type": "markdown",
   "metadata": {},
   "source": [
    "## Running the things"
   ]
  },
  {
   "cell_type": "code",
   "execution_count": 10,
   "metadata": {},
   "outputs": [
    {
     "name": "stdout",
     "output_type": "stream",
     "text": [
      "sourmash gather -k 31 gut-preclust/p8808mo11.abundtrim.sig gut-preclust/gut-preclust-queries.zip -o gut-preclust/queries.gather.csv --ignore-abundance >& gut-preclust/queries.gather.out\n",
      "sourmash gather -k 31 gut-preclust/p8808mo11.abundtrim.sig gut-preclust/gut-preclust-nbhds.zip -o gut-preclust/nbhd.gather.csv --ignore-abundance >& gut-preclust/nbhd.gather.out\n"
     ]
    }
   ],
   "source": [
    "t = gather_and_load(name, metag_filename, queries_filename, nbhds_filename, ksize=ksize)\n",
    "metag, queries_d, nbhds_d, gather1_keys, gather1_d, gather2_keys, gather2_d, full_idents, stdout1, stdout2 = t"
   ]
  },
  {
   "cell_type": "markdown",
   "metadata": {},
   "source": [
    "## gather output"
   ]
  },
  {
   "cell_type": "code",
   "execution_count": 11,
   "metadata": {},
   "outputs": [
    {
     "name": "stdout",
     "output_type": "stream",
     "text": [
      "\n",
      "\n",
      "overlap     p_query p_match\n",
      "---------   ------- -------\n",
      "5.8 Mbp        2.1%   64.1%    HF996869.1 Clostridium hathewayi CAG:...\n",
      "5.6 Mbp        2.0%   90.8%    NZ_CP039126.1 Blautia producta strain...\n",
      "5.6 Mbp        1.9%   44.5%    NZ_UAVW01000021.1 Enterocloster clost...\n",
      "5.0 Mbp        1.8%   98.7%    NZ_JVOS01000029.1 Escherichia coli st...\n",
      "4.9 Mbp        1.6%   40.0%    NZ_JAAITT010000099.1 Enterocloster al...\n",
      "4.6 Mbp        1.5%   63.6%    NZ_JAAISL010000100.1 [Clostridium] sy...\n",
      "3.7 Mbp        1.3%   69.8%    NZ_AENW01000060.1 Clostridium sp. HGF...\n",
      "3.3 Mbp        1.1%   78.9%    HF995415.1 Coprobacillus sp. CAG:183 ...\n",
      "3.2 Mbp        1.1%   99.3%    NZ_JULC01000001.1 Bifidobacterium sca...\n",
      "3.2 Mbp        1.1%   59.3%    NZ_RQNR01000100.1 Clostridium perfrin...\n",
      "3.1 Mbp        1.1%   45.9%    NZ_SPHF01000091.1 Roseburia hominis s...\n",
      "3.1 Mbp        1.1%   56.6%    NZ_DS499569.1 Intestinibacter bartlet...\n",
      "3.1 Mbp        1.1%   38.0%    NZ_NFJM01000001.1 Flavonifractor plau...\n",
      "3.1 Mbp        1.0%   40.0%    NZ_NFHY01000001.1 Drancourtella sp. A...\n",
      "2.9 Mbp        1.0%   89.5%    NZ_SMCQ01000001.1 Longibaculum muris ...\n",
      "2.9 Mbp        1.0%   45.2%    NZ_NIHW01000001.1 [Ruminococcus] gnav...\n",
      "2.6 Mbp        0.9%   54.0%    NZ_CABIYM010000001.1 Anaerostipes cac...\n",
      "2.3 Mbp        0.8%   77.8%    NZ_WMZZ01000099.1 [Ruminococcus] torq...\n",
      "2.1 Mbp        0.7%   62.9%    NZ_SQQK01000001.1 Bifidobacterium den...\n",
      "2.2 Mbp        0.7%   64.3%    NZ_NFJI01000001.1 [Clostridium] spiro...\n",
      "2.0 Mbp        0.7%   41.6%    NZ_CP019721.1 Veillonella parvula str...\n",
      "2.1 Mbp        0.7%   53.1%    CABJAX010000001.1 Lachnospiraceae bac...\n",
      "1.8 Mbp        0.6%   50.3%    UQGB01000001.1 uncultured Clostridium...\n",
      "1.6 Mbp        0.5%   50.6%    HF995324.1 Firmicutes bacterium CAG:6...\n",
      "1.2 Mbp        0.4%   56.4%    USJS01000001.1 uncultured Blautia sp....\n",
      "1.1 Mbp        0.4%   19.4%    NZ_QGMT01000001.1 Clostridium paraput...\n",
      "1.0 Mbp        0.3%   30.2%    NZ_CABKSO010000001.1 Veillonella atyp...\n",
      "0.9 Mbp        0.3%   30.5%    NZ_CABJBH010000001.1 Turicibacter san...\n",
      "0.8 Mbp        0.3%   38.7%    NZ_LR793273.1 Streptococcus salivariu...\n",
      "0.8 Mbp        0.3%   21.3%    NZ_JVCZ01000002.1 Streptococcus paras...\n",
      "0.6 Mbp        0.2%   15.1%    JACRSY010000001.1 Lachnospiraceae bac...\n",
      "0.6 Mbp        0.2%   33.9%    NZ_CAAFAW010000001.1 Clostridia bacte...\n",
      "0.6 Mbp        0.2%   13.6%    NZ_MPGA01000001.1 Clostridioides diff...\n",
      "0.7 Mbp        0.2%   27.0%    NZ_KQ971228.1 Streptococcus salivariu...\n",
      "0.6 Mbp        0.2%   22.4%    NZ_CABHOC010000001.1 Bifidobacterium ...\n",
      "0.8 Mbp        0.2%   24.3%    NZ_AEKO01000011.1 Streptococcus vesti...\n",
      "492.0 kbp      0.2%   11.8%    NZ_JWHR01000001.1 Terrisporobacter ot...\n",
      "411.0 kbp      0.1%   10.0%    NZ_OBJV01000049.1 Clostridium tertium...\n",
      "350.0 kbp      0.1%   19.1%    NZ_CAAEVI010000001.1 Erysipelotrichac...\n",
      "354.0 kbp      0.1%   12.1%    NZ_CYYS01000001.1 Turicibacter sangui...\n",
      "316.0 kbp      0.1%    8.4%    NZ_CYZX01000001.1 Clostridium dispori...\n",
      "0.5 Mbp        0.1%    9.2%    URHS01000001.1 uncultured Blautia sp....\n",
      "428.0 kbp      0.1%   10.3%    NZ_WMKP01000010.1 Veillonella dispar ...\n",
      "475.0 kbp      0.1%    6.4%    CAAEUS010000001.1 TPA_asm: uncultured...\n",
      "222.0 kbp      0.1%    5.0%    CAAFUY010000001.1 TPA_asm: uncultured...\n",
      "0.6 Mbp        0.1%    4.7%    NZ_JACOOS010000001.1 Anaerostipes sp....\n",
      "0.5 Mbp        0.1%    5.8%    NZ_GL890548.1 Lachnospiraceae bacteri...\n",
      "362.0 kbp      0.1%    7.8%    NZ_CP047191.1 Streptococcus thermophi...\n",
      "141.0 kbp      0.0%    4.5%    UQTS01000001.1 uncultured Clostridium...\n",
      "\n",
      "found 49 matches total;\n",
      "the recovered matches hit 31.9% of the query\n",
      "\n",
      "\n",
      "\u001b[K\n",
      "== This is sourmash version 4.2.4.dev0+g73aeb155.d20220116. ==\n",
      "\n",
      "\u001b[K== Please cite Brown and Irber (2016), doi:10.21105/joss.00027. ==\n",
      "\n",
      "\n",
      "\u001b[Kselecting specified query k=31\n",
      "\n",
      "\u001b[Kloaded query: p8808mo11... (k=31, DNA)\n",
      "\n",
      "\u001b[Kloading from gut-preclust/gut-preclust-queries.zip...\n",
      "\n",
      "\u001b[K                                                                               \n",
      "\n",
      "\u001b[Kloaded 1 databases.\n",
      "\n",
      "\u001b[KStarting prefetch sweep across databases.\n",
      "\n",
      "\u001b[KFound 49 signatures via prefetch; now doing gather.\n",
      "\n",
      "\u001b[Kfound less than 50.0 kbp in common. => exiting\n",
      "\n"
     ]
    }
   ],
   "source": [
    "print(stdout1)"
   ]
  },
  {
   "cell_type": "code",
   "execution_count": 12,
   "metadata": {},
   "outputs": [
    {
     "name": "stdout",
     "output_type": "stream",
     "text": [
      "\n",
      "\n",
      "overlap     p_query p_match\n",
      "---------   ------- -------\n",
      "11.6 Mbp       4.1%  100.0%    nbhd:NZ_SPHF01000091.1 Roseburia homi...\n",
      "10.2 Mbp       3.5%   98.1%    nbhd:NZ_NIHW01000001.1 [Ruminococcus]...\n",
      "9.3 Mbp        3.2%   97.2%    nbhd:NZ_UAVW01000021.1 Enterocloster ...\n",
      "7.7 Mbp        2.7%   99.9%    nbhd:NZ_JVOS01000029.1 Escherichia co...\n",
      "7.7 Mbp        2.7%   98.6%    nbhd:NZ_AENW01000060.1 Clostridium sp...\n",
      "7.6 Mbp        2.6%   96.4%    nbhd:NZ_CP039126.1 Blautia producta s...\n",
      "7.6 Mbp        2.5%   93.0%    nbhd:HF996869.1 Clostridium hathewayi...\n",
      "6.5 Mbp        2.0%   87.4%    nbhd:NZ_JAAISL010000100.1 [Clostridiu...\n",
      "6.3 Mbp        1.8%   78.8%    nbhd:NZ_JAAITT010000099.1 Enteroclost...\n",
      "5.0 Mbp        1.7%   97.4%    nbhd:HF995415.1 Coprobacillus sp. CAG...\n",
      "4.2 Mbp        1.5%   98.4%    nbhd:NZ_DS499569.1 Intestinibacter ba...\n",
      "4.1 Mbp        1.4%   99.7%    nbhd:NZ_JULC01000001.1 Bifidobacteriu...\n",
      "4.4 Mbp        1.4%   90.5%    nbhd:CABJAX010000001.1 Lachnospiracea...\n",
      "4.4 Mbp        1.4%   91.1%    nbhd:NZ_NFJM01000001.1 Flavonifractor...\n",
      "3.8 Mbp        1.3%   98.6%    nbhd:NZ_RQNR01000100.1 Clostridium pe...\n",
      "4.2 Mbp        1.3%   86.3%    nbhd:NZ_NFHY01000001.1 Drancourtella ...\n",
      "3.4 Mbp        1.2%   99.1%    nbhd:NZ_CP019721.1 Veillonella parvul...\n",
      "3.4 Mbp        1.2%   97.1%    nbhd:NZ_SMCQ01000001.1 Longibaculum m...\n",
      "3.3 Mbp        1.0%   89.3%    nbhd:NZ_CABIYM010000001.1 Anaerostipe...\n",
      "3.0 Mbp        1.0%   95.5%    nbhd:NZ_SQQK01000001.1 Bifidobacteriu...\n",
      "3.0 Mbp        0.9%   82.8%    nbhd:NZ_WMZZ01000099.1 [Ruminococcus]...\n",
      "2.8 Mbp        0.9%   88.8%    nbhd:NZ_NFJI01000001.1 [Clostridium] ...\n",
      "2.2 Mbp        0.7%   94.5%    nbhd:UQGB01000001.1 uncultured Clostr...\n",
      "2.1 Mbp        0.7%   95.7%    nbhd:USJS01000001.1 uncultured Blauti...\n",
      "1.8 Mbp        0.6%   89.7%    nbhd:HF995324.1 Firmicutes bacterium ...\n",
      "1.6 Mbp        0.6%   98.1%    nbhd:NZ_LR793273.1 Streptococcus sali...\n",
      "1.5 Mbp        0.5%   93.8%    nbhd:NZ_QGMT01000001.1 Clostridium pa...\n",
      "1.7 Mbp        0.4%   76.0%    nbhd:NZ_CABKSO010000001.1 Veillonella...\n",
      "1.3 Mbp        0.4%   82.1%    nbhd:NZ_JVCZ01000002.1 Streptococcus ...\n",
      "1.1 Mbp        0.4%   96.0%    nbhd:NZ_CABJBH010000001.1 Turicibacte...\n",
      "0.9 Mbp        0.3%   93.8%    nbhd:JACRSY010000001.1 Lachnospiracea...\n",
      "0.7 Mbp        0.2%   98.4%    nbhd:NZ_CAAFAW010000001.1 Clostridia ...\n",
      "0.8 Mbp        0.2%   81.2%    nbhd:NZ_MPGA01000001.1 Clostridioides...\n",
      "1.0 Mbp        0.2%   61.9%    nbhd:NZ_CABHOC010000001.1 Bifidobacte...\n",
      "1.6 Mbp        0.2%   33.6%    nbhd:URHS01000001.1 uncultured Blauti...\n",
      "0.8 Mbp        0.2%   69.9%    nbhd:NZ_JWHR01000001.1 Terrisporobact...\n",
      "1.3 Mbp        0.2%   39.5%    nbhd:NZ_KQ971228.1 Streptococcus sali...\n",
      "0.6 Mbp        0.2%   78.7%    nbhd:NZ_OBJV01000049.1 Clostridium te...\n",
      "458.0 kbp      0.2%   95.0%    nbhd:NZ_CAAEVI010000001.1 Erysipelotr...\n",
      "0.5 Mbp        0.2%   79.8%    nbhd:NZ_CYYS01000001.1 Turicibacter s...\n",
      "0.6 Mbp        0.1%   68.7%    nbhd:NZ_CYZX01000001.1 Clostridium di...\n",
      "1.4 Mbp        0.1%   25.3%    nbhd:NZ_AEKO01000011.1 Streptococcus ...\n",
      "1.2 Mbp        0.1%   25.7%    nbhd:NZ_WMKP01000010.1 Veillonella di...\n",
      "441.0 kbp      0.1%   60.5%    nbhd:CAAFUY010000001.1 TPA_asm: uncul...\n",
      "1.6 Mbp        0.1%   16.8%    nbhd:NZ_GL890548.1 Lachnospiraceae ba...\n",
      "1.2 Mbp        0.1%   17.8%    nbhd:CAAEUS010000001.1 TPA_asm: uncul...\n",
      "287.0 kbp      0.1%   61.3%    nbhd:UQTS01000001.1 uncultured Clostr...\n",
      "1.1 Mbp        0.1%   16.3%    nbhd:NZ_CP047191.1 Streptococcus ther...\n",
      "2.2 Mbp        0.1%    7.1%    nbhd:NZ_JACOOS010000001.1 Anaerostipe...\n",
      "\n",
      "found 49 matches total;\n",
      "the recovered matches hit 48.3% of the query\n",
      "\n",
      "\n",
      "\u001b[K\n",
      "== This is sourmash version 4.2.4.dev0+g73aeb155.d20220116. ==\n",
      "\n",
      "\u001b[K== Please cite Brown and Irber (2016), doi:10.21105/joss.00027. ==\n",
      "\n",
      "\n",
      "\u001b[Kselecting specified query k=31\n",
      "\n",
      "\u001b[Kloaded query: p8808mo11... (k=31, DNA)\n",
      "\n",
      "\u001b[Kloading from gut-preclust/gut-preclust-nbhds.zip...\n",
      "\n",
      "\u001b[K                                                                               \n",
      "\n",
      "\u001b[Kloaded 1 databases.\n",
      "\n",
      "\u001b[KStarting prefetch sweep across databases.\n",
      "\n",
      "\u001b[KFound 49 signatures via prefetch; now doing gather.\n",
      "\n",
      "\u001b[Kfound less than 50.0 kbp in common. => exiting\n",
      "\n"
     ]
    }
   ],
   "source": [
    "print(stdout2)"
   ]
  },
  {
   "cell_type": "markdown",
   "metadata": {},
   "source": [
    "## building mapping from query to neighborhood"
   ]
  },
  {
   "cell_type": "code",
   "execution_count": 13,
   "metadata": {},
   "outputs": [],
   "source": [
    "remaining_hashes = set(metag.minhash.hashes)\n",
    "unique_hashes_1x = []\n",
    "for ident in gather1_keys:\n",
    "    row = gather1_d[ident]\n",
    "    match = queries_d[ident]\n",
    "    match_hashes = set(match.minhash.hashes)\n",
    "    unique_overlap = remaining_hashes & match_hashes\n",
    "    #print(ident, len(remaining_hashes), len(unique_overlap), row['unique_intersect_bp'], row['remaining_bp'])\n",
    "    remaining_hashes -= unique_overlap\n",
    "    unique_hashes_1x.append((ident, unique_overlap))\n"
   ]
  },
  {
   "cell_type": "code",
   "execution_count": 14,
   "metadata": {},
   "outputs": [],
   "source": [
    "remaining_hashes = set(metag.minhash.hashes)\n",
    "unique_hashes_2x = []\n",
    "for ident in gather2_keys:\n",
    "    row = gather2_d[ident]\n",
    "    match = nbhds_d[ident]\n",
    "    match_hashes = set(match.minhash.hashes)\n",
    "    unique_overlap = remaining_hashes & match_hashes\n",
    "    #print(ident, len(remaining_hashes), len(unique_overlap), row['unique_intersect_bp'], row['remaining_bp'])\n",
    "    remaining_hashes -= unique_overlap\n",
    "    unique_hashes_2x.append((ident, unique_overlap))\n"
   ]
  },
  {
   "cell_type": "code",
   "execution_count": 15,
   "metadata": {},
   "outputs": [
    {
     "name": "stdout",
     "output_type": "stream",
     "text": [
      "NZ_SPHF01000091.1 <= HF996869.1 - 23\n",
      "NZ_SPHF01000091.1 <= NZ_CP039126.1 - 9\n",
      "NZ_SPHF01000091.1 <= NZ_UAVW01000021.1 - 21\n",
      "NZ_SPHF01000091.1 <= NZ_JAAITT010000099.1 - 19\n",
      "NZ_SPHF01000091.1 <= NZ_JAAISL010000100.1 - 8\n",
      "NZ_SPHF01000091.1 <= NZ_AENW01000060.1 - 4\n",
      "NZ_SPHF01000091.1 <= HF995415.1 - 5\n",
      "NZ_SPHF01000091.1 <= NZ_RQNR01000100.1 - 6\n",
      "NZ_SPHF01000091.1 <= NZ_SPHF01000091.1 - 3093\n",
      "NZ_SPHF01000091.1 <= NZ_NFJM01000001.1 - 4\n",
      "NZ_SPHF01000091.1 <= NZ_NFHY01000001.1 - 7\n",
      "NZ_SPHF01000091.1 <= NZ_NIHW01000001.1 - 4\n",
      "NZ_SPHF01000091.1 <= NZ_CABIYM010000001.1 - 1\n",
      "NZ_SPHF01000091.1 <= NZ_WMZZ01000099.1 - 7\n",
      "NZ_SPHF01000091.1 <= NZ_NFJI01000001.1 - 3\n",
      "NZ_SPHF01000091.1 <= NZ_CP019721.1 - 2\n",
      "NZ_SPHF01000091.1 <= CABJAX010000001.1 - 2\n",
      "NZ_SPHF01000091.1 <= HF995324.1 - 9\n",
      "NZ_SPHF01000091.1 <= USJS01000001.1 - 1\n",
      "NZ_SPHF01000091.1 <= NZ_LR793273.1 - 2\n",
      "NZ_SPHF01000091.1 <= NZ_JVCZ01000002.1 - 2\n",
      "NZ_SPHF01000091.1 <= NZ_CABHOC010000001.1 - 1\n",
      "NZ_SPHF01000091.1 <= URHS01000001.1 - 1\n",
      "NZ_SPHF01000091.1 <= NZ_JACOOS010000001.1 - 2\n",
      "NZ_SPHF01000091.1 <= NZ_GL890548.1 - 1\n",
      "NZ_NIHW01000001.1 <= HF996869.1 - 21\n",
      "NZ_NIHW01000001.1 <= NZ_CP039126.1 - 40\n",
      "NZ_NIHW01000001.1 <= NZ_UAVW01000021.1 - 20\n",
      "NZ_NIHW01000001.1 <= NZ_JAAITT010000099.1 - 16\n",
      "NZ_NIHW01000001.1 <= NZ_JAAISL010000100.1 - 12\n",
      "NZ_NIHW01000001.1 <= NZ_AENW01000060.1 - 1\n",
      "NZ_NIHW01000001.1 <= NZ_NFJM01000001.1 - 1\n",
      "NZ_NIHW01000001.1 <= NZ_NFHY01000001.1 - 17\n",
      "NZ_NIHW01000001.1 <= NZ_SMCQ01000001.1 - 1\n",
      "NZ_NIHW01000001.1 <= NZ_NIHW01000001.1 - 2821\n",
      "NZ_NIHW01000001.1 <= NZ_CABIYM010000001.1 - 7\n",
      "NZ_NIHW01000001.1 <= NZ_WMZZ01000099.1 - 43\n",
      "NZ_NIHW01000001.1 <= NZ_NFJI01000001.1 - 2\n",
      "NZ_NIHW01000001.1 <= CABJAX010000001.1 - 12\n",
      "NZ_NIHW01000001.1 <= HF995324.1 - 9\n",
      "NZ_NIHW01000001.1 <= USJS01000001.1 - 3\n",
      "NZ_NIHW01000001.1 <= JACRSY010000001.1 - 2\n",
      "NZ_NIHW01000001.1 <= NZ_CABHOC010000001.1 - 1\n",
      "NZ_NIHW01000001.1 <= NZ_CAAEVI010000001.1 - 1\n",
      "NZ_NIHW01000001.1 <= NZ_JACOOS010000001.1 - 1\n",
      "NZ_NIHW01000001.1 <= NZ_CP047191.1 - 1\n",
      "NZ_UAVW01000021.1 <= HF996869.1 - 147\n",
      "NZ_UAVW01000021.1 <= NZ_CP039126.1 - 50\n",
      "NZ_UAVW01000021.1 <= NZ_UAVW01000021.1 - 5449\n",
      "NZ_UAVW01000021.1 <= NZ_JAAITT010000099.1 - 276\n",
      "NZ_UAVW01000021.1 <= NZ_JAAISL010000100.1 - 34\n",
      "NZ_UAVW01000021.1 <= NZ_AENW01000060.1 - 1\n",
      "NZ_UAVW01000021.1 <= NZ_JULC01000001.1 - 2\n",
      "NZ_UAVW01000021.1 <= NZ_NFJM01000001.1 - 13\n",
      "NZ_UAVW01000021.1 <= NZ_NFHY01000001.1 - 7\n",
      "NZ_UAVW01000021.1 <= NZ_SMCQ01000001.1 - 2\n",
      "NZ_UAVW01000021.1 <= NZ_CABIYM010000001.1 - 3\n",
      "NZ_UAVW01000021.1 <= NZ_WMZZ01000099.1 - 1\n",
      "NZ_UAVW01000021.1 <= NZ_NFJI01000001.1 - 1\n",
      "NZ_UAVW01000021.1 <= CABJAX010000001.1 - 1\n",
      "NZ_UAVW01000021.1 <= HF995324.1 - 3\n",
      "NZ_UAVW01000021.1 <= JACRSY010000001.1 - 1\n",
      "NZ_UAVW01000021.1 <= NZ_KQ971228.1 - 1\n",
      "NZ_UAVW01000021.1 <= NZ_JACOOS010000001.1 - 1\n",
      "NZ_UAVW01000021.1 <= NZ_GL890548.1 - 1\n",
      "NZ_JVOS01000029.1 <= NZ_CP039126.1 - 2\n",
      "NZ_JVOS01000029.1 <= NZ_JVOS01000029.1 - 4999\n",
      "NZ_JVOS01000029.1 <= NZ_AENW01000060.1 - 1\n",
      "NZ_JVOS01000029.1 <= NZ_WMZZ01000099.1 - 1\n",
      "NZ_JVOS01000029.1 <= UQGB01000001.1 - 1\n",
      "NZ_AENW01000060.1 <= HF996869.1 - 1\n",
      "NZ_AENW01000060.1 <= NZ_CP039126.1 - 4\n",
      "NZ_AENW01000060.1 <= NZ_JAAITT010000099.1 - 18\n",
      "NZ_AENW01000060.1 <= NZ_JAAISL010000100.1 - 6\n",
      "NZ_AENW01000060.1 <= NZ_AENW01000060.1 - 3679\n",
      "NZ_AENW01000060.1 <= HF995415.1 - 1\n",
      "NZ_AENW01000060.1 <= NZ_NFHY01000001.1 - 1\n",
      "NZ_AENW01000060.1 <= NZ_SMCQ01000001.1 - 1\n",
      "NZ_AENW01000060.1 <= NZ_CABIYM010000001.1 - 2\n",
      "NZ_AENW01000060.1 <= NZ_WMZZ01000099.1 - 2\n",
      "NZ_AENW01000060.1 <= NZ_NFJI01000001.1 - 4\n",
      "NZ_AENW01000060.1 <= HF995324.1 - 2\n",
      "NZ_CP039126.1 <= HF996869.1 - 2\n",
      "NZ_CP039126.1 <= NZ_CP039126.1 - 5524\n",
      "NZ_CP039126.1 <= NZ_JAAITT010000099.1 - 1\n",
      "NZ_CP039126.1 <= NZ_JAAISL010000100.1 - 4\n",
      "NZ_CP039126.1 <= HF995415.1 - 1\n",
      "NZ_CP039126.1 <= NZ_NFHY01000001.1 - 4\n",
      "NZ_CP039126.1 <= NZ_CABIYM010000001.1 - 4\n",
      "NZ_CP039126.1 <= NZ_WMZZ01000099.1 - 2\n",
      "NZ_CP039126.1 <= NZ_NFJI01000001.1 - 2\n",
      "NZ_CP039126.1 <= HF995324.1 - 4\n",
      "NZ_CP039126.1 <= USJS01000001.1 - 5\n",
      "NZ_CP039126.1 <= NZ_GL890548.1 - 5\n",
      "HF996869.1 <= HF996869.1 - 5641\n",
      "HF996869.1 <= NZ_JAAITT010000099.1 - 19\n",
      "HF996869.1 <= NZ_JAAISL010000100.1 - 18\n",
      "HF996869.1 <= NZ_NFJM01000001.1 - 5\n",
      "HF996869.1 <= NZ_NFHY01000001.1 - 1\n",
      "HF996869.1 <= NZ_CABIYM010000001.1 - 2\n",
      "HF996869.1 <= NZ_WMZZ01000099.1 - 3\n",
      "HF996869.1 <= HF995324.1 - 3\n",
      "HF996869.1 <= NZ_LR793273.1 - 1\n",
      "NZ_JAAISL010000100.1 <= NZ_JAAITT010000099.1 - 25\n",
      "NZ_JAAISL010000100.1 <= NZ_JAAISL010000100.1 - 4252\n",
      "NZ_JAAISL010000100.1 <= NZ_RQNR01000100.1 - 1\n",
      "NZ_JAAISL010000100.1 <= NZ_NFJM01000001.1 - 9\n",
      "NZ_JAAISL010000100.1 <= NZ_NFHY01000001.1 - 5\n",
      "NZ_JAAISL010000100.1 <= NZ_CABIYM010000001.1 - 4\n",
      "NZ_JAAISL010000100.1 <= NZ_WMZZ01000099.1 - 3\n",
      "NZ_JAAISL010000100.1 <= NZ_NFJI01000001.1 - 1\n",
      "NZ_JAAISL010000100.1 <= HF995324.1 - 2\n",
      "NZ_JAAITT010000099.1 <= NZ_JAAITT010000099.1 - 4225\n",
      "NZ_JAAITT010000099.1 <= NZ_NFJM01000001.1 - 2\n",
      "NZ_JAAITT010000099.1 <= NZ_NFHY01000001.1 - 2\n",
      "NZ_JAAITT010000099.1 <= NZ_CABIYM010000001.1 - 1\n",
      "NZ_JAAITT010000099.1 <= NZ_WMZZ01000099.1 - 3\n",
      "NZ_JAAITT010000099.1 <= HF995324.1 - 3\n",
      "NZ_JAAITT010000099.1 <= NZ_CP047191.1 - 1\n",
      "HF995415.1 <= HF995415.1 - 3229\n",
      "HF995415.1 <= NZ_RQNR01000100.1 - 1\n",
      "HF995415.1 <= NZ_NFHY01000001.1 - 1\n",
      "HF995415.1 <= NZ_SMCQ01000001.1 - 31\n",
      "HF995415.1 <= NZ_CABIYM010000001.1 - 2\n",
      "HF995415.1 <= NZ_NFJI01000001.1 - 48\n",
      "HF995415.1 <= NZ_LR793273.1 - 1\n",
      "HF995415.1 <= JACRSY010000001.1 - 1\n",
      "HF995415.1 <= URHS01000001.1 - 1\n",
      "NZ_DS499569.1 <= NZ_RQNR01000100.1 - 4\n",
      "NZ_DS499569.1 <= NZ_DS499569.1 - 3092\n",
      "NZ_DS499569.1 <= NZ_SMCQ01000001.1 - 2\n",
      "NZ_DS499569.1 <= NZ_NFJI01000001.1 - 1\n",
      "NZ_DS499569.1 <= NZ_CP019721.1 - 1\n",
      "NZ_DS499569.1 <= UQGB01000001.1 - 40\n",
      "NZ_DS499569.1 <= NZ_QGMT01000001.1 - 2\n",
      "NZ_DS499569.1 <= NZ_CABKSO010000001.1 - 1\n",
      "NZ_DS499569.1 <= NZ_LR793273.1 - 1\n",
      "NZ_DS499569.1 <= NZ_MPGA01000001.1 - 5\n",
      "NZ_DS499569.1 <= NZ_AEKO01000011.1 - 1\n",
      "NZ_DS499569.1 <= NZ_JWHR01000001.1 - 6\n",
      "NZ_DS499569.1 <= CAAEUS010000001.1 - 27\n",
      "NZ_DS499569.1 <= CAAFUY010000001.1 - 1\n",
      "NZ_JULC01000001.1 <= NZ_JULC01000001.1 - 3195\n",
      "NZ_JULC01000001.1 <= NZ_NFJM01000001.1 - 1\n",
      "NZ_JULC01000001.1 <= NZ_SQQK01000001.1 - 40\n",
      "NZ_JULC01000001.1 <= NZ_CABHOC010000001.1 - 15\n",
      "CABJAX010000001.1 <= NZ_RQNR01000100.1 - 1\n",
      "CABJAX010000001.1 <= NZ_NFHY01000001.1 - 13\n",
      "CABJAX010000001.1 <= NZ_CABIYM010000001.1 - 5\n",
      "CABJAX010000001.1 <= NZ_WMZZ01000099.1 - 24\n",
      "CABJAX010000001.1 <= NZ_NFJI01000001.1 - 1\n",
      "CABJAX010000001.1 <= CABJAX010000001.1 - 1962\n",
      "CABJAX010000001.1 <= UQGB01000001.1 - 1\n",
      "CABJAX010000001.1 <= HF995324.1 - 3\n",
      "CABJAX010000001.1 <= USJS01000001.1 - 2\n",
      "CABJAX010000001.1 <= NZ_GL890548.1 - 2\n",
      "NZ_NFJM01000001.1 <= NZ_NFJM01000001.1 - 2999\n",
      "NZ_NFJM01000001.1 <= NZ_NFHY01000001.1 - 2\n",
      "NZ_NFJM01000001.1 <= NZ_SMCQ01000001.1 - 1\n",
      "NZ_RQNR01000100.1 <= NZ_RQNR01000100.1 - 3139\n",
      "NZ_RQNR01000100.1 <= NZ_CP019721.1 - 1\n",
      "NZ_RQNR01000100.1 <= UQGB01000001.1 - 6\n",
      "NZ_RQNR01000100.1 <= NZ_QGMT01000001.1 - 14\n",
      "NZ_RQNR01000100.1 <= NZ_CABJBH010000001.1 - 3\n",
      "NZ_RQNR01000100.1 <= JACRSY010000001.1 - 1\n",
      "NZ_RQNR01000100.1 <= NZ_MPGA01000001.1 - 1\n",
      "NZ_RQNR01000100.1 <= NZ_JWHR01000001.1 - 1\n",
      "NZ_RQNR01000100.1 <= NZ_OBJV01000049.1 - 4\n",
      "NZ_RQNR01000100.1 <= NZ_CYZX01000001.1 - 3\n",
      "NZ_RQNR01000100.1 <= CAAFUY010000001.1 - 3\n",
      "NZ_RQNR01000100.1 <= UQTS01000001.1 - 1\n",
      "NZ_NFHY01000001.1 <= NZ_NFHY01000001.1 - 2863\n",
      "NZ_NFHY01000001.1 <= NZ_CABIYM010000001.1 - 1\n",
      "NZ_NFHY01000001.1 <= NZ_WMZZ01000099.1 - 9\n",
      "NZ_NFHY01000001.1 <= NZ_NFJI01000001.1 - 1\n",
      "NZ_NFHY01000001.1 <= HF995324.1 - 2\n",
      "NZ_NFHY01000001.1 <= URHS01000001.1 - 1\n",
      "NZ_CP019721.1 <= NZ_CP019721.1 - 2035\n",
      "NZ_CP019721.1 <= NZ_CABKSO010000001.1 - 83\n",
      "NZ_CP019721.1 <= NZ_WMKP01000010.1 - 43\n",
      "NZ_SMCQ01000001.1 <= NZ_SMCQ01000001.1 - 2823\n",
      "NZ_SMCQ01000001.1 <= NZ_NFJI01000001.1 - 11\n",
      "NZ_SMCQ01000001.1 <= UQGB01000001.1 - 1\n",
      "NZ_SMCQ01000001.1 <= NZ_QGMT01000001.1 - 1\n",
      "NZ_SMCQ01000001.1 <= NZ_CABJBH010000001.1 - 1\n",
      "NZ_CABIYM010000001.1 <= NZ_CABIYM010000001.1 - 2444\n",
      "NZ_CABIYM010000001.1 <= NZ_WMZZ01000099.1 - 5\n",
      "NZ_CABIYM010000001.1 <= NZ_JACOOS010000001.1 - 66\n",
      "NZ_SQQK01000001.1 <= NZ_SQQK01000001.1 - 2070\n",
      "NZ_SQQK01000001.1 <= NZ_CABHOC010000001.1 - 9\n",
      "NZ_WMZZ01000099.1 <= NZ_WMZZ01000099.1 - 2147\n",
      "NZ_WMZZ01000099.1 <= HF995324.1 - 2\n",
      "NZ_WMZZ01000099.1 <= NZ_JACOOS010000001.1 - 1\n",
      "NZ_NFJI01000001.1 <= NZ_NFJI01000001.1 - 2015\n",
      "NZ_NFJI01000001.1 <= NZ_CABJBH010000001.1 - 1\n",
      "NZ_NFJI01000001.1 <= NZ_JWHR01000001.1 - 1\n",
      "UQGB01000001.1 <= UQGB01000001.1 - 1779\n",
      "UQGB01000001.1 <= NZ_QGMT01000001.1 - 1\n",
      "UQGB01000001.1 <= NZ_MPGA01000001.1 - 2\n",
      "UQGB01000001.1 <= NZ_JWHR01000001.1 - 3\n",
      "UQGB01000001.1 <= CAAEUS010000001.1 - 2\n",
      "USJS01000001.1 <= HF995324.1 - 4\n",
      "USJS01000001.1 <= USJS01000001.1 - 1171\n",
      "USJS01000001.1 <= URHS01000001.1 - 34\n",
      "USJS01000001.1 <= NZ_GL890548.1 - 17\n",
      "HF995324.1 <= HF995324.1 - 1476\n",
      "HF995324.1 <= URHS01000001.1 - 1\n",
      "HF995324.1 <= NZ_GL890548.1 - 1\n",
      "NZ_LR793273.1 <= NZ_LR793273.1 - 820\n",
      "NZ_LR793273.1 <= NZ_JVCZ01000002.1 - 24\n",
      "NZ_LR793273.1 <= NZ_KQ971228.1 - 157\n",
      "NZ_LR793273.1 <= NZ_AEKO01000011.1 - 175\n",
      "NZ_LR793273.1 <= NZ_CYYS01000001.1 - 1\n",
      "NZ_LR793273.1 <= NZ_CP047191.1 - 25\n",
      "NZ_QGMT01000001.1 <= NZ_QGMT01000001.1 - 1110\n",
      "NZ_QGMT01000001.1 <= NZ_JWHR01000001.1 - 2\n",
      "NZ_QGMT01000001.1 <= NZ_OBJV01000049.1 - 5\n",
      "NZ_QGMT01000001.1 <= NZ_CYZX01000001.1 - 6\n",
      "NZ_QGMT01000001.1 <= CAAFUY010000001.1 - 2\n",
      "NZ_CABKSO010000001.1 <= NZ_CABKSO010000001.1 - 830\n",
      "NZ_CABKSO010000001.1 <= NZ_WMKP01000010.1 - 6\n",
      "NZ_JVCZ01000002.1 <= NZ_JVCZ01000002.1 - 717\n",
      "NZ_JVCZ01000002.1 <= JACRSY010000001.1 - 1\n",
      "NZ_JVCZ01000002.1 <= NZ_KQ971228.1 - 4\n",
      "NZ_JVCZ01000002.1 <= NZ_AEKO01000011.1 - 4\n",
      "NZ_JVCZ01000002.1 <= NZ_CP047191.1 - 1\n",
      "NZ_CABJBH010000001.1 <= NZ_CABJBH010000001.1 - 894\n",
      "NZ_CABJBH010000001.1 <= NZ_CYYS01000001.1 - 13\n",
      "JACRSY010000001.1 <= JACRSY010000001.1 - 595\n",
      "NZ_CAAFAW010000001.1 <= NZ_CAAFAW010000001.1 - 588\n",
      "NZ_MPGA01000001.1 <= NZ_MPGA01000001.1 - 559\n",
      "NZ_MPGA01000001.1 <= NZ_JWHR01000001.1 - 5\n",
      "NZ_MPGA01000001.1 <= NZ_CYZX01000001.1 - 1\n",
      "NZ_MPGA01000001.1 <= CAAEUS010000001.1 - 1\n",
      "NZ_CABHOC010000001.1 <= NZ_CABHOC010000001.1 - 490\n",
      "URHS01000001.1 <= URHS01000001.1 - 188\n",
      "URHS01000001.1 <= NZ_GL890548.1 - 25\n",
      "NZ_JWHR01000001.1 <= NZ_JWHR01000001.1 - 452\n",
      "NZ_JWHR01000001.1 <= CAAFUY010000001.1 - 1\n",
      "NZ_KQ971228.1 <= NZ_KQ971228.1 - 387\n",
      "NZ_KQ971228.1 <= NZ_AEKO01000011.1 - 30\n",
      "NZ_KQ971228.1 <= NZ_CP047191.1 - 8\n",
      "NZ_OBJV01000049.1 <= NZ_OBJV01000049.1 - 391\n",
      "NZ_OBJV01000049.1 <= NZ_CYZX01000001.1 - 10\n",
      "NZ_OBJV01000049.1 <= CAAFUY010000001.1 - 5\n",
      "NZ_OBJV01000049.1 <= UQTS01000001.1 - 3\n",
      "NZ_CAAEVI010000001.1 <= NZ_CAAEVI010000001.1 - 347\n",
      "NZ_CYYS01000001.1 <= NZ_CYYS01000001.1 - 322\n",
      "NZ_CYZX01000001.1 <= NZ_CYZX01000001.1 - 269\n",
      "NZ_CYZX01000001.1 <= CAAFUY010000001.1 - 4\n",
      "NZ_CYZX01000001.1 <= UQTS01000001.1 - 2\n",
      "NZ_AEKO01000011.1 <= NZ_AEKO01000011.1 - 273\n",
      "NZ_AEKO01000011.1 <= NZ_CP047191.1 - 11\n",
      "NZ_WMKP01000010.1 <= NZ_WMKP01000010.1 - 164\n",
      "CAAFUY010000001.1 <= CAAEUS010000001.1 - 1\n",
      "CAAFUY010000001.1 <= CAAFUY010000001.1 - 183\n",
      "CAAFUY010000001.1 <= UQTS01000001.1 - 2\n",
      "NZ_GL890548.1 <= NZ_GL890548.1 - 108\n",
      "CAAEUS010000001.1 <= CAAEUS010000001.1 - 176\n",
      "CAAEUS010000001.1 <= UQTS01000001.1 - 1\n",
      "UQTS01000001.1 <= UQTS01000001.1 - 115\n",
      "NZ_CP047191.1 <= NZ_CP047191.1 - 101\n",
      "NZ_JACOOS010000001.1 <= NZ_JACOOS010000001.1 - 90\n"
     ]
    }
   ],
   "source": [
    "for (nbhd_ident, nbhd_match) in unique_hashes_2x:\n",
    "    total = 0\n",
    "    for (query_ident, query_match) in unique_hashes_1x:\n",
    "        overlap = query_match & nbhd_match\n",
    "        \n",
    "        if overlap:\n",
    "            print(f\"{nbhd_ident} <= {query_ident} - {len(overlap)}\")\n",
    "            total += len(overlap)\n",
    "    #print('xxx', nbhd_ident, len(nbhd_match), total)\n",
    "    #print('---')"
   ]
  },
  {
   "cell_type": "code",
   "execution_count": 20,
   "metadata": {},
   "outputs": [],
   "source": [
    "import plotly.graph_objects as go\n",
    "\n",
    "def make_fig(max_num=None):\n",
    "    #labels = obj.make_labels()\n",
    "    #src_l, dest_l, cnt_l, color_l, label_l = obj.make_lists()\n",
    "    labels = []\n",
    "    src_l = []\n",
    "    dest_l = []\n",
    "    cnt_l = []\n",
    "    color_l = []\n",
    "    label_l = []\n",
    "    \n",
    "    source_idx = {}\n",
    "    for n, (query_ident, _) in enumerate(unique_hashes_1x):\n",
    "        source_idx[query_ident] = n\n",
    "        labels.append(full_idents[query_ident])\n",
    "    dest_idx = {}\n",
    "    source_idx[\"unassigned\"] = len(unique_hashes_1x)\n",
    "    labels.append(\"unassigned\")\n",
    "    base = len(unique_hashes_1x) + 1\n",
    "    for n, (nbhd_ident, _) in enumerate(unique_hashes_2x):\n",
    "        dest_idx[nbhd_ident] = base + n\n",
    "        labels.append(full_idents[nbhd_ident])\n",
    "        \n",
    "    #source_idx[\"unassigned\"] = base + n + 1\n",
    "    \n",
    "    # iterate over all sinks, account for all sources\n",
    "    num = 0\n",
    "    leftovers = []\n",
    "    for (nbhd_ident, nbhd_match) in unique_hashes_2x:\n",
    "        total = 0\n",
    "        for (query_ident, query_match) in unique_hashes_1x:\n",
    "            overlap = query_match & nbhd_match\n",
    "        \n",
    "            if len(overlap) > 10:\n",
    "                #print(f\"{nbhd_ident} <= {query_ident} - {len(overlap)}\")\n",
    "                total += len(overlap)\n",
    "                from_idx = source_idx[query_ident]\n",
    "                to_idx = dest_idx[nbhd_ident]\n",
    "                \n",
    "                src_l.append(from_idx)\n",
    "                dest_l.append(to_idx)\n",
    "                cnt_l.append(len(overlap))\n",
    "                if query_ident == nbhd_ident:\n",
    "                    color_l.append(\"lightseagreen\")\n",
    "                else:\n",
    "                    color_l.append(\"palevioletred\")\n",
    "                label_l.append(\"\")\n",
    "    \n",
    "        #print('xxx', nbhd_ident, len(nbhd_match), total)\n",
    "        leftover = len(nbhd_match) - total\n",
    "        \n",
    "        if leftover:\n",
    "            leftovers.append((nbhd_ident, leftover))\n",
    "\n",
    "        #print('---')\n",
    "        num += 1\n",
    "        if max_num and num >= max_num:\n",
    "            break\n",
    "            \n",
    "    if leftovers:\n",
    "        for nbhd_ident, leftover in leftovers:\n",
    "            from_idx = source_idx[\"unassigned\"]\n",
    "            to_idx = dest_idx[nbhd_ident]\n",
    "\n",
    "            src_l.append(from_idx)\n",
    "            dest_l.append(to_idx)\n",
    "            cnt_l.append(leftover)\n",
    "            color_l.append(\"grey\")\n",
    "            label_l.append(\"\")\n",
    "            #print('XYZ', from_idx, to_idx)\n",
    "        \n",
    "\n",
    "    fig = go.Figure(data=[go.Sankey(\n",
    "        node = dict(\n",
    "          pad = 15,\n",
    "          thickness = 20,\n",
    "          line = dict(color = \"black\", width = 0.5),\n",
    "          label = labels,\n",
    "          color = \"blue\"\n",
    "        ),\n",
    "        link = dict(\n",
    "          source = src_l,\n",
    "          target = dest_l,\n",
    "          value = cnt_l,\n",
    "          color = color_l,\n",
    "          label = label_l,\n",
    "      ))])\n",
    "    \n",
    "    return fig"
   ]
  },
  {
   "cell_type": "code",
   "execution_count": 21,
   "metadata": {},
   "outputs": [
    {
     "data": {
      "application/vnd.plotly.v1+json": {
       "config": {
        "plotlyServerURL": "https://plot.ly"
       },
       "data": [
        {
         "link": {
          "color": [
           "palevioletred",
           "palevioletred",
           "palevioletred",
           "lightseagreen",
           "palevioletred",
           "palevioletred",
           "palevioletred",
           "palevioletred",
           "palevioletred",
           "palevioletred",
           "lightseagreen",
           "palevioletred",
           "palevioletred",
           "palevioletred",
           "palevioletred",
           "lightseagreen",
           "palevioletred",
           "palevioletred",
           "palevioletred",
           "lightseagreen",
           "palevioletred",
           "lightseagreen",
           "grey",
           "grey",
           "grey",
           "grey",
           "grey"
          ],
          "label": [
           "",
           "",
           "",
           "",
           "",
           "",
           "",
           "",
           "",
           "",
           "",
           "",
           "",
           "",
           "",
           "",
           "",
           "",
           "",
           "",
           "",
           "",
           "",
           "",
           "",
           "",
           ""
          ],
          "source": [
           0,
           2,
           4,
           10,
           0,
           1,
           2,
           4,
           5,
           13,
           15,
           17,
           21,
           0,
           1,
           2,
           4,
           5,
           12,
           3,
           4,
           6,
           49,
           49,
           49,
           49,
           49
          ],
          "target": [
           50,
           50,
           50,
           50,
           51,
           51,
           51,
           51,
           51,
           51,
           51,
           51,
           51,
           52,
           52,
           52,
           52,
           52,
           52,
           53,
           54,
           54,
           50,
           51,
           52,
           53,
           54
          ],
          "value": [
           23,
           21,
           19,
           3093,
           21,
           40,
           20,
           16,
           12,
           17,
           2821,
           43,
           12,
           147,
           50,
           5449,
           276,
           34,
           13,
           4999,
           18,
           3679,
           8471,
           7048,
           3042,
           2729,
           3940
          ]
         },
         "node": {
          "color": "blue",
          "label": [
           "HF996869.1 Clostridium hathewayi",
           "NZ_CP039126.1 Blautia producta",
           "NZ_UAVW01000021.1 Enterocloster clostridioformis",
           "NZ_JVOS01000029.1 Escherichia coli",
           "NZ_JAAITT010000099.1 Enterocloster aldenensis",
           "NZ_JAAISL010000100.1 [Clostridium] symbiosum",
           "NZ_AENW01000060.1 Clostridium sp.",
           "HF995415.1 Coprobacillus sp.",
           "NZ_JULC01000001.1 Bifidobacterium scardovii",
           "NZ_RQNR01000100.1 Clostridium perfringens",
           "NZ_SPHF01000091.1 Roseburia hominis",
           "NZ_DS499569.1 Intestinibacter bartlettii",
           "NZ_NFJM01000001.1 Flavonifractor plautii",
           "NZ_NFHY01000001.1 Drancourtella sp.",
           "NZ_SMCQ01000001.1 Longibaculum muris",
           "NZ_NIHW01000001.1 [Ruminococcus] gnavus",
           "NZ_CABIYM010000001.1 Anaerostipes caccae",
           "NZ_WMZZ01000099.1 [Ruminococcus] torques",
           "NZ_SQQK01000001.1 Bifidobacterium dentium",
           "NZ_NFJI01000001.1 [Clostridium] spiroforme",
           "NZ_CP019721.1 Veillonella parvula",
           "CABJAX010000001.1 Lachnospiraceae bacterium",
           "UQGB01000001.1 uncultured Clostridium",
           "HF995324.1 Firmicutes bacterium",
           "USJS01000001.1 uncultured Blautia",
           "NZ_QGMT01000001.1 Clostridium paraputrificum",
           "NZ_CABKSO010000001.1 Veillonella atypica",
           "NZ_CABJBH010000001.1 Turicibacter sanguinis",
           "NZ_LR793273.1 Streptococcus salivarius",
           "NZ_JVCZ01000002.1 Streptococcus parasanguinis",
           "JACRSY010000001.1 Lachnospiraceae bacterium",
           "NZ_CAAFAW010000001.1 Clostridia bacterium",
           "NZ_MPGA01000001.1 Clostridioides difficile",
           "NZ_KQ971228.1 Streptococcus salivarius",
           "NZ_CABHOC010000001.1 Bifidobacterium longum",
           "NZ_AEKO01000011.1 Streptococcus vestibularis",
           "NZ_JWHR01000001.1 Terrisporobacter othiniensis",
           "NZ_OBJV01000049.1 Clostridium tertium",
           "NZ_CAAEVI010000001.1 Erysipelotrichaceae bacterium",
           "NZ_CYYS01000001.1 Turicibacter sanguinis",
           "NZ_CYZX01000001.1 Clostridium disporicum",
           "URHS01000001.1 uncultured Blautia",
           "NZ_WMKP01000010.1 Veillonella dispar",
           "CAAEUS010000001.1 TPA_asm: uncultured",
           "CAAFUY010000001.1 TPA_asm: uncultured",
           "NZ_JACOOS010000001.1 Anaerostipes sp.",
           "NZ_GL890548.1 Lachnospiraceae bacterium",
           "NZ_CP047191.1 Streptococcus thermophilus",
           "UQTS01000001.1 uncultured Clostridium",
           "unassigned",
           "NZ_SPHF01000091.1 Roseburia hominis",
           "NZ_NIHW01000001.1 [Ruminococcus] gnavus",
           "NZ_UAVW01000021.1 Enterocloster clostridioformis",
           "NZ_JVOS01000029.1 Escherichia coli",
           "NZ_AENW01000060.1 Clostridium sp.",
           "NZ_CP039126.1 Blautia producta",
           "HF996869.1 Clostridium hathewayi",
           "NZ_JAAISL010000100.1 [Clostridium] symbiosum",
           "NZ_JAAITT010000099.1 Enterocloster aldenensis",
           "HF995415.1 Coprobacillus sp.",
           "NZ_DS499569.1 Intestinibacter bartlettii",
           "NZ_JULC01000001.1 Bifidobacterium scardovii",
           "CABJAX010000001.1 Lachnospiraceae bacterium",
           "NZ_NFJM01000001.1 Flavonifractor plautii",
           "NZ_RQNR01000100.1 Clostridium perfringens",
           "NZ_NFHY01000001.1 Drancourtella sp.",
           "NZ_CP019721.1 Veillonella parvula",
           "NZ_SMCQ01000001.1 Longibaculum muris",
           "NZ_CABIYM010000001.1 Anaerostipes caccae",
           "NZ_SQQK01000001.1 Bifidobacterium dentium",
           "NZ_WMZZ01000099.1 [Ruminococcus] torques",
           "NZ_NFJI01000001.1 [Clostridium] spiroforme",
           "UQGB01000001.1 uncultured Clostridium",
           "USJS01000001.1 uncultured Blautia",
           "HF995324.1 Firmicutes bacterium",
           "NZ_LR793273.1 Streptococcus salivarius",
           "NZ_QGMT01000001.1 Clostridium paraputrificum",
           "NZ_CABKSO010000001.1 Veillonella atypica",
           "NZ_JVCZ01000002.1 Streptococcus parasanguinis",
           "NZ_CABJBH010000001.1 Turicibacter sanguinis",
           "JACRSY010000001.1 Lachnospiraceae bacterium",
           "NZ_CAAFAW010000001.1 Clostridia bacterium",
           "NZ_MPGA01000001.1 Clostridioides difficile",
           "NZ_CABHOC010000001.1 Bifidobacterium longum",
           "URHS01000001.1 uncultured Blautia",
           "NZ_JWHR01000001.1 Terrisporobacter othiniensis",
           "NZ_KQ971228.1 Streptococcus salivarius",
           "NZ_OBJV01000049.1 Clostridium tertium",
           "NZ_CAAEVI010000001.1 Erysipelotrichaceae bacterium",
           "NZ_CYYS01000001.1 Turicibacter sanguinis",
           "NZ_CYZX01000001.1 Clostridium disporicum",
           "NZ_AEKO01000011.1 Streptococcus vestibularis",
           "NZ_WMKP01000010.1 Veillonella dispar",
           "CAAFUY010000001.1 TPA_asm: uncultured",
           "NZ_GL890548.1 Lachnospiraceae bacterium",
           "CAAEUS010000001.1 TPA_asm: uncultured",
           "UQTS01000001.1 uncultured Clostridium",
           "NZ_CP047191.1 Streptococcus thermophilus",
           "NZ_JACOOS010000001.1 Anaerostipes sp."
          ],
          "line": {
           "color": "black",
           "width": 0.5
          },
          "pad": 15,
          "thickness": 20
         },
         "type": "sankey"
        }
       ],
       "layout": {
        "font": {
         "size": 10
        },
        "height": 1000,
        "template": {
         "data": {
          "bar": [
           {
            "error_x": {
             "color": "#2a3f5f"
            },
            "error_y": {
             "color": "#2a3f5f"
            },
            "marker": {
             "line": {
              "color": "#E5ECF6",
              "width": 0.5
             }
            },
            "type": "bar"
           }
          ],
          "barpolar": [
           {
            "marker": {
             "line": {
              "color": "#E5ECF6",
              "width": 0.5
             }
            },
            "type": "barpolar"
           }
          ],
          "carpet": [
           {
            "aaxis": {
             "endlinecolor": "#2a3f5f",
             "gridcolor": "white",
             "linecolor": "white",
             "minorgridcolor": "white",
             "startlinecolor": "#2a3f5f"
            },
            "baxis": {
             "endlinecolor": "#2a3f5f",
             "gridcolor": "white",
             "linecolor": "white",
             "minorgridcolor": "white",
             "startlinecolor": "#2a3f5f"
            },
            "type": "carpet"
           }
          ],
          "choropleth": [
           {
            "colorbar": {
             "outlinewidth": 0,
             "ticks": ""
            },
            "type": "choropleth"
           }
          ],
          "contour": [
           {
            "colorbar": {
             "outlinewidth": 0,
             "ticks": ""
            },
            "colorscale": [
             [
              0,
              "#0d0887"
             ],
             [
              0.1111111111111111,
              "#46039f"
             ],
             [
              0.2222222222222222,
              "#7201a8"
             ],
             [
              0.3333333333333333,
              "#9c179e"
             ],
             [
              0.4444444444444444,
              "#bd3786"
             ],
             [
              0.5555555555555556,
              "#d8576b"
             ],
             [
              0.6666666666666666,
              "#ed7953"
             ],
             [
              0.7777777777777778,
              "#fb9f3a"
             ],
             [
              0.8888888888888888,
              "#fdca26"
             ],
             [
              1,
              "#f0f921"
             ]
            ],
            "type": "contour"
           }
          ],
          "contourcarpet": [
           {
            "colorbar": {
             "outlinewidth": 0,
             "ticks": ""
            },
            "type": "contourcarpet"
           }
          ],
          "heatmap": [
           {
            "colorbar": {
             "outlinewidth": 0,
             "ticks": ""
            },
            "colorscale": [
             [
              0,
              "#0d0887"
             ],
             [
              0.1111111111111111,
              "#46039f"
             ],
             [
              0.2222222222222222,
              "#7201a8"
             ],
             [
              0.3333333333333333,
              "#9c179e"
             ],
             [
              0.4444444444444444,
              "#bd3786"
             ],
             [
              0.5555555555555556,
              "#d8576b"
             ],
             [
              0.6666666666666666,
              "#ed7953"
             ],
             [
              0.7777777777777778,
              "#fb9f3a"
             ],
             [
              0.8888888888888888,
              "#fdca26"
             ],
             [
              1,
              "#f0f921"
             ]
            ],
            "type": "heatmap"
           }
          ],
          "heatmapgl": [
           {
            "colorbar": {
             "outlinewidth": 0,
             "ticks": ""
            },
            "colorscale": [
             [
              0,
              "#0d0887"
             ],
             [
              0.1111111111111111,
              "#46039f"
             ],
             [
              0.2222222222222222,
              "#7201a8"
             ],
             [
              0.3333333333333333,
              "#9c179e"
             ],
             [
              0.4444444444444444,
              "#bd3786"
             ],
             [
              0.5555555555555556,
              "#d8576b"
             ],
             [
              0.6666666666666666,
              "#ed7953"
             ],
             [
              0.7777777777777778,
              "#fb9f3a"
             ],
             [
              0.8888888888888888,
              "#fdca26"
             ],
             [
              1,
              "#f0f921"
             ]
            ],
            "type": "heatmapgl"
           }
          ],
          "histogram": [
           {
            "marker": {
             "colorbar": {
              "outlinewidth": 0,
              "ticks": ""
             }
            },
            "type": "histogram"
           }
          ],
          "histogram2d": [
           {
            "colorbar": {
             "outlinewidth": 0,
             "ticks": ""
            },
            "colorscale": [
             [
              0,
              "#0d0887"
             ],
             [
              0.1111111111111111,
              "#46039f"
             ],
             [
              0.2222222222222222,
              "#7201a8"
             ],
             [
              0.3333333333333333,
              "#9c179e"
             ],
             [
              0.4444444444444444,
              "#bd3786"
             ],
             [
              0.5555555555555556,
              "#d8576b"
             ],
             [
              0.6666666666666666,
              "#ed7953"
             ],
             [
              0.7777777777777778,
              "#fb9f3a"
             ],
             [
              0.8888888888888888,
              "#fdca26"
             ],
             [
              1,
              "#f0f921"
             ]
            ],
            "type": "histogram2d"
           }
          ],
          "histogram2dcontour": [
           {
            "colorbar": {
             "outlinewidth": 0,
             "ticks": ""
            },
            "colorscale": [
             [
              0,
              "#0d0887"
             ],
             [
              0.1111111111111111,
              "#46039f"
             ],
             [
              0.2222222222222222,
              "#7201a8"
             ],
             [
              0.3333333333333333,
              "#9c179e"
             ],
             [
              0.4444444444444444,
              "#bd3786"
             ],
             [
              0.5555555555555556,
              "#d8576b"
             ],
             [
              0.6666666666666666,
              "#ed7953"
             ],
             [
              0.7777777777777778,
              "#fb9f3a"
             ],
             [
              0.8888888888888888,
              "#fdca26"
             ],
             [
              1,
              "#f0f921"
             ]
            ],
            "type": "histogram2dcontour"
           }
          ],
          "mesh3d": [
           {
            "colorbar": {
             "outlinewidth": 0,
             "ticks": ""
            },
            "type": "mesh3d"
           }
          ],
          "parcoords": [
           {
            "line": {
             "colorbar": {
              "outlinewidth": 0,
              "ticks": ""
             }
            },
            "type": "parcoords"
           }
          ],
          "pie": [
           {
            "automargin": true,
            "type": "pie"
           }
          ],
          "scatter": [
           {
            "marker": {
             "colorbar": {
              "outlinewidth": 0,
              "ticks": ""
             }
            },
            "type": "scatter"
           }
          ],
          "scatter3d": [
           {
            "line": {
             "colorbar": {
              "outlinewidth": 0,
              "ticks": ""
             }
            },
            "marker": {
             "colorbar": {
              "outlinewidth": 0,
              "ticks": ""
             }
            },
            "type": "scatter3d"
           }
          ],
          "scattercarpet": [
           {
            "marker": {
             "colorbar": {
              "outlinewidth": 0,
              "ticks": ""
             }
            },
            "type": "scattercarpet"
           }
          ],
          "scattergeo": [
           {
            "marker": {
             "colorbar": {
              "outlinewidth": 0,
              "ticks": ""
             }
            },
            "type": "scattergeo"
           }
          ],
          "scattergl": [
           {
            "marker": {
             "colorbar": {
              "outlinewidth": 0,
              "ticks": ""
             }
            },
            "type": "scattergl"
           }
          ],
          "scattermapbox": [
           {
            "marker": {
             "colorbar": {
              "outlinewidth": 0,
              "ticks": ""
             }
            },
            "type": "scattermapbox"
           }
          ],
          "scatterpolar": [
           {
            "marker": {
             "colorbar": {
              "outlinewidth": 0,
              "ticks": ""
             }
            },
            "type": "scatterpolar"
           }
          ],
          "scatterpolargl": [
           {
            "marker": {
             "colorbar": {
              "outlinewidth": 0,
              "ticks": ""
             }
            },
            "type": "scatterpolargl"
           }
          ],
          "scatterternary": [
           {
            "marker": {
             "colorbar": {
              "outlinewidth": 0,
              "ticks": ""
             }
            },
            "type": "scatterternary"
           }
          ],
          "surface": [
           {
            "colorbar": {
             "outlinewidth": 0,
             "ticks": ""
            },
            "colorscale": [
             [
              0,
              "#0d0887"
             ],
             [
              0.1111111111111111,
              "#46039f"
             ],
             [
              0.2222222222222222,
              "#7201a8"
             ],
             [
              0.3333333333333333,
              "#9c179e"
             ],
             [
              0.4444444444444444,
              "#bd3786"
             ],
             [
              0.5555555555555556,
              "#d8576b"
             ],
             [
              0.6666666666666666,
              "#ed7953"
             ],
             [
              0.7777777777777778,
              "#fb9f3a"
             ],
             [
              0.8888888888888888,
              "#fdca26"
             ],
             [
              1,
              "#f0f921"
             ]
            ],
            "type": "surface"
           }
          ],
          "table": [
           {
            "cells": {
             "fill": {
              "color": "#EBF0F8"
             },
             "line": {
              "color": "white"
             }
            },
            "header": {
             "fill": {
              "color": "#C8D4E3"
             },
             "line": {
              "color": "white"
             }
            },
            "type": "table"
           }
          ]
         },
         "layout": {
          "annotationdefaults": {
           "arrowcolor": "#2a3f5f",
           "arrowhead": 0,
           "arrowwidth": 1
          },
          "coloraxis": {
           "colorbar": {
            "outlinewidth": 0,
            "ticks": ""
           }
          },
          "colorscale": {
           "diverging": [
            [
             0,
             "#8e0152"
            ],
            [
             0.1,
             "#c51b7d"
            ],
            [
             0.2,
             "#de77ae"
            ],
            [
             0.3,
             "#f1b6da"
            ],
            [
             0.4,
             "#fde0ef"
            ],
            [
             0.5,
             "#f7f7f7"
            ],
            [
             0.6,
             "#e6f5d0"
            ],
            [
             0.7,
             "#b8e186"
            ],
            [
             0.8,
             "#7fbc41"
            ],
            [
             0.9,
             "#4d9221"
            ],
            [
             1,
             "#276419"
            ]
           ],
           "sequential": [
            [
             0,
             "#0d0887"
            ],
            [
             0.1111111111111111,
             "#46039f"
            ],
            [
             0.2222222222222222,
             "#7201a8"
            ],
            [
             0.3333333333333333,
             "#9c179e"
            ],
            [
             0.4444444444444444,
             "#bd3786"
            ],
            [
             0.5555555555555556,
             "#d8576b"
            ],
            [
             0.6666666666666666,
             "#ed7953"
            ],
            [
             0.7777777777777778,
             "#fb9f3a"
            ],
            [
             0.8888888888888888,
             "#fdca26"
            ],
            [
             1,
             "#f0f921"
            ]
           ],
           "sequentialminus": [
            [
             0,
             "#0d0887"
            ],
            [
             0.1111111111111111,
             "#46039f"
            ],
            [
             0.2222222222222222,
             "#7201a8"
            ],
            [
             0.3333333333333333,
             "#9c179e"
            ],
            [
             0.4444444444444444,
             "#bd3786"
            ],
            [
             0.5555555555555556,
             "#d8576b"
            ],
            [
             0.6666666666666666,
             "#ed7953"
            ],
            [
             0.7777777777777778,
             "#fb9f3a"
            ],
            [
             0.8888888888888888,
             "#fdca26"
            ],
            [
             1,
             "#f0f921"
            ]
           ]
          },
          "colorway": [
           "#636efa",
           "#EF553B",
           "#00cc96",
           "#ab63fa",
           "#FFA15A",
           "#19d3f3",
           "#FF6692",
           "#B6E880",
           "#FF97FF",
           "#FECB52"
          ],
          "font": {
           "color": "#2a3f5f"
          },
          "geo": {
           "bgcolor": "white",
           "lakecolor": "white",
           "landcolor": "#E5ECF6",
           "showlakes": true,
           "showland": true,
           "subunitcolor": "white"
          },
          "hoverlabel": {
           "align": "left"
          },
          "hovermode": "closest",
          "mapbox": {
           "style": "light"
          },
          "paper_bgcolor": "white",
          "plot_bgcolor": "#E5ECF6",
          "polar": {
           "angularaxis": {
            "gridcolor": "white",
            "linecolor": "white",
            "ticks": ""
           },
           "bgcolor": "#E5ECF6",
           "radialaxis": {
            "gridcolor": "white",
            "linecolor": "white",
            "ticks": ""
           }
          },
          "scene": {
           "xaxis": {
            "backgroundcolor": "#E5ECF6",
            "gridcolor": "white",
            "gridwidth": 2,
            "linecolor": "white",
            "showbackground": true,
            "ticks": "",
            "zerolinecolor": "white"
           },
           "yaxis": {
            "backgroundcolor": "#E5ECF6",
            "gridcolor": "white",
            "gridwidth": 2,
            "linecolor": "white",
            "showbackground": true,
            "ticks": "",
            "zerolinecolor": "white"
           },
           "zaxis": {
            "backgroundcolor": "#E5ECF6",
            "gridcolor": "white",
            "gridwidth": 2,
            "linecolor": "white",
            "showbackground": true,
            "ticks": "",
            "zerolinecolor": "white"
           }
          },
          "shapedefaults": {
           "line": {
            "color": "#2a3f5f"
           }
          },
          "ternary": {
           "aaxis": {
            "gridcolor": "white",
            "linecolor": "white",
            "ticks": ""
           },
           "baxis": {
            "gridcolor": "white",
            "linecolor": "white",
            "ticks": ""
           },
           "bgcolor": "#E5ECF6",
           "caxis": {
            "gridcolor": "white",
            "linecolor": "white",
            "ticks": ""
           }
          },
          "title": {
           "x": 0.05
          },
          "xaxis": {
           "automargin": true,
           "gridcolor": "white",
           "linecolor": "white",
           "ticks": "",
           "title": {
            "standoff": 15
           },
           "zerolinecolor": "white",
           "zerolinewidth": 2
          },
          "yaxis": {
           "automargin": true,
           "gridcolor": "white",
           "linecolor": "white",
           "ticks": "",
           "title": {
            "standoff": 15
           },
           "zerolinecolor": "white",
           "zerolinewidth": 2
          }
         }
        },
        "title": {
         "text": "original genome contributions to top 5 neighborhood covers for gut-preclust (p8808mo11)"
        },
        "width": 800
       }
      },
      "text/html": [
       "<div>\n",
       "        \n",
       "        \n",
       "            <div id=\"966a2f20-e409-4e27-9b8b-17a3c24c24db\" class=\"plotly-graph-div\" style=\"height:1000px; width:800px;\"></div>\n",
       "            <script type=\"text/javascript\">\n",
       "                require([\"plotly\"], function(Plotly) {\n",
       "                    window.PLOTLYENV=window.PLOTLYENV || {};\n",
       "                    \n",
       "                if (document.getElementById(\"966a2f20-e409-4e27-9b8b-17a3c24c24db\")) {\n",
       "                    Plotly.newPlot(\n",
       "                        '966a2f20-e409-4e27-9b8b-17a3c24c24db',\n",
       "                        [{\"link\": {\"color\": [\"palevioletred\", \"palevioletred\", \"palevioletred\", \"lightseagreen\", \"palevioletred\", \"palevioletred\", \"palevioletred\", \"palevioletred\", \"palevioletred\", \"palevioletred\", \"lightseagreen\", \"palevioletred\", \"palevioletred\", \"palevioletred\", \"palevioletred\", \"lightseagreen\", \"palevioletred\", \"palevioletred\", \"palevioletred\", \"lightseagreen\", \"palevioletred\", \"lightseagreen\", \"grey\", \"grey\", \"grey\", \"grey\", \"grey\"], \"label\": [\"\", \"\", \"\", \"\", \"\", \"\", \"\", \"\", \"\", \"\", \"\", \"\", \"\", \"\", \"\", \"\", \"\", \"\", \"\", \"\", \"\", \"\", \"\", \"\", \"\", \"\", \"\"], \"source\": [0, 2, 4, 10, 0, 1, 2, 4, 5, 13, 15, 17, 21, 0, 1, 2, 4, 5, 12, 3, 4, 6, 49, 49, 49, 49, 49], \"target\": [50, 50, 50, 50, 51, 51, 51, 51, 51, 51, 51, 51, 51, 52, 52, 52, 52, 52, 52, 53, 54, 54, 50, 51, 52, 53, 54], \"value\": [23, 21, 19, 3093, 21, 40, 20, 16, 12, 17, 2821, 43, 12, 147, 50, 5449, 276, 34, 13, 4999, 18, 3679, 8471, 7048, 3042, 2729, 3940]}, \"node\": {\"color\": \"blue\", \"label\": [\"HF996869.1 Clostridium hathewayi\", \"NZ_CP039126.1 Blautia producta\", \"NZ_UAVW01000021.1 Enterocloster clostridioformis\", \"NZ_JVOS01000029.1 Escherichia coli\", \"NZ_JAAITT010000099.1 Enterocloster aldenensis\", \"NZ_JAAISL010000100.1 [Clostridium] symbiosum\", \"NZ_AENW01000060.1 Clostridium sp.\", \"HF995415.1 Coprobacillus sp.\", \"NZ_JULC01000001.1 Bifidobacterium scardovii\", \"NZ_RQNR01000100.1 Clostridium perfringens\", \"NZ_SPHF01000091.1 Roseburia hominis\", \"NZ_DS499569.1 Intestinibacter bartlettii\", \"NZ_NFJM01000001.1 Flavonifractor plautii\", \"NZ_NFHY01000001.1 Drancourtella sp.\", \"NZ_SMCQ01000001.1 Longibaculum muris\", \"NZ_NIHW01000001.1 [Ruminococcus] gnavus\", \"NZ_CABIYM010000001.1 Anaerostipes caccae\", \"NZ_WMZZ01000099.1 [Ruminococcus] torques\", \"NZ_SQQK01000001.1 Bifidobacterium dentium\", \"NZ_NFJI01000001.1 [Clostridium] spiroforme\", \"NZ_CP019721.1 Veillonella parvula\", \"CABJAX010000001.1 Lachnospiraceae bacterium\", \"UQGB01000001.1 uncultured Clostridium\", \"HF995324.1 Firmicutes bacterium\", \"USJS01000001.1 uncultured Blautia\", \"NZ_QGMT01000001.1 Clostridium paraputrificum\", \"NZ_CABKSO010000001.1 Veillonella atypica\", \"NZ_CABJBH010000001.1 Turicibacter sanguinis\", \"NZ_LR793273.1 Streptococcus salivarius\", \"NZ_JVCZ01000002.1 Streptococcus parasanguinis\", \"JACRSY010000001.1 Lachnospiraceae bacterium\", \"NZ_CAAFAW010000001.1 Clostridia bacterium\", \"NZ_MPGA01000001.1 Clostridioides difficile\", \"NZ_KQ971228.1 Streptococcus salivarius\", \"NZ_CABHOC010000001.1 Bifidobacterium longum\", \"NZ_AEKO01000011.1 Streptococcus vestibularis\", \"NZ_JWHR01000001.1 Terrisporobacter othiniensis\", \"NZ_OBJV01000049.1 Clostridium tertium\", \"NZ_CAAEVI010000001.1 Erysipelotrichaceae bacterium\", \"NZ_CYYS01000001.1 Turicibacter sanguinis\", \"NZ_CYZX01000001.1 Clostridium disporicum\", \"URHS01000001.1 uncultured Blautia\", \"NZ_WMKP01000010.1 Veillonella dispar\", \"CAAEUS010000001.1 TPA_asm: uncultured\", \"CAAFUY010000001.1 TPA_asm: uncultured\", \"NZ_JACOOS010000001.1 Anaerostipes sp.\", \"NZ_GL890548.1 Lachnospiraceae bacterium\", \"NZ_CP047191.1 Streptococcus thermophilus\", \"UQTS01000001.1 uncultured Clostridium\", \"unassigned\", \"NZ_SPHF01000091.1 Roseburia hominis\", \"NZ_NIHW01000001.1 [Ruminococcus] gnavus\", \"NZ_UAVW01000021.1 Enterocloster clostridioformis\", \"NZ_JVOS01000029.1 Escherichia coli\", \"NZ_AENW01000060.1 Clostridium sp.\", \"NZ_CP039126.1 Blautia producta\", \"HF996869.1 Clostridium hathewayi\", \"NZ_JAAISL010000100.1 [Clostridium] symbiosum\", \"NZ_JAAITT010000099.1 Enterocloster aldenensis\", \"HF995415.1 Coprobacillus sp.\", \"NZ_DS499569.1 Intestinibacter bartlettii\", \"NZ_JULC01000001.1 Bifidobacterium scardovii\", \"CABJAX010000001.1 Lachnospiraceae bacterium\", \"NZ_NFJM01000001.1 Flavonifractor plautii\", \"NZ_RQNR01000100.1 Clostridium perfringens\", \"NZ_NFHY01000001.1 Drancourtella sp.\", \"NZ_CP019721.1 Veillonella parvula\", \"NZ_SMCQ01000001.1 Longibaculum muris\", \"NZ_CABIYM010000001.1 Anaerostipes caccae\", \"NZ_SQQK01000001.1 Bifidobacterium dentium\", \"NZ_WMZZ01000099.1 [Ruminococcus] torques\", \"NZ_NFJI01000001.1 [Clostridium] spiroforme\", \"UQGB01000001.1 uncultured Clostridium\", \"USJS01000001.1 uncultured Blautia\", \"HF995324.1 Firmicutes bacterium\", \"NZ_LR793273.1 Streptococcus salivarius\", \"NZ_QGMT01000001.1 Clostridium paraputrificum\", \"NZ_CABKSO010000001.1 Veillonella atypica\", \"NZ_JVCZ01000002.1 Streptococcus parasanguinis\", \"NZ_CABJBH010000001.1 Turicibacter sanguinis\", \"JACRSY010000001.1 Lachnospiraceae bacterium\", \"NZ_CAAFAW010000001.1 Clostridia bacterium\", \"NZ_MPGA01000001.1 Clostridioides difficile\", \"NZ_CABHOC010000001.1 Bifidobacterium longum\", \"URHS01000001.1 uncultured Blautia\", \"NZ_JWHR01000001.1 Terrisporobacter othiniensis\", \"NZ_KQ971228.1 Streptococcus salivarius\", \"NZ_OBJV01000049.1 Clostridium tertium\", \"NZ_CAAEVI010000001.1 Erysipelotrichaceae bacterium\", \"NZ_CYYS01000001.1 Turicibacter sanguinis\", \"NZ_CYZX01000001.1 Clostridium disporicum\", \"NZ_AEKO01000011.1 Streptococcus vestibularis\", \"NZ_WMKP01000010.1 Veillonella dispar\", \"CAAFUY010000001.1 TPA_asm: uncultured\", \"NZ_GL890548.1 Lachnospiraceae bacterium\", \"CAAEUS010000001.1 TPA_asm: uncultured\", \"UQTS01000001.1 uncultured Clostridium\", \"NZ_CP047191.1 Streptococcus thermophilus\", \"NZ_JACOOS010000001.1 Anaerostipes sp.\"], \"line\": {\"color\": \"black\", \"width\": 0.5}, \"pad\": 15, \"thickness\": 20}, \"type\": \"sankey\"}],\n",
       "                        {\"font\": {\"size\": 10}, \"height\": 1000, \"template\": {\"data\": {\"bar\": [{\"error_x\": {\"color\": \"#2a3f5f\"}, \"error_y\": {\"color\": \"#2a3f5f\"}, \"marker\": {\"line\": {\"color\": \"#E5ECF6\", \"width\": 0.5}}, \"type\": \"bar\"}], \"barpolar\": [{\"marker\": {\"line\": {\"color\": \"#E5ECF6\", \"width\": 0.5}}, \"type\": \"barpolar\"}], \"carpet\": [{\"aaxis\": {\"endlinecolor\": \"#2a3f5f\", \"gridcolor\": \"white\", \"linecolor\": \"white\", \"minorgridcolor\": \"white\", \"startlinecolor\": \"#2a3f5f\"}, \"baxis\": {\"endlinecolor\": \"#2a3f5f\", \"gridcolor\": \"white\", \"linecolor\": \"white\", \"minorgridcolor\": \"white\", \"startlinecolor\": \"#2a3f5f\"}, \"type\": \"carpet\"}], \"choropleth\": [{\"colorbar\": {\"outlinewidth\": 0, \"ticks\": \"\"}, \"type\": \"choropleth\"}], \"contour\": [{\"colorbar\": {\"outlinewidth\": 0, \"ticks\": \"\"}, \"colorscale\": [[0.0, \"#0d0887\"], [0.1111111111111111, \"#46039f\"], [0.2222222222222222, \"#7201a8\"], [0.3333333333333333, \"#9c179e\"], [0.4444444444444444, \"#bd3786\"], [0.5555555555555556, \"#d8576b\"], [0.6666666666666666, \"#ed7953\"], [0.7777777777777778, \"#fb9f3a\"], [0.8888888888888888, \"#fdca26\"], [1.0, \"#f0f921\"]], \"type\": \"contour\"}], \"contourcarpet\": [{\"colorbar\": {\"outlinewidth\": 0, \"ticks\": \"\"}, \"type\": \"contourcarpet\"}], \"heatmap\": [{\"colorbar\": {\"outlinewidth\": 0, \"ticks\": \"\"}, \"colorscale\": [[0.0, \"#0d0887\"], [0.1111111111111111, \"#46039f\"], [0.2222222222222222, \"#7201a8\"], [0.3333333333333333, \"#9c179e\"], [0.4444444444444444, \"#bd3786\"], [0.5555555555555556, \"#d8576b\"], [0.6666666666666666, \"#ed7953\"], [0.7777777777777778, \"#fb9f3a\"], [0.8888888888888888, \"#fdca26\"], [1.0, \"#f0f921\"]], \"type\": \"heatmap\"}], \"heatmapgl\": [{\"colorbar\": {\"outlinewidth\": 0, \"ticks\": \"\"}, \"colorscale\": [[0.0, \"#0d0887\"], [0.1111111111111111, \"#46039f\"], [0.2222222222222222, \"#7201a8\"], [0.3333333333333333, \"#9c179e\"], [0.4444444444444444, \"#bd3786\"], [0.5555555555555556, \"#d8576b\"], [0.6666666666666666, \"#ed7953\"], [0.7777777777777778, \"#fb9f3a\"], [0.8888888888888888, \"#fdca26\"], [1.0, \"#f0f921\"]], \"type\": \"heatmapgl\"}], \"histogram\": [{\"marker\": {\"colorbar\": {\"outlinewidth\": 0, \"ticks\": \"\"}}, \"type\": \"histogram\"}], \"histogram2d\": [{\"colorbar\": {\"outlinewidth\": 0, \"ticks\": \"\"}, \"colorscale\": [[0.0, \"#0d0887\"], [0.1111111111111111, \"#46039f\"], [0.2222222222222222, \"#7201a8\"], [0.3333333333333333, \"#9c179e\"], [0.4444444444444444, \"#bd3786\"], [0.5555555555555556, \"#d8576b\"], [0.6666666666666666, \"#ed7953\"], [0.7777777777777778, \"#fb9f3a\"], [0.8888888888888888, \"#fdca26\"], [1.0, \"#f0f921\"]], \"type\": \"histogram2d\"}], \"histogram2dcontour\": [{\"colorbar\": {\"outlinewidth\": 0, \"ticks\": \"\"}, \"colorscale\": [[0.0, \"#0d0887\"], [0.1111111111111111, \"#46039f\"], [0.2222222222222222, \"#7201a8\"], [0.3333333333333333, \"#9c179e\"], [0.4444444444444444, \"#bd3786\"], [0.5555555555555556, \"#d8576b\"], [0.6666666666666666, \"#ed7953\"], [0.7777777777777778, \"#fb9f3a\"], [0.8888888888888888, \"#fdca26\"], [1.0, \"#f0f921\"]], \"type\": \"histogram2dcontour\"}], \"mesh3d\": [{\"colorbar\": {\"outlinewidth\": 0, \"ticks\": \"\"}, \"type\": \"mesh3d\"}], \"parcoords\": [{\"line\": {\"colorbar\": {\"outlinewidth\": 0, \"ticks\": \"\"}}, \"type\": \"parcoords\"}], \"pie\": [{\"automargin\": true, \"type\": \"pie\"}], \"scatter\": [{\"marker\": {\"colorbar\": {\"outlinewidth\": 0, \"ticks\": \"\"}}, \"type\": \"scatter\"}], \"scatter3d\": [{\"line\": {\"colorbar\": {\"outlinewidth\": 0, \"ticks\": \"\"}}, \"marker\": {\"colorbar\": {\"outlinewidth\": 0, \"ticks\": \"\"}}, \"type\": \"scatter3d\"}], \"scattercarpet\": [{\"marker\": {\"colorbar\": {\"outlinewidth\": 0, \"ticks\": \"\"}}, \"type\": \"scattercarpet\"}], \"scattergeo\": [{\"marker\": {\"colorbar\": {\"outlinewidth\": 0, \"ticks\": \"\"}}, \"type\": \"scattergeo\"}], \"scattergl\": [{\"marker\": {\"colorbar\": {\"outlinewidth\": 0, \"ticks\": \"\"}}, \"type\": \"scattergl\"}], \"scattermapbox\": [{\"marker\": {\"colorbar\": {\"outlinewidth\": 0, \"ticks\": \"\"}}, \"type\": \"scattermapbox\"}], \"scatterpolar\": [{\"marker\": {\"colorbar\": {\"outlinewidth\": 0, \"ticks\": \"\"}}, \"type\": \"scatterpolar\"}], \"scatterpolargl\": [{\"marker\": {\"colorbar\": {\"outlinewidth\": 0, \"ticks\": \"\"}}, \"type\": \"scatterpolargl\"}], \"scatterternary\": [{\"marker\": {\"colorbar\": {\"outlinewidth\": 0, \"ticks\": \"\"}}, \"type\": \"scatterternary\"}], \"surface\": [{\"colorbar\": {\"outlinewidth\": 0, \"ticks\": \"\"}, \"colorscale\": [[0.0, \"#0d0887\"], [0.1111111111111111, \"#46039f\"], [0.2222222222222222, \"#7201a8\"], [0.3333333333333333, \"#9c179e\"], [0.4444444444444444, \"#bd3786\"], [0.5555555555555556, \"#d8576b\"], [0.6666666666666666, \"#ed7953\"], [0.7777777777777778, \"#fb9f3a\"], [0.8888888888888888, \"#fdca26\"], [1.0, \"#f0f921\"]], \"type\": \"surface\"}], \"table\": [{\"cells\": {\"fill\": {\"color\": \"#EBF0F8\"}, \"line\": {\"color\": \"white\"}}, \"header\": {\"fill\": {\"color\": \"#C8D4E3\"}, \"line\": {\"color\": \"white\"}}, \"type\": \"table\"}]}, \"layout\": {\"annotationdefaults\": {\"arrowcolor\": \"#2a3f5f\", \"arrowhead\": 0, \"arrowwidth\": 1}, \"coloraxis\": {\"colorbar\": {\"outlinewidth\": 0, \"ticks\": \"\"}}, \"colorscale\": {\"diverging\": [[0, \"#8e0152\"], [0.1, \"#c51b7d\"], [0.2, \"#de77ae\"], [0.3, \"#f1b6da\"], [0.4, \"#fde0ef\"], [0.5, \"#f7f7f7\"], [0.6, \"#e6f5d0\"], [0.7, \"#b8e186\"], [0.8, \"#7fbc41\"], [0.9, \"#4d9221\"], [1, \"#276419\"]], \"sequential\": [[0.0, \"#0d0887\"], [0.1111111111111111, \"#46039f\"], [0.2222222222222222, \"#7201a8\"], [0.3333333333333333, \"#9c179e\"], [0.4444444444444444, \"#bd3786\"], [0.5555555555555556, \"#d8576b\"], [0.6666666666666666, \"#ed7953\"], [0.7777777777777778, \"#fb9f3a\"], [0.8888888888888888, \"#fdca26\"], [1.0, \"#f0f921\"]], \"sequentialminus\": [[0.0, \"#0d0887\"], [0.1111111111111111, \"#46039f\"], [0.2222222222222222, \"#7201a8\"], [0.3333333333333333, \"#9c179e\"], [0.4444444444444444, \"#bd3786\"], [0.5555555555555556, \"#d8576b\"], [0.6666666666666666, \"#ed7953\"], [0.7777777777777778, \"#fb9f3a\"], [0.8888888888888888, \"#fdca26\"], [1.0, \"#f0f921\"]]}, \"colorway\": [\"#636efa\", \"#EF553B\", \"#00cc96\", \"#ab63fa\", \"#FFA15A\", \"#19d3f3\", \"#FF6692\", \"#B6E880\", \"#FF97FF\", \"#FECB52\"], \"font\": {\"color\": \"#2a3f5f\"}, \"geo\": {\"bgcolor\": \"white\", \"lakecolor\": \"white\", \"landcolor\": \"#E5ECF6\", \"showlakes\": true, \"showland\": true, \"subunitcolor\": \"white\"}, \"hoverlabel\": {\"align\": \"left\"}, \"hovermode\": \"closest\", \"mapbox\": {\"style\": \"light\"}, \"paper_bgcolor\": \"white\", \"plot_bgcolor\": \"#E5ECF6\", \"polar\": {\"angularaxis\": {\"gridcolor\": \"white\", \"linecolor\": \"white\", \"ticks\": \"\"}, \"bgcolor\": \"#E5ECF6\", \"radialaxis\": {\"gridcolor\": \"white\", \"linecolor\": \"white\", \"ticks\": \"\"}}, \"scene\": {\"xaxis\": {\"backgroundcolor\": \"#E5ECF6\", \"gridcolor\": \"white\", \"gridwidth\": 2, \"linecolor\": \"white\", \"showbackground\": true, \"ticks\": \"\", \"zerolinecolor\": \"white\"}, \"yaxis\": {\"backgroundcolor\": \"#E5ECF6\", \"gridcolor\": \"white\", \"gridwidth\": 2, \"linecolor\": \"white\", \"showbackground\": true, \"ticks\": \"\", \"zerolinecolor\": \"white\"}, \"zaxis\": {\"backgroundcolor\": \"#E5ECF6\", \"gridcolor\": \"white\", \"gridwidth\": 2, \"linecolor\": \"white\", \"showbackground\": true, \"ticks\": \"\", \"zerolinecolor\": \"white\"}}, \"shapedefaults\": {\"line\": {\"color\": \"#2a3f5f\"}}, \"ternary\": {\"aaxis\": {\"gridcolor\": \"white\", \"linecolor\": \"white\", \"ticks\": \"\"}, \"baxis\": {\"gridcolor\": \"white\", \"linecolor\": \"white\", \"ticks\": \"\"}, \"bgcolor\": \"#E5ECF6\", \"caxis\": {\"gridcolor\": \"white\", \"linecolor\": \"white\", \"ticks\": \"\"}}, \"title\": {\"x\": 0.05}, \"xaxis\": {\"automargin\": true, \"gridcolor\": \"white\", \"linecolor\": \"white\", \"ticks\": \"\", \"title\": {\"standoff\": 15}, \"zerolinecolor\": \"white\", \"zerolinewidth\": 2}, \"yaxis\": {\"automargin\": true, \"gridcolor\": \"white\", \"linecolor\": \"white\", \"ticks\": \"\", \"title\": {\"standoff\": 15}, \"zerolinecolor\": \"white\", \"zerolinewidth\": 2}}}, \"title\": {\"text\": \"original genome contributions to top 5 neighborhood covers for gut-preclust (p8808mo11)\"}, \"width\": 800},\n",
       "                        {\"responsive\": true}\n",
       "                    ).then(function(){\n",
       "                            \n",
       "var gd = document.getElementById('966a2f20-e409-4e27-9b8b-17a3c24c24db');\n",
       "var x = new MutationObserver(function (mutations, observer) {{\n",
       "        var display = window.getComputedStyle(gd).display;\n",
       "        if (!display || display === 'none') {{\n",
       "            console.log([gd, 'removed!']);\n",
       "            Plotly.purge(gd);\n",
       "            observer.disconnect();\n",
       "        }}\n",
       "}});\n",
       "\n",
       "// Listen for the removal of the full notebook cells\n",
       "var notebookContainer = gd.closest('#notebook-container');\n",
       "if (notebookContainer) {{\n",
       "    x.observe(notebookContainer, {childList: true});\n",
       "}}\n",
       "\n",
       "// Listen for the clearing of the current output cell\n",
       "var outputEl = gd.closest('.output');\n",
       "if (outputEl) {{\n",
       "    x.observe(outputEl, {childList: true});\n",
       "}}\n",
       "\n",
       "                        })\n",
       "                };\n",
       "                });\n",
       "            </script>\n",
       "        </div>"
      ]
     },
     "metadata": {},
     "output_type": "display_data"
    }
   ],
   "source": [
    "NUM=5\n",
    "fig = make_fig(NUM)\n",
    "\n",
    "fig.update_layout(title_text=f\"original genome contributions to top {NUM} neighborhood covers for {name} ({acc})\", font_size=10)\n",
    "fig.update_layout(width=800, height=1000)\n",
    "fig.show()"
   ]
  },
  {
   "cell_type": "code",
   "execution_count": null,
   "metadata": {},
   "outputs": [],
   "source": []
  }
 ],
 "metadata": {
  "kernelspec": {
   "display_name": "Python (myenv)",
   "language": "python",
   "name": "myenv"
  },
  "language_info": {
   "codemirror_mode": {
    "name": "ipython",
    "version": 3
   },
   "file_extension": ".py",
   "mimetype": "text/x-python",
   "name": "python",
   "nbconvert_exporter": "python",
   "pygments_lexer": "ipython3",
   "version": "3.7.6"
  }
 },
 "nbformat": 4,
 "nbformat_minor": 4
}
