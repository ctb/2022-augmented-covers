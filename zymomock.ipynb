{
 "cells": [
  {
   "cell_type": "code",
   "execution_count": 5,
   "metadata": {},
   "outputs": [],
   "source": [
    "import sourmash\n",
    "import csv"
   ]
  },
  {
   "cell_type": "code",
   "execution_count": 2,
   "metadata": {},
   "outputs": [
    {
     "name": "stdout",
     "output_type": "stream",
     "text": [
      "README.md       \u001b[34mzymomock\u001b[m\u001b[m/       zymomock.ipynb  zymomock.zip\r\n"
     ]
    }
   ],
   "source": [
    "ls"
   ]
  },
  {
   "cell_type": "code",
   "execution_count": 3,
   "metadata": {},
   "outputs": [
    {
     "name": "stdout",
     "output_type": "stream",
     "text": [
      "SRR12324253.abundtrim.sig  zymomock-queries.zip\r\n",
      "zymomock-nbhds.zip\r\n"
     ]
    }
   ],
   "source": [
    "ls zymomock"
   ]
  },
  {
   "cell_type": "code",
   "execution_count": 40,
   "metadata": {},
   "outputs": [
    {
     "name": "stdout",
     "output_type": "stream",
     "text": [
      "\u001b[K\n",
      "== This is sourmash version 4.2.4.dev0+g73aeb155.d20220116. ==\n",
      "\u001b[K== Please cite Brown and Irber (2016), doi:10.21105/joss.00027. ==\n",
      "\n",
      "\u001b[Kselecting default query k=31.\n",
      "\u001b[Kloaded query: SRR12324253... (k=31, DNA)\n",
      "\u001b[Kloaded 1 databases.                                                            \n",
      "\n",
      "\u001b[KStarting prefetch sweep across databases.\n",
      "\u001b[KFound 18 signatures via prefetch; now doing gather.\n",
      "\n",
      "overlap     p_query p_match\n",
      "---------   ------- -------\n",
      "15.8 Mbp      10.9%   62.7%    SSXJ01000001.1 Cryptococcus neoforman...\n",
      "11.3 Mbp       7.8%   97.6%    WMJW01000001.1 Saccharomyces cerevisi...\n",
      "7.4 Mbp        5.1%   67.7%    JSPL01000060.1 Escherichia coli strai...\n",
      "4.7 Mbp        3.2%   98.4%    VFAF01000002.1 Salmonella enterica st...\n",
      "4.0 Mbp        2.7%   99.8%    CP039755.1 Bacillus subtilis strain N...\n",
      "5.2 Mbp        2.2%   43.3%    FREP01002036.1 Escherichia coli isola...\n",
      "2.8 Mbp        1.9%  100.0%    CP039751.1 Listeria monocytogenes str...\n",
      "2.7 Mbp        1.9%   99.8%    VFAE01000004.1 Staphylococcus aureus ...\n",
      "10.3 Mbp       1.3%   10.0%    AE017341.1 Cryptococcus neoformans va...\n",
      "1.8 Mbp        1.2%   99.8%    CP039750.1 Limosilactobacillus fermen...\n",
      "6.8 Mbp        1.2%   26.3%    CP041013.1 Pseudomonas aeruginosa str...\n",
      "8.4 Mbp        1.1%    9.1%    CP003820.1 Cryptococcus neoformans va...\n",
      "2.8 Mbp        0.7%   36.0%    CP039752.1 Enterococcus faecalis stra...\n",
      "4.7 Mbp        0.6%   20.0%    VFAG01000002.1 Escherichia coli strai...\n",
      "10.6 Mbp       0.5%    2.4%    LOQK01000001.1 Saccharomyces pastoria...\n",
      "0.5 Mbp        0.4%    9.6%    VEMH01000100.1 Bacillus paranthracis ...\n",
      "10.3 Mbp       0.2%    2.5%    CM010209.1 Saccharomyces cerevisiae s...\n",
      "10.4 Mbp       0.1%    1.3%    CM006175.1 Saccharomyces cerevisiae s...\n",
      "\u001b[Kfound less than 50.0 kbp in common. => exiting\n",
      "\n",
      "found 18 matches total;\n",
      "the recovered matches hit 42.9% of the query\n",
      "\n"
     ]
    }
   ],
   "source": [
    "!sourmash gather ./zymomock/SRR12324253.abundtrim.sig ./zymomock/zymomock-queries.zip -o queries.x.zymomock.csv --ignore-abundance"
   ]
  },
  {
   "cell_type": "code",
   "execution_count": 50,
   "metadata": {},
   "outputs": [
    {
     "name": "stdout",
     "output_type": "stream",
     "text": [
      "\u001b[K\n",
      "== This is sourmash version 4.2.4.dev0+g73aeb155.d20220116. ==\n",
      "\u001b[K== Please cite Brown and Irber (2016), doi:10.21105/joss.00027. ==\n",
      "\n",
      "\u001b[Kselecting default query k=31.\n",
      "\u001b[Kloaded query: SRR12324253... (k=31, DNA)\n",
      "\u001b[Kloaded 1 databases.                                                            \n",
      "\n",
      "\u001b[KStarting prefetch sweep across databases.\n",
      "\u001b[KFound 18 signatures via prefetch; now doing gather.\n",
      "\n",
      "overlap     p_query p_match\n",
      "---------   ------- -------\n",
      "20.3 Mbp      14.0%  100.0%    nbhd:JSPL01000060.1 Escherichia coli ...\n",
      "19.5 Mbp      13.4%  100.0%    nbhd:SSXJ01000001.1 Cryptococcus neof...\n",
      "12.7 Mbp       8.7%   99.9%    nbhd:WMJW01000001.1 Saccharomyces cer...\n",
      "12.8 Mbp       8.4%   96.0%    nbhd:VFAF01000002.1 Salmonella enteri...\n",
      "13.7 Mbp       4.6%   49.0%    nbhd:FREP01002036.1 Escherichia coli ...\n",
      "4.7 Mbp        3.2%   99.4%    nbhd:CP039755.1 Bacillus subtilis str...\n",
      "3.8 Mbp        2.6%   99.3%    nbhd:VFAE01000004.1 Staphylococcus au...\n",
      "3.6 Mbp        2.5%   99.4%    nbhd:CP039750.1 Limosilactobacillus f...\n",
      "16.0 Mbp       2.2%   20.4%    nbhd:CP041013.1 Pseudomonas aeruginos...\n",
      "3.3 Mbp        2.2%   98.7%    nbhd:CP039751.1 Listeria monocytogene...\n",
      "12.0 Mbp       1.2%   14.2%    nbhd:VFAG01000002.1 Escherichia coli ...\n",
      "5.4 Mbp        0.9%   24.8%    nbhd:CP039752.1 Enterococcus faecalis...\n",
      "0.7 Mbp        0.4%   91.2%    nbhd:VEMH01000100.1 Bacillus paranthr...\n",
      "16.2 Mbp       0.4%    3.7%    nbhd:AE017341.1 Cryptococcus neoforma...\n",
      "15.1 Mbp       0.3%    3.0%    nbhd:CP003820.1 Cryptococcus neoforma...\n",
      "12.6 Mbp       0.3%    3.1%    nbhd:LOQK01000001.1 Saccharomyces pas...\n",
      "12.5 Mbp       0.1%    1.4%    nbhd:CM010209.1 Saccharomyces cerevis...\n",
      "12.6 Mbp       0.1%    0.6%    nbhd:CM006175.1 Saccharomyces cerevis...\n",
      "\u001b[Kfound less than 50.0 kbp in common. => exiting\n",
      "\n",
      "found 18 matches total;\n",
      "the recovered matches hit 65.5% of the query\n",
      "\n"
     ]
    }
   ],
   "source": [
    "!sourmash gather ./zymomock/SRR12324253.abundtrim.sig ./zymomock/zymomock-nbhds.zip -o nbhds.x.zymomock.csv --ignore-abundance"
   ]
  },
  {
   "cell_type": "code",
   "execution_count": 41,
   "metadata": {},
   "outputs": [],
   "source": [
    "def get_ident(name):\n",
    "    \"pick off identifier, stripping off nbhd: prefix if present.\"\n",
    "    name = name.split(' ')[0]\n",
    "    if name.startswith('nbhd:'):\n",
    "        name = name[5:]\n",
    "    return name"
   ]
  },
  {
   "cell_type": "code",
   "execution_count": 108,
   "metadata": {},
   "outputs": [],
   "source": [
    "gather1 = []\n",
    "with open('queries.x.zymomock.csv', newline=\"\") as fp:\n",
    "    r = csv.DictReader(fp)\n",
    "    gather1.extend(r)\n",
    "\n",
    "full_idents = {}\n",
    "\n",
    "gather1_d = {}\n",
    "gather1_keys = []\n",
    "for row in gather1:\n",
    "    ident = get_ident(row['name'])\n",
    "    full_idents[ident] = \" \".join(row['name'].split(' ')[:3])\n",
    "    gather1_d[ident] = row\n",
    "    gather1_keys.append(ident)"
   ]
  },
  {
   "cell_type": "code",
   "execution_count": 51,
   "metadata": {},
   "outputs": [],
   "source": [
    "gather2 = []\n",
    "with open('nbhds.x.zymomock.csv', newline=\"\") as fp:\n",
    "    r = csv.DictReader(fp)\n",
    "    gather2.extend(r)\n",
    "    \n",
    "\n",
    "gather2_d = {}\n",
    "gather2_keys = []\n",
    "for row in gather2:\n",
    "    ident = get_ident(row['name'])\n",
    "    gather2_d[ident] = row\n",
    "    gather2_keys.append(ident)"
   ]
  },
  {
   "cell_type": "code",
   "execution_count": 43,
   "metadata": {},
   "outputs": [],
   "source": [
    "metag = sourmash.load_one_signature('zymomock/SRR12324253.abundtrim.sig', ksize=31)"
   ]
  },
  {
   "cell_type": "code",
   "execution_count": 44,
   "metadata": {},
   "outputs": [],
   "source": [
    "queries = list(sourmash.load_file_as_signatures('zymomock/zymomock-queries.zip'))\n",
    "queries_d = {}\n",
    "for ss in queries:\n",
    "    ident = get_ident(ss.name)\n",
    "    queries_d[ident] = ss"
   ]
  },
  {
   "cell_type": "code",
   "execution_count": 45,
   "metadata": {},
   "outputs": [],
   "source": [
    "nbhds = list(sourmash.load_file_as_signatures('zymomock/zymomock-nbhds.zip'))\n",
    "nbhds_d = {}\n",
    "for ss in nbhds:\n",
    "    ident = get_ident(ss.name)\n",
    "    nbhds_d[ident] = ss"
   ]
  },
  {
   "cell_type": "code",
   "execution_count": 59,
   "metadata": {},
   "outputs": [],
   "source": [
    "remaining_hashes = set(metag.minhash.hashes)\n",
    "unique_hashes_1x = []\n",
    "for ident in gather1_keys:\n",
    "    row = gather1_d[ident]\n",
    "    match = queries_d[ident]\n",
    "    match_hashes = set(match.minhash.hashes)\n",
    "    unique_overlap = remaining_hashes & match_hashes\n",
    "    #print(ident, len(remaining_hashes), len(unique_overlap), row['unique_intersect_bp'], row['remaining_bp'])\n",
    "    remaining_hashes -= unique_overlap\n",
    "    unique_hashes_1x.append((ident, unique_overlap))\n"
   ]
  },
  {
   "cell_type": "code",
   "execution_count": 60,
   "metadata": {},
   "outputs": [],
   "source": [
    "remaining_hashes = set(metag.minhash.hashes)\n",
    "unique_hashes_2x = []\n",
    "for ident in gather2_keys:\n",
    "    row = gather2_d[ident]\n",
    "    match = nbhds_d[ident]\n",
    "    match_hashes = set(match.minhash.hashes)\n",
    "    unique_overlap = remaining_hashes & match_hashes\n",
    "    #print(ident, len(remaining_hashes), len(unique_overlap), row['unique_intersect_bp'], row['remaining_bp'])\n",
    "    remaining_hashes -= unique_overlap\n",
    "    unique_hashes_2x.append((ident, unique_overlap))\n"
   ]
  },
  {
   "cell_type": "code",
   "execution_count": 61,
   "metadata": {},
   "outputs": [
    {
     "name": "stdout",
     "output_type": "stream",
     "text": [
      "JSPL01000060.1 <= WMJW01000001.1 - 1\n",
      "JSPL01000060.1 <= JSPL01000060.1 - 7395\n",
      "JSPL01000060.1 <= VFAF01000002.1 - 58\n",
      "JSPL01000060.1 <= CP039755.1 - 2\n",
      "JSPL01000060.1 <= FREP01002036.1 - 540\n",
      "JSPL01000060.1 <= CP041013.1 - 462\n",
      "JSPL01000060.1 <= VFAG01000002.1 - 200\n",
      "xxx JSPL01000060.1 20341 8658\n",
      "---\n",
      "SSXJ01000001.1 <= SSXJ01000001.1 - 15566\n",
      "SSXJ01000001.1 <= AE017341.1 - 1420\n",
      "SSXJ01000001.1 <= CP003820.1 - 1271\n",
      "xxx SSXJ01000001.1 19471 18257\n",
      "---\n",
      "WMJW01000001.1 <= WMJW01000001.1 - 11025\n",
      "WMJW01000001.1 <= LOQK01000001.1 - 317\n",
      "WMJW01000001.1 <= CM010209.1 - 153\n",
      "WMJW01000001.1 <= CM006175.1 - 64\n",
      "xxx WMJW01000001.1 12686 11559\n",
      "---\n",
      "VFAF01000002.1 <= VFAF01000002.1 - 4562\n",
      "VFAF01000002.1 <= CP039755.1 - 1\n",
      "VFAF01000002.1 <= FREP01002036.1 - 1\n",
      "VFAF01000002.1 <= VFAG01000002.1 - 1\n",
      "xxx VFAF01000002.1 12274 4565\n",
      "---\n",
      "FREP01002036.1 <= CP039755.1 - 3\n",
      "FREP01002036.1 <= FREP01002036.1 - 2656\n",
      "FREP01002036.1 <= CP039751.1 - 8\n",
      "FREP01002036.1 <= CP039752.1 - 384\n",
      "FREP01002036.1 <= VFAG01000002.1 - 80\n",
      "xxx FREP01002036.1 6694 3131\n",
      "---\n",
      "CP039755.1 <= CP039755.1 - 3960\n",
      "CP039755.1 <= CP039751.1 - 1\n",
      "xxx CP039755.1 4662 3961\n",
      "---\n",
      "VFAE01000004.1 <= CP039751.1 - 5\n",
      "VFAE01000004.1 <= VFAE01000004.1 - 2712\n",
      "xxx VFAE01000004.1 3750 2717\n",
      "---\n",
      "CP039750.1 <= CP039750.1 - 1800\n",
      "xxx CP039750.1 3576 1800\n",
      "---\n",
      "CP041013.1 <= CP041013.1 - 1335\n",
      "xxx CP041013.1 3269 1335\n",
      "---\n",
      "CP039751.1 <= CP039751.1 - 2800\n",
      "CP039751.1 <= CP039752.1 - 1\n",
      "xxx CP039751.1 3255 2801\n",
      "---\n",
      "VFAG01000002.1 <= VFAG01000002.1 - 656\n",
      "xxx VFAG01000002.1 1709 656\n",
      "---\n",
      "CP039752.1 <= CP039752.1 - 627\n",
      "xxx CP039752.1 1333 627\n",
      "---\n",
      "VEMH01000100.1 <= VEMH01000100.1 - 524\n",
      "xxx VEMH01000100.1 594 524\n",
      "---\n",
      "AE017341.1 <= SSXJ01000001.1 - 63\n",
      "AE017341.1 <= AE017341.1 - 390\n",
      "AE017341.1 <= CP003820.1 - 33\n",
      "xxx AE017341.1 592 486\n",
      "---\n",
      "CP003820.1 <= SSXJ01000001.1 - 40\n",
      "CP003820.1 <= AE017341.1 - 1\n",
      "CP003820.1 <= CP003820.1 - 350\n",
      "xxx CP003820.1 454 391\n",
      "---\n",
      "LOQK01000001.1 <= WMJW01000001.1 - 54\n",
      "LOQK01000001.1 <= LOQK01000001.1 - 264\n",
      "LOQK01000001.1 <= CM010209.1 - 13\n",
      "LOQK01000001.1 <= CM006175.1 - 9\n",
      "xxx LOQK01000001.1 392 340\n",
      "---\n",
      "CM010209.1 <= WMJW01000001.1 - 3\n",
      "CM010209.1 <= LOQK01000001.1 - 28\n",
      "CM010209.1 <= CM010209.1 - 100\n",
      "CM010209.1 <= CM006175.1 - 5\n",
      "xxx CM010209.1 172 136\n",
      "---\n",
      "CM006175.1 <= LOQK01000001.1 - 4\n",
      "CM006175.1 <= CM010209.1 - 1\n",
      "CM006175.1 <= CM006175.1 - 61\n",
      "xxx CM006175.1 73 66\n",
      "---\n"
     ]
    }
   ],
   "source": [
    "for (nbhd_ident, nbhd_match) in unique_hashes_2x:\n",
    "    total = 0\n",
    "    for (query_ident, query_match) in unique_hashes_1x:\n",
    "        overlap = query_match & nbhd_match\n",
    "        \n",
    "        if overlap:\n",
    "            print(f\"{nbhd_ident} <= {query_ident} - {len(overlap)}\")\n",
    "            total += len(overlap)\n",
    "    print('xxx', nbhd_ident, len(nbhd_match), total)\n",
    "    print('---')"
   ]
  },
  {
   "cell_type": "code",
   "execution_count": 62,
   "metadata": {},
   "outputs": [],
   "source": [
    "import plotly.graph_objects as go"
   ]
  },
  {
   "cell_type": "code",
   "execution_count": 113,
   "metadata": {},
   "outputs": [
    {
     "name": "stdout",
     "output_type": "stream",
     "text": [
      "JSPL01000060.1 <= WMJW01000001.1 - 1\n",
      "JSPL01000060.1 <= JSPL01000060.1 - 7395\n",
      "JSPL01000060.1 <= VFAF01000002.1 - 58\n",
      "JSPL01000060.1 <= CP039755.1 - 2\n",
      "JSPL01000060.1 <= FREP01002036.1 - 540\n",
      "JSPL01000060.1 <= CP041013.1 - 462\n",
      "JSPL01000060.1 <= VFAG01000002.1 - 200\n",
      "xxx JSPL01000060.1 20341 8658\n",
      "---\n",
      "SSXJ01000001.1 <= SSXJ01000001.1 - 15566\n",
      "SSXJ01000001.1 <= AE017341.1 - 1420\n",
      "SSXJ01000001.1 <= CP003820.1 - 1271\n",
      "xxx SSXJ01000001.1 19471 18257\n",
      "---\n",
      "WMJW01000001.1 <= WMJW01000001.1 - 11025\n",
      "WMJW01000001.1 <= LOQK01000001.1 - 317\n",
      "WMJW01000001.1 <= CM010209.1 - 153\n",
      "WMJW01000001.1 <= CM006175.1 - 64\n",
      "xxx WMJW01000001.1 12686 11559\n",
      "---\n",
      "XYZ 18 19\n",
      "XYZ 18 20\n",
      "XYZ 18 21\n"
     ]
    }
   ],
   "source": [
    "def make_fig():\n",
    "    #labels = obj.make_labels()\n",
    "    #src_l, dest_l, cnt_l, color_l, label_l = obj.make_lists()\n",
    "    labels = []\n",
    "    src_l = []\n",
    "    dest_l = []\n",
    "    cnt_l = []\n",
    "    color_l = []\n",
    "    label_l = []\n",
    "    \n",
    "    source_idx = {}\n",
    "    for n, (query_ident, _) in enumerate(unique_hashes_1x):\n",
    "        source_idx[query_ident] = n\n",
    "        labels.append(full_idents[query_ident])\n",
    "    dest_idx = {}\n",
    "    source_idx[\"unassigned\"] = len(unique_hashes_1x)\n",
    "    labels.append(\"unassigned\")\n",
    "    base = len(unique_hashes_1x) + 1\n",
    "    for n, (nbhd_ident, _) in enumerate(unique_hashes_2x):\n",
    "        dest_idx[nbhd_ident] = base + n\n",
    "        labels.append(full_idents[nbhd_ident])\n",
    "        \n",
    "    #source_idx[\"unassigned\"] = base + n + 1\n",
    "    \n",
    "    # iterate over all sinks, account for all sources\n",
    "    num = 0\n",
    "    leftovers = []\n",
    "    for (nbhd_ident, nbhd_match) in unique_hashes_2x:\n",
    "        total = 0\n",
    "        for (query_ident, query_match) in unique_hashes_1x:\n",
    "            overlap = query_match & nbhd_match\n",
    "        \n",
    "            if overlap:\n",
    "                print(f\"{nbhd_ident} <= {query_ident} - {len(overlap)}\")\n",
    "                total += len(overlap)\n",
    "                from_idx = source_idx[query_ident]\n",
    "                to_idx = dest_idx[nbhd_ident]\n",
    "                \n",
    "                src_l.append(from_idx)\n",
    "                dest_l.append(to_idx)\n",
    "                cnt_l.append(len(overlap))\n",
    "                if query_ident == nbhd_ident:\n",
    "                    color_l.append(\"lightseagreen\")\n",
    "                else:\n",
    "                    color_l.append(\"palevioletred\")\n",
    "                label_l.append(\"\")\n",
    "    \n",
    "        print('xxx', nbhd_ident, len(nbhd_match), total)\n",
    "        leftover = len(nbhd_match) - total\n",
    "        \n",
    "        if leftover:\n",
    "            leftovers.append((nbhd_ident, leftover))\n",
    "\n",
    "        print('---')\n",
    "        #break\n",
    "        num += 1\n",
    "        if num == 3:\n",
    "            break\n",
    "            \n",
    "    if leftovers:\n",
    "        for nbhd_ident, leftover in leftovers:\n",
    "            from_idx = source_idx[\"unassigned\"]\n",
    "            to_idx = dest_idx[nbhd_ident]\n",
    "\n",
    "            src_l.append(from_idx)\n",
    "            dest_l.append(to_idx)\n",
    "            cnt_l.append(leftover)\n",
    "            color_l.append(\"grey\")\n",
    "            label_l.append(\"\")\n",
    "            print('XYZ', from_idx, to_idx)\n",
    "        \n",
    "\n",
    "    fig = go.Figure(data=[go.Sankey(\n",
    "        node = dict(\n",
    "          pad = 15,\n",
    "          thickness = 20,\n",
    "          line = dict(color = \"black\", width = 0.5),\n",
    "          label = labels,\n",
    "          color = \"blue\"\n",
    "        ),\n",
    "        link = dict(\n",
    "          source = src_l,\n",
    "          target = dest_l,\n",
    "          value = cnt_l,\n",
    "          color = color_l,\n",
    "          label = label_l,\n",
    "      ))])\n",
    "    \n",
    "    return fig\n",
    "\n",
    "fig = make_fig()\n"
   ]
  },
  {
   "cell_type": "code",
   "execution_count": 117,
   "metadata": {},
   "outputs": [
    {
     "data": {
      "application/vnd.plotly.v1+json": {
       "config": {
        "plotlyServerURL": "https://plot.ly"
       },
       "data": [
        {
         "link": {
          "color": [
           "palevioletred",
           "lightseagreen",
           "palevioletred",
           "palevioletred",
           "palevioletred",
           "palevioletred",
           "palevioletred",
           "lightseagreen",
           "palevioletred",
           "palevioletred",
           "lightseagreen",
           "palevioletred",
           "palevioletred",
           "palevioletred",
           "grey",
           "grey",
           "grey"
          ],
          "label": [
           "",
           "",
           "",
           "",
           "",
           "",
           "",
           "",
           "",
           "",
           "",
           "",
           "",
           "",
           "",
           "",
           ""
          ],
          "source": [
           1,
           2,
           3,
           4,
           5,
           10,
           13,
           0,
           8,
           11,
           1,
           14,
           16,
           17,
           18,
           18,
           18
          ],
          "target": [
           19,
           19,
           19,
           19,
           19,
           19,
           19,
           20,
           20,
           20,
           21,
           21,
           21,
           21,
           19,
           20,
           21
          ],
          "value": [
           1,
           7395,
           58,
           2,
           540,
           462,
           200,
           15566,
           1420,
           1271,
           11025,
           317,
           153,
           64,
           11683,
           1214,
           1127
          ]
         },
         "node": {
          "color": "blue",
          "label": [
           "SSXJ01000001.1 Cryptococcus neoformans",
           "WMJW01000001.1 Saccharomyces cerevisiae",
           "JSPL01000060.1 Escherichia coli",
           "VFAF01000002.1 Salmonella enterica",
           "CP039755.1 Bacillus subtilis",
           "FREP01002036.1 Escherichia coli",
           "CP039751.1 Listeria monocytogenes",
           "VFAE01000004.1 Staphylococcus aureus",
           "AE017341.1 Cryptococcus neoformans",
           "CP039750.1 Limosilactobacillus fermentum",
           "CP041013.1 Pseudomonas aeruginosa",
           "CP003820.1 Cryptococcus neoformans",
           "CP039752.1 Enterococcus faecalis",
           "VFAG01000002.1 Escherichia coli",
           "LOQK01000001.1 Saccharomyces pastorianus",
           "VEMH01000100.1 Bacillus paranthracis",
           "CM010209.1 Saccharomyces cerevisiae",
           "CM006175.1 Saccharomyces cerevisiae",
           "unassigned",
           "JSPL01000060.1 Escherichia coli",
           "SSXJ01000001.1 Cryptococcus neoformans",
           "WMJW01000001.1 Saccharomyces cerevisiae",
           "VFAF01000002.1 Salmonella enterica",
           "FREP01002036.1 Escherichia coli",
           "CP039755.1 Bacillus subtilis",
           "VFAE01000004.1 Staphylococcus aureus",
           "CP039750.1 Limosilactobacillus fermentum",
           "CP041013.1 Pseudomonas aeruginosa",
           "CP039751.1 Listeria monocytogenes",
           "VFAG01000002.1 Escherichia coli",
           "CP039752.1 Enterococcus faecalis",
           "VEMH01000100.1 Bacillus paranthracis",
           "AE017341.1 Cryptococcus neoformans",
           "CP003820.1 Cryptococcus neoformans",
           "LOQK01000001.1 Saccharomyces pastorianus",
           "CM010209.1 Saccharomyces cerevisiae",
           "CM006175.1 Saccharomyces cerevisiae"
          ],
          "line": {
           "color": "black",
           "width": 0.5
          },
          "pad": 15,
          "thickness": 20
         },
         "type": "sankey"
        }
       ],
       "layout": {
        "font": {
         "size": 10
        },
        "template": {
         "data": {
          "bar": [
           {
            "error_x": {
             "color": "#2a3f5f"
            },
            "error_y": {
             "color": "#2a3f5f"
            },
            "marker": {
             "line": {
              "color": "#E5ECF6",
              "width": 0.5
             }
            },
            "type": "bar"
           }
          ],
          "barpolar": [
           {
            "marker": {
             "line": {
              "color": "#E5ECF6",
              "width": 0.5
             }
            },
            "type": "barpolar"
           }
          ],
          "carpet": [
           {
            "aaxis": {
             "endlinecolor": "#2a3f5f",
             "gridcolor": "white",
             "linecolor": "white",
             "minorgridcolor": "white",
             "startlinecolor": "#2a3f5f"
            },
            "baxis": {
             "endlinecolor": "#2a3f5f",
             "gridcolor": "white",
             "linecolor": "white",
             "minorgridcolor": "white",
             "startlinecolor": "#2a3f5f"
            },
            "type": "carpet"
           }
          ],
          "choropleth": [
           {
            "colorbar": {
             "outlinewidth": 0,
             "ticks": ""
            },
            "type": "choropleth"
           }
          ],
          "contour": [
           {
            "colorbar": {
             "outlinewidth": 0,
             "ticks": ""
            },
            "colorscale": [
             [
              0,
              "#0d0887"
             ],
             [
              0.1111111111111111,
              "#46039f"
             ],
             [
              0.2222222222222222,
              "#7201a8"
             ],
             [
              0.3333333333333333,
              "#9c179e"
             ],
             [
              0.4444444444444444,
              "#bd3786"
             ],
             [
              0.5555555555555556,
              "#d8576b"
             ],
             [
              0.6666666666666666,
              "#ed7953"
             ],
             [
              0.7777777777777778,
              "#fb9f3a"
             ],
             [
              0.8888888888888888,
              "#fdca26"
             ],
             [
              1,
              "#f0f921"
             ]
            ],
            "type": "contour"
           }
          ],
          "contourcarpet": [
           {
            "colorbar": {
             "outlinewidth": 0,
             "ticks": ""
            },
            "type": "contourcarpet"
           }
          ],
          "heatmap": [
           {
            "colorbar": {
             "outlinewidth": 0,
             "ticks": ""
            },
            "colorscale": [
             [
              0,
              "#0d0887"
             ],
             [
              0.1111111111111111,
              "#46039f"
             ],
             [
              0.2222222222222222,
              "#7201a8"
             ],
             [
              0.3333333333333333,
              "#9c179e"
             ],
             [
              0.4444444444444444,
              "#bd3786"
             ],
             [
              0.5555555555555556,
              "#d8576b"
             ],
             [
              0.6666666666666666,
              "#ed7953"
             ],
             [
              0.7777777777777778,
              "#fb9f3a"
             ],
             [
              0.8888888888888888,
              "#fdca26"
             ],
             [
              1,
              "#f0f921"
             ]
            ],
            "type": "heatmap"
           }
          ],
          "heatmapgl": [
           {
            "colorbar": {
             "outlinewidth": 0,
             "ticks": ""
            },
            "colorscale": [
             [
              0,
              "#0d0887"
             ],
             [
              0.1111111111111111,
              "#46039f"
             ],
             [
              0.2222222222222222,
              "#7201a8"
             ],
             [
              0.3333333333333333,
              "#9c179e"
             ],
             [
              0.4444444444444444,
              "#bd3786"
             ],
             [
              0.5555555555555556,
              "#d8576b"
             ],
             [
              0.6666666666666666,
              "#ed7953"
             ],
             [
              0.7777777777777778,
              "#fb9f3a"
             ],
             [
              0.8888888888888888,
              "#fdca26"
             ],
             [
              1,
              "#f0f921"
             ]
            ],
            "type": "heatmapgl"
           }
          ],
          "histogram": [
           {
            "marker": {
             "colorbar": {
              "outlinewidth": 0,
              "ticks": ""
             }
            },
            "type": "histogram"
           }
          ],
          "histogram2d": [
           {
            "colorbar": {
             "outlinewidth": 0,
             "ticks": ""
            },
            "colorscale": [
             [
              0,
              "#0d0887"
             ],
             [
              0.1111111111111111,
              "#46039f"
             ],
             [
              0.2222222222222222,
              "#7201a8"
             ],
             [
              0.3333333333333333,
              "#9c179e"
             ],
             [
              0.4444444444444444,
              "#bd3786"
             ],
             [
              0.5555555555555556,
              "#d8576b"
             ],
             [
              0.6666666666666666,
              "#ed7953"
             ],
             [
              0.7777777777777778,
              "#fb9f3a"
             ],
             [
              0.8888888888888888,
              "#fdca26"
             ],
             [
              1,
              "#f0f921"
             ]
            ],
            "type": "histogram2d"
           }
          ],
          "histogram2dcontour": [
           {
            "colorbar": {
             "outlinewidth": 0,
             "ticks": ""
            },
            "colorscale": [
             [
              0,
              "#0d0887"
             ],
             [
              0.1111111111111111,
              "#46039f"
             ],
             [
              0.2222222222222222,
              "#7201a8"
             ],
             [
              0.3333333333333333,
              "#9c179e"
             ],
             [
              0.4444444444444444,
              "#bd3786"
             ],
             [
              0.5555555555555556,
              "#d8576b"
             ],
             [
              0.6666666666666666,
              "#ed7953"
             ],
             [
              0.7777777777777778,
              "#fb9f3a"
             ],
             [
              0.8888888888888888,
              "#fdca26"
             ],
             [
              1,
              "#f0f921"
             ]
            ],
            "type": "histogram2dcontour"
           }
          ],
          "mesh3d": [
           {
            "colorbar": {
             "outlinewidth": 0,
             "ticks": ""
            },
            "type": "mesh3d"
           }
          ],
          "parcoords": [
           {
            "line": {
             "colorbar": {
              "outlinewidth": 0,
              "ticks": ""
             }
            },
            "type": "parcoords"
           }
          ],
          "pie": [
           {
            "automargin": true,
            "type": "pie"
           }
          ],
          "scatter": [
           {
            "marker": {
             "colorbar": {
              "outlinewidth": 0,
              "ticks": ""
             }
            },
            "type": "scatter"
           }
          ],
          "scatter3d": [
           {
            "line": {
             "colorbar": {
              "outlinewidth": 0,
              "ticks": ""
             }
            },
            "marker": {
             "colorbar": {
              "outlinewidth": 0,
              "ticks": ""
             }
            },
            "type": "scatter3d"
           }
          ],
          "scattercarpet": [
           {
            "marker": {
             "colorbar": {
              "outlinewidth": 0,
              "ticks": ""
             }
            },
            "type": "scattercarpet"
           }
          ],
          "scattergeo": [
           {
            "marker": {
             "colorbar": {
              "outlinewidth": 0,
              "ticks": ""
             }
            },
            "type": "scattergeo"
           }
          ],
          "scattergl": [
           {
            "marker": {
             "colorbar": {
              "outlinewidth": 0,
              "ticks": ""
             }
            },
            "type": "scattergl"
           }
          ],
          "scattermapbox": [
           {
            "marker": {
             "colorbar": {
              "outlinewidth": 0,
              "ticks": ""
             }
            },
            "type": "scattermapbox"
           }
          ],
          "scatterpolar": [
           {
            "marker": {
             "colorbar": {
              "outlinewidth": 0,
              "ticks": ""
             }
            },
            "type": "scatterpolar"
           }
          ],
          "scatterpolargl": [
           {
            "marker": {
             "colorbar": {
              "outlinewidth": 0,
              "ticks": ""
             }
            },
            "type": "scatterpolargl"
           }
          ],
          "scatterternary": [
           {
            "marker": {
             "colorbar": {
              "outlinewidth": 0,
              "ticks": ""
             }
            },
            "type": "scatterternary"
           }
          ],
          "surface": [
           {
            "colorbar": {
             "outlinewidth": 0,
             "ticks": ""
            },
            "colorscale": [
             [
              0,
              "#0d0887"
             ],
             [
              0.1111111111111111,
              "#46039f"
             ],
             [
              0.2222222222222222,
              "#7201a8"
             ],
             [
              0.3333333333333333,
              "#9c179e"
             ],
             [
              0.4444444444444444,
              "#bd3786"
             ],
             [
              0.5555555555555556,
              "#d8576b"
             ],
             [
              0.6666666666666666,
              "#ed7953"
             ],
             [
              0.7777777777777778,
              "#fb9f3a"
             ],
             [
              0.8888888888888888,
              "#fdca26"
             ],
             [
              1,
              "#f0f921"
             ]
            ],
            "type": "surface"
           }
          ],
          "table": [
           {
            "cells": {
             "fill": {
              "color": "#EBF0F8"
             },
             "line": {
              "color": "white"
             }
            },
            "header": {
             "fill": {
              "color": "#C8D4E3"
             },
             "line": {
              "color": "white"
             }
            },
            "type": "table"
           }
          ]
         },
         "layout": {
          "annotationdefaults": {
           "arrowcolor": "#2a3f5f",
           "arrowhead": 0,
           "arrowwidth": 1
          },
          "coloraxis": {
           "colorbar": {
            "outlinewidth": 0,
            "ticks": ""
           }
          },
          "colorscale": {
           "diverging": [
            [
             0,
             "#8e0152"
            ],
            [
             0.1,
             "#c51b7d"
            ],
            [
             0.2,
             "#de77ae"
            ],
            [
             0.3,
             "#f1b6da"
            ],
            [
             0.4,
             "#fde0ef"
            ],
            [
             0.5,
             "#f7f7f7"
            ],
            [
             0.6,
             "#e6f5d0"
            ],
            [
             0.7,
             "#b8e186"
            ],
            [
             0.8,
             "#7fbc41"
            ],
            [
             0.9,
             "#4d9221"
            ],
            [
             1,
             "#276419"
            ]
           ],
           "sequential": [
            [
             0,
             "#0d0887"
            ],
            [
             0.1111111111111111,
             "#46039f"
            ],
            [
             0.2222222222222222,
             "#7201a8"
            ],
            [
             0.3333333333333333,
             "#9c179e"
            ],
            [
             0.4444444444444444,
             "#bd3786"
            ],
            [
             0.5555555555555556,
             "#d8576b"
            ],
            [
             0.6666666666666666,
             "#ed7953"
            ],
            [
             0.7777777777777778,
             "#fb9f3a"
            ],
            [
             0.8888888888888888,
             "#fdca26"
            ],
            [
             1,
             "#f0f921"
            ]
           ],
           "sequentialminus": [
            [
             0,
             "#0d0887"
            ],
            [
             0.1111111111111111,
             "#46039f"
            ],
            [
             0.2222222222222222,
             "#7201a8"
            ],
            [
             0.3333333333333333,
             "#9c179e"
            ],
            [
             0.4444444444444444,
             "#bd3786"
            ],
            [
             0.5555555555555556,
             "#d8576b"
            ],
            [
             0.6666666666666666,
             "#ed7953"
            ],
            [
             0.7777777777777778,
             "#fb9f3a"
            ],
            [
             0.8888888888888888,
             "#fdca26"
            ],
            [
             1,
             "#f0f921"
            ]
           ]
          },
          "colorway": [
           "#636efa",
           "#EF553B",
           "#00cc96",
           "#ab63fa",
           "#FFA15A",
           "#19d3f3",
           "#FF6692",
           "#B6E880",
           "#FF97FF",
           "#FECB52"
          ],
          "font": {
           "color": "#2a3f5f"
          },
          "geo": {
           "bgcolor": "white",
           "lakecolor": "white",
           "landcolor": "#E5ECF6",
           "showlakes": true,
           "showland": true,
           "subunitcolor": "white"
          },
          "hoverlabel": {
           "align": "left"
          },
          "hovermode": "closest",
          "mapbox": {
           "style": "light"
          },
          "paper_bgcolor": "white",
          "plot_bgcolor": "#E5ECF6",
          "polar": {
           "angularaxis": {
            "gridcolor": "white",
            "linecolor": "white",
            "ticks": ""
           },
           "bgcolor": "#E5ECF6",
           "radialaxis": {
            "gridcolor": "white",
            "linecolor": "white",
            "ticks": ""
           }
          },
          "scene": {
           "xaxis": {
            "backgroundcolor": "#E5ECF6",
            "gridcolor": "white",
            "gridwidth": 2,
            "linecolor": "white",
            "showbackground": true,
            "ticks": "",
            "zerolinecolor": "white"
           },
           "yaxis": {
            "backgroundcolor": "#E5ECF6",
            "gridcolor": "white",
            "gridwidth": 2,
            "linecolor": "white",
            "showbackground": true,
            "ticks": "",
            "zerolinecolor": "white"
           },
           "zaxis": {
            "backgroundcolor": "#E5ECF6",
            "gridcolor": "white",
            "gridwidth": 2,
            "linecolor": "white",
            "showbackground": true,
            "ticks": "",
            "zerolinecolor": "white"
           }
          },
          "shapedefaults": {
           "line": {
            "color": "#2a3f5f"
           }
          },
          "ternary": {
           "aaxis": {
            "gridcolor": "white",
            "linecolor": "white",
            "ticks": ""
           },
           "baxis": {
            "gridcolor": "white",
            "linecolor": "white",
            "ticks": ""
           },
           "bgcolor": "#E5ECF6",
           "caxis": {
            "gridcolor": "white",
            "linecolor": "white",
            "ticks": ""
           }
          },
          "title": {
           "x": 0.05
          },
          "xaxis": {
           "automargin": true,
           "gridcolor": "white",
           "linecolor": "white",
           "ticks": "",
           "title": {
            "standoff": 15
           },
           "zerolinecolor": "white",
           "zerolinewidth": 2
          },
          "yaxis": {
           "automargin": true,
           "gridcolor": "white",
           "linecolor": "white",
           "ticks": "",
           "title": {
            "standoff": 15
           },
           "zerolinecolor": "white",
           "zerolinewidth": 2
          }
         }
        },
        "title": {
         "text": "original genome contributions to top 3 neighborhood covers for zymomock"
        }
       }
      },
      "text/html": [
       "<div>\n",
       "        \n",
       "        \n",
       "            <div id=\"4f8962eb-9ffd-40ca-af9f-bac2c540832b\" class=\"plotly-graph-div\" style=\"height:525px; width:100%;\"></div>\n",
       "            <script type=\"text/javascript\">\n",
       "                require([\"plotly\"], function(Plotly) {\n",
       "                    window.PLOTLYENV=window.PLOTLYENV || {};\n",
       "                    \n",
       "                if (document.getElementById(\"4f8962eb-9ffd-40ca-af9f-bac2c540832b\")) {\n",
       "                    Plotly.newPlot(\n",
       "                        '4f8962eb-9ffd-40ca-af9f-bac2c540832b',\n",
       "                        [{\"link\": {\"color\": [\"palevioletred\", \"lightseagreen\", \"palevioletred\", \"palevioletred\", \"palevioletred\", \"palevioletred\", \"palevioletred\", \"lightseagreen\", \"palevioletred\", \"palevioletred\", \"lightseagreen\", \"palevioletred\", \"palevioletred\", \"palevioletred\", \"grey\", \"grey\", \"grey\"], \"label\": [\"\", \"\", \"\", \"\", \"\", \"\", \"\", \"\", \"\", \"\", \"\", \"\", \"\", \"\", \"\", \"\", \"\"], \"source\": [1, 2, 3, 4, 5, 10, 13, 0, 8, 11, 1, 14, 16, 17, 18, 18, 18], \"target\": [19, 19, 19, 19, 19, 19, 19, 20, 20, 20, 21, 21, 21, 21, 19, 20, 21], \"value\": [1, 7395, 58, 2, 540, 462, 200, 15566, 1420, 1271, 11025, 317, 153, 64, 11683, 1214, 1127]}, \"node\": {\"color\": \"blue\", \"label\": [\"SSXJ01000001.1 Cryptococcus neoformans\", \"WMJW01000001.1 Saccharomyces cerevisiae\", \"JSPL01000060.1 Escherichia coli\", \"VFAF01000002.1 Salmonella enterica\", \"CP039755.1 Bacillus subtilis\", \"FREP01002036.1 Escherichia coli\", \"CP039751.1 Listeria monocytogenes\", \"VFAE01000004.1 Staphylococcus aureus\", \"AE017341.1 Cryptococcus neoformans\", \"CP039750.1 Limosilactobacillus fermentum\", \"CP041013.1 Pseudomonas aeruginosa\", \"CP003820.1 Cryptococcus neoformans\", \"CP039752.1 Enterococcus faecalis\", \"VFAG01000002.1 Escherichia coli\", \"LOQK01000001.1 Saccharomyces pastorianus\", \"VEMH01000100.1 Bacillus paranthracis\", \"CM010209.1 Saccharomyces cerevisiae\", \"CM006175.1 Saccharomyces cerevisiae\", \"unassigned\", \"JSPL01000060.1 Escherichia coli\", \"SSXJ01000001.1 Cryptococcus neoformans\", \"WMJW01000001.1 Saccharomyces cerevisiae\", \"VFAF01000002.1 Salmonella enterica\", \"FREP01002036.1 Escherichia coli\", \"CP039755.1 Bacillus subtilis\", \"VFAE01000004.1 Staphylococcus aureus\", \"CP039750.1 Limosilactobacillus fermentum\", \"CP041013.1 Pseudomonas aeruginosa\", \"CP039751.1 Listeria monocytogenes\", \"VFAG01000002.1 Escherichia coli\", \"CP039752.1 Enterococcus faecalis\", \"VEMH01000100.1 Bacillus paranthracis\", \"AE017341.1 Cryptococcus neoformans\", \"CP003820.1 Cryptococcus neoformans\", \"LOQK01000001.1 Saccharomyces pastorianus\", \"CM010209.1 Saccharomyces cerevisiae\", \"CM006175.1 Saccharomyces cerevisiae\"], \"line\": {\"color\": \"black\", \"width\": 0.5}, \"pad\": 15, \"thickness\": 20}, \"type\": \"sankey\"}],\n",
       "                        {\"font\": {\"size\": 10}, \"template\": {\"data\": {\"bar\": [{\"error_x\": {\"color\": \"#2a3f5f\"}, \"error_y\": {\"color\": \"#2a3f5f\"}, \"marker\": {\"line\": {\"color\": \"#E5ECF6\", \"width\": 0.5}}, \"type\": \"bar\"}], \"barpolar\": [{\"marker\": {\"line\": {\"color\": \"#E5ECF6\", \"width\": 0.5}}, \"type\": \"barpolar\"}], \"carpet\": [{\"aaxis\": {\"endlinecolor\": \"#2a3f5f\", \"gridcolor\": \"white\", \"linecolor\": \"white\", \"minorgridcolor\": \"white\", \"startlinecolor\": \"#2a3f5f\"}, \"baxis\": {\"endlinecolor\": \"#2a3f5f\", \"gridcolor\": \"white\", \"linecolor\": \"white\", \"minorgridcolor\": \"white\", \"startlinecolor\": \"#2a3f5f\"}, \"type\": \"carpet\"}], \"choropleth\": [{\"colorbar\": {\"outlinewidth\": 0, \"ticks\": \"\"}, \"type\": \"choropleth\"}], \"contour\": [{\"colorbar\": {\"outlinewidth\": 0, \"ticks\": \"\"}, \"colorscale\": [[0.0, \"#0d0887\"], [0.1111111111111111, \"#46039f\"], [0.2222222222222222, \"#7201a8\"], [0.3333333333333333, \"#9c179e\"], [0.4444444444444444, \"#bd3786\"], [0.5555555555555556, \"#d8576b\"], [0.6666666666666666, \"#ed7953\"], [0.7777777777777778, \"#fb9f3a\"], [0.8888888888888888, \"#fdca26\"], [1.0, \"#f0f921\"]], \"type\": \"contour\"}], \"contourcarpet\": [{\"colorbar\": {\"outlinewidth\": 0, \"ticks\": \"\"}, \"type\": \"contourcarpet\"}], \"heatmap\": [{\"colorbar\": {\"outlinewidth\": 0, \"ticks\": \"\"}, \"colorscale\": [[0.0, \"#0d0887\"], [0.1111111111111111, \"#46039f\"], [0.2222222222222222, \"#7201a8\"], [0.3333333333333333, \"#9c179e\"], [0.4444444444444444, \"#bd3786\"], [0.5555555555555556, \"#d8576b\"], [0.6666666666666666, \"#ed7953\"], [0.7777777777777778, \"#fb9f3a\"], [0.8888888888888888, \"#fdca26\"], [1.0, \"#f0f921\"]], \"type\": \"heatmap\"}], \"heatmapgl\": [{\"colorbar\": {\"outlinewidth\": 0, \"ticks\": \"\"}, \"colorscale\": [[0.0, \"#0d0887\"], [0.1111111111111111, \"#46039f\"], [0.2222222222222222, \"#7201a8\"], [0.3333333333333333, \"#9c179e\"], [0.4444444444444444, \"#bd3786\"], [0.5555555555555556, \"#d8576b\"], [0.6666666666666666, \"#ed7953\"], [0.7777777777777778, \"#fb9f3a\"], [0.8888888888888888, \"#fdca26\"], [1.0, \"#f0f921\"]], \"type\": \"heatmapgl\"}], \"histogram\": [{\"marker\": {\"colorbar\": {\"outlinewidth\": 0, \"ticks\": \"\"}}, \"type\": \"histogram\"}], \"histogram2d\": [{\"colorbar\": {\"outlinewidth\": 0, \"ticks\": \"\"}, \"colorscale\": [[0.0, \"#0d0887\"], [0.1111111111111111, \"#46039f\"], [0.2222222222222222, \"#7201a8\"], [0.3333333333333333, \"#9c179e\"], [0.4444444444444444, \"#bd3786\"], [0.5555555555555556, \"#d8576b\"], [0.6666666666666666, \"#ed7953\"], [0.7777777777777778, \"#fb9f3a\"], [0.8888888888888888, \"#fdca26\"], [1.0, \"#f0f921\"]], \"type\": \"histogram2d\"}], \"histogram2dcontour\": [{\"colorbar\": {\"outlinewidth\": 0, \"ticks\": \"\"}, \"colorscale\": [[0.0, \"#0d0887\"], [0.1111111111111111, \"#46039f\"], [0.2222222222222222, \"#7201a8\"], [0.3333333333333333, \"#9c179e\"], [0.4444444444444444, \"#bd3786\"], [0.5555555555555556, \"#d8576b\"], [0.6666666666666666, \"#ed7953\"], [0.7777777777777778, \"#fb9f3a\"], [0.8888888888888888, \"#fdca26\"], [1.0, \"#f0f921\"]], \"type\": \"histogram2dcontour\"}], \"mesh3d\": [{\"colorbar\": {\"outlinewidth\": 0, \"ticks\": \"\"}, \"type\": \"mesh3d\"}], \"parcoords\": [{\"line\": {\"colorbar\": {\"outlinewidth\": 0, \"ticks\": \"\"}}, \"type\": \"parcoords\"}], \"pie\": [{\"automargin\": true, \"type\": \"pie\"}], \"scatter\": [{\"marker\": {\"colorbar\": {\"outlinewidth\": 0, \"ticks\": \"\"}}, \"type\": \"scatter\"}], \"scatter3d\": [{\"line\": {\"colorbar\": {\"outlinewidth\": 0, \"ticks\": \"\"}}, \"marker\": {\"colorbar\": {\"outlinewidth\": 0, \"ticks\": \"\"}}, \"type\": \"scatter3d\"}], \"scattercarpet\": [{\"marker\": {\"colorbar\": {\"outlinewidth\": 0, \"ticks\": \"\"}}, \"type\": \"scattercarpet\"}], \"scattergeo\": [{\"marker\": {\"colorbar\": {\"outlinewidth\": 0, \"ticks\": \"\"}}, \"type\": \"scattergeo\"}], \"scattergl\": [{\"marker\": {\"colorbar\": {\"outlinewidth\": 0, \"ticks\": \"\"}}, \"type\": \"scattergl\"}], \"scattermapbox\": [{\"marker\": {\"colorbar\": {\"outlinewidth\": 0, \"ticks\": \"\"}}, \"type\": \"scattermapbox\"}], \"scatterpolar\": [{\"marker\": {\"colorbar\": {\"outlinewidth\": 0, \"ticks\": \"\"}}, \"type\": \"scatterpolar\"}], \"scatterpolargl\": [{\"marker\": {\"colorbar\": {\"outlinewidth\": 0, \"ticks\": \"\"}}, \"type\": \"scatterpolargl\"}], \"scatterternary\": [{\"marker\": {\"colorbar\": {\"outlinewidth\": 0, \"ticks\": \"\"}}, \"type\": \"scatterternary\"}], \"surface\": [{\"colorbar\": {\"outlinewidth\": 0, \"ticks\": \"\"}, \"colorscale\": [[0.0, \"#0d0887\"], [0.1111111111111111, \"#46039f\"], [0.2222222222222222, \"#7201a8\"], [0.3333333333333333, \"#9c179e\"], [0.4444444444444444, \"#bd3786\"], [0.5555555555555556, \"#d8576b\"], [0.6666666666666666, \"#ed7953\"], [0.7777777777777778, \"#fb9f3a\"], [0.8888888888888888, \"#fdca26\"], [1.0, \"#f0f921\"]], \"type\": \"surface\"}], \"table\": [{\"cells\": {\"fill\": {\"color\": \"#EBF0F8\"}, \"line\": {\"color\": \"white\"}}, \"header\": {\"fill\": {\"color\": \"#C8D4E3\"}, \"line\": {\"color\": \"white\"}}, \"type\": \"table\"}]}, \"layout\": {\"annotationdefaults\": {\"arrowcolor\": \"#2a3f5f\", \"arrowhead\": 0, \"arrowwidth\": 1}, \"coloraxis\": {\"colorbar\": {\"outlinewidth\": 0, \"ticks\": \"\"}}, \"colorscale\": {\"diverging\": [[0, \"#8e0152\"], [0.1, \"#c51b7d\"], [0.2, \"#de77ae\"], [0.3, \"#f1b6da\"], [0.4, \"#fde0ef\"], [0.5, \"#f7f7f7\"], [0.6, \"#e6f5d0\"], [0.7, \"#b8e186\"], [0.8, \"#7fbc41\"], [0.9, \"#4d9221\"], [1, \"#276419\"]], \"sequential\": [[0.0, \"#0d0887\"], [0.1111111111111111, \"#46039f\"], [0.2222222222222222, \"#7201a8\"], [0.3333333333333333, \"#9c179e\"], [0.4444444444444444, \"#bd3786\"], [0.5555555555555556, \"#d8576b\"], [0.6666666666666666, \"#ed7953\"], [0.7777777777777778, \"#fb9f3a\"], [0.8888888888888888, \"#fdca26\"], [1.0, \"#f0f921\"]], \"sequentialminus\": [[0.0, \"#0d0887\"], [0.1111111111111111, \"#46039f\"], [0.2222222222222222, \"#7201a8\"], [0.3333333333333333, \"#9c179e\"], [0.4444444444444444, \"#bd3786\"], [0.5555555555555556, \"#d8576b\"], [0.6666666666666666, \"#ed7953\"], [0.7777777777777778, \"#fb9f3a\"], [0.8888888888888888, \"#fdca26\"], [1.0, \"#f0f921\"]]}, \"colorway\": [\"#636efa\", \"#EF553B\", \"#00cc96\", \"#ab63fa\", \"#FFA15A\", \"#19d3f3\", \"#FF6692\", \"#B6E880\", \"#FF97FF\", \"#FECB52\"], \"font\": {\"color\": \"#2a3f5f\"}, \"geo\": {\"bgcolor\": \"white\", \"lakecolor\": \"white\", \"landcolor\": \"#E5ECF6\", \"showlakes\": true, \"showland\": true, \"subunitcolor\": \"white\"}, \"hoverlabel\": {\"align\": \"left\"}, \"hovermode\": \"closest\", \"mapbox\": {\"style\": \"light\"}, \"paper_bgcolor\": \"white\", \"plot_bgcolor\": \"#E5ECF6\", \"polar\": {\"angularaxis\": {\"gridcolor\": \"white\", \"linecolor\": \"white\", \"ticks\": \"\"}, \"bgcolor\": \"#E5ECF6\", \"radialaxis\": {\"gridcolor\": \"white\", \"linecolor\": \"white\", \"ticks\": \"\"}}, \"scene\": {\"xaxis\": {\"backgroundcolor\": \"#E5ECF6\", \"gridcolor\": \"white\", \"gridwidth\": 2, \"linecolor\": \"white\", \"showbackground\": true, \"ticks\": \"\", \"zerolinecolor\": \"white\"}, \"yaxis\": {\"backgroundcolor\": \"#E5ECF6\", \"gridcolor\": \"white\", \"gridwidth\": 2, \"linecolor\": \"white\", \"showbackground\": true, \"ticks\": \"\", \"zerolinecolor\": \"white\"}, \"zaxis\": {\"backgroundcolor\": \"#E5ECF6\", \"gridcolor\": \"white\", \"gridwidth\": 2, \"linecolor\": \"white\", \"showbackground\": true, \"ticks\": \"\", \"zerolinecolor\": \"white\"}}, \"shapedefaults\": {\"line\": {\"color\": \"#2a3f5f\"}}, \"ternary\": {\"aaxis\": {\"gridcolor\": \"white\", \"linecolor\": \"white\", \"ticks\": \"\"}, \"baxis\": {\"gridcolor\": \"white\", \"linecolor\": \"white\", \"ticks\": \"\"}, \"bgcolor\": \"#E5ECF6\", \"caxis\": {\"gridcolor\": \"white\", \"linecolor\": \"white\", \"ticks\": \"\"}}, \"title\": {\"x\": 0.05}, \"xaxis\": {\"automargin\": true, \"gridcolor\": \"white\", \"linecolor\": \"white\", \"ticks\": \"\", \"title\": {\"standoff\": 15}, \"zerolinecolor\": \"white\", \"zerolinewidth\": 2}, \"yaxis\": {\"automargin\": true, \"gridcolor\": \"white\", \"linecolor\": \"white\", \"ticks\": \"\", \"title\": {\"standoff\": 15}, \"zerolinecolor\": \"white\", \"zerolinewidth\": 2}}}, \"title\": {\"text\": \"original genome contributions to top 3 neighborhood covers for zymomock\"}},\n",
       "                        {\"responsive\": true}\n",
       "                    ).then(function(){\n",
       "                            \n",
       "var gd = document.getElementById('4f8962eb-9ffd-40ca-af9f-bac2c540832b');\n",
       "var x = new MutationObserver(function (mutations, observer) {{\n",
       "        var display = window.getComputedStyle(gd).display;\n",
       "        if (!display || display === 'none') {{\n",
       "            console.log([gd, 'removed!']);\n",
       "            Plotly.purge(gd);\n",
       "            observer.disconnect();\n",
       "        }}\n",
       "}});\n",
       "\n",
       "// Listen for the removal of the full notebook cells\n",
       "var notebookContainer = gd.closest('#notebook-container');\n",
       "if (notebookContainer) {{\n",
       "    x.observe(notebookContainer, {childList: true});\n",
       "}}\n",
       "\n",
       "// Listen for the clearing of the current output cell\n",
       "var outputEl = gd.closest('.output');\n",
       "if (outputEl) {{\n",
       "    x.observe(outputEl, {childList: true});\n",
       "}}\n",
       "\n",
       "                        })\n",
       "                };\n",
       "                });\n",
       "            </script>\n",
       "        </div>"
      ]
     },
     "metadata": {},
     "output_type": "display_data"
    }
   ],
   "source": [
    "fig.update_layout(title_text=\"original genome contributions to top 3 neighborhood covers for zymomock\", font_size=10)\n",
    "fig.show()"
   ]
  },
  {
   "cell_type": "code",
   "execution_count": null,
   "metadata": {},
   "outputs": [],
   "source": []
  }
 ],
 "metadata": {
  "kernelspec": {
   "display_name": "Python (myenv)",
   "language": "python",
   "name": "myenv"
  },
  "language_info": {
   "codemirror_mode": {
    "name": "ipython",
    "version": 3
   },
   "file_extension": ".py",
   "mimetype": "text/x-python",
   "name": "python",
   "nbconvert_exporter": "python",
   "pygments_lexer": "ipython3",
   "version": "3.7.6"
  }
 },
 "nbformat": 4,
 "nbformat_minor": 4
}
