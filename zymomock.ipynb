{
 "cells": [
  {
   "cell_type": "code",
   "execution_count": 5,
   "metadata": {},
   "outputs": [],
   "source": [
    "import sourmash\n",
    "import csv"
   ]
  },
  {
   "cell_type": "code",
   "execution_count": 2,
   "metadata": {},
   "outputs": [
    {
     "name": "stdout",
     "output_type": "stream",
     "text": [
      "README.md       \u001b[34mzymomock\u001b[m\u001b[m/       zymomock.ipynb  zymomock.zip\r\n"
     ]
    }
   ],
   "source": [
    "ls"
   ]
  },
  {
   "cell_type": "code",
   "execution_count": 3,
   "metadata": {},
   "outputs": [
    {
     "name": "stdout",
     "output_type": "stream",
     "text": [
      "SRR12324253.abundtrim.sig  zymomock-queries.zip\r\n",
      "zymomock-nbhds.zip\r\n"
     ]
    }
   ],
   "source": [
    "ls zymomock"
   ]
  },
  {
   "cell_type": "code",
   "execution_count": 40,
   "metadata": {},
   "outputs": [
    {
     "name": "stdout",
     "output_type": "stream",
     "text": [
      "\u001b[K\n",
      "== This is sourmash version 4.2.4.dev0+g73aeb155.d20220116. ==\n",
      "\u001b[K== Please cite Brown and Irber (2016), doi:10.21105/joss.00027. ==\n",
      "\n",
      "\u001b[Kselecting default query k=31.\n",
      "\u001b[Kloaded query: SRR12324253... (k=31, DNA)\n",
      "\u001b[Kloaded 1 databases.                                                            \n",
      "\n",
      "\u001b[KStarting prefetch sweep across databases.\n",
      "\u001b[KFound 18 signatures via prefetch; now doing gather.\n",
      "\n",
      "overlap     p_query p_match\n",
      "---------   ------- -------\n",
      "15.8 Mbp      10.9%   62.7%    SSXJ01000001.1 Cryptococcus neoforman...\n",
      "11.3 Mbp       7.8%   97.6%    WMJW01000001.1 Saccharomyces cerevisi...\n",
      "7.4 Mbp        5.1%   67.7%    JSPL01000060.1 Escherichia coli strai...\n",
      "4.7 Mbp        3.2%   98.4%    VFAF01000002.1 Salmonella enterica st...\n",
      "4.0 Mbp        2.7%   99.8%    CP039755.1 Bacillus subtilis strain N...\n",
      "5.2 Mbp        2.2%   43.3%    FREP01002036.1 Escherichia coli isola...\n",
      "2.8 Mbp        1.9%  100.0%    CP039751.1 Listeria monocytogenes str...\n",
      "2.7 Mbp        1.9%   99.8%    VFAE01000004.1 Staphylococcus aureus ...\n",
      "10.3 Mbp       1.3%   10.0%    AE017341.1 Cryptococcus neoformans va...\n",
      "1.8 Mbp        1.2%   99.8%    CP039750.1 Limosilactobacillus fermen...\n",
      "6.8 Mbp        1.2%   26.3%    CP041013.1 Pseudomonas aeruginosa str...\n",
      "8.4 Mbp        1.1%    9.1%    CP003820.1 Cryptococcus neoformans va...\n",
      "2.8 Mbp        0.7%   36.0%    CP039752.1 Enterococcus faecalis stra...\n",
      "4.7 Mbp        0.6%   20.0%    VFAG01000002.1 Escherichia coli strai...\n",
      "10.6 Mbp       0.5%    2.4%    LOQK01000001.1 Saccharomyces pastoria...\n",
      "0.5 Mbp        0.4%    9.6%    VEMH01000100.1 Bacillus paranthracis ...\n",
      "10.3 Mbp       0.2%    2.5%    CM010209.1 Saccharomyces cerevisiae s...\n",
      "10.4 Mbp       0.1%    1.3%    CM006175.1 Saccharomyces cerevisiae s...\n",
      "\u001b[Kfound less than 50.0 kbp in common. => exiting\n",
      "\n",
      "found 18 matches total;\n",
      "the recovered matches hit 42.9% of the query\n",
      "\n"
     ]
    }
   ],
   "source": [
    "!sourmash gather ./zymomock/SRR12324253.abundtrim.sig ./zymomock/zymomock-queries.zip -o queries.x.zymomock.csv --ignore-abundance"
   ]
  },
  {
   "cell_type": "code",
   "execution_count": 50,
   "metadata": {},
   "outputs": [
    {
     "name": "stdout",
     "output_type": "stream",
     "text": [
      "\u001b[K\n",
      "== This is sourmash version 4.2.4.dev0+g73aeb155.d20220116. ==\n",
      "\u001b[K== Please cite Brown and Irber (2016), doi:10.21105/joss.00027. ==\n",
      "\n",
      "\u001b[Kselecting default query k=31.\n",
      "\u001b[Kloaded query: SRR12324253... (k=31, DNA)\n",
      "\u001b[Kloaded 1 databases.                                                            \n",
      "\n",
      "\u001b[KStarting prefetch sweep across databases.\n",
      "\u001b[KFound 18 signatures via prefetch; now doing gather.\n",
      "\n",
      "overlap     p_query p_match\n",
      "---------   ------- -------\n",
      "20.3 Mbp      14.0%  100.0%    nbhd:JSPL01000060.1 Escherichia coli ...\n",
      "19.5 Mbp      13.4%  100.0%    nbhd:SSXJ01000001.1 Cryptococcus neof...\n",
      "12.7 Mbp       8.7%   99.9%    nbhd:WMJW01000001.1 Saccharomyces cer...\n",
      "12.8 Mbp       8.4%   96.0%    nbhd:VFAF01000002.1 Salmonella enteri...\n",
      "13.7 Mbp       4.6%   49.0%    nbhd:FREP01002036.1 Escherichia coli ...\n",
      "4.7 Mbp        3.2%   99.4%    nbhd:CP039755.1 Bacillus subtilis str...\n",
      "3.8 Mbp        2.6%   99.3%    nbhd:VFAE01000004.1 Staphylococcus au...\n",
      "3.6 Mbp        2.5%   99.4%    nbhd:CP039750.1 Limosilactobacillus f...\n",
      "16.0 Mbp       2.2%   20.4%    nbhd:CP041013.1 Pseudomonas aeruginos...\n",
      "3.3 Mbp        2.2%   98.7%    nbhd:CP039751.1 Listeria monocytogene...\n",
      "12.0 Mbp       1.2%   14.2%    nbhd:VFAG01000002.1 Escherichia coli ...\n",
      "5.4 Mbp        0.9%   24.8%    nbhd:CP039752.1 Enterococcus faecalis...\n",
      "0.7 Mbp        0.4%   91.2%    nbhd:VEMH01000100.1 Bacillus paranthr...\n",
      "16.2 Mbp       0.4%    3.7%    nbhd:AE017341.1 Cryptococcus neoforma...\n",
      "15.1 Mbp       0.3%    3.0%    nbhd:CP003820.1 Cryptococcus neoforma...\n",
      "12.6 Mbp       0.3%    3.1%    nbhd:LOQK01000001.1 Saccharomyces pas...\n",
      "12.5 Mbp       0.1%    1.4%    nbhd:CM010209.1 Saccharomyces cerevis...\n",
      "12.6 Mbp       0.1%    0.6%    nbhd:CM006175.1 Saccharomyces cerevis...\n",
      "\u001b[Kfound less than 50.0 kbp in common. => exiting\n",
      "\n",
      "found 18 matches total;\n",
      "the recovered matches hit 65.5% of the query\n",
      "\n"
     ]
    }
   ],
   "source": [
    "!sourmash gather ./zymomock/SRR12324253.abundtrim.sig ./zymomock/zymomock-nbhds.zip -o nbhds.x.zymomock.csv --ignore-abundance"
   ]
  },
  {
   "cell_type": "code",
   "execution_count": 41,
   "metadata": {},
   "outputs": [],
   "source": [
    "def get_ident(name):\n",
    "    \"pick off identifier, stripping off nbhd: prefix if present.\"\n",
    "    name = name.split(' ')[0]\n",
    "    if name.startswith('nbhd:'):\n",
    "        name = name[5:]\n",
    "    return name"
   ]
  },
  {
   "cell_type": "code",
   "execution_count": 108,
   "metadata": {},
   "outputs": [],
   "source": [
    "gather1 = []\n",
    "with open('queries.x.zymomock.csv', newline=\"\") as fp:\n",
    "    r = csv.DictReader(fp)\n",
    "    gather1.extend(r)\n",
    "\n",
    "full_idents = {}\n",
    "\n",
    "gather1_d = {}\n",
    "gather1_keys = []\n",
    "for row in gather1:\n",
    "    ident = get_ident(row['name'])\n",
    "    full_idents[ident] = \" \".join(row['name'].split(' ')[:3])\n",
    "    gather1_d[ident] = row\n",
    "    gather1_keys.append(ident)"
   ]
  },
  {
   "cell_type": "code",
   "execution_count": 51,
   "metadata": {},
   "outputs": [],
   "source": [
    "gather2 = []\n",
    "with open('nbhds.x.zymomock.csv', newline=\"\") as fp:\n",
    "    r = csv.DictReader(fp)\n",
    "    gather2.extend(r)\n",
    "    \n",
    "\n",
    "gather2_d = {}\n",
    "gather2_keys = []\n",
    "for row in gather2:\n",
    "    ident = get_ident(row['name'])\n",
    "    gather2_d[ident] = row\n",
    "    gather2_keys.append(ident)"
   ]
  },
  {
   "cell_type": "code",
   "execution_count": 43,
   "metadata": {},
   "outputs": [],
   "source": [
    "metag = sourmash.load_one_signature('zymomock/SRR12324253.abundtrim.sig', ksize=31)"
   ]
  },
  {
   "cell_type": "code",
   "execution_count": 44,
   "metadata": {},
   "outputs": [],
   "source": [
    "queries = list(sourmash.load_file_as_signatures('zymomock/zymomock-queries.zip'))\n",
    "queries_d = {}\n",
    "for ss in queries:\n",
    "    ident = get_ident(ss.name)\n",
    "    queries_d[ident] = ss"
   ]
  },
  {
   "cell_type": "code",
   "execution_count": 45,
   "metadata": {},
   "outputs": [],
   "source": [
    "nbhds = list(sourmash.load_file_as_signatures('zymomock/zymomock-nbhds.zip'))\n",
    "nbhds_d = {}\n",
    "for ss in nbhds:\n",
    "    ident = get_ident(ss.name)\n",
    "    nbhds_d[ident] = ss"
   ]
  },
  {
   "cell_type": "code",
   "execution_count": 59,
   "metadata": {},
   "outputs": [],
   "source": [
    "remaining_hashes = set(metag.minhash.hashes)\n",
    "unique_hashes_1x = []\n",
    "for ident in gather1_keys:\n",
    "    row = gather1_d[ident]\n",
    "    match = queries_d[ident]\n",
    "    match_hashes = set(match.minhash.hashes)\n",
    "    unique_overlap = remaining_hashes & match_hashes\n",
    "    #print(ident, len(remaining_hashes), len(unique_overlap), row['unique_intersect_bp'], row['remaining_bp'])\n",
    "    remaining_hashes -= unique_overlap\n",
    "    unique_hashes_1x.append((ident, unique_overlap))\n"
   ]
  },
  {
   "cell_type": "code",
   "execution_count": 60,
   "metadata": {},
   "outputs": [],
   "source": [
    "remaining_hashes = set(metag.minhash.hashes)\n",
    "unique_hashes_2x = []\n",
    "for ident in gather2_keys:\n",
    "    row = gather2_d[ident]\n",
    "    match = nbhds_d[ident]\n",
    "    match_hashes = set(match.minhash.hashes)\n",
    "    unique_overlap = remaining_hashes & match_hashes\n",
    "    #print(ident, len(remaining_hashes), len(unique_overlap), row['unique_intersect_bp'], row['remaining_bp'])\n",
    "    remaining_hashes -= unique_overlap\n",
    "    unique_hashes_2x.append((ident, unique_overlap))\n"
   ]
  },
  {
   "cell_type": "code",
   "execution_count": 61,
   "metadata": {},
   "outputs": [
    {
     "name": "stdout",
     "output_type": "stream",
     "text": [
      "JSPL01000060.1 <= WMJW01000001.1 - 1\n",
      "JSPL01000060.1 <= JSPL01000060.1 - 7395\n",
      "JSPL01000060.1 <= VFAF01000002.1 - 58\n",
      "JSPL01000060.1 <= CP039755.1 - 2\n",
      "JSPL01000060.1 <= FREP01002036.1 - 540\n",
      "JSPL01000060.1 <= CP041013.1 - 462\n",
      "JSPL01000060.1 <= VFAG01000002.1 - 200\n",
      "xxx JSPL01000060.1 20341 8658\n",
      "---\n",
      "SSXJ01000001.1 <= SSXJ01000001.1 - 15566\n",
      "SSXJ01000001.1 <= AE017341.1 - 1420\n",
      "SSXJ01000001.1 <= CP003820.1 - 1271\n",
      "xxx SSXJ01000001.1 19471 18257\n",
      "---\n",
      "WMJW01000001.1 <= WMJW01000001.1 - 11025\n",
      "WMJW01000001.1 <= LOQK01000001.1 - 317\n",
      "WMJW01000001.1 <= CM010209.1 - 153\n",
      "WMJW01000001.1 <= CM006175.1 - 64\n",
      "xxx WMJW01000001.1 12686 11559\n",
      "---\n",
      "VFAF01000002.1 <= VFAF01000002.1 - 4562\n",
      "VFAF01000002.1 <= CP039755.1 - 1\n",
      "VFAF01000002.1 <= FREP01002036.1 - 1\n",
      "VFAF01000002.1 <= VFAG01000002.1 - 1\n",
      "xxx VFAF01000002.1 12274 4565\n",
      "---\n",
      "FREP01002036.1 <= CP039755.1 - 3\n",
      "FREP01002036.1 <= FREP01002036.1 - 2656\n",
      "FREP01002036.1 <= CP039751.1 - 8\n",
      "FREP01002036.1 <= CP039752.1 - 384\n",
      "FREP01002036.1 <= VFAG01000002.1 - 80\n",
      "xxx FREP01002036.1 6694 3131\n",
      "---\n",
      "CP039755.1 <= CP039755.1 - 3960\n",
      "CP039755.1 <= CP039751.1 - 1\n",
      "xxx CP039755.1 4662 3961\n",
      "---\n",
      "VFAE01000004.1 <= CP039751.1 - 5\n",
      "VFAE01000004.1 <= VFAE01000004.1 - 2712\n",
      "xxx VFAE01000004.1 3750 2717\n",
      "---\n",
      "CP039750.1 <= CP039750.1 - 1800\n",
      "xxx CP039750.1 3576 1800\n",
      "---\n",
      "CP041013.1 <= CP041013.1 - 1335\n",
      "xxx CP041013.1 3269 1335\n",
      "---\n",
      "CP039751.1 <= CP039751.1 - 2800\n",
      "CP039751.1 <= CP039752.1 - 1\n",
      "xxx CP039751.1 3255 2801\n",
      "---\n",
      "VFAG01000002.1 <= VFAG01000002.1 - 656\n",
      "xxx VFAG01000002.1 1709 656\n",
      "---\n",
      "CP039752.1 <= CP039752.1 - 627\n",
      "xxx CP039752.1 1333 627\n",
      "---\n",
      "VEMH01000100.1 <= VEMH01000100.1 - 524\n",
      "xxx VEMH01000100.1 594 524\n",
      "---\n",
      "AE017341.1 <= SSXJ01000001.1 - 63\n",
      "AE017341.1 <= AE017341.1 - 390\n",
      "AE017341.1 <= CP003820.1 - 33\n",
      "xxx AE017341.1 592 486\n",
      "---\n",
      "CP003820.1 <= SSXJ01000001.1 - 40\n",
      "CP003820.1 <= AE017341.1 - 1\n",
      "CP003820.1 <= CP003820.1 - 350\n",
      "xxx CP003820.1 454 391\n",
      "---\n",
      "LOQK01000001.1 <= WMJW01000001.1 - 54\n",
      "LOQK01000001.1 <= LOQK01000001.1 - 264\n",
      "LOQK01000001.1 <= CM010209.1 - 13\n",
      "LOQK01000001.1 <= CM006175.1 - 9\n",
      "xxx LOQK01000001.1 392 340\n",
      "---\n",
      "CM010209.1 <= WMJW01000001.1 - 3\n",
      "CM010209.1 <= LOQK01000001.1 - 28\n",
      "CM010209.1 <= CM010209.1 - 100\n",
      "CM010209.1 <= CM006175.1 - 5\n",
      "xxx CM010209.1 172 136\n",
      "---\n",
      "CM006175.1 <= LOQK01000001.1 - 4\n",
      "CM006175.1 <= CM010209.1 - 1\n",
      "CM006175.1 <= CM006175.1 - 61\n",
      "xxx CM006175.1 73 66\n",
      "---\n"
     ]
    }
   ],
   "source": [
    "for (nbhd_ident, nbhd_match) in unique_hashes_2x:\n",
    "    total = 0\n",
    "    for (query_ident, query_match) in unique_hashes_1x:\n",
    "        overlap = query_match & nbhd_match\n",
    "        \n",
    "        if overlap:\n",
    "            print(f\"{nbhd_ident} <= {query_ident} - {len(overlap)}\")\n",
    "            total += len(overlap)\n",
    "    print('xxx', nbhd_ident, len(nbhd_match), total)\n",
    "    print('---')"
   ]
  },
  {
   "cell_type": "code",
   "execution_count": 62,
   "metadata": {},
   "outputs": [],
   "source": [
    "import plotly.graph_objects as go"
   ]
  },
  {
   "cell_type": "code",
   "execution_count": 113,
   "metadata": {},
   "outputs": [
    {
     "name": "stdout",
     "output_type": "stream",
     "text": [
      "JSPL01000060.1 <= WMJW01000001.1 - 1\n",
      "JSPL01000060.1 <= JSPL01000060.1 - 7395\n",
      "JSPL01000060.1 <= VFAF01000002.1 - 58\n",
      "JSPL01000060.1 <= CP039755.1 - 2\n",
      "JSPL01000060.1 <= FREP01002036.1 - 540\n",
      "JSPL01000060.1 <= CP041013.1 - 462\n",
      "JSPL01000060.1 <= VFAG01000002.1 - 200\n",
      "xxx JSPL01000060.1 20341 8658\n",
      "---\n",
      "SSXJ01000001.1 <= SSXJ01000001.1 - 15566\n",
      "SSXJ01000001.1 <= AE017341.1 - 1420\n",
      "SSXJ01000001.1 <= CP003820.1 - 1271\n",
      "xxx SSXJ01000001.1 19471 18257\n",
      "---\n",
      "WMJW01000001.1 <= WMJW01000001.1 - 11025\n",
      "WMJW01000001.1 <= LOQK01000001.1 - 317\n",
      "WMJW01000001.1 <= CM010209.1 - 153\n",
      "WMJW01000001.1 <= CM006175.1 - 64\n",
      "xxx WMJW01000001.1 12686 11559\n",
      "---\n",
      "XYZ 18 19\n",
      "XYZ 18 20\n",
      "XYZ 18 21\n"
     ]
    }
   ],
   "source": [
    "def make_fig():\n",
    "    #labels = obj.make_labels()\n",
    "    #src_l, dest_l, cnt_l, color_l, label_l = obj.make_lists()\n",
    "    labels = []\n",
    "    src_l = []\n",
    "    dest_l = []\n",
    "    cnt_l = []\n",
    "    color_l = []\n",
    "    label_l = []\n",
    "    \n",
    "    source_idx = {}\n",
    "    for n, (query_ident, _) in enumerate(unique_hashes_1x):\n",
    "        source_idx[query_ident] = n\n",
    "        labels.append(full_idents[query_ident])\n",
    "    dest_idx = {}\n",
    "    source_idx[\"unassigned\"] = len(unique_hashes_1x)\n",
    "    labels.append(\"unassigned\")\n",
    "    base = len(unique_hashes_1x) + 1\n",
    "    for n, (nbhd_ident, _) in enumerate(unique_hashes_2x):\n",
    "        dest_idx[nbhd_ident] = base + n\n",
    "        labels.append(full_idents[nbhd_ident])\n",
    "        \n",
    "    #source_idx[\"unassigned\"] = base + n + 1\n",
    "    \n",
    "    # iterate over all sinks, account for all sources\n",
    "    num = 0\n",
    "    leftovers = []\n",
    "    for (nbhd_ident, nbhd_match) in unique_hashes_2x:\n",
    "        total = 0\n",
    "        for (query_ident, query_match) in unique_hashes_1x:\n",
    "            overlap = query_match & nbhd_match\n",
    "        \n",
    "            if overlap:\n",
    "                print(f\"{nbhd_ident} <= {query_ident} - {len(overlap)}\")\n",
    "                total += len(overlap)\n",
    "                from_idx = source_idx[query_ident]\n",
    "                to_idx = dest_idx[nbhd_ident]\n",
    "                \n",
    "                src_l.append(from_idx)\n",
    "                dest_l.append(to_idx)\n",
    "                cnt_l.append(len(overlap))\n",
    "                if query_ident == nbhd_ident:\n",
    "                    color_l.append(\"lightseagreen\")\n",
    "                else:\n",
    "                    color_l.append(\"palevioletred\")\n",
    "                label_l.append(\"\")\n",
    "    \n",
    "        print('xxx', nbhd_ident, len(nbhd_match), total)\n",
    "        leftover = len(nbhd_match) - total\n",
    "        \n",
    "        if leftover:\n",
    "            leftovers.append((nbhd_ident, leftover))\n",
    "\n",
    "        print('---')\n",
    "        #break\n",
    "        num += 1\n",
    "        if num == 3:\n",
    "            break\n",
    "            \n",
    "    if leftovers:\n",
    "        for nbhd_ident, leftover in leftovers:\n",
    "            from_idx = source_idx[\"unassigned\"]\n",
    "            to_idx = dest_idx[nbhd_ident]\n",
    "\n",
    "            src_l.append(from_idx)\n",
    "            dest_l.append(to_idx)\n",
    "            cnt_l.append(leftover)\n",
    "            color_l.append(\"grey\")\n",
    "            label_l.append(\"\")\n",
    "            print('XYZ', from_idx, to_idx)\n",
    "        \n",
    "\n",
    "    fig = go.Figure(data=[go.Sankey(\n",
    "        node = dict(\n",
    "          pad = 15,\n",
    "          thickness = 20,\n",
    "          line = dict(color = \"black\", width = 0.5),\n",
    "          label = labels,\n",
    "          color = \"blue\"\n",
    "        ),\n",
    "        link = dict(\n",
    "          source = src_l,\n",
    "          target = dest_l,\n",
    "          value = cnt_l,\n",
    "          color = color_l,\n",
    "          label = label_l,\n",
    "      ))])\n",
    "    \n",
    "    return fig\n",
    "\n",
    "fig = make_fig()\n"
   ]
  },
  {
   "cell_type": "code",
   "execution_count": 118,
   "metadata": {},
   "outputs": [
    {
     "data": {
      "image/svg+xml": [
       "<svg class=\"main-svg\" xmlns=\"http://www.w3.org/2000/svg\" xmlns:xlink=\"http://www.w3.org/1999/xlink\" width=\"700\" height=\"450\" style=\"\" viewBox=\"0 0 700 450\"><rect x=\"0\" y=\"0\" width=\"700\" height=\"450\" style=\"fill: rgb(255, 255, 255); fill-opacity: 1;\"/><defs id=\"defs-b9b939\"><g class=\"clips\"/><g class=\"gradients\"/></defs><g class=\"bglayer\"/><g class=\"layer-below\"><g class=\"imagelayer\"/><g class=\"shapelayer\"/></g><g class=\"cartesianlayer\"/><g class=\"polarlayer\"/><g class=\"ternarylayer\"/><g class=\"geolayer\"/><g class=\"funnelarealayer\"/><g class=\"pielayer\"/><g class=\"treemaplayer\"/><g class=\"sunburstlayer\"/><g class=\"glimages\"/><g class=\"sankey\" transform=\"translate(80,100)matrix(1 0 0 1 0 0)\" style=\"box-sizing: content-box; position: absolute; left: 0px; shape-rendering: geometricprecision; pointer-events: auto;\"><g class=\"sankey-links\" style=\"fill: none;\"><path class=\"sankey-link\" d=\"M20,208.64364063685943C270,208.64364063685943 270,85.82341009189672 520,85.82341009189672L520,85.8251244429196C270,85.8251244429196 270,208.6453549878823 20,208.6453549878823Z\" style=\"stroke: rgb(219, 112, 147); stroke-opacity: 1; fill: rgb(219, 112, 147); fill-opacity: 1; stroke-width: 1; opacity: 1;\"/><path class=\"sankey-link\" d=\"M20,2.842170943040401e-14C270,2.842170943040401e-14 270,50.95351028618981 520,50.95351028618981L520,63.63113610050655C270,63.63113610050655 270,12.677625814316764 20,12.677625814316764Z\" style=\"stroke: rgb(68, 68, 68); stroke-opacity: 1; fill: rgb(32, 178, 170); fill-opacity: 1; stroke-width: 0; opacity: 1;\"/><path class=\"sankey-link\" d=\"M20,41.29568305898838C270,41.29568305898838 270,64.55688565287045 520,64.55688565287045L520,64.65631801219843C270,64.65631801219843 270,41.39511541831636 20,41.39511541831636Z\" style=\"stroke: rgb(219, 112, 147); stroke-opacity: 1; fill: rgb(219, 112, 147); fill-opacity: 1; stroke-width: 1; opacity: 1;\"/><path class=\"sankey-link\" d=\"M20,69.87945328320205C270,69.87945328320205 270,65.44834818477644 520,65.44834818477644L520,65.45177688682223C270,65.45177688682223 270,69.88288198524785 20,69.88288198524785Z\" style=\"stroke: rgb(219, 112, 147); stroke-opacity: 1; fill: rgb(219, 112, 147); fill-opacity: 1; stroke-width: 1; opacity: 1;\"/><path class=\"sankey-link\" d=\"M20,26.523779660470638C270,26.523779660470638 270,63.63113610050655 520,63.63113610050655L520,64.55688565287045C270,64.55688565287045 270,27.449529212834534 20,27.449529212834534Z\" style=\"stroke: rgb(219, 112, 147); stroke-opacity: 1; fill: rgb(219, 112, 147); fill-opacity: 1; stroke-width: 1; opacity: 1;\"/><path class=\"sankey-link\" d=\"M20,55.241269264470205C270,55.241269264470205 270,64.65631801219843 520,64.65631801219843L520,65.44834818477642C270,65.44834818477642 270,56.033299437048214 20,56.033299437048214Z\" style=\"stroke: rgb(219, 112, 147); stroke-opacity: 1; fill: rgb(219, 112, 147); fill-opacity: 1; stroke-width: 1; opacity: 1;\"/><path class=\"sankey-link\" d=\"M20,83.72903583140169C270,83.72903583140169 270,65.45177688682223 520,65.45177688682223L520,65.79464709140144C270,65.79464709140144 270,84.0719060359809 20,84.0719060359809Z\" style=\"stroke: rgb(219, 112, 147); stroke-opacity: 1; fill: rgb(219, 112, 147); fill-opacity: 1; stroke-width: 1; opacity: 1;\"/><path class=\"sankey-link\" d=\"M20,135.80627247338361C270,135.80627247338361 270,137.0758016681362 520,137.0758016681362L520,163.76138969053704C270,163.76138969053704 270,162.49186049578447 20,162.49186049578447Z\" style=\"stroke: rgb(68, 68, 68); stroke-opacity: 1; fill: rgb(32, 178, 170); fill-opacity: 1; stroke-width: 0; opacity: 1;\"/><path class=\"sankey-link\" d=\"M20,176.3380143419383C270,176.3380143419383 270,163.76138969053704 520,163.76138969053704L520,166.19576814304952C270,166.19576814304952 270,178.77239279445078 20,178.77239279445078Z\" style=\"stroke: rgb(68, 68, 68); stroke-opacity: 1; fill: rgb(219, 112, 147); fill-opacity: 1; stroke-width: 0; opacity: 1;\"/><path class=\"sankey-link\" d=\"M20,192.61854664060462C270,192.61854664060462 270,166.19576814304952 520,166.19576814304952L520,168.3747082931505C270,168.3747082931505 270,194.7974867907056 20,194.7974867907056Z\" style=\"stroke: rgb(68, 68, 68); stroke-opacity: 1; fill: rgb(219, 112, 147); fill-opacity: 1; stroke-width: 0; opacity: 1;\"/><path class=\"sankey-link\" d=\"M20,208.6453549878823C270,208.6453549878823 270,200.85108784445373 520,200.85108784445373L520,219.75180787188333C270,219.75180787188333 270,227.5460750153119 20,227.5460750153119Z\" style=\"stroke: rgb(68, 68, 68); stroke-opacity: 1; fill: rgb(32, 178, 170); fill-opacity: 1; stroke-width: 0; opacity: 1;\"/><path class=\"sankey-link\" d=\"M20,241.39222886146575C270,241.39222886146575 270,219.75180787188336 520,219.75180787188336L520,220.29525714614144C270,220.29525714614144 270,241.93567813572383 20,241.93567813572383Z\" style=\"stroke: rgb(219, 112, 147); stroke-opacity: 1; fill: rgb(219, 112, 147); fill-opacity: 1; stroke-width: 1; opacity: 1;\"/><path class=\"sankey-link\" d=\"M20,255.7818319818777C270,255.7818319818777 270,220.29525714614144 520,220.29525714614144L520,220.55755285264453C270,220.55755285264453 270,256.0441276883808 20,256.0441276883808Z\" style=\"stroke: rgb(219, 112, 147); stroke-opacity: 1; fill: rgb(219, 112, 147); fill-opacity: 1; stroke-width: 1; opacity: 1;\"/><path class=\"sankey-link\" d=\"M20,269.8902815345346C270,269.8902815345346 270,220.55755285264453 520,220.55755285264453L520,220.66727131810987C270,220.66727131810987 270,269.99999999999994 20,269.99999999999994Z\" style=\"stroke: rgb(219, 112, 147); stroke-opacity: 1; fill: rgb(219, 112, 147); fill-opacity: 1; stroke-width: 1; opacity: 1;\"/><path class=\"sankey-link\" d=\"M20,97.91805988213474C270,97.91805988213474 270,65.79464709140146 520,65.79464709140146L520,85.8234100918967C270,85.8234100918967 270,117.94682288262999 20,117.94682288262999Z\" style=\"stroke: rgb(68, 68, 68); stroke-opacity: 1; fill: rgb(128, 128, 128); fill-opacity: 1; stroke-width: 0; opacity: 1;\"/><path class=\"sankey-link\" d=\"M20,117.94682288263C270,117.94682288263 270,134.99457952634032 520,134.99457952634032L520,137.0758016681362C270,137.0758016681362 270,120.02804502442588 20,120.02804502442588Z\" style=\"stroke: rgb(68, 68, 68); stroke-opacity: 1; fill: rgb(128, 128, 128); fill-opacity: 1; stroke-width: 0; opacity: 1;\"/><path class=\"sankey-link\" d=\"M20,120.02804502442588C270,120.02804502442588 270,198.91901424164982 520,198.91901424164982L520,200.85108784445376C270,200.85108784445376 270,121.96011862722979 20,121.96011862722979Z\" style=\"stroke: rgb(68, 68, 68); stroke-opacity: 1; fill: rgb(128, 128, 128); fill-opacity: 1; stroke-width: 0; opacity: 1;\"/></g><g class=\"sankey-node-set\" style=\"cursor: move;\"><g class=\"sankey-node\" transform=\"translate(0.000, 135.806)\" style=\"opacity: 1;\"><rect class=\"node-rect\" width=\"20\" height=\"26.68558802240085\" style=\"stroke-width: 0.5; stroke: rgb(0, 0, 0); stroke-opacity: 1; fill: rgb(0, 0, 255); fill-opacity: 1;\"/><rect class=\"node-capture\" x=\"-10\" y=\"-7.5\" width=\"40\" height=\"41.68558802240085\" style=\"fill-opacity: 0;\"/><g class=\"node-entered\" transform=\"translate(0 14.342794011200425)\"><path class=\"node-label-guide\" id=\"54957a_0_node_0\" d=\"M24,0L540,0\" transform=\"matrix(1 0 0 1 0 0)\"/><text class=\"node-label\" transform=\"scale(1 1)\" style=\"user-select: none; cursor: default; fill: rgb(42, 63, 95); text-shadow: rgb(255, 255, 255) -1px 1px 1px, rgb(255, 255, 255) 1px 1px 1px, rgb(255, 255, 255) 1px -1px 1px, rgb(255, 255, 255) -1px -1px 1px; font-family: 'Open Sans', verdana, arial, sans-serif; font-size: 10px; fill-opacity: 1;\"><textPath class=\"node-label-text-path\" alignment-baseline=\"middle\" xlink:href=\"#54957a_0_node_0\" startOffset=\"0%\" text-anchor=\"start\" style=\"fill: rgb(0, 0, 0);\">SSXJ01000001.1 Cryptococcus neoformans</textPath></text></g></g><g class=\"sankey-node\" transform=\"translate(0.000, 208.644)\" style=\"opacity: 1;\"><rect class=\"node-rect\" width=\"20\" height=\"18.902434378452483\" style=\"stroke-width: 0.5; stroke: rgb(0, 0, 0); stroke-opacity: 1; fill: rgb(0, 0, 255); fill-opacity: 1;\"/><rect class=\"node-capture\" x=\"-10\" y=\"-7.5\" width=\"40\" height=\"33.90243437845248\" style=\"fill-opacity: 0;\"/><g class=\"node-entered\" transform=\"translate(0 10.451217189226242)\"><path class=\"node-label-guide\" id=\"54957a_0_node_1\" d=\"M24,0L540,0\" transform=\"matrix(1 0 0 1 0 0)\"/><text class=\"node-label\" transform=\"scale(1 1)\" style=\"user-select: none; cursor: default; fill: rgb(42, 63, 95); text-shadow: rgb(255, 255, 255) -1px 1px 1px, rgb(255, 255, 255) 1px 1px 1px, rgb(255, 255, 255) 1px -1px 1px, rgb(255, 255, 255) -1px -1px 1px; font-family: 'Open Sans', verdana, arial, sans-serif; font-size: 10px; fill-opacity: 1;\"><textPath class=\"node-label-text-path\" alignment-baseline=\"middle\" xlink:href=\"#54957a_0_node_1\" startOffset=\"0%\" text-anchor=\"start\" style=\"fill: rgb(0, 0, 0);\">WMJW01000001.1 Saccharomyces cerevisiae</textPath></text></g></g><g class=\"sankey-node\" transform=\"translate(0.000, 0.000)\" style=\"opacity: 1;\"><rect class=\"node-rect\" width=\"20\" height=\"12.677625814316762\" style=\"stroke-width: 0.5; stroke: rgb(0, 0, 0); stroke-opacity: 1; fill: rgb(0, 0, 255); fill-opacity: 1;\"/><rect class=\"node-capture\" x=\"-10\" y=\"-7.5\" width=\"40\" height=\"27.677625814316762\" style=\"fill-opacity: 0;\"/><g class=\"node-entered\" transform=\"translate(0 7.338812907158381)\"><path class=\"node-label-guide\" id=\"54957a_0_node_2\" d=\"M24,0L540,0\" transform=\"matrix(1 0 0 1 0 0)\"/><text class=\"node-label\" transform=\"scale(1 1)\" style=\"user-select: none; cursor: default; fill: rgb(42, 63, 95); text-shadow: rgb(255, 255, 255) -1px 1px 1px, rgb(255, 255, 255) 1px 1px 1px, rgb(255, 255, 255) 1px -1px 1px, rgb(255, 255, 255) -1px -1px 1px; font-family: 'Open Sans', verdana, arial, sans-serif; font-size: 10px; fill-opacity: 1;\"><textPath class=\"node-label-text-path\" alignment-baseline=\"middle\" xlink:href=\"#54957a_0_node_2\" startOffset=\"0%\" text-anchor=\"start\" style=\"fill: rgb(0, 0, 0);\">JSPL01000060.1 Escherichia coli</textPath></text></g></g><g class=\"sankey-node\" transform=\"translate(0.000, 41.296)\" style=\"opacity: 1;\"><rect class=\"node-rect\" width=\"20\" height=\"0.5\" style=\"stroke-width: 0.5; stroke: rgb(0, 0, 0); stroke-opacity: 1; fill: rgb(0, 0, 255); fill-opacity: 1;\"/><rect class=\"node-capture\" x=\"-10\" y=\"-7.5\" width=\"40\" height=\"15.5\" style=\"fill-opacity: 0;\"/><g class=\"node-entered\" transform=\"translate(0 1.0497161796639887)\"><path class=\"node-label-guide\" id=\"54957a_0_node_3\" d=\"M24,0L540,0\" transform=\"matrix(1 0 0 1 0 0)\"/><text class=\"node-label\" transform=\"scale(1 1)\" style=\"user-select: none; cursor: default; fill: rgb(42, 63, 95); text-shadow: rgb(255, 255, 255) -1px 1px 1px, rgb(255, 255, 255) 1px 1px 1px, rgb(255, 255, 255) 1px -1px 1px, rgb(255, 255, 255) -1px -1px 1px; font-family: 'Open Sans', verdana, arial, sans-serif; font-size: 10px; fill-opacity: 1;\"><textPath class=\"node-label-text-path\" alignment-baseline=\"middle\" xlink:href=\"#54957a_0_node_3\" startOffset=\"0%\" text-anchor=\"start\" style=\"fill: rgb(0, 0, 0);\">VFAF01000002.1 Salmonella enterica</textPath></text></g></g><g class=\"sankey-node\" transform=\"translate(0.000, 69.879)\" style=\"opacity: 1;\"><rect class=\"node-rect\" width=\"20\" height=\"0.5\" style=\"stroke-width: 0.5; stroke: rgb(0, 0, 0); stroke-opacity: 1; fill: rgb(0, 0, 255); fill-opacity: 1;\"/><rect class=\"node-capture\" x=\"-10\" y=\"-7.5\" width=\"40\" height=\"15.5\" style=\"fill-opacity: 0;\"/><g class=\"node-entered\" transform=\"translate(0 1.0017143510228976)\"><path class=\"node-label-guide\" id=\"54957a_0_node_4\" d=\"M24,0L540,0\" transform=\"matrix(1 0 0 1 0 0)\"/><text class=\"node-label\" transform=\"scale(1 1)\" style=\"user-select: none; cursor: default; fill: rgb(42, 63, 95); text-shadow: rgb(255, 255, 255) -1px 1px 1px, rgb(255, 255, 255) 1px 1px 1px, rgb(255, 255, 255) 1px -1px 1px, rgb(255, 255, 255) -1px -1px 1px; font-family: 'Open Sans', verdana, arial, sans-serif; font-size: 10px; fill-opacity: 1;\"><textPath class=\"node-label-text-path\" alignment-baseline=\"middle\" xlink:href=\"#54957a_0_node_4\" startOffset=\"0%\" text-anchor=\"start\" style=\"fill: rgb(0, 0, 0);\">CP039755.1 Bacillus subtilis</textPath></text></g></g><g class=\"sankey-node\" transform=\"translate(0.000, 26.524)\" style=\"opacity: 1;\"><rect class=\"node-rect\" width=\"20\" height=\"0.9257495523638966\" style=\"stroke-width: 0.5; stroke: rgb(0, 0, 0); stroke-opacity: 1; fill: rgb(0, 0, 255); fill-opacity: 1;\"/><rect class=\"node-capture\" x=\"-10\" y=\"-7.5\" width=\"40\" height=\"15.925749552363897\" style=\"fill-opacity: 0;\"/><g class=\"node-entered\" transform=\"translate(0 1.4628747761819483)\"><path class=\"node-label-guide\" id=\"54957a_0_node_5\" d=\"M24,0L540,0\" transform=\"matrix(1 0 0 1 0 0)\"/><text class=\"node-label\" transform=\"scale(1 1)\" style=\"user-select: none; cursor: default; fill: rgb(42, 63, 95); text-shadow: rgb(255, 255, 255) -1px 1px 1px, rgb(255, 255, 255) 1px 1px 1px, rgb(255, 255, 255) 1px -1px 1px, rgb(255, 255, 255) -1px -1px 1px; font-family: 'Open Sans', verdana, arial, sans-serif; font-size: 10px; fill-opacity: 1;\"><textPath class=\"node-label-text-path\" alignment-baseline=\"middle\" xlink:href=\"#54957a_0_node_5\" startOffset=\"0%\" text-anchor=\"start\" style=\"fill: rgb(0, 0, 0);\">FREP01002036.1 Escherichia coli</textPath></text></g></g><g class=\"sankey-node\" transform=\"translate(0.000, 176.338)\" style=\"opacity: 1;\"><rect class=\"node-rect\" width=\"20\" height=\"2.434378452512476\" style=\"stroke-width: 0.5; stroke: rgb(0, 0, 0); stroke-opacity: 1; fill: rgb(0, 0, 255); fill-opacity: 1;\"/><rect class=\"node-capture\" x=\"-10\" y=\"-7.5\" width=\"40\" height=\"17.434378452512476\" style=\"fill-opacity: 0;\"/><g class=\"node-entered\" transform=\"translate(0 2.217189226256238)\"><path class=\"node-label-guide\" id=\"54957a_0_node_8\" d=\"M24,0L540,0\" transform=\"matrix(1 0 0 1 0 0)\"/><text class=\"node-label\" transform=\"scale(1 1)\" style=\"user-select: none; cursor: default; fill: rgb(42, 63, 95); text-shadow: rgb(255, 255, 255) -1px 1px 1px, rgb(255, 255, 255) 1px 1px 1px, rgb(255, 255, 255) 1px -1px 1px, rgb(255, 255, 255) -1px -1px 1px; font-family: 'Open Sans', verdana, arial, sans-serif; font-size: 10px; fill-opacity: 1;\"><textPath class=\"node-label-text-path\" alignment-baseline=\"middle\" xlink:href=\"#54957a_0_node_8\" startOffset=\"0%\" text-anchor=\"start\" style=\"fill: rgb(0, 0, 0);\">AE017341.1 Cryptococcus neoformans</textPath></text></g></g><g class=\"sankey-node\" transform=\"translate(0.000, 55.241)\" style=\"opacity: 1;\"><rect class=\"node-rect\" width=\"20\" height=\"0.792030172577995\" style=\"stroke-width: 0.5; stroke: rgb(0, 0, 0); stroke-opacity: 1; fill: rgb(0, 0, 255); fill-opacity: 1;\"/><rect class=\"node-capture\" x=\"-10\" y=\"-7.5\" width=\"40\" height=\"15.792030172577995\" style=\"fill-opacity: 0;\"/><g class=\"node-entered\" transform=\"translate(0 1.3960150862889975)\"><path class=\"node-label-guide\" id=\"54957a_0_node_10\" d=\"M24,0L540,0\" transform=\"matrix(1 0 0 1 0 0)\"/><text class=\"node-label\" transform=\"scale(1 1)\" style=\"user-select: none; cursor: default; fill: rgb(42, 63, 95); text-shadow: rgb(255, 255, 255) -1px 1px 1px, rgb(255, 255, 255) 1px 1px 1px, rgb(255, 255, 255) 1px -1px 1px, rgb(255, 255, 255) -1px -1px 1px; font-family: 'Open Sans', verdana, arial, sans-serif; font-size: 10px; fill-opacity: 1;\"><textPath class=\"node-label-text-path\" alignment-baseline=\"middle\" xlink:href=\"#54957a_0_node_10\" startOffset=\"0%\" text-anchor=\"start\" style=\"fill: rgb(0, 0, 0);\">CP041013.1 Pseudomonas aeruginosa</textPath></text></g></g><g class=\"sankey-node\" transform=\"translate(0.000, 192.619)\" style=\"opacity: 1;\"><rect class=\"node-rect\" width=\"20\" height=\"2.1789401501009706\" style=\"stroke-width: 0.5; stroke: rgb(0, 0, 0); stroke-opacity: 1; fill: rgb(0, 0, 255); fill-opacity: 1;\"/><rect class=\"node-capture\" x=\"-10\" y=\"-7.5\" width=\"40\" height=\"17.17894015010097\" style=\"fill-opacity: 0;\"/><g class=\"node-entered\" transform=\"translate(0 2.0894700750504853)\"><path class=\"node-label-guide\" id=\"54957a_0_node_11\" d=\"M24,0L540,0\" transform=\"matrix(1 0 0 1 0 0)\"/><text class=\"node-label\" transform=\"scale(1 1)\" style=\"user-select: none; cursor: default; fill: rgb(42, 63, 95); text-shadow: rgb(255, 255, 255) -1px 1px 1px, rgb(255, 255, 255) 1px 1px 1px, rgb(255, 255, 255) 1px -1px 1px, rgb(255, 255, 255) -1px -1px 1px; font-family: 'Open Sans', verdana, arial, sans-serif; font-size: 10px; fill-opacity: 1;\"><textPath class=\"node-label-text-path\" alignment-baseline=\"middle\" xlink:href=\"#54957a_0_node_11\" startOffset=\"0%\" text-anchor=\"start\" style=\"fill: rgb(0, 0, 0);\">CP003820.1 Cryptococcus neoformans</textPath></text></g></g><g class=\"sankey-node\" transform=\"translate(0.000, 83.729)\" style=\"opacity: 1;\"><rect class=\"node-rect\" width=\"20\" height=\"0.5\" style=\"stroke-width: 0.5; stroke: rgb(0, 0, 0); stroke-opacity: 1; fill: rgb(0, 0, 255); fill-opacity: 1;\"/><rect class=\"node-capture\" x=\"-10\" y=\"-7.5\" width=\"40\" height=\"15.5\" style=\"fill-opacity: 0;\"/><g class=\"node-entered\" transform=\"translate(0 1.1714351022896068)\"><path class=\"node-label-guide\" id=\"54957a_0_node_13\" d=\"M24,0L540,0\" transform=\"matrix(1 0 0 1 0 0)\"/><text class=\"node-label\" transform=\"scale(1 1)\" style=\"user-select: none; cursor: default; fill: rgb(42, 63, 95); text-shadow: rgb(255, 255, 255) -1px 1px 1px, rgb(255, 255, 255) 1px 1px 1px, rgb(255, 255, 255) 1px -1px 1px, rgb(255, 255, 255) -1px -1px 1px; font-family: 'Open Sans', verdana, arial, sans-serif; font-size: 10px; fill-opacity: 1;\"><textPath class=\"node-label-text-path\" alignment-baseline=\"middle\" xlink:href=\"#54957a_0_node_13\" startOffset=\"0%\" text-anchor=\"start\" style=\"fill: rgb(0, 0, 0);\">VFAG01000002.1 Escherichia coli</textPath></text></g></g><g class=\"sankey-node\" transform=\"translate(0.000, 241.392)\" style=\"opacity: 1;\"><rect class=\"node-rect\" width=\"20\" height=\"0.5434492742580801\" style=\"stroke-width: 0.5; stroke: rgb(0, 0, 0); stroke-opacity: 1; fill: rgb(0, 0, 255); fill-opacity: 1;\"/><rect class=\"node-capture\" x=\"-10\" y=\"-7.5\" width=\"40\" height=\"15.54344927425808\" style=\"fill-opacity: 0;\"/><g class=\"node-entered\" transform=\"translate(0 1.27172463712904)\"><path class=\"node-label-guide\" id=\"54957a_0_node_14\" d=\"M24,0L540,0\" transform=\"matrix(1 0 0 1 0 0)\"/><text class=\"node-label\" transform=\"scale(1 1)\" style=\"user-select: none; cursor: default; fill: rgb(42, 63, 95); text-shadow: rgb(255, 255, 255) -1px 1px 1px, rgb(255, 255, 255) 1px 1px 1px, rgb(255, 255, 255) 1px -1px 1px, rgb(255, 255, 255) -1px -1px 1px; font-family: 'Open Sans', verdana, arial, sans-serif; font-size: 10px; fill-opacity: 1;\"><textPath class=\"node-label-text-path\" alignment-baseline=\"middle\" xlink:href=\"#54957a_0_node_14\" startOffset=\"0%\" text-anchor=\"start\" style=\"fill: rgb(0, 0, 0);\">LOQK01000001.1 Saccharomyces pastorianus</textPath></text></g></g><g class=\"sankey-node\" transform=\"translate(0.000, 255.782)\" style=\"opacity: 1;\"><rect class=\"node-rect\" width=\"20\" height=\"0.5\" style=\"stroke-width: 0.5; stroke: rgb(0, 0, 0); stroke-opacity: 1; fill: rgb(0, 0, 255); fill-opacity: 1;\"/><rect class=\"node-capture\" x=\"-10\" y=\"-7.5\" width=\"40\" height=\"15.5\" style=\"fill-opacity: 0;\"/><g class=\"node-entered\" transform=\"translate(0 1.1311478532515196)\"><path class=\"node-label-guide\" id=\"54957a_0_node_16\" d=\"M24,0L540,0\" transform=\"matrix(1 0 0 1 0 0)\"/><text class=\"node-label\" transform=\"scale(1 1)\" style=\"user-select: none; cursor: default; fill: rgb(42, 63, 95); text-shadow: rgb(255, 255, 255) -1px 1px 1px, rgb(255, 255, 255) 1px 1px 1px, rgb(255, 255, 255) 1px -1px 1px, rgb(255, 255, 255) -1px -1px 1px; font-family: 'Open Sans', verdana, arial, sans-serif; font-size: 10px; fill-opacity: 1;\"><textPath class=\"node-label-text-path\" alignment-baseline=\"middle\" xlink:href=\"#54957a_0_node_16\" startOffset=\"0%\" text-anchor=\"start\" style=\"fill: rgb(0, 0, 0);\">CM010209.1 Saccharomyces cerevisiae</textPath></text></g></g><g class=\"sankey-node\" transform=\"translate(0.000, 269.890)\" style=\"opacity: 1;\"><rect class=\"node-rect\" width=\"20\" height=\"0.5\" style=\"stroke-width: 0.5; stroke: rgb(0, 0, 0); stroke-opacity: 1; fill: rgb(0, 0, 255); fill-opacity: 1;\"/><rect class=\"node-capture\" x=\"-10\" y=\"-7.5\" width=\"40\" height=\"15.5\" style=\"fill-opacity: 0;\"/><g class=\"node-entered\" transform=\"translate(0 1.0548592327326958)\"><path class=\"node-label-guide\" id=\"54957a_0_node_17\" d=\"M24,0L540,0\" transform=\"matrix(1 0 0 1 0 0)\"/><text class=\"node-label\" transform=\"scale(1 1)\" style=\"user-select: none; cursor: default; fill: rgb(42, 63, 95); text-shadow: rgb(255, 255, 255) -1px 1px 1px, rgb(255, 255, 255) 1px 1px 1px, rgb(255, 255, 255) 1px -1px 1px, rgb(255, 255, 255) -1px -1px 1px; font-family: 'Open Sans', verdana, arial, sans-serif; font-size: 10px; fill-opacity: 1;\"><textPath class=\"node-label-text-path\" alignment-baseline=\"middle\" xlink:href=\"#54957a_0_node_17\" startOffset=\"0%\" text-anchor=\"start\" style=\"fill: rgb(0, 0, 0);\">CM006175.1 Saccharomyces cerevisiae</textPath></text></g></g><g class=\"sankey-node\" transform=\"translate(0.000, 97.918)\" style=\"opacity: 1;\"><rect class=\"node-rect\" width=\"20\" height=\"24.042058745095034\" style=\"stroke-width: 0.5; stroke: rgb(0, 0, 0); stroke-opacity: 1; fill: rgb(0, 0, 255); fill-opacity: 1;\"/><rect class=\"node-capture\" x=\"-10\" y=\"-7.5\" width=\"40\" height=\"39.042058745095034\" style=\"fill-opacity: 0;\"/><g class=\"node-entered\" transform=\"translate(0 13.021029372547517)\"><path class=\"node-label-guide\" id=\"54957a_0_node_18\" d=\"M24,0L540,0\" transform=\"matrix(1 0 0 1 0 0)\"/><text class=\"node-label\" transform=\"scale(1 1)\" style=\"user-select: none; cursor: default; fill: rgb(42, 63, 95); text-shadow: rgb(255, 255, 255) -1px 1px 1px, rgb(255, 255, 255) 1px 1px 1px, rgb(255, 255, 255) 1px -1px 1px, rgb(255, 255, 255) -1px -1px 1px; font-family: 'Open Sans', verdana, arial, sans-serif; font-size: 10px; fill-opacity: 1;\"><textPath class=\"node-label-text-path\" alignment-baseline=\"middle\" xlink:href=\"#54957a_0_node_18\" startOffset=\"0%\" text-anchor=\"start\" style=\"fill: rgb(0, 0, 0);\">unassigned</textPath></text></g></g><g class=\"sankey-node\" transform=\"translate(520.000, 50.954)\" style=\"opacity: 1;\"><rect class=\"node-rect\" width=\"20\" height=\"34.87161415672976\" style=\"stroke-width: 0.5; stroke: rgb(0, 0, 0); stroke-opacity: 1; fill: rgb(0, 0, 255); fill-opacity: 1;\"/><rect class=\"node-capture\" x=\"-10\" y=\"-7.5\" width=\"40\" height=\"49.87161415672976\" style=\"fill-opacity: 0;\"/><g class=\"node-entered\" transform=\"translate(0 18.43580707836488)\"><path class=\"node-label-guide\" id=\"54957a_0_node_19\" d=\"M-540,0L-4,0\" transform=\"matrix(1 0 0 1 0 0)\"/><text class=\"node-label\" transform=\"scale(1 1)\" style=\"user-select: none; cursor: default; fill: rgb(42, 63, 95); text-shadow: rgb(255, 255, 255) -1px 1px 1px, rgb(255, 255, 255) 1px 1px 1px, rgb(255, 255, 255) 1px -1px 1px, rgb(255, 255, 255) -1px -1px 1px; font-family: 'Open Sans', verdana, arial, sans-serif; font-size: 10px; fill-opacity: 1;\"><textPath class=\"node-label-text-path\" alignment-baseline=\"middle\" xlink:href=\"#54957a_0_node_19\" startOffset=\"100%\" text-anchor=\"end\" style=\"fill: rgb(0, 0, 0);\">JSPL01000060.1 Escherichia coli</textPath></text></g></g><g class=\"sankey-node\" transform=\"translate(520.000, 134.995)\" style=\"opacity: 1;\"><rect class=\"node-rect\" width=\"20\" height=\"33.380128766810174\" style=\"stroke-width: 0.5; stroke: rgb(0, 0, 0); stroke-opacity: 1; fill: rgb(0, 0, 255); fill-opacity: 1;\"/><rect class=\"node-capture\" x=\"-10\" y=\"-7.5\" width=\"40\" height=\"48.380128766810174\" style=\"fill-opacity: 0;\"/><g class=\"node-entered\" transform=\"translate(0 17.690064383405087)\"><path class=\"node-label-guide\" id=\"54957a_0_node_20\" d=\"M-540,0L-4,0\" transform=\"matrix(1 0 0 1 0 0)\"/><text class=\"node-label\" transform=\"scale(1 1)\" style=\"user-select: none; cursor: default; fill: rgb(42, 63, 95); text-shadow: rgb(255, 255, 255) -1px 1px 1px, rgb(255, 255, 255) 1px 1px 1px, rgb(255, 255, 255) 1px -1px 1px, rgb(255, 255, 255) -1px -1px 1px; font-family: 'Open Sans', verdana, arial, sans-serif; font-size: 10px; fill-opacity: 1;\"><textPath class=\"node-label-text-path\" alignment-baseline=\"middle\" xlink:href=\"#54957a_0_node_20\" startOffset=\"100%\" text-anchor=\"end\" style=\"fill: rgb(0, 0, 0);\">SSXJ01000001.1 Cryptococcus neoformans</textPath></text></g></g><g class=\"sankey-node\" transform=\"translate(520.000, 198.919)\" style=\"opacity: 1;\"><rect class=\"node-rect\" width=\"20\" height=\"21.74825707646005\" style=\"stroke-width: 0.5; stroke: rgb(0, 0, 0); stroke-opacity: 1; fill: rgb(0, 0, 255); fill-opacity: 1;\"/><rect class=\"node-capture\" x=\"-10\" y=\"-7.5\" width=\"40\" height=\"36.74825707646005\" style=\"fill-opacity: 0;\"/><g class=\"node-entered\" transform=\"translate(0 11.874128538230025)\"><path class=\"node-label-guide\" id=\"54957a_0_node_21\" d=\"M-540,0L-4,0\" transform=\"matrix(1 0 0 1 0 0)\"/><text class=\"node-label\" transform=\"scale(1 1)\" style=\"user-select: none; cursor: default; fill: rgb(42, 63, 95); text-shadow: rgb(255, 255, 255) -1px 1px 1px, rgb(255, 255, 255) 1px 1px 1px, rgb(255, 255, 255) 1px -1px 1px, rgb(255, 255, 255) -1px -1px 1px; font-family: 'Open Sans', verdana, arial, sans-serif; font-size: 10px; fill-opacity: 1;\"><textPath class=\"node-label-text-path\" alignment-baseline=\"middle\" xlink:href=\"#54957a_0_node_21\" startOffset=\"100%\" text-anchor=\"end\" style=\"fill: rgb(0, 0, 0);\">WMJW01000001.1 Saccharomyces cerevisiae</textPath></text></g></g></g></g><defs id=\"topdefs-b9b939\"><g class=\"clips\"/></defs><g class=\"layer-above\"><g class=\"imagelayer\"/><g class=\"shapelayer\"/></g><g class=\"infolayer\"><g class=\"g-gtitle\"><text class=\"gtitle\" x=\"35\" y=\"50\" text-anchor=\"start\" dy=\"0em\" style=\"font-family: 'Open Sans', verdana, arial, sans-serif; font-size: 14px; fill: rgb(42, 63, 95); opacity: 1; font-weight: normal; white-space: pre;\">original genome contributions to top 3 neighborhood covers for zymomock</text></g><g class=\"first-render\"/></g></svg>"
      ]
     },
     "metadata": {},
     "output_type": "display_data"
    }
   ],
   "source": [
    "fig.update_layout(title_text=\"original genome contributions to top 3 neighborhood covers for zymomock\", font_size=10)\n",
    "fig.show(\"svg\")"
   ]
  },
  {
   "cell_type": "code",
   "execution_count": null,
   "metadata": {},
   "outputs": [],
   "source": []
  }
 ],
 "metadata": {
  "kernelspec": {
   "display_name": "Python (myenv)",
   "language": "python",
   "name": "myenv"
  },
  "language_info": {
   "codemirror_mode": {
    "name": "ipython",
    "version": 3
   },
   "file_extension": ".py",
   "mimetype": "text/x-python",
   "name": "python",
   "nbconvert_exporter": "python",
   "pygments_lexer": "ipython3",
   "version": "3.7.6"
  }
 },
 "nbformat": 4,
 "nbformat_minor": 4
}
