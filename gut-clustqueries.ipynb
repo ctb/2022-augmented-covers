{
 "cells": [
  {
   "cell_type": "markdown",
   "metadata": {},
   "source": [
    "## cluster the gut queries\n",
    "\n",
    "here, we cluster the gut queries by max containment, for display.\n",
    "\n",
    "```\n",
    "rm -fr gut-clust-queries\n",
    "mkdir gut-clust-queries\n",
    "../2022-sourmash-uniqify/sourmash-uniqify.py gut/gut-queries.zip --max-containment --merge --prefix gut-clust-queries/\n",
    "\n",
    "# put the cluster sigs in as the left side\n",
    "sourmash sig cat gut-clust-queries/*.sig -o gut-clust-queries/gut-clust-queries-queries.zip\n",
    "\n",
    "# put the original _neighborhoods_ in as right side\n",
    "ln gut/gut-nbhds.zip gut-clust-queries/gut-clust-queries-nbhds.zip\n",
    "\n",
    "# link in metagenome\n",
    "ln gut/p8808mo11.abundtrim.sig gut-clust-queries/\n",
    "```"
   ]
  },
  {
   "cell_type": "code",
   "execution_count": 1,
   "metadata": {},
   "outputs": [],
   "source": [
    "name = 'gut-clust-queries'\n",
    "acc = 'p8808mo11'\n",
    "ksize=31"
   ]
  },
  {
   "cell_type": "code",
   "execution_count": 2,
   "metadata": {},
   "outputs": [],
   "source": [
    "metag_filename = f'{name}/{acc}.abundtrim.sig'\n",
    "queries_filename = f'{name}/{name}-queries.zip'\n",
    "nbhds_filename = f'{name}/{name}-nbhds.zip'"
   ]
  },
  {
   "cell_type": "code",
   "execution_count": 3,
   "metadata": {},
   "outputs": [],
   "source": [
    "import sourmash\n",
    "import csv\n",
    "import subprocess\n",
    "import os\n",
    "import collections"
   ]
  },
  {
   "cell_type": "code",
   "execution_count": 31,
   "metadata": {},
   "outputs": [],
   "source": [
    "def get_ident(name):\n",
    "    \"pick off identifier, stripping off nbhd: prefix if present.\"\n",
    "    name = name.split(' ')[0]\n",
    "    if name.startswith('nbhd:'):\n",
    "        name = name[5:]\n",
    "    return name\n",
    "\n",
    "def load_gather(filename):\n",
    "    gather_rows = []\n",
    "    with open(filename, newline=\"\") as fp:\n",
    "        r = csv.DictReader(fp)\n",
    "        gather_rows.extend(r)\n",
    "\n",
    "    full_idents = {}\n",
    "\n",
    "    gather_d = {}\n",
    "    gather_keys = []\n",
    "    for row in gather_rows:\n",
    "        ident = get_ident(row['name'])\n",
    "        full_idents[ident] = \" \".join(row['name'].split(' ')[:3])\n",
    "        gather_d[ident] = row\n",
    "        gather_keys.append(ident)\n",
    "        \n",
    "    return gather_keys, gather_d, full_idents\n",
    "\n",
    "def gather_and_load(name, metag_filename, query_sigs, nbhd_sigs, ksize=31):\n",
    "    assert os.path.exists(metag_filename)\n",
    "    assert os.path.exists(query_sigs)\n",
    "    assert os.path.exists(nbhd_sigs)\n",
    "    \n",
    "    query_out = f\"{name}/queries.gather.csv\"\n",
    "    nbhd_out = f\"{name}/nbhd.gather.csv\"\n",
    "    stdout1_out = f\"{name}/queries.gather.out\"\n",
    "    stdout2_out = f\"{name}/nbhd.gather.out\"\n",
    "    \n",
    "    cmd = f\"sourmash gather -k {ksize} {metag_filename} {query_sigs} -o {query_out} --ignore-abundance >& {stdout1_out}\"\n",
    "    print(cmd)\n",
    "    if not os.path.exists(query_out):\n",
    "        result = subprocess.run(cmd, shell=True)\n",
    "    else:\n",
    "        print(f\"** {query_out} already exists; not rerunning sourmash gather on queries\")\n",
    "        \n",
    "    stdout1 = open(stdout1_out, 'rt').read()\n",
    "\n",
    "\n",
    "    cmd = f\"sourmash gather -k {ksize} {metag_filename} {nbhd_sigs} -o {nbhd_out} --ignore-abundance >& {stdout2_out}\"\n",
    "    print(cmd)\n",
    "    if not os.path.exists(nbhd_out):\n",
    "        result = subprocess.run(cmd, shell=True)\n",
    "    else:\n",
    "        print(f\"** {nbhd_out} already exists; not rerunning sourmash gather on nbhds\")\n",
    "        \n",
    "    stdout2 = open(stdout2_out, 'rt').read()\n",
    "\n",
    "       \n",
    "    gather1_keys, gather1_d, full_idents = load_gather(query_out)\n",
    "    gather2_keys, gather2_d, full_idents2 = load_gather(nbhd_out)\n",
    "    for k, v in full_idents2.items():\n",
    "        if k not in full_idents:\n",
    "            if v.startswith('nbhd:'):\n",
    "                v = v[5:]\n",
    "            full_idents[k] = v\n",
    "    \n",
    "    metag = sourmash.load_one_signature(metag_filename, ksize=ksize)\n",
    "    \n",
    "    queries = list(sourmash.load_file_as_signatures(query_sigs))\n",
    "    queries_d = {}\n",
    "    for ss in queries:\n",
    "        ident = get_ident(ss.name)\n",
    "        queries_d[ident] = ss\n",
    "        \n",
    "    nbhds = list(sourmash.load_file_as_signatures(nbhd_sigs))\n",
    "    nbhds_d = {}\n",
    "    for ss in nbhds:\n",
    "        ident = get_ident(ss.name)\n",
    "        nbhds_d[ident] = ss\n",
    "        \n",
    "    tup = collections.namedtuple('augmented', 'metag, queries_d, nbhds_d, gather1_keys, gather1_d, gather2_keys, gather2_d, full_idents, stdout1, stdout2')\n",
    "    t = tup(metag, queries_d, nbhds_d, gather1_keys, gather1_d, gather2_keys, gather2_d, full_idents, stdout1, stdout2)\n",
    "    \n",
    "    return t\n",
    "    \n"
   ]
  },
  {
   "cell_type": "markdown",
   "metadata": {},
   "source": [
    "## Running the things"
   ]
  },
  {
   "cell_type": "code",
   "execution_count": 32,
   "metadata": {},
   "outputs": [
    {
     "name": "stdout",
     "output_type": "stream",
     "text": [
      "sourmash gather -k 31 gut-clust-queries/p8808mo11.abundtrim.sig gut-clust-queries/gut-clust-queries-queries.zip -o gut-clust-queries/queries.gather.csv --ignore-abundance >& gut-clust-queries/queries.gather.out\n",
      "** gut-clust-queries/queries.gather.csv already exists; not rerunning sourmash gather on queries\n",
      "sourmash gather -k 31 gut-clust-queries/p8808mo11.abundtrim.sig gut-clust-queries/gut-clust-queries-nbhds.zip -o gut-clust-queries/nbhd.gather.csv --ignore-abundance >& gut-clust-queries/nbhd.gather.out\n",
      "** gut-clust-queries/nbhd.gather.csv already exists; not rerunning sourmash gather on nbhds\n"
     ]
    }
   ],
   "source": [
    "t = gather_and_load(name, metag_filename, queries_filename, nbhds_filename, ksize=ksize)\n",
    "metag, queries_d, nbhds_d, gather1_keys, gather1_d, gather2_keys, gather2_d, full_idents, stdout1, stdout2 = t"
   ]
  },
  {
   "cell_type": "markdown",
   "metadata": {},
   "source": [
    "## gather output"
   ]
  },
  {
   "cell_type": "code",
   "execution_count": 33,
   "metadata": {},
   "outputs": [
    {
     "name": "stdout",
     "output_type": "stream",
     "text": [
      "\n",
      "\n",
      "overlap     p_query p_match\n",
      "---------   ------- -------\n",
      "5.6 Mbp        2.0%   91.7%    CP048626.1 Blautia producta ATCC 2734...\n",
      "5.0 Mbp        1.8%   99.6%    DABGPL010000001.1 TPA_asm: Escherichi...\n",
      "3.2 Mbp        1.1%   99.3%    JULC01000001.1 Bifidobacterium scardo...\n",
      "2.9 Mbp        1.0%   89.6%    SMCQ01000001.1 Longibaculum muris str...\n",
      "1.6 Mbp        0.5%   51.8%    HF995324.1 Firmicutes bacterium CAG:6...\n",
      "0.9 Mbp        0.3%   27.9%    WMQE01000038.1 Turicibacter sanguinis...\n",
      "0.8 Mbp        0.3%   37.7%    AEKO01000011.1 Streptococcus vestibul...\n",
      "0.7 Mbp        0.2%   29.6%    JAABLG010000001.1 Streptococcus vesti...\n",
      "0.6 Mbp        0.2%   32.5%    UQNI01000001.1 uncultured Ruminococca...\n",
      "0.6 Mbp        0.2%   17.9%    QVGF01000001.1 Lachnospiraceae bacter...\n",
      "0.6 Mbp        0.2%   16.2%    BAHW02000078.1 Clostridiales bacteriu...\n",
      "0.5 Mbp        0.2%   15.6%    URPP01000001.1 uncultured Clostridial...\n",
      "0.6 Mbp        0.2%   22.7%    CABHOC010000001.1 Bifidobacterium lon...\n",
      "496.0 kbp      0.2%   12.4%    CZYD01000001.1 Terrisporobacter othin...\n",
      "475.0 kbp      0.2%   14.6%    CAAEUS010000001.1 TPA_asm: uncultured...\n",
      "411.0 kbp      0.1%   10.3%    OBJV01000049.1 Clostridium tertium is...\n",
      "403.0 kbp      0.1%   16.0%    CM003575.1 Veillonella sp. DORA_A_3_1...\n",
      "370.0 kbp      0.1%    1.0%    PDMO01000909.1 Cyclospora cayetanensi...\n",
      "350.0 kbp      0.1%   19.2%    CAAEVI010000001.1 TPA_asm: Erysipelot...\n",
      "354.0 kbp      0.1%   12.1%    CYYS01000001.1 Turicibacter sanguinis...\n",
      "316.0 kbp      0.1%    8.9%    CYZX01000001.1 Clostridium disporicum...\n",
      "222.0 kbp      0.1%    5.2%    CAAFUY010000001.1 TPA_asm: uncultured...\n",
      "181.0 kbp      0.1%    7.8%    UQGF01000001.1 uncultured Actinomyces...\n",
      "362.0 kbp      0.1%    9.5%    CP047191.1 Streptococcus thermophilus...\n",
      "210.0 kbp      0.1%    3.6%    QUIC01000001.1 Ruminococcus sp. AM46-...\n",
      "153.0 kbp      0.1%    7.1%    LZMY01000001.1 Haemophilus parainflue...\n",
      "155.0 kbp      0.1%    7.1%    NCVD01000051.1 Streptococcus mitis st...\n",
      "145.0 kbp      0.0%    6.7%    PNHV01000001.1 Actinomyces graevenitz...\n",
      "165.0 kbp      0.0%    4.4%    UQQU01000001.1 uncultured Clostridium...\n",
      "141.0 kbp      0.0%    4.3%    FR883346.1 Clostridium sp. CAG:221 ge...\n",
      "120.0 kbp      0.0%    4.5%    WKYR01000010.1 Megasphaera sp. BIOML-...\n",
      "122.0 kbp      0.0%    6.1%    JWDF01000004.1 Streptomyces cattleya ...\n",
      "119.0 kbp      0.0%    2.2%    JNHJ01000001.1 Phocaeicola vulgatus s...\n",
      "105.0 kbp      0.0%    6.5%    JRND01000001.1 Lancefieldella parvulu...\n",
      "\n",
      "found 34 matches total;\n",
      "the recovered matches hit 10.0% of the query\n",
      "\n",
      "\n",
      "\u001b[K\n",
      "== This is sourmash version 4.2.4.dev0+g73aeb155.d20220116. ==\n",
      "\n",
      "\u001b[K== Please cite Brown and Irber (2016), doi:10.21105/joss.00027. ==\n",
      "\n",
      "\n",
      "\u001b[Kselecting specified query k=31\n",
      "\n",
      "\u001b[Kloaded query: p8808mo11... (k=31, DNA)\n",
      "\n",
      "\u001b[Kloading from gut-clust-queries/gut-clust-queries-queries.zip...\n",
      "\n",
      "\u001b[K                                                                               \n",
      "\n",
      "\u001b[Kloaded 1 databases.\n",
      "\n",
      "\u001b[KStarting prefetch sweep across databases.\n",
      "\n",
      "\u001b[KFound 34 signatures via prefetch; now doing gather.\n",
      "\n",
      "\u001b[Kfound less than 50.0 kbp in common. => exiting\n",
      "\n"
     ]
    }
   ],
   "source": [
    "print(stdout1)"
   ]
  },
  {
   "cell_type": "code",
   "execution_count": 34,
   "metadata": {},
   "outputs": [
    {
     "name": "stdout",
     "output_type": "stream",
     "text": [
      "\n",
      "\n",
      "overlap     p_query p_match\n",
      "---------   ------- -------\n",
      "9.5 Mbp        3.3%  100.0%    nbhd:CVRR01000001.1 Roseburia faecis ...\n",
      "8.7 Mbp        3.0%   99.5%    nbhd:NIHW01000001.1 [Ruminococcus] gn...\n",
      "7.8 Mbp        2.7%  100.0%    nbhd:DABGPL010000001.1 TPA_asm: Esche...\n",
      "7.6 Mbp        2.7%   99.2%    nbhd:CP048626.1 Blautia producta ATCC...\n",
      "7.6 Mbp        2.6%   97.8%    nbhd:CZAB01000001.1 [Clostridium] clo...\n",
      "7.4 Mbp        2.6%   99.6%    nbhd:AENW01000060.1 Clostridium sp. H...\n",
      "6.8 Mbp        2.4%   99.1%    nbhd:HF996869.1 Clostridium hathewayi...\n",
      "5.8 Mbp        2.0%   96.4%    nbhd:GL834357.1 Clostridium symbiosum...\n",
      "5.6 Mbp        1.8%   90.7%    nbhd:WTVF01000090.1 Enterocloster ald...\n",
      "4.8 Mbp        1.7%   98.6%    nbhd:JH599901.1 Coprobacillus sp. 8_2...\n",
      "4.1 Mbp        1.4%   99.8%    nbhd:JULC01000001.1 Bifidobacterium s...\n",
      "4.0 Mbp        1.3%   95.4%    nbhd:CABJAX010000001.1 Lachnospiracea...\n",
      "3.8 Mbp        1.3%   96.0%    nbhd:JH590866.1 Lachnospiraceae bacte...\n",
      "3.6 Mbp        1.3%   99.4%    nbhd:FMFU01000020.1 uncultured Clostr...\n",
      "3.5 Mbp        1.2%   99.2%    nbhd:MARQ01000035.1 Clostridium perfr...\n",
      "3.4 Mbp        1.2%   97.3%    nbhd:SMCQ01000001.1 Longibaculum muri...\n",
      "3.5 Mbp        1.1%   91.7%    nbhd:SPHM01000100.1 Pseudoflavonifrac...\n",
      "3.1 Mbp        1.0%   95.4%    nbhd:CABIYM010000001.1 Anaerostipes c...\n",
      "2.9 Mbp        1.0%   95.5%    nbhd:AZYA01000001.1 Bifidobacterium s...\n",
      "3.1 Mbp        0.9%   86.8%    nbhd:FMEP01000075.1 uncultured Rumino...\n",
      "2.6 Mbp        0.9%   99.2%    nbhd:CP019721.1 Veillonella parvula s...\n",
      "2.6 Mbp        0.8%   90.3%    nbhd:NFLB01000001.1 [Clostridium] spi...\n",
      "2.1 Mbp        0.7%   96.1%    nbhd:USJS01000001.1 uncultured Blauti...\n",
      "2.0 Mbp        0.7%   94.8%    nbhd:LT629846.1 Romboutsia sp. DR1 st...\n",
      "1.8 Mbp        0.6%   92.9%    nbhd:HF995324.1 Firmicutes bacterium ...\n",
      "1.6 Mbp        0.6%   98.4%    nbhd:LR793273.1 Streptococcus salivar...\n",
      "1.6 Mbp        0.4%   81.3%    nbhd:AEDS01000070.1 Veillonella atypi...\n",
      "1.3 Mbp        0.4%   94.5%    nbhd:QGMT01000001.1 Clostridium parap...\n",
      "8.8 Mbp        0.4%   12.2%    nbhd:WNAL01000100.1 Roseburia faecis ...\n",
      "1.1 Mbp        0.4%   94.2%    nbhd:WMQE01000038.1 Turicibacter sang...\n",
      "1.1 Mbp        0.3%   84.1%    nbhd:KV794391.1 Streptococcus sp. HMS...\n",
      "1.1 Mbp        0.3%   77.6%    nbhd:FACG01000001.1 Peptoclostridium ...\n",
      "6.0 Mbp        0.3%   13.5%    nbhd:JAGQ01000001.1 [Ruminococcus] gn...\n",
      "0.8 Mbp        0.3%   97.8%    nbhd:URPP01000001.1 uncultured Clostr...\n",
      "0.7 Mbp        0.2%   96.7%    nbhd:UQNI01000001.1 uncultured Rumino...\n",
      "2.1 Mbp        0.2%   30.1%    nbhd:CAAFOE010000001.1 TPA_asm: uncul...\n",
      "1.0 Mbp        0.2%   62.0%    nbhd:CABHOC010000001.1 Bifidobacteriu...\n",
      "0.8 Mbp        0.2%   70.2%    nbhd:CZYD01000001.1 Terrisporobacter ...\n",
      "1.3 Mbp        0.2%   40.9%    nbhd:JAABLG010000001.1 Streptococcus ...\n",
      "6.5 Mbp        0.2%    7.3%    nbhd:KB851023.1 Clostridium clostridi...\n",
      "1.1 Mbp        0.2%   42.4%    nbhd:CM003575.1 Veillonella sp. DORA_...\n",
      "8.8 Mbp        0.2%    5.3%    nbhd:CYXV01000001.1 Roseburia faecis ...\n",
      "0.6 Mbp        0.2%   79.2%    nbhd:OBJV01000049.1 Clostridium terti...\n",
      "458.0 kbp      0.2%   95.2%    nbhd:CAAEVI010000001.1 TPA_asm: Erysi...\n",
      "0.5 Mbp        0.2%   79.6%    nbhd:CYYS01000001.1 Turicibacter sang...\n",
      "0.6 Mbp        0.1%   70.5%    nbhd:CYZX01000001.1 Clostridium dispo...\n",
      "2.6 Mbp        0.1%   14.7%    nbhd:AEXI01000023.1 Veillonella parvu...\n",
      "7.1 Mbp        0.1%    5.1%    nbhd:NIHV01000001.1 [Ruminococcus] gn...\n",
      "1.4 Mbp        0.1%   26.1%    nbhd:AEKO01000011.1 Streptococcus ves...\n",
      "4.0 Mbp        0.1%    8.7%    nbhd:KE384163.1 Clostridium clostridi...\n",
      "350.0 kbp      0.1%   96.0%    nbhd:UQGF01000001.1 uncultured Actino...\n",
      "3.9 Mbp        0.1%    8.1%    nbhd:JAAIUC010000010.1 Tyzzerella nex...\n",
      "0.8 Mbp        0.1%   34.5%    nbhd:QUIC01000001.1 Ruminococcus sp. ...\n",
      "3.4 Mbp        0.1%    8.5%    nbhd:NFLO01000001.1 Drancourtella sp....\n",
      "1.2 Mbp        0.1%   23.1%    nbhd:CAAEUS010000001.1 TPA_asm: uncul...\n",
      "6.5 Mbp        0.1%    4.3%    nbhd:CABJBJ010000001.1 Hungatella hat...\n",
      "1.7 Mbp        0.1%   16.0%    nbhd:QVGF01000001.1 Lachnospiraceae b...\n",
      "291.0 kbp      0.1%   93.8%    nbhd:LZMY01000001.1 Haemophilus parai...\n",
      "441.0 kbp      0.1%   61.7%    nbhd:CAAFUY010000001.1 TPA_asm: uncul...\n",
      "3.7 Mbp        0.1%    7.3%    nbhd:CAAKOI010000001.1 Flavonifractor...\n",
      "292.0 kbp      0.1%   90.1%    nbhd:JWDF01000004.1 Streptomyces catt...\n",
      "389.0 kbp      0.1%   66.3%    nbhd:NCVD01000051.1 Streptococcus mit...\n",
      "286.0 kbp      0.1%   88.1%    nbhd:JNHJ01000001.1 Phocaeicola vulga...\n",
      "3.5 Mbp        0.1%    7.2%    nbhd:RQNR01000100.1 Clostridium perfr...\n",
      "3.5 Mbp        0.1%    7.1%    nbhd:SPHR01000011.1 Intestinibacter b...\n",
      "256.0 kbp      0.1%   96.5%    nbhd:JRND01000001.1 Lancefieldella pa...\n",
      "7.4 Mbp        0.1%    3.1%    nbhd:UAVW01000021.1 [Clostridium] clo...\n",
      "1.2 Mbp        0.1%   19.2%    nbhd:PDMO01000909.1 Cyclospora cayeta...\n",
      "7.2 Mbp        0.1%    2.8%    nbhd:CABKQS010000001.1 [Clostridium] ...\n",
      "235.0 kbp      0.1%   84.3%    nbhd:PNHV01000001.1 Actinomyces graev...\n",
      "1.9 Mbp        0.1%   10.2%    nbhd:UQGB01000001.1 uncultured Clostr...\n",
      "4.5 Mbp        0.1%    4.1%    nbhd:HF995415.1 Coprobacillus sp. CAG...\n",
      "276.0 kbp      0.1%   64.9%    nbhd:FR883346.1 Clostridium sp. CAG:2...\n",
      "0.9 Mbp        0.1%   20.2%    nbhd:AVLJ01000001.1 UNVERIFIED_ORG: C...\n",
      "1.1 Mbp        0.1%   16.0%    nbhd:CP047191.1 Streptococcus thermop...\n",
      "2.2 Mbp        0.1%    7.9%    nbhd:BAHW02000078.1 Clostridiales bac...\n",
      "5.5 Mbp        0.1%    3.1%    nbhd:QVIB01000001.1 Dorea longicatena...\n",
      "2.2 Mbp        0.1%    7.7%    nbhd:CAAEOZ010000001.1 TPA_asm: uncul...\n",
      "211.0 kbp      0.1%   76.3%    nbhd:WKYR01000010.1 Megasphaera sp. B...\n",
      "5.8 Mbp        0.1%    2.7%    nbhd:JAAISL010000100.1 [Clostridium] ...\n",
      "2.7 Mbp        0.1%    5.6%    nbhd:CAAEKB010000001.1 TPA_asm: uncul...\n",
      "1.1 Mbp        0.1%   13.2%    nbhd:JVCZ01000002.1 Streptococcus par...\n",
      "2.5 Mbp        0.0%    5.6%    nbhd:NFJI01000001.1 [Clostridium] spi...\n",
      "1.3 Mbp        0.0%   10.7%    nbhd:UAWH01000019.1 Clostridium parap...\n",
      "2.9 Mbp        0.0%    4.3%    nbhd:SQQK01000001.1 Bifidobacterium d...\n",
      "343.0 kbp      0.0%   34.1%    nbhd:UQQU01000001.1 uncultured Clostr...\n",
      "2.5 Mbp        0.0%    4.2%    nbhd:LR778174.1 Veillonella parvula s...\n",
      "3.4 Mbp        0.0%    3.0%    nbhd:HF999299.1 Clostridium bartletti...\n",
      "3.3 Mbp        0.0%    3.2%    nbhd:NFHY01000001.1 Drancourtella sp....\n",
      "3.7 Mbp        0.0%    2.8%    nbhd:CP015406.2 Flavonifractor plauti...\n",
      "1.5 Mbp        0.0%    6.3%    nbhd:QXZZ01000034.1 Veillonella atypi...\n",
      "2.9 Mbp        0.0%    3.1%    nbhd:LBCG01000001.1 MAG: Roseburia sp...\n",
      "3.7 Mbp        0.0%    2.1%    nbhd:CABIZI010000001.1 Clostridiales ...\n",
      "3.5 Mbp        0.0%    2.1%    nbhd:KQ235823.1 Clostridium sp. 1_1_4...\n",
      "3.4 Mbp        0.0%    2.0%    nbhd:JAALMI010000001.1 Clostridium pe...\n",
      "3.1 Mbp        0.0%    1.9%    nbhd:DS499744.1 Anaerostipes caccae D...\n",
      "4.8 Mbp        0.0%    1.2%    nbhd:QSGP01000001.1 Enterocloster ald...\n",
      "\n",
      "found 97 matches total;\n",
      "the recovered matches hit 49.4% of the query\n",
      "\n",
      "\n",
      "\u001b[K\n",
      "== This is sourmash version 4.2.4.dev0+g73aeb155.d20220116. ==\n",
      "\n",
      "\u001b[K== Please cite Brown and Irber (2016), doi:10.21105/joss.00027. ==\n",
      "\n",
      "\n",
      "\u001b[Kselecting specified query k=31\n",
      "\n",
      "\u001b[Kloaded query: p8808mo11... (k=31, DNA)\n",
      "\n",
      "\u001b[Kloading from gut-clust-queries/gut-clust-queries-nbhds.zip...\n",
      "\n",
      "\u001b[K                                                                               \n",
      "\n",
      "\u001b[Kloaded 1 databases.\n",
      "\n",
      "\u001b[KStarting prefetch sweep across databases.\n",
      "\n",
      "\u001b[KFound 98 signatures via prefetch; now doing gather.\n",
      "\n",
      "\u001b[Kfound less than 50.0 kbp in common. => exiting\n",
      "\n"
     ]
    }
   ],
   "source": [
    "print(stdout2)"
   ]
  },
  {
   "cell_type": "markdown",
   "metadata": {},
   "source": [
    "## building mapping from query to neighborhood"
   ]
  },
  {
   "cell_type": "code",
   "execution_count": 35,
   "metadata": {},
   "outputs": [],
   "source": [
    "remaining_hashes = set(metag.minhash.hashes)\n",
    "unique_hashes_1x = []\n",
    "for ident in gather1_keys:\n",
    "    row = gather1_d[ident]\n",
    "    match = queries_d[ident]\n",
    "    match_hashes = set(match.minhash.hashes)\n",
    "    unique_overlap = remaining_hashes & match_hashes\n",
    "    #print(ident, len(remaining_hashes), len(unique_overlap), row['unique_intersect_bp'], row['remaining_bp'])\n",
    "    remaining_hashes -= unique_overlap\n",
    "    unique_hashes_1x.append((ident, unique_overlap))\n"
   ]
  },
  {
   "cell_type": "code",
   "execution_count": 36,
   "metadata": {},
   "outputs": [],
   "source": [
    "remaining_hashes = set(metag.minhash.hashes)\n",
    "unique_hashes_2x = []\n",
    "for ident in gather2_keys:\n",
    "    row = gather2_d[ident]\n",
    "    match = nbhds_d[ident]\n",
    "    match_hashes = set(match.minhash.hashes)\n",
    "    unique_overlap = remaining_hashes & match_hashes\n",
    "    #print(ident, len(remaining_hashes), len(unique_overlap), row['unique_intersect_bp'], row['remaining_bp'])\n",
    "    remaining_hashes -= unique_overlap\n",
    "    unique_hashes_2x.append((ident, unique_overlap))\n"
   ]
  },
  {
   "cell_type": "code",
   "execution_count": 37,
   "metadata": {},
   "outputs": [
    {
     "name": "stdout",
     "output_type": "stream",
     "text": [
      "CVRR01000001.1 <= CP048626.1 - 5\n",
      "CVRR01000001.1 <= HF995324.1 - 9\n",
      "CVRR01000001.1 <= AEKO01000011.1 - 1\n",
      "CVRR01000001.1 <= UQNI01000001.1 - 1\n",
      "CVRR01000001.1 <= QVGF01000001.1 - 4\n",
      "CVRR01000001.1 <= BAHW02000078.1 - 1\n",
      "CVRR01000001.1 <= CABHOC010000001.1 - 1\n",
      "CVRR01000001.1 <= PDMO01000909.1 - 112\n",
      "CVRR01000001.1 <= QUIC01000001.1 - 14\n",
      "CVRR01000001.1 <= WKYR01000010.1 - 1\n",
      "NIHW01000001.1 <= CP048626.1 - 6\n",
      "NIHW01000001.1 <= SMCQ01000001.1 - 1\n",
      "NIHW01000001.1 <= HF995324.1 - 7\n",
      "NIHW01000001.1 <= QVGF01000001.1 - 8\n",
      "NIHW01000001.1 <= BAHW02000078.1 - 6\n",
      "NIHW01000001.1 <= CABHOC010000001.1 - 1\n",
      "NIHW01000001.1 <= CP047191.1 - 1\n",
      "NIHW01000001.1 <= QUIC01000001.1 - 3\n",
      "NIHW01000001.1 <= JNHJ01000001.1 - 1\n",
      "DABGPL010000001.1 <= CP048626.1 - 2\n",
      "DABGPL010000001.1 <= DABGPL010000001.1 - 5017\n",
      "DABGPL010000001.1 <= PDMO01000909.1 - 1\n",
      "CP048626.1 <= CP048626.1 - 5621\n",
      "CP048626.1 <= HF995324.1 - 3\n",
      "CP048626.1 <= QVGF01000001.1 - 9\n",
      "CP048626.1 <= BAHW02000078.1 - 1\n",
      "CZAB01000001.1 <= JULC01000001.1 - 1\n",
      "CZAB01000001.1 <= HF995324.1 - 6\n",
      "CZAB01000001.1 <= JAABLG010000001.1 - 1\n",
      "CZAB01000001.1 <= QVGF01000001.1 - 6\n",
      "CZAB01000001.1 <= URPP01000001.1 - 1\n",
      "CZAB01000001.1 <= PDMO01000909.1 - 11\n",
      "CZAB01000001.1 <= CYZX01000001.1 - 1\n",
      "CZAB01000001.1 <= QUIC01000001.1 - 1\n",
      "AENW01000060.1 <= SMCQ01000001.1 - 1\n",
      "AENW01000060.1 <= HF995324.1 - 2\n",
      "AENW01000060.1 <= QVGF01000001.1 - 10\n",
      "AENW01000060.1 <= BAHW02000078.1 - 2\n",
      "AENW01000060.1 <= PDMO01000909.1 - 3\n",
      "AENW01000060.1 <= QUIC01000001.1 - 3\n",
      "AENW01000060.1 <= JNHJ01000001.1 - 1\n",
      "HF996869.1 <= HF995324.1 - 3\n",
      "HF996869.1 <= AEKO01000011.1 - 1\n",
      "HF996869.1 <= PDMO01000909.1 - 1\n",
      "HF996869.1 <= QUIC01000001.1 - 2\n",
      "GL834357.1 <= HF995324.1 - 2\n",
      "GL834357.1 <= QVGF01000001.1 - 7\n",
      "GL834357.1 <= BAHW02000078.1 - 1\n",
      "GL834357.1 <= CZYD01000001.1 - 1\n",
      "GL834357.1 <= PDMO01000909.1 - 5\n",
      "GL834357.1 <= CYZX01000001.1 - 1\n",
      "WTVF01000090.1 <= JULC01000001.1 - 1\n",
      "WTVF01000090.1 <= HF995324.1 - 3\n",
      "WTVF01000090.1 <= UQNI01000001.1 - 1\n",
      "WTVF01000090.1 <= QVGF01000001.1 - 4\n",
      "WTVF01000090.1 <= BAHW02000078.1 - 3\n",
      "WTVF01000090.1 <= PDMO01000909.1 - 22\n",
      "WTVF01000090.1 <= CYZX01000001.1 - 4\n",
      "WTVF01000090.1 <= QUIC01000001.1 - 1\n",
      "WTVF01000090.1 <= WKYR01000010.1 - 1\n",
      "JH599901.1 <= SMCQ01000001.1 - 35\n",
      "JH599901.1 <= AEKO01000011.1 - 1\n",
      "JH599901.1 <= QVGF01000001.1 - 5\n",
      "JH599901.1 <= URPP01000001.1 - 1\n",
      "JH599901.1 <= PDMO01000909.1 - 3\n",
      "JH599901.1 <= NCVD01000051.1 - 2\n",
      "JH599901.1 <= JNHJ01000001.1 - 1\n",
      "JULC01000001.1 <= JULC01000001.1 - 3196\n",
      "JULC01000001.1 <= CABHOC010000001.1 - 17\n",
      "CABJAX010000001.1 <= HF995324.1 - 3\n",
      "CABJAX010000001.1 <= QVGF01000001.1 - 8\n",
      "CABJAX010000001.1 <= BAHW02000078.1 - 4\n",
      "CABJAX010000001.1 <= PDMO01000909.1 - 5\n",
      "CABJAX010000001.1 <= QUIC01000001.1 - 8\n",
      "JH590866.1 <= SMCQ01000001.1 - 2\n",
      "JH590866.1 <= QVGF01000001.1 - 1\n",
      "JH590866.1 <= BAHW02000078.1 - 1\n",
      "JH590866.1 <= CABHOC010000001.1 - 1\n",
      "JH590866.1 <= PDMO01000909.1 - 39\n",
      "JH590866.1 <= QUIC01000001.1 - 1\n",
      "JH590866.1 <= PNHV01000001.1 - 1\n",
      "JH590866.1 <= WKYR01000010.1 - 5\n",
      "FMFU01000020.1 <= SMCQ01000001.1 - 2\n",
      "FMFU01000020.1 <= CZYD01000001.1 - 12\n",
      "FMFU01000020.1 <= CAAEUS010000001.1 - 256\n",
      "FMFU01000020.1 <= CM003575.1 - 1\n",
      "FMFU01000020.1 <= CAAFUY010000001.1 - 1\n",
      "FMFU01000020.1 <= UQQU01000001.1 - 5\n",
      "MARQ01000035.1 <= WMQE01000038.1 - 3\n",
      "MARQ01000035.1 <= URPP01000001.1 - 2\n",
      "MARQ01000035.1 <= OBJV01000049.1 - 7\n",
      "MARQ01000035.1 <= CYZX01000001.1 - 8\n",
      "MARQ01000035.1 <= CAAFUY010000001.1 - 5\n",
      "MARQ01000035.1 <= UQQU01000001.1 - 2\n",
      "MARQ01000035.1 <= FR883346.1 - 7\n",
      "SMCQ01000001.1 <= SMCQ01000001.1 - 2824\n",
      "SMCQ01000001.1 <= WMQE01000038.1 - 1\n",
      "SMCQ01000001.1 <= CAAEUS010000001.1 - 1\n",
      "SPHM01000100.1 <= HF995324.1 - 1\n",
      "SPHM01000100.1 <= QVGF01000001.1 - 7\n",
      "SPHM01000100.1 <= PDMO01000909.1 - 9\n",
      "SPHM01000100.1 <= QUIC01000001.1 - 9\n",
      "CABIYM010000001.1 <= BAHW02000078.1 - 440\n",
      "CABIYM010000001.1 <= QUIC01000001.1 - 2\n",
      "AZYA01000001.1 <= CABHOC010000001.1 - 12\n",
      "AZYA01000001.1 <= UQGF01000001.1 - 1\n",
      "FMEP01000075.1 <= HF995324.1 - 5\n",
      "FMEP01000075.1 <= UQNI01000001.1 - 1\n",
      "FMEP01000075.1 <= QVGF01000001.1 - 17\n",
      "FMEP01000075.1 <= BAHW02000078.1 - 1\n",
      "FMEP01000075.1 <= PDMO01000909.1 - 6\n",
      "FMEP01000075.1 <= QUIC01000001.1 - 3\n",
      "CP019721.1 <= CM003575.1 - 121\n",
      "CP019721.1 <= WKYR01000010.1 - 1\n",
      "NFLB01000001.1 <= WMQE01000038.1 - 1\n",
      "NFLB01000001.1 <= QVGF01000001.1 - 1\n",
      "NFLB01000001.1 <= BAHW02000078.1 - 1\n",
      "NFLB01000001.1 <= CZYD01000001.1 - 1\n",
      "NFLB01000001.1 <= PDMO01000909.1 - 1\n",
      "NFLB01000001.1 <= CAAEVI010000001.1 - 1\n",
      "USJS01000001.1 <= HF995324.1 - 4\n",
      "USJS01000001.1 <= AEKO01000011.1 - 1\n",
      "USJS01000001.1 <= QVGF01000001.1 - 295\n",
      "USJS01000001.1 <= QUIC01000001.1 - 2\n",
      "LT629846.1 <= CZYD01000001.1 - 6\n",
      "LT629846.1 <= CAAEUS010000001.1 - 7\n",
      "LT629846.1 <= OBJV01000049.1 - 3\n",
      "LT629846.1 <= UQQU01000001.1 - 11\n",
      "HF995324.1 <= HF995324.1 - 1510\n",
      "HF995324.1 <= QVGF01000001.1 - 2\n",
      "HF995324.1 <= CZYD01000001.1 - 1\n",
      "LR793273.1 <= AEKO01000011.1 - 415\n",
      "LR793273.1 <= JAABLG010000001.1 - 245\n",
      "LR793273.1 <= CYYS01000001.1 - 1\n",
      "LR793273.1 <= CP047191.1 - 56\n",
      "LR793273.1 <= NCVD01000051.1 - 4\n",
      "AEDS01000070.1 <= CM003575.1 - 42\n",
      "QGMT01000001.1 <= CZYD01000001.1 - 1\n",
      "QGMT01000001.1 <= OBJV01000049.1 - 8\n",
      "QGMT01000001.1 <= CYZX01000001.1 - 8\n",
      "QGMT01000001.1 <= CAAFUY010000001.1 - 5\n",
      "QGMT01000001.1 <= FR883346.1 - 1\n",
      "WNAL01000100.1 <= WMQE01000038.1 - 3\n",
      "WNAL01000100.1 <= PDMO01000909.1 - 6\n",
      "WNAL01000100.1 <= JNHJ01000001.1 - 2\n",
      "WMQE01000038.1 <= WMQE01000038.1 - 895\n",
      "WMQE01000038.1 <= CYYS01000001.1 - 13\n",
      "WMQE01000038.1 <= JNHJ01000001.1 - 1\n",
      "KV794391.1 <= AEKO01000011.1 - 7\n",
      "KV794391.1 <= JAABLG010000001.1 - 6\n",
      "KV794391.1 <= CP047191.1 - 1\n",
      "KV794391.1 <= NCVD01000051.1 - 9\n",
      "FACG01000001.1 <= QVGF01000001.1 - 2\n",
      "FACG01000001.1 <= CZYD01000001.1 - 8\n",
      "FACG01000001.1 <= CAAEUS010000001.1 - 1\n",
      "FACG01000001.1 <= CYZX01000001.1 - 1\n",
      "FACG01000001.1 <= QUIC01000001.1 - 3\n",
      "JAGQ01000001.1 <= UQNI01000001.1 - 1\n",
      "JAGQ01000001.1 <= BAHW02000078.1 - 1\n",
      "JAGQ01000001.1 <= QUIC01000001.1 - 5\n",
      "URPP01000001.1 <= URPP01000001.1 - 540\n",
      "URPP01000001.1 <= NCVD01000051.1 - 1\n",
      "URPP01000001.1 <= UQQU01000001.1 - 1\n",
      "UQNI01000001.1 <= UQNI01000001.1 - 602\n",
      "CAAFOE010000001.1 <= QVGF01000001.1 - 77\n",
      "CAAFOE010000001.1 <= BAHW02000078.1 - 2\n",
      "CABHOC010000001.1 <= CABHOC010000001.1 - 491\n",
      "CZYD01000001.1 <= CZYD01000001.1 - 465\n",
      "CZYD01000001.1 <= CAAEUS010000001.1 - 1\n",
      "CZYD01000001.1 <= CAAFUY010000001.1 - 1\n",
      "JAABLG010000001.1 <= AEKO01000011.1 - 50\n",
      "JAABLG010000001.1 <= JAABLG010000001.1 - 370\n",
      "JAABLG010000001.1 <= CP047191.1 - 8\n",
      "JAABLG010000001.1 <= NCVD01000051.1 - 2\n",
      "KB851023.1 <= QVGF01000001.1 - 1\n",
      "KB851023.1 <= BAHW02000078.1 - 1\n",
      "CM003575.1 <= CM003575.1 - 235\n",
      "CYXV01000001.1 <= PDMO01000909.1 - 5\n",
      "OBJV01000049.1 <= OBJV01000049.1 - 393\n",
      "OBJV01000049.1 <= CYZX01000001.1 - 10\n",
      "OBJV01000049.1 <= CAAFUY010000001.1 - 5\n",
      "OBJV01000049.1 <= UQQU01000001.1 - 4\n",
      "OBJV01000049.1 <= FR883346.1 - 2\n",
      "CAAEVI010000001.1 <= CAAEVI010000001.1 - 348\n",
      "CYYS01000001.1 <= CYYS01000001.1 - 322\n",
      "CYZX01000001.1 <= CYZX01000001.1 - 275\n",
      "CYZX01000001.1 <= CAAFUY010000001.1 - 4\n",
      "CYZX01000001.1 <= UQQU01000001.1 - 4\n",
      "CYZX01000001.1 <= FR883346.1 - 1\n",
      "NIHV01000001.1 <= QVGF01000001.1 - 1\n",
      "NIHV01000001.1 <= QUIC01000001.1 - 1\n",
      "AEKO01000011.1 <= AEKO01000011.1 - 274\n",
      "AEKO01000011.1 <= CP047191.1 - 12\n",
      "AEKO01000011.1 <= NCVD01000051.1 - 2\n",
      "KE384163.1 <= PDMO01000909.1 - 8\n",
      "UQGF01000001.1 <= UQGF01000001.1 - 180\n",
      "UQGF01000001.1 <= PNHV01000001.1 - 3\n",
      "UQGF01000001.1 <= JWDF01000004.1 - 5\n",
      "JAAIUC010000010.1 <= QVGF01000001.1 - 2\n",
      "JAAIUC010000010.1 <= QUIC01000001.1 - 1\n",
      "QUIC01000001.1 <= QVGF01000001.1 - 8\n",
      "QUIC01000001.1 <= BAHW02000078.1 - 5\n",
      "QUIC01000001.1 <= PDMO01000909.1 - 1\n",
      "QUIC01000001.1 <= CP047191.1 - 1\n",
      "QUIC01000001.1 <= QUIC01000001.1 - 105\n",
      "NFLO01000001.1 <= WKYR01000010.1 - 6\n",
      "CAAEUS010000001.1 <= CAAEUS010000001.1 - 204\n",
      "CABJBJ010000001.1 <= PDMO01000909.1 - 6\n",
      "QVGF01000001.1 <= QVGF01000001.1 - 95\n",
      "LZMY01000001.1 <= LZMY01000001.1 - 152\n",
      "CAAFUY010000001.1 <= CAAFUY010000001.1 - 185\n",
      "CAAFUY010000001.1 <= UQQU01000001.1 - 19\n",
      "CAAFUY010000001.1 <= FR883346.1 - 3\n",
      "JWDF01000004.1 <= PNHV01000001.1 - 4\n",
      "JWDF01000004.1 <= JWDF01000004.1 - 111\n",
      "NCVD01000051.1 <= NCVD01000051.1 - 125\n",
      "JNHJ01000001.1 <= PDMO01000909.1 - 2\n",
      "JNHJ01000001.1 <= JNHJ01000001.1 - 108\n",
      "JRND01000001.1 <= JRND01000001.1 - 101\n",
      "PDMO01000909.1 <= PDMO01000909.1 - 109\n",
      "PNHV01000001.1 <= PNHV01000001.1 - 134\n",
      "FR883346.1 <= UQQU01000001.1 - 1\n",
      "FR883346.1 <= FR883346.1 - 120\n",
      "CP047191.1 <= CP047191.1 - 101\n",
      "BAHW02000078.1 <= BAHW02000078.1 - 88\n",
      "WKYR01000010.1 <= WKYR01000010.1 - 104\n",
      "UAWH01000019.1 <= UQQU01000001.1 - 1\n",
      "UQQU01000001.1 <= UQQU01000001.1 - 91\n"
     ]
    }
   ],
   "source": [
    "for (nbhd_ident, nbhd_match) in unique_hashes_2x:\n",
    "    total = 0\n",
    "    for (query_ident, query_match) in unique_hashes_1x:\n",
    "        overlap = query_match & nbhd_match\n",
    "        \n",
    "        if overlap:\n",
    "            print(f\"{nbhd_ident} <= {query_ident} - {len(overlap)}\")\n",
    "            total += len(overlap)\n",
    "    #print('xxx', nbhd_ident, len(nbhd_match), total)\n",
    "    #print('---')"
   ]
  },
  {
   "cell_type": "code",
   "execution_count": 38,
   "metadata": {},
   "outputs": [],
   "source": [
    "import plotly.graph_objects as go\n",
    "\n",
    "def make_fig(max_num=None):\n",
    "    #labels = obj.make_labels()\n",
    "    #src_l, dest_l, cnt_l, color_l, label_l = obj.make_lists()\n",
    "    labels = []\n",
    "    src_l = []\n",
    "    dest_l = []\n",
    "    cnt_l = []\n",
    "    color_l = []\n",
    "    label_l = []\n",
    "    \n",
    "    source_idx = {}\n",
    "    for n, (query_ident, _) in enumerate(unique_hashes_1x):\n",
    "        source_idx[query_ident] = n\n",
    "        labels.append(full_idents.get(query_ident, 'LOST: ' + query_ident))\n",
    "    dest_idx = {}\n",
    "    source_idx[\"unassigned\"] = len(unique_hashes_1x)\n",
    "    labels.append(\"unassigned\")\n",
    "    base = len(unique_hashes_1x) + 1\n",
    "    for n, (nbhd_ident, _) in enumerate(unique_hashes_2x):\n",
    "        dest_idx[nbhd_ident] = base + n\n",
    "        labels.append(full_idents.get(nbhd_ident, 'LOST: ' + query_ident))\n",
    "        \n",
    "    #source_idx[\"unassigned\"] = base + n + 1\n",
    "    \n",
    "    # iterate over all sinks, account for all sources\n",
    "    num = 0\n",
    "    leftovers = []\n",
    "    for (nbhd_ident, nbhd_match) in unique_hashes_2x:\n",
    "        total = 0\n",
    "        for (query_ident, query_match) in unique_hashes_1x:\n",
    "            overlap = query_match & nbhd_match\n",
    "        \n",
    "            if overlap:\n",
    "                #print(f\"{nbhd_ident} <= {query_ident} - {len(overlap)}\")\n",
    "                total += len(overlap)\n",
    "                from_idx = source_idx[query_ident]\n",
    "                to_idx = dest_idx[nbhd_ident]\n",
    "                \n",
    "                src_l.append(from_idx)\n",
    "                dest_l.append(to_idx)\n",
    "                cnt_l.append(len(overlap))\n",
    "                if query_ident == nbhd_ident:\n",
    "                    color_l.append(\"lightseagreen\")\n",
    "                else:\n",
    "                    color_l.append(\"palevioletred\")\n",
    "                label_l.append(\"\")\n",
    "    \n",
    "        #print('xxx', nbhd_ident, len(nbhd_match), total)\n",
    "        leftover = len(nbhd_match) - total\n",
    "        \n",
    "        if leftover:\n",
    "            leftovers.append((nbhd_ident, leftover))\n",
    "\n",
    "        #print('---')\n",
    "        num += 1\n",
    "        if max_num and num >= max_num:\n",
    "            break\n",
    "            \n",
    "    if leftovers:\n",
    "        for nbhd_ident, leftover in leftovers:\n",
    "            from_idx = source_idx[\"unassigned\"]\n",
    "            to_idx = dest_idx[nbhd_ident]\n",
    "\n",
    "            src_l.append(from_idx)\n",
    "            dest_l.append(to_idx)\n",
    "            cnt_l.append(leftover)\n",
    "            color_l.append(\"grey\")\n",
    "            label_l.append(\"\")\n",
    "            #print('XYZ', from_idx, to_idx)\n",
    "        \n",
    "\n",
    "    fig = go.Figure(data=[go.Sankey(\n",
    "        node = dict(\n",
    "          pad = 15,\n",
    "          thickness = 20,\n",
    "          line = dict(color = \"black\", width = 0.5),\n",
    "          label = labels,\n",
    "          color = \"blue\"\n",
    "        ),\n",
    "        link = dict(\n",
    "          source = src_l,\n",
    "          target = dest_l,\n",
    "          value = cnt_l,\n",
    "          color = color_l,\n",
    "          label = label_l,\n",
    "      ))])\n",
    "    \n",
    "    return fig"
   ]
  },
  {
   "cell_type": "code",
   "execution_count": 39,
   "metadata": {},
   "outputs": [
    {
     "data": {
      "application/vnd.plotly.v1+json": {
       "config": {
        "plotlyServerURL": "https://plot.ly"
       },
       "data": [
        {
         "link": {
          "color": [
           "palevioletred",
           "palevioletred",
           "palevioletred",
           "palevioletred",
           "palevioletred",
           "palevioletred",
           "palevioletred",
           "palevioletred",
           "palevioletred",
           "palevioletred",
           "palevioletred",
           "palevioletred",
           "palevioletred",
           "palevioletred",
           "palevioletred",
           "palevioletred",
           "palevioletred",
           "palevioletred",
           "palevioletred",
           "palevioletred",
           "lightseagreen",
           "palevioletred",
           "lightseagreen",
           "palevioletred",
           "palevioletred",
           "palevioletred",
           "palevioletred",
           "palevioletred",
           "palevioletred",
           "palevioletred",
           "palevioletred",
           "palevioletred",
           "palevioletred",
           "palevioletred",
           "palevioletred",
           "palevioletred",
           "palevioletred",
           "palevioletred",
           "palevioletred",
           "palevioletred",
           "palevioletred",
           "palevioletred",
           "palevioletred",
           "palevioletred",
           "palevioletred",
           "palevioletred",
           "palevioletred",
           "palevioletred",
           "palevioletred",
           "palevioletred",
           "palevioletred",
           "palevioletred",
           "palevioletred",
           "palevioletred",
           "palevioletred",
           "palevioletred",
           "palevioletred",
           "palevioletred",
           "palevioletred",
           "palevioletred",
           "grey",
           "grey",
           "grey",
           "grey",
           "grey",
           "grey",
           "grey",
           "grey",
           "grey"
          ],
          "label": [
           "",
           "",
           "",
           "",
           "",
           "",
           "",
           "",
           "",
           "",
           "",
           "",
           "",
           "",
           "",
           "",
           "",
           "",
           "",
           "",
           "",
           "",
           "",
           "",
           "",
           "",
           "",
           "",
           "",
           "",
           "",
           "",
           "",
           "",
           "",
           "",
           "",
           "",
           "",
           "",
           "",
           "",
           "",
           "",
           "",
           "",
           "",
           "",
           "",
           "",
           "",
           "",
           "",
           "",
           "",
           "",
           "",
           "",
           "",
           "",
           "",
           "",
           "",
           "",
           "",
           "",
           "",
           "",
           ""
          ],
          "source": [
           0,
           4,
           6,
           8,
           9,
           10,
           12,
           17,
           24,
           30,
           0,
           3,
           4,
           9,
           10,
           12,
           23,
           24,
           32,
           0,
           1,
           17,
           0,
           4,
           9,
           10,
           2,
           4,
           7,
           9,
           11,
           17,
           20,
           24,
           3,
           4,
           9,
           10,
           17,
           24,
           32,
           4,
           6,
           17,
           24,
           4,
           9,
           10,
           13,
           17,
           20,
           2,
           4,
           8,
           9,
           10,
           17,
           20,
           24,
           30,
           34,
           34,
           34,
           34,
           34,
           34,
           34,
           34,
           34
          ],
          "target": [
           35,
           35,
           35,
           35,
           35,
           35,
           35,
           35,
           35,
           35,
           36,
           36,
           36,
           36,
           36,
           36,
           36,
           36,
           36,
           37,
           37,
           37,
           38,
           38,
           38,
           38,
           39,
           39,
           39,
           39,
           39,
           39,
           39,
           39,
           40,
           40,
           40,
           40,
           40,
           40,
           40,
           41,
           41,
           41,
           41,
           42,
           42,
           42,
           42,
           42,
           42,
           43,
           43,
           43,
           43,
           43,
           43,
           43,
           43,
           43,
           35,
           36,
           37,
           38,
           39,
           40,
           41,
           42,
           43
          ],
          "value": [
           5,
           9,
           1,
           1,
           4,
           1,
           1,
           112,
           14,
           1,
           6,
           1,
           7,
           8,
           6,
           1,
           1,
           3,
           1,
           2,
           5017,
           1,
           5621,
           3,
           9,
           1,
           1,
           6,
           1,
           6,
           1,
           11,
           1,
           1,
           1,
           2,
           10,
           2,
           3,
           3,
           1,
           3,
           1,
           1,
           2,
           2,
           7,
           1,
           1,
           5,
           1,
           1,
           3,
           1,
           4,
           3,
           22,
           4,
           1,
           1,
           9363,
           8596,
           2746,
           1927,
           7361,
           7342,
           6714,
           5576,
           5066
          ]
         },
         "node": {
          "color": "blue",
          "label": [
           "CP048626.1 Blautia producta",
           "DABGPL010000001.1 TPA_asm: Escherichia",
           "JULC01000001.1 Bifidobacterium scardovii",
           "SMCQ01000001.1 Longibaculum muris",
           "HF995324.1 Firmicutes bacterium",
           "WMQE01000038.1 Turicibacter sanguinis",
           "AEKO01000011.1 Streptococcus vestibularis",
           "JAABLG010000001.1 Streptococcus vestibularis",
           "UQNI01000001.1 uncultured Ruminococcaceae",
           "QVGF01000001.1 Lachnospiraceae bacterium",
           "BAHW02000078.1 Clostridiales bacterium",
           "URPP01000001.1 uncultured Clostridiales",
           "CABHOC010000001.1 Bifidobacterium longum",
           "CZYD01000001.1 Terrisporobacter othiniensis",
           "CAAEUS010000001.1 TPA_asm: uncultured",
           "OBJV01000049.1 Clostridium tertium",
           "CM003575.1 Veillonella sp.",
           "PDMO01000909.1 Cyclospora cayetanensis",
           "CAAEVI010000001.1 TPA_asm: Erysipelotrichaceae",
           "CYYS01000001.1 Turicibacter sanguinis",
           "CYZX01000001.1 Clostridium disporicum",
           "CAAFUY010000001.1 TPA_asm: uncultured",
           "UQGF01000001.1 uncultured Actinomyces",
           "CP047191.1 Streptococcus thermophilus",
           "QUIC01000001.1 Ruminococcus sp.",
           "LZMY01000001.1 Haemophilus parainfluenzae",
           "NCVD01000051.1 Streptococcus mitis",
           "PNHV01000001.1 Actinomyces graevenitzii",
           "UQQU01000001.1 uncultured Clostridium",
           "FR883346.1 Clostridium sp.",
           "WKYR01000010.1 Megasphaera sp.",
           "JWDF01000004.1 Streptomyces cattleya",
           "JNHJ01000001.1 Phocaeicola vulgatus",
           "JRND01000001.1 Lancefieldella parvulum",
           "unassigned",
           "CVRR01000001.1 Roseburia faecis",
           "NIHW01000001.1 [Ruminococcus] gnavus",
           "DABGPL010000001.1 TPA_asm: Escherichia",
           "CP048626.1 Blautia producta",
           "CZAB01000001.1 [Clostridium] clostridioforme",
           "AENW01000060.1 Clostridium sp.",
           "HF996869.1 Clostridium hathewayi",
           "GL834357.1 Clostridium symbiosum",
           "WTVF01000090.1 Enterocloster aldenensis",
           "JH599901.1 Coprobacillus sp.",
           "JULC01000001.1 Bifidobacterium scardovii",
           "CABJAX010000001.1 Lachnospiraceae bacterium",
           "JH590866.1 Lachnospiraceae bacterium",
           "FMFU01000020.1 uncultured Clostridium",
           "MARQ01000035.1 Clostridium perfringens",
           "SMCQ01000001.1 Longibaculum muris",
           "SPHM01000100.1 Pseudoflavonifractor sp.",
           "CABIYM010000001.1 Anaerostipes caccae",
           "AZYA01000001.1 Bifidobacterium sp.",
           "FMEP01000075.1 uncultured Ruminococcus",
           "CP019721.1 Veillonella parvula",
           "NFLB01000001.1 [Clostridium] spiroforme",
           "USJS01000001.1 uncultured Blautia",
           "LT629846.1 Romboutsia sp.",
           "HF995324.1 Firmicutes bacterium",
           "LR793273.1 Streptococcus salivarius",
           "AEDS01000070.1 Veillonella atypica",
           "QGMT01000001.1 Clostridium paraputrificum",
           "WNAL01000100.1 Roseburia faecis",
           "WMQE01000038.1 Turicibacter sanguinis",
           "KV794391.1 Streptococcus sp.",
           "FACG01000001.1 Peptoclostridium difficile",
           "JAGQ01000001.1 [Ruminococcus] gnavus",
           "URPP01000001.1 uncultured Clostridiales",
           "UQNI01000001.1 uncultured Ruminococcaceae",
           "CAAFOE010000001.1 TPA_asm: uncultured",
           "CABHOC010000001.1 Bifidobacterium longum",
           "CZYD01000001.1 Terrisporobacter othiniensis",
           "JAABLG010000001.1 Streptococcus vestibularis",
           "KB851023.1 Clostridium clostridioforme",
           "CM003575.1 Veillonella sp.",
           "CYXV01000001.1 Roseburia faecis",
           "OBJV01000049.1 Clostridium tertium",
           "CAAEVI010000001.1 TPA_asm: Erysipelotrichaceae",
           "CYYS01000001.1 Turicibacter sanguinis",
           "CYZX01000001.1 Clostridium disporicum",
           "AEXI01000023.1 Veillonella parvula",
           "NIHV01000001.1 [Ruminococcus] gnavus",
           "AEKO01000011.1 Streptococcus vestibularis",
           "KE384163.1 Clostridium clostridioforme",
           "UQGF01000001.1 uncultured Actinomyces",
           "JAAIUC010000010.1 Tyzzerella nexilis",
           "QUIC01000001.1 Ruminococcus sp.",
           "NFLO01000001.1 Drancourtella sp.",
           "CAAEUS010000001.1 TPA_asm: uncultured",
           "CABJBJ010000001.1 Hungatella hathewayi",
           "QVGF01000001.1 Lachnospiraceae bacterium",
           "LZMY01000001.1 Haemophilus parainfluenzae",
           "CAAFUY010000001.1 TPA_asm: uncultured",
           "CAAKOI010000001.1 Flavonifractor plautii",
           "JWDF01000004.1 Streptomyces cattleya",
           "NCVD01000051.1 Streptococcus mitis",
           "JNHJ01000001.1 Phocaeicola vulgatus",
           "RQNR01000100.1 Clostridium perfringens",
           "SPHR01000011.1 Intestinibacter bartlettii",
           "JRND01000001.1 Lancefieldella parvulum",
           "UAVW01000021.1 [Clostridium] clostridioforme",
           "PDMO01000909.1 Cyclospora cayetanensis",
           "CABKQS010000001.1 [Clostridium] innocuum",
           "PNHV01000001.1 Actinomyces graevenitzii",
           "UQGB01000001.1 uncultured Clostridium",
           "HF995415.1 Coprobacillus sp.",
           "FR883346.1 Clostridium sp.",
           "AVLJ01000001.1 UNVERIFIED_ORG: Clostridioides",
           "CP047191.1 Streptococcus thermophilus",
           "BAHW02000078.1 Clostridiales bacterium",
           "QVIB01000001.1 Dorea longicatena",
           "CAAEOZ010000001.1 TPA_asm: uncultured",
           "WKYR01000010.1 Megasphaera sp.",
           "JAAISL010000100.1 [Clostridium] symbiosum",
           "CAAEKB010000001.1 TPA_asm: uncultured",
           "JVCZ01000002.1 Streptococcus parasanguinis",
           "NFJI01000001.1 [Clostridium] spiroforme",
           "UAWH01000019.1 Clostridium paraputrificum",
           "SQQK01000001.1 Bifidobacterium dentium",
           "UQQU01000001.1 uncultured Clostridium",
           "LR778174.1 Veillonella parvula",
           "HF999299.1 Clostridium bartlettii",
           "NFHY01000001.1 Drancourtella sp.",
           "CP015406.2 Flavonifractor plautii",
           "QXZZ01000034.1 Veillonella atypica",
           "LBCG01000001.1 MAG: Roseburia",
           "CABIZI010000001.1 Clostridiales bacterium",
           "KQ235823.1 Clostridium sp.",
           "JAALMI010000001.1 Clostridium perfringens",
           "DS499744.1 Anaerostipes caccae",
           "QSGP01000001.1 Enterocloster aldenensis"
          ],
          "line": {
           "color": "black",
           "width": 0.5
          },
          "pad": 15,
          "thickness": 20
         },
         "type": "sankey"
        }
       ],
       "layout": {
        "font": {
         "size": 10
        },
        "height": 1000,
        "template": {
         "data": {
          "bar": [
           {
            "error_x": {
             "color": "#2a3f5f"
            },
            "error_y": {
             "color": "#2a3f5f"
            },
            "marker": {
             "line": {
              "color": "#E5ECF6",
              "width": 0.5
             }
            },
            "type": "bar"
           }
          ],
          "barpolar": [
           {
            "marker": {
             "line": {
              "color": "#E5ECF6",
              "width": 0.5
             }
            },
            "type": "barpolar"
           }
          ],
          "carpet": [
           {
            "aaxis": {
             "endlinecolor": "#2a3f5f",
             "gridcolor": "white",
             "linecolor": "white",
             "minorgridcolor": "white",
             "startlinecolor": "#2a3f5f"
            },
            "baxis": {
             "endlinecolor": "#2a3f5f",
             "gridcolor": "white",
             "linecolor": "white",
             "minorgridcolor": "white",
             "startlinecolor": "#2a3f5f"
            },
            "type": "carpet"
           }
          ],
          "choropleth": [
           {
            "colorbar": {
             "outlinewidth": 0,
             "ticks": ""
            },
            "type": "choropleth"
           }
          ],
          "contour": [
           {
            "colorbar": {
             "outlinewidth": 0,
             "ticks": ""
            },
            "colorscale": [
             [
              0,
              "#0d0887"
             ],
             [
              0.1111111111111111,
              "#46039f"
             ],
             [
              0.2222222222222222,
              "#7201a8"
             ],
             [
              0.3333333333333333,
              "#9c179e"
             ],
             [
              0.4444444444444444,
              "#bd3786"
             ],
             [
              0.5555555555555556,
              "#d8576b"
             ],
             [
              0.6666666666666666,
              "#ed7953"
             ],
             [
              0.7777777777777778,
              "#fb9f3a"
             ],
             [
              0.8888888888888888,
              "#fdca26"
             ],
             [
              1,
              "#f0f921"
             ]
            ],
            "type": "contour"
           }
          ],
          "contourcarpet": [
           {
            "colorbar": {
             "outlinewidth": 0,
             "ticks": ""
            },
            "type": "contourcarpet"
           }
          ],
          "heatmap": [
           {
            "colorbar": {
             "outlinewidth": 0,
             "ticks": ""
            },
            "colorscale": [
             [
              0,
              "#0d0887"
             ],
             [
              0.1111111111111111,
              "#46039f"
             ],
             [
              0.2222222222222222,
              "#7201a8"
             ],
             [
              0.3333333333333333,
              "#9c179e"
             ],
             [
              0.4444444444444444,
              "#bd3786"
             ],
             [
              0.5555555555555556,
              "#d8576b"
             ],
             [
              0.6666666666666666,
              "#ed7953"
             ],
             [
              0.7777777777777778,
              "#fb9f3a"
             ],
             [
              0.8888888888888888,
              "#fdca26"
             ],
             [
              1,
              "#f0f921"
             ]
            ],
            "type": "heatmap"
           }
          ],
          "heatmapgl": [
           {
            "colorbar": {
             "outlinewidth": 0,
             "ticks": ""
            },
            "colorscale": [
             [
              0,
              "#0d0887"
             ],
             [
              0.1111111111111111,
              "#46039f"
             ],
             [
              0.2222222222222222,
              "#7201a8"
             ],
             [
              0.3333333333333333,
              "#9c179e"
             ],
             [
              0.4444444444444444,
              "#bd3786"
             ],
             [
              0.5555555555555556,
              "#d8576b"
             ],
             [
              0.6666666666666666,
              "#ed7953"
             ],
             [
              0.7777777777777778,
              "#fb9f3a"
             ],
             [
              0.8888888888888888,
              "#fdca26"
             ],
             [
              1,
              "#f0f921"
             ]
            ],
            "type": "heatmapgl"
           }
          ],
          "histogram": [
           {
            "marker": {
             "colorbar": {
              "outlinewidth": 0,
              "ticks": ""
             }
            },
            "type": "histogram"
           }
          ],
          "histogram2d": [
           {
            "colorbar": {
             "outlinewidth": 0,
             "ticks": ""
            },
            "colorscale": [
             [
              0,
              "#0d0887"
             ],
             [
              0.1111111111111111,
              "#46039f"
             ],
             [
              0.2222222222222222,
              "#7201a8"
             ],
             [
              0.3333333333333333,
              "#9c179e"
             ],
             [
              0.4444444444444444,
              "#bd3786"
             ],
             [
              0.5555555555555556,
              "#d8576b"
             ],
             [
              0.6666666666666666,
              "#ed7953"
             ],
             [
              0.7777777777777778,
              "#fb9f3a"
             ],
             [
              0.8888888888888888,
              "#fdca26"
             ],
             [
              1,
              "#f0f921"
             ]
            ],
            "type": "histogram2d"
           }
          ],
          "histogram2dcontour": [
           {
            "colorbar": {
             "outlinewidth": 0,
             "ticks": ""
            },
            "colorscale": [
             [
              0,
              "#0d0887"
             ],
             [
              0.1111111111111111,
              "#46039f"
             ],
             [
              0.2222222222222222,
              "#7201a8"
             ],
             [
              0.3333333333333333,
              "#9c179e"
             ],
             [
              0.4444444444444444,
              "#bd3786"
             ],
             [
              0.5555555555555556,
              "#d8576b"
             ],
             [
              0.6666666666666666,
              "#ed7953"
             ],
             [
              0.7777777777777778,
              "#fb9f3a"
             ],
             [
              0.8888888888888888,
              "#fdca26"
             ],
             [
              1,
              "#f0f921"
             ]
            ],
            "type": "histogram2dcontour"
           }
          ],
          "mesh3d": [
           {
            "colorbar": {
             "outlinewidth": 0,
             "ticks": ""
            },
            "type": "mesh3d"
           }
          ],
          "parcoords": [
           {
            "line": {
             "colorbar": {
              "outlinewidth": 0,
              "ticks": ""
             }
            },
            "type": "parcoords"
           }
          ],
          "pie": [
           {
            "automargin": true,
            "type": "pie"
           }
          ],
          "scatter": [
           {
            "marker": {
             "colorbar": {
              "outlinewidth": 0,
              "ticks": ""
             }
            },
            "type": "scatter"
           }
          ],
          "scatter3d": [
           {
            "line": {
             "colorbar": {
              "outlinewidth": 0,
              "ticks": ""
             }
            },
            "marker": {
             "colorbar": {
              "outlinewidth": 0,
              "ticks": ""
             }
            },
            "type": "scatter3d"
           }
          ],
          "scattercarpet": [
           {
            "marker": {
             "colorbar": {
              "outlinewidth": 0,
              "ticks": ""
             }
            },
            "type": "scattercarpet"
           }
          ],
          "scattergeo": [
           {
            "marker": {
             "colorbar": {
              "outlinewidth": 0,
              "ticks": ""
             }
            },
            "type": "scattergeo"
           }
          ],
          "scattergl": [
           {
            "marker": {
             "colorbar": {
              "outlinewidth": 0,
              "ticks": ""
             }
            },
            "type": "scattergl"
           }
          ],
          "scattermapbox": [
           {
            "marker": {
             "colorbar": {
              "outlinewidth": 0,
              "ticks": ""
             }
            },
            "type": "scattermapbox"
           }
          ],
          "scatterpolar": [
           {
            "marker": {
             "colorbar": {
              "outlinewidth": 0,
              "ticks": ""
             }
            },
            "type": "scatterpolar"
           }
          ],
          "scatterpolargl": [
           {
            "marker": {
             "colorbar": {
              "outlinewidth": 0,
              "ticks": ""
             }
            },
            "type": "scatterpolargl"
           }
          ],
          "scatterternary": [
           {
            "marker": {
             "colorbar": {
              "outlinewidth": 0,
              "ticks": ""
             }
            },
            "type": "scatterternary"
           }
          ],
          "surface": [
           {
            "colorbar": {
             "outlinewidth": 0,
             "ticks": ""
            },
            "colorscale": [
             [
              0,
              "#0d0887"
             ],
             [
              0.1111111111111111,
              "#46039f"
             ],
             [
              0.2222222222222222,
              "#7201a8"
             ],
             [
              0.3333333333333333,
              "#9c179e"
             ],
             [
              0.4444444444444444,
              "#bd3786"
             ],
             [
              0.5555555555555556,
              "#d8576b"
             ],
             [
              0.6666666666666666,
              "#ed7953"
             ],
             [
              0.7777777777777778,
              "#fb9f3a"
             ],
             [
              0.8888888888888888,
              "#fdca26"
             ],
             [
              1,
              "#f0f921"
             ]
            ],
            "type": "surface"
           }
          ],
          "table": [
           {
            "cells": {
             "fill": {
              "color": "#EBF0F8"
             },
             "line": {
              "color": "white"
             }
            },
            "header": {
             "fill": {
              "color": "#C8D4E3"
             },
             "line": {
              "color": "white"
             }
            },
            "type": "table"
           }
          ]
         },
         "layout": {
          "annotationdefaults": {
           "arrowcolor": "#2a3f5f",
           "arrowhead": 0,
           "arrowwidth": 1
          },
          "coloraxis": {
           "colorbar": {
            "outlinewidth": 0,
            "ticks": ""
           }
          },
          "colorscale": {
           "diverging": [
            [
             0,
             "#8e0152"
            ],
            [
             0.1,
             "#c51b7d"
            ],
            [
             0.2,
             "#de77ae"
            ],
            [
             0.3,
             "#f1b6da"
            ],
            [
             0.4,
             "#fde0ef"
            ],
            [
             0.5,
             "#f7f7f7"
            ],
            [
             0.6,
             "#e6f5d0"
            ],
            [
             0.7,
             "#b8e186"
            ],
            [
             0.8,
             "#7fbc41"
            ],
            [
             0.9,
             "#4d9221"
            ],
            [
             1,
             "#276419"
            ]
           ],
           "sequential": [
            [
             0,
             "#0d0887"
            ],
            [
             0.1111111111111111,
             "#46039f"
            ],
            [
             0.2222222222222222,
             "#7201a8"
            ],
            [
             0.3333333333333333,
             "#9c179e"
            ],
            [
             0.4444444444444444,
             "#bd3786"
            ],
            [
             0.5555555555555556,
             "#d8576b"
            ],
            [
             0.6666666666666666,
             "#ed7953"
            ],
            [
             0.7777777777777778,
             "#fb9f3a"
            ],
            [
             0.8888888888888888,
             "#fdca26"
            ],
            [
             1,
             "#f0f921"
            ]
           ],
           "sequentialminus": [
            [
             0,
             "#0d0887"
            ],
            [
             0.1111111111111111,
             "#46039f"
            ],
            [
             0.2222222222222222,
             "#7201a8"
            ],
            [
             0.3333333333333333,
             "#9c179e"
            ],
            [
             0.4444444444444444,
             "#bd3786"
            ],
            [
             0.5555555555555556,
             "#d8576b"
            ],
            [
             0.6666666666666666,
             "#ed7953"
            ],
            [
             0.7777777777777778,
             "#fb9f3a"
            ],
            [
             0.8888888888888888,
             "#fdca26"
            ],
            [
             1,
             "#f0f921"
            ]
           ]
          },
          "colorway": [
           "#636efa",
           "#EF553B",
           "#00cc96",
           "#ab63fa",
           "#FFA15A",
           "#19d3f3",
           "#FF6692",
           "#B6E880",
           "#FF97FF",
           "#FECB52"
          ],
          "font": {
           "color": "#2a3f5f"
          },
          "geo": {
           "bgcolor": "white",
           "lakecolor": "white",
           "landcolor": "#E5ECF6",
           "showlakes": true,
           "showland": true,
           "subunitcolor": "white"
          },
          "hoverlabel": {
           "align": "left"
          },
          "hovermode": "closest",
          "mapbox": {
           "style": "light"
          },
          "paper_bgcolor": "white",
          "plot_bgcolor": "#E5ECF6",
          "polar": {
           "angularaxis": {
            "gridcolor": "white",
            "linecolor": "white",
            "ticks": ""
           },
           "bgcolor": "#E5ECF6",
           "radialaxis": {
            "gridcolor": "white",
            "linecolor": "white",
            "ticks": ""
           }
          },
          "scene": {
           "xaxis": {
            "backgroundcolor": "#E5ECF6",
            "gridcolor": "white",
            "gridwidth": 2,
            "linecolor": "white",
            "showbackground": true,
            "ticks": "",
            "zerolinecolor": "white"
           },
           "yaxis": {
            "backgroundcolor": "#E5ECF6",
            "gridcolor": "white",
            "gridwidth": 2,
            "linecolor": "white",
            "showbackground": true,
            "ticks": "",
            "zerolinecolor": "white"
           },
           "zaxis": {
            "backgroundcolor": "#E5ECF6",
            "gridcolor": "white",
            "gridwidth": 2,
            "linecolor": "white",
            "showbackground": true,
            "ticks": "",
            "zerolinecolor": "white"
           }
          },
          "shapedefaults": {
           "line": {
            "color": "#2a3f5f"
           }
          },
          "ternary": {
           "aaxis": {
            "gridcolor": "white",
            "linecolor": "white",
            "ticks": ""
           },
           "baxis": {
            "gridcolor": "white",
            "linecolor": "white",
            "ticks": ""
           },
           "bgcolor": "#E5ECF6",
           "caxis": {
            "gridcolor": "white",
            "linecolor": "white",
            "ticks": ""
           }
          },
          "title": {
           "x": 0.05
          },
          "xaxis": {
           "automargin": true,
           "gridcolor": "white",
           "linecolor": "white",
           "ticks": "",
           "title": {
            "standoff": 15
           },
           "zerolinecolor": "white",
           "zerolinewidth": 2
          },
          "yaxis": {
           "automargin": true,
           "gridcolor": "white",
           "linecolor": "white",
           "ticks": "",
           "title": {
            "standoff": 15
           },
           "zerolinecolor": "white",
           "zerolinewidth": 2
          }
         }
        },
        "title": {
         "text": "original genome contributions to top 9 neighborhood covers for gut-clust-queries (p8808mo11)"
        },
        "width": 800
       }
      },
      "text/html": [
       "<div>\n",
       "        \n",
       "        \n",
       "            <div id=\"f7de765c-ecf9-44f3-9952-e5d5c93402f4\" class=\"plotly-graph-div\" style=\"height:1000px; width:800px;\"></div>\n",
       "            <script type=\"text/javascript\">\n",
       "                require([\"plotly\"], function(Plotly) {\n",
       "                    window.PLOTLYENV=window.PLOTLYENV || {};\n",
       "                    \n",
       "                if (document.getElementById(\"f7de765c-ecf9-44f3-9952-e5d5c93402f4\")) {\n",
       "                    Plotly.newPlot(\n",
       "                        'f7de765c-ecf9-44f3-9952-e5d5c93402f4',\n",
       "                        [{\"link\": {\"color\": [\"palevioletred\", \"palevioletred\", \"palevioletred\", \"palevioletred\", \"palevioletred\", \"palevioletred\", \"palevioletred\", \"palevioletred\", \"palevioletred\", \"palevioletred\", \"palevioletred\", \"palevioletred\", \"palevioletred\", \"palevioletred\", \"palevioletred\", \"palevioletred\", \"palevioletred\", \"palevioletred\", \"palevioletred\", \"palevioletred\", \"lightseagreen\", \"palevioletred\", \"lightseagreen\", \"palevioletred\", \"palevioletred\", \"palevioletred\", \"palevioletred\", \"palevioletred\", \"palevioletred\", \"palevioletred\", \"palevioletred\", \"palevioletred\", \"palevioletred\", \"palevioletred\", \"palevioletred\", \"palevioletred\", \"palevioletred\", \"palevioletred\", \"palevioletred\", \"palevioletred\", \"palevioletred\", \"palevioletred\", \"palevioletred\", \"palevioletred\", \"palevioletred\", \"palevioletred\", \"palevioletred\", \"palevioletred\", \"palevioletred\", \"palevioletred\", \"palevioletred\", \"palevioletred\", \"palevioletred\", \"palevioletred\", \"palevioletred\", \"palevioletred\", \"palevioletred\", \"palevioletred\", \"palevioletred\", \"palevioletred\", \"grey\", \"grey\", \"grey\", \"grey\", \"grey\", \"grey\", \"grey\", \"grey\", \"grey\"], \"label\": [\"\", \"\", \"\", \"\", \"\", \"\", \"\", \"\", \"\", \"\", \"\", \"\", \"\", \"\", \"\", \"\", \"\", \"\", \"\", \"\", \"\", \"\", \"\", \"\", \"\", \"\", \"\", \"\", \"\", \"\", \"\", \"\", \"\", \"\", \"\", \"\", \"\", \"\", \"\", \"\", \"\", \"\", \"\", \"\", \"\", \"\", \"\", \"\", \"\", \"\", \"\", \"\", \"\", \"\", \"\", \"\", \"\", \"\", \"\", \"\", \"\", \"\", \"\", \"\", \"\", \"\", \"\", \"\", \"\"], \"source\": [0, 4, 6, 8, 9, 10, 12, 17, 24, 30, 0, 3, 4, 9, 10, 12, 23, 24, 32, 0, 1, 17, 0, 4, 9, 10, 2, 4, 7, 9, 11, 17, 20, 24, 3, 4, 9, 10, 17, 24, 32, 4, 6, 17, 24, 4, 9, 10, 13, 17, 20, 2, 4, 8, 9, 10, 17, 20, 24, 30, 34, 34, 34, 34, 34, 34, 34, 34, 34], \"target\": [35, 35, 35, 35, 35, 35, 35, 35, 35, 35, 36, 36, 36, 36, 36, 36, 36, 36, 36, 37, 37, 37, 38, 38, 38, 38, 39, 39, 39, 39, 39, 39, 39, 39, 40, 40, 40, 40, 40, 40, 40, 41, 41, 41, 41, 42, 42, 42, 42, 42, 42, 43, 43, 43, 43, 43, 43, 43, 43, 43, 35, 36, 37, 38, 39, 40, 41, 42, 43], \"value\": [5, 9, 1, 1, 4, 1, 1, 112, 14, 1, 6, 1, 7, 8, 6, 1, 1, 3, 1, 2, 5017, 1, 5621, 3, 9, 1, 1, 6, 1, 6, 1, 11, 1, 1, 1, 2, 10, 2, 3, 3, 1, 3, 1, 1, 2, 2, 7, 1, 1, 5, 1, 1, 3, 1, 4, 3, 22, 4, 1, 1, 9363, 8596, 2746, 1927, 7361, 7342, 6714, 5576, 5066]}, \"node\": {\"color\": \"blue\", \"label\": [\"CP048626.1 Blautia producta\", \"DABGPL010000001.1 TPA_asm: Escherichia\", \"JULC01000001.1 Bifidobacterium scardovii\", \"SMCQ01000001.1 Longibaculum muris\", \"HF995324.1 Firmicutes bacterium\", \"WMQE01000038.1 Turicibacter sanguinis\", \"AEKO01000011.1 Streptococcus vestibularis\", \"JAABLG010000001.1 Streptococcus vestibularis\", \"UQNI01000001.1 uncultured Ruminococcaceae\", \"QVGF01000001.1 Lachnospiraceae bacterium\", \"BAHW02000078.1 Clostridiales bacterium\", \"URPP01000001.1 uncultured Clostridiales\", \"CABHOC010000001.1 Bifidobacterium longum\", \"CZYD01000001.1 Terrisporobacter othiniensis\", \"CAAEUS010000001.1 TPA_asm: uncultured\", \"OBJV01000049.1 Clostridium tertium\", \"CM003575.1 Veillonella sp.\", \"PDMO01000909.1 Cyclospora cayetanensis\", \"CAAEVI010000001.1 TPA_asm: Erysipelotrichaceae\", \"CYYS01000001.1 Turicibacter sanguinis\", \"CYZX01000001.1 Clostridium disporicum\", \"CAAFUY010000001.1 TPA_asm: uncultured\", \"UQGF01000001.1 uncultured Actinomyces\", \"CP047191.1 Streptococcus thermophilus\", \"QUIC01000001.1 Ruminococcus sp.\", \"LZMY01000001.1 Haemophilus parainfluenzae\", \"NCVD01000051.1 Streptococcus mitis\", \"PNHV01000001.1 Actinomyces graevenitzii\", \"UQQU01000001.1 uncultured Clostridium\", \"FR883346.1 Clostridium sp.\", \"WKYR01000010.1 Megasphaera sp.\", \"JWDF01000004.1 Streptomyces cattleya\", \"JNHJ01000001.1 Phocaeicola vulgatus\", \"JRND01000001.1 Lancefieldella parvulum\", \"unassigned\", \"CVRR01000001.1 Roseburia faecis\", \"NIHW01000001.1 [Ruminococcus] gnavus\", \"DABGPL010000001.1 TPA_asm: Escherichia\", \"CP048626.1 Blautia producta\", \"CZAB01000001.1 [Clostridium] clostridioforme\", \"AENW01000060.1 Clostridium sp.\", \"HF996869.1 Clostridium hathewayi\", \"GL834357.1 Clostridium symbiosum\", \"WTVF01000090.1 Enterocloster aldenensis\", \"JH599901.1 Coprobacillus sp.\", \"JULC01000001.1 Bifidobacterium scardovii\", \"CABJAX010000001.1 Lachnospiraceae bacterium\", \"JH590866.1 Lachnospiraceae bacterium\", \"FMFU01000020.1 uncultured Clostridium\", \"MARQ01000035.1 Clostridium perfringens\", \"SMCQ01000001.1 Longibaculum muris\", \"SPHM01000100.1 Pseudoflavonifractor sp.\", \"CABIYM010000001.1 Anaerostipes caccae\", \"AZYA01000001.1 Bifidobacterium sp.\", \"FMEP01000075.1 uncultured Ruminococcus\", \"CP019721.1 Veillonella parvula\", \"NFLB01000001.1 [Clostridium] spiroforme\", \"USJS01000001.1 uncultured Blautia\", \"LT629846.1 Romboutsia sp.\", \"HF995324.1 Firmicutes bacterium\", \"LR793273.1 Streptococcus salivarius\", \"AEDS01000070.1 Veillonella atypica\", \"QGMT01000001.1 Clostridium paraputrificum\", \"WNAL01000100.1 Roseburia faecis\", \"WMQE01000038.1 Turicibacter sanguinis\", \"KV794391.1 Streptococcus sp.\", \"FACG01000001.1 Peptoclostridium difficile\", \"JAGQ01000001.1 [Ruminococcus] gnavus\", \"URPP01000001.1 uncultured Clostridiales\", \"UQNI01000001.1 uncultured Ruminococcaceae\", \"CAAFOE010000001.1 TPA_asm: uncultured\", \"CABHOC010000001.1 Bifidobacterium longum\", \"CZYD01000001.1 Terrisporobacter othiniensis\", \"JAABLG010000001.1 Streptococcus vestibularis\", \"KB851023.1 Clostridium clostridioforme\", \"CM003575.1 Veillonella sp.\", \"CYXV01000001.1 Roseburia faecis\", \"OBJV01000049.1 Clostridium tertium\", \"CAAEVI010000001.1 TPA_asm: Erysipelotrichaceae\", \"CYYS01000001.1 Turicibacter sanguinis\", \"CYZX01000001.1 Clostridium disporicum\", \"AEXI01000023.1 Veillonella parvula\", \"NIHV01000001.1 [Ruminococcus] gnavus\", \"AEKO01000011.1 Streptococcus vestibularis\", \"KE384163.1 Clostridium clostridioforme\", \"UQGF01000001.1 uncultured Actinomyces\", \"JAAIUC010000010.1 Tyzzerella nexilis\", \"QUIC01000001.1 Ruminococcus sp.\", \"NFLO01000001.1 Drancourtella sp.\", \"CAAEUS010000001.1 TPA_asm: uncultured\", \"CABJBJ010000001.1 Hungatella hathewayi\", \"QVGF01000001.1 Lachnospiraceae bacterium\", \"LZMY01000001.1 Haemophilus parainfluenzae\", \"CAAFUY010000001.1 TPA_asm: uncultured\", \"CAAKOI010000001.1 Flavonifractor plautii\", \"JWDF01000004.1 Streptomyces cattleya\", \"NCVD01000051.1 Streptococcus mitis\", \"JNHJ01000001.1 Phocaeicola vulgatus\", \"RQNR01000100.1 Clostridium perfringens\", \"SPHR01000011.1 Intestinibacter bartlettii\", \"JRND01000001.1 Lancefieldella parvulum\", \"UAVW01000021.1 [Clostridium] clostridioforme\", \"PDMO01000909.1 Cyclospora cayetanensis\", \"CABKQS010000001.1 [Clostridium] innocuum\", \"PNHV01000001.1 Actinomyces graevenitzii\", \"UQGB01000001.1 uncultured Clostridium\", \"HF995415.1 Coprobacillus sp.\", \"FR883346.1 Clostridium sp.\", \"AVLJ01000001.1 UNVERIFIED_ORG: Clostridioides\", \"CP047191.1 Streptococcus thermophilus\", \"BAHW02000078.1 Clostridiales bacterium\", \"QVIB01000001.1 Dorea longicatena\", \"CAAEOZ010000001.1 TPA_asm: uncultured\", \"WKYR01000010.1 Megasphaera sp.\", \"JAAISL010000100.1 [Clostridium] symbiosum\", \"CAAEKB010000001.1 TPA_asm: uncultured\", \"JVCZ01000002.1 Streptococcus parasanguinis\", \"NFJI01000001.1 [Clostridium] spiroforme\", \"UAWH01000019.1 Clostridium paraputrificum\", \"SQQK01000001.1 Bifidobacterium dentium\", \"UQQU01000001.1 uncultured Clostridium\", \"LR778174.1 Veillonella parvula\", \"HF999299.1 Clostridium bartlettii\", \"NFHY01000001.1 Drancourtella sp.\", \"CP015406.2 Flavonifractor plautii\", \"QXZZ01000034.1 Veillonella atypica\", \"LBCG01000001.1 MAG: Roseburia\", \"CABIZI010000001.1 Clostridiales bacterium\", \"KQ235823.1 Clostridium sp.\", \"JAALMI010000001.1 Clostridium perfringens\", \"DS499744.1 Anaerostipes caccae\", \"QSGP01000001.1 Enterocloster aldenensis\"], \"line\": {\"color\": \"black\", \"width\": 0.5}, \"pad\": 15, \"thickness\": 20}, \"type\": \"sankey\"}],\n",
       "                        {\"font\": {\"size\": 10}, \"height\": 1000, \"template\": {\"data\": {\"bar\": [{\"error_x\": {\"color\": \"#2a3f5f\"}, \"error_y\": {\"color\": \"#2a3f5f\"}, \"marker\": {\"line\": {\"color\": \"#E5ECF6\", \"width\": 0.5}}, \"type\": \"bar\"}], \"barpolar\": [{\"marker\": {\"line\": {\"color\": \"#E5ECF6\", \"width\": 0.5}}, \"type\": \"barpolar\"}], \"carpet\": [{\"aaxis\": {\"endlinecolor\": \"#2a3f5f\", \"gridcolor\": \"white\", \"linecolor\": \"white\", \"minorgridcolor\": \"white\", \"startlinecolor\": \"#2a3f5f\"}, \"baxis\": {\"endlinecolor\": \"#2a3f5f\", \"gridcolor\": \"white\", \"linecolor\": \"white\", \"minorgridcolor\": \"white\", \"startlinecolor\": \"#2a3f5f\"}, \"type\": \"carpet\"}], \"choropleth\": [{\"colorbar\": {\"outlinewidth\": 0, \"ticks\": \"\"}, \"type\": \"choropleth\"}], \"contour\": [{\"colorbar\": {\"outlinewidth\": 0, \"ticks\": \"\"}, \"colorscale\": [[0.0, \"#0d0887\"], [0.1111111111111111, \"#46039f\"], [0.2222222222222222, \"#7201a8\"], [0.3333333333333333, \"#9c179e\"], [0.4444444444444444, \"#bd3786\"], [0.5555555555555556, \"#d8576b\"], [0.6666666666666666, \"#ed7953\"], [0.7777777777777778, \"#fb9f3a\"], [0.8888888888888888, \"#fdca26\"], [1.0, \"#f0f921\"]], \"type\": \"contour\"}], \"contourcarpet\": [{\"colorbar\": {\"outlinewidth\": 0, \"ticks\": \"\"}, \"type\": \"contourcarpet\"}], \"heatmap\": [{\"colorbar\": {\"outlinewidth\": 0, \"ticks\": \"\"}, \"colorscale\": [[0.0, \"#0d0887\"], [0.1111111111111111, \"#46039f\"], [0.2222222222222222, \"#7201a8\"], [0.3333333333333333, \"#9c179e\"], [0.4444444444444444, \"#bd3786\"], [0.5555555555555556, \"#d8576b\"], [0.6666666666666666, \"#ed7953\"], [0.7777777777777778, \"#fb9f3a\"], [0.8888888888888888, \"#fdca26\"], [1.0, \"#f0f921\"]], \"type\": \"heatmap\"}], \"heatmapgl\": [{\"colorbar\": {\"outlinewidth\": 0, \"ticks\": \"\"}, \"colorscale\": [[0.0, \"#0d0887\"], [0.1111111111111111, \"#46039f\"], [0.2222222222222222, \"#7201a8\"], [0.3333333333333333, \"#9c179e\"], [0.4444444444444444, \"#bd3786\"], [0.5555555555555556, \"#d8576b\"], [0.6666666666666666, \"#ed7953\"], [0.7777777777777778, \"#fb9f3a\"], [0.8888888888888888, \"#fdca26\"], [1.0, \"#f0f921\"]], \"type\": \"heatmapgl\"}], \"histogram\": [{\"marker\": {\"colorbar\": {\"outlinewidth\": 0, \"ticks\": \"\"}}, \"type\": \"histogram\"}], \"histogram2d\": [{\"colorbar\": {\"outlinewidth\": 0, \"ticks\": \"\"}, \"colorscale\": [[0.0, \"#0d0887\"], [0.1111111111111111, \"#46039f\"], [0.2222222222222222, \"#7201a8\"], [0.3333333333333333, \"#9c179e\"], [0.4444444444444444, \"#bd3786\"], [0.5555555555555556, \"#d8576b\"], [0.6666666666666666, \"#ed7953\"], [0.7777777777777778, \"#fb9f3a\"], [0.8888888888888888, \"#fdca26\"], [1.0, \"#f0f921\"]], \"type\": \"histogram2d\"}], \"histogram2dcontour\": [{\"colorbar\": {\"outlinewidth\": 0, \"ticks\": \"\"}, \"colorscale\": [[0.0, \"#0d0887\"], [0.1111111111111111, \"#46039f\"], [0.2222222222222222, \"#7201a8\"], [0.3333333333333333, \"#9c179e\"], [0.4444444444444444, \"#bd3786\"], [0.5555555555555556, \"#d8576b\"], [0.6666666666666666, \"#ed7953\"], [0.7777777777777778, \"#fb9f3a\"], [0.8888888888888888, \"#fdca26\"], [1.0, \"#f0f921\"]], \"type\": \"histogram2dcontour\"}], \"mesh3d\": [{\"colorbar\": {\"outlinewidth\": 0, \"ticks\": \"\"}, \"type\": \"mesh3d\"}], \"parcoords\": [{\"line\": {\"colorbar\": {\"outlinewidth\": 0, \"ticks\": \"\"}}, \"type\": \"parcoords\"}], \"pie\": [{\"automargin\": true, \"type\": \"pie\"}], \"scatter\": [{\"marker\": {\"colorbar\": {\"outlinewidth\": 0, \"ticks\": \"\"}}, \"type\": \"scatter\"}], \"scatter3d\": [{\"line\": {\"colorbar\": {\"outlinewidth\": 0, \"ticks\": \"\"}}, \"marker\": {\"colorbar\": {\"outlinewidth\": 0, \"ticks\": \"\"}}, \"type\": \"scatter3d\"}], \"scattercarpet\": [{\"marker\": {\"colorbar\": {\"outlinewidth\": 0, \"ticks\": \"\"}}, \"type\": \"scattercarpet\"}], \"scattergeo\": [{\"marker\": {\"colorbar\": {\"outlinewidth\": 0, \"ticks\": \"\"}}, \"type\": \"scattergeo\"}], \"scattergl\": [{\"marker\": {\"colorbar\": {\"outlinewidth\": 0, \"ticks\": \"\"}}, \"type\": \"scattergl\"}], \"scattermapbox\": [{\"marker\": {\"colorbar\": {\"outlinewidth\": 0, \"ticks\": \"\"}}, \"type\": \"scattermapbox\"}], \"scatterpolar\": [{\"marker\": {\"colorbar\": {\"outlinewidth\": 0, \"ticks\": \"\"}}, \"type\": \"scatterpolar\"}], \"scatterpolargl\": [{\"marker\": {\"colorbar\": {\"outlinewidth\": 0, \"ticks\": \"\"}}, \"type\": \"scatterpolargl\"}], \"scatterternary\": [{\"marker\": {\"colorbar\": {\"outlinewidth\": 0, \"ticks\": \"\"}}, \"type\": \"scatterternary\"}], \"surface\": [{\"colorbar\": {\"outlinewidth\": 0, \"ticks\": \"\"}, \"colorscale\": [[0.0, \"#0d0887\"], [0.1111111111111111, \"#46039f\"], [0.2222222222222222, \"#7201a8\"], [0.3333333333333333, \"#9c179e\"], [0.4444444444444444, \"#bd3786\"], [0.5555555555555556, \"#d8576b\"], [0.6666666666666666, \"#ed7953\"], [0.7777777777777778, \"#fb9f3a\"], [0.8888888888888888, \"#fdca26\"], [1.0, \"#f0f921\"]], \"type\": \"surface\"}], \"table\": [{\"cells\": {\"fill\": {\"color\": \"#EBF0F8\"}, \"line\": {\"color\": \"white\"}}, \"header\": {\"fill\": {\"color\": \"#C8D4E3\"}, \"line\": {\"color\": \"white\"}}, \"type\": \"table\"}]}, \"layout\": {\"annotationdefaults\": {\"arrowcolor\": \"#2a3f5f\", \"arrowhead\": 0, \"arrowwidth\": 1}, \"coloraxis\": {\"colorbar\": {\"outlinewidth\": 0, \"ticks\": \"\"}}, \"colorscale\": {\"diverging\": [[0, \"#8e0152\"], [0.1, \"#c51b7d\"], [0.2, \"#de77ae\"], [0.3, \"#f1b6da\"], [0.4, \"#fde0ef\"], [0.5, \"#f7f7f7\"], [0.6, \"#e6f5d0\"], [0.7, \"#b8e186\"], [0.8, \"#7fbc41\"], [0.9, \"#4d9221\"], [1, \"#276419\"]], \"sequential\": [[0.0, \"#0d0887\"], [0.1111111111111111, \"#46039f\"], [0.2222222222222222, \"#7201a8\"], [0.3333333333333333, \"#9c179e\"], [0.4444444444444444, \"#bd3786\"], [0.5555555555555556, \"#d8576b\"], [0.6666666666666666, \"#ed7953\"], [0.7777777777777778, \"#fb9f3a\"], [0.8888888888888888, \"#fdca26\"], [1.0, \"#f0f921\"]], \"sequentialminus\": [[0.0, \"#0d0887\"], [0.1111111111111111, \"#46039f\"], [0.2222222222222222, \"#7201a8\"], [0.3333333333333333, \"#9c179e\"], [0.4444444444444444, \"#bd3786\"], [0.5555555555555556, \"#d8576b\"], [0.6666666666666666, \"#ed7953\"], [0.7777777777777778, \"#fb9f3a\"], [0.8888888888888888, \"#fdca26\"], [1.0, \"#f0f921\"]]}, \"colorway\": [\"#636efa\", \"#EF553B\", \"#00cc96\", \"#ab63fa\", \"#FFA15A\", \"#19d3f3\", \"#FF6692\", \"#B6E880\", \"#FF97FF\", \"#FECB52\"], \"font\": {\"color\": \"#2a3f5f\"}, \"geo\": {\"bgcolor\": \"white\", \"lakecolor\": \"white\", \"landcolor\": \"#E5ECF6\", \"showlakes\": true, \"showland\": true, \"subunitcolor\": \"white\"}, \"hoverlabel\": {\"align\": \"left\"}, \"hovermode\": \"closest\", \"mapbox\": {\"style\": \"light\"}, \"paper_bgcolor\": \"white\", \"plot_bgcolor\": \"#E5ECF6\", \"polar\": {\"angularaxis\": {\"gridcolor\": \"white\", \"linecolor\": \"white\", \"ticks\": \"\"}, \"bgcolor\": \"#E5ECF6\", \"radialaxis\": {\"gridcolor\": \"white\", \"linecolor\": \"white\", \"ticks\": \"\"}}, \"scene\": {\"xaxis\": {\"backgroundcolor\": \"#E5ECF6\", \"gridcolor\": \"white\", \"gridwidth\": 2, \"linecolor\": \"white\", \"showbackground\": true, \"ticks\": \"\", \"zerolinecolor\": \"white\"}, \"yaxis\": {\"backgroundcolor\": \"#E5ECF6\", \"gridcolor\": \"white\", \"gridwidth\": 2, \"linecolor\": \"white\", \"showbackground\": true, \"ticks\": \"\", \"zerolinecolor\": \"white\"}, \"zaxis\": {\"backgroundcolor\": \"#E5ECF6\", \"gridcolor\": \"white\", \"gridwidth\": 2, \"linecolor\": \"white\", \"showbackground\": true, \"ticks\": \"\", \"zerolinecolor\": \"white\"}}, \"shapedefaults\": {\"line\": {\"color\": \"#2a3f5f\"}}, \"ternary\": {\"aaxis\": {\"gridcolor\": \"white\", \"linecolor\": \"white\", \"ticks\": \"\"}, \"baxis\": {\"gridcolor\": \"white\", \"linecolor\": \"white\", \"ticks\": \"\"}, \"bgcolor\": \"#E5ECF6\", \"caxis\": {\"gridcolor\": \"white\", \"linecolor\": \"white\", \"ticks\": \"\"}}, \"title\": {\"x\": 0.05}, \"xaxis\": {\"automargin\": true, \"gridcolor\": \"white\", \"linecolor\": \"white\", \"ticks\": \"\", \"title\": {\"standoff\": 15}, \"zerolinecolor\": \"white\", \"zerolinewidth\": 2}, \"yaxis\": {\"automargin\": true, \"gridcolor\": \"white\", \"linecolor\": \"white\", \"ticks\": \"\", \"title\": {\"standoff\": 15}, \"zerolinecolor\": \"white\", \"zerolinewidth\": 2}}}, \"title\": {\"text\": \"original genome contributions to top 9 neighborhood covers for gut-clust-queries (p8808mo11)\"}, \"width\": 800},\n",
       "                        {\"responsive\": true}\n",
       "                    ).then(function(){\n",
       "                            \n",
       "var gd = document.getElementById('f7de765c-ecf9-44f3-9952-e5d5c93402f4');\n",
       "var x = new MutationObserver(function (mutations, observer) {{\n",
       "        var display = window.getComputedStyle(gd).display;\n",
       "        if (!display || display === 'none') {{\n",
       "            console.log([gd, 'removed!']);\n",
       "            Plotly.purge(gd);\n",
       "            observer.disconnect();\n",
       "        }}\n",
       "}});\n",
       "\n",
       "// Listen for the removal of the full notebook cells\n",
       "var notebookContainer = gd.closest('#notebook-container');\n",
       "if (notebookContainer) {{\n",
       "    x.observe(notebookContainer, {childList: true});\n",
       "}}\n",
       "\n",
       "// Listen for the clearing of the current output cell\n",
       "var outputEl = gd.closest('.output');\n",
       "if (outputEl) {{\n",
       "    x.observe(outputEl, {childList: true});\n",
       "}}\n",
       "\n",
       "                        })\n",
       "                };\n",
       "                });\n",
       "            </script>\n",
       "        </div>"
      ]
     },
     "metadata": {},
     "output_type": "display_data"
    }
   ],
   "source": [
    "NUM=9\n",
    "fig = make_fig(NUM)\n",
    "\n",
    "fig.update_layout(title_text=f\"original genome contributions to top {NUM} neighborhood covers for {name} ({acc})\", font_size=10)\n",
    "fig.update_layout(width=800, height=1000)\n",
    "fig.show()"
   ]
  },
  {
   "cell_type": "code",
   "execution_count": null,
   "metadata": {},
   "outputs": [],
   "source": []
  }
 ],
 "metadata": {
  "kernelspec": {
   "display_name": "Python (myenv)",
   "language": "python",
   "name": "myenv"
  },
  "language_info": {
   "codemirror_mode": {
    "name": "ipython",
    "version": 3
   },
   "file_extension": ".py",
   "mimetype": "text/x-python",
   "name": "python",
   "nbconvert_exporter": "python",
   "pygments_lexer": "ipython3",
   "version": "3.7.6"
  }
 },
 "nbformat": 4,
 "nbformat_minor": 4
}
